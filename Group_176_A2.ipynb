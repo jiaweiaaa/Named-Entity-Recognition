{
  "nbformat": 4,
  "nbformat_minor": 0,
  "metadata": {
    "colab": {
      "name": "5046_assignmen_2.ipynb",
      "provenance": [],
      "collapsed_sections": [],
      "toc_visible": true,
      "machine_shape": "hm"
    },
    "kernelspec": {
      "display_name": "Python 3",
      "name": "python3"
    },
    "language_info": {
      "name": "python"
    },
    "widgets": {
      "application/vnd.jupyter.widget-state+json": {
        "8242dac965694200b07fbc55238b2616": {
          "model_module": "@jupyter-widgets/controls",
          "model_name": "HBoxModel",
          "state": {
            "_view_name": "HBoxView",
            "_dom_classes": [],
            "_model_name": "HBoxModel",
            "_view_module": "@jupyter-widgets/controls",
            "_model_module_version": "1.5.0",
            "_view_count": null,
            "_view_module_version": "1.5.0",
            "box_style": "",
            "layout": "IPY_MODEL_585c66f6fd3a4f51bde068b86585b0be",
            "_model_module": "@jupyter-widgets/controls",
            "children": [
              "IPY_MODEL_e004bc8008014174b2ab357444459916",
              "IPY_MODEL_436ec07a600149fc9d85dc0a480932c3"
            ]
          }
        },
        "585c66f6fd3a4f51bde068b86585b0be": {
          "model_module": "@jupyter-widgets/base",
          "model_name": "LayoutModel",
          "state": {
            "_view_name": "LayoutView",
            "grid_template_rows": null,
            "right": null,
            "justify_content": null,
            "_view_module": "@jupyter-widgets/base",
            "overflow": null,
            "_model_module_version": "1.2.0",
            "_view_count": null,
            "flex_flow": null,
            "width": null,
            "min_width": null,
            "border": null,
            "align_items": null,
            "bottom": null,
            "_model_module": "@jupyter-widgets/base",
            "top": null,
            "grid_column": null,
            "overflow_y": null,
            "overflow_x": null,
            "grid_auto_flow": null,
            "grid_area": null,
            "grid_template_columns": null,
            "flex": null,
            "_model_name": "LayoutModel",
            "justify_items": null,
            "grid_row": null,
            "max_height": null,
            "align_content": null,
            "visibility": null,
            "align_self": null,
            "height": null,
            "min_height": null,
            "padding": null,
            "grid_auto_rows": null,
            "grid_gap": null,
            "max_width": null,
            "order": null,
            "_view_module_version": "1.2.0",
            "grid_template_areas": null,
            "object_position": null,
            "object_fit": null,
            "grid_auto_columns": null,
            "margin": null,
            "display": null,
            "left": null
          }
        },
        "e004bc8008014174b2ab357444459916": {
          "model_module": "@jupyter-widgets/controls",
          "model_name": "FloatProgressModel",
          "state": {
            "_view_name": "ProgressView",
            "style": "IPY_MODEL_8acddda2a4434587bee2e016b7dc2fd0",
            "_dom_classes": [],
            "description": "Downloading: 100%",
            "_model_name": "FloatProgressModel",
            "bar_style": "success",
            "max": 762,
            "_view_module": "@jupyter-widgets/controls",
            "_model_module_version": "1.5.0",
            "value": 762,
            "_view_count": null,
            "_view_module_version": "1.5.0",
            "orientation": "horizontal",
            "min": 0,
            "description_tooltip": null,
            "_model_module": "@jupyter-widgets/controls",
            "layout": "IPY_MODEL_812f6919c2e34d04a8aa5930572fb683"
          }
        },
        "436ec07a600149fc9d85dc0a480932c3": {
          "model_module": "@jupyter-widgets/controls",
          "model_name": "HTMLModel",
          "state": {
            "_view_name": "HTMLView",
            "style": "IPY_MODEL_1abe66ebb859477eb0fcc3dfd9c6cc14",
            "_dom_classes": [],
            "description": "",
            "_model_name": "HTMLModel",
            "placeholder": "​",
            "_view_module": "@jupyter-widgets/controls",
            "_model_module_version": "1.5.0",
            "value": " 762/762 [00:00&lt;00:00, 11.0kB/s]",
            "_view_count": null,
            "_view_module_version": "1.5.0",
            "description_tooltip": null,
            "_model_module": "@jupyter-widgets/controls",
            "layout": "IPY_MODEL_56e5b4b84414449e9e1e015dfaccc51c"
          }
        },
        "8acddda2a4434587bee2e016b7dc2fd0": {
          "model_module": "@jupyter-widgets/controls",
          "model_name": "ProgressStyleModel",
          "state": {
            "_view_name": "StyleView",
            "_model_name": "ProgressStyleModel",
            "description_width": "initial",
            "_view_module": "@jupyter-widgets/base",
            "_model_module_version": "1.5.0",
            "_view_count": null,
            "_view_module_version": "1.2.0",
            "bar_color": null,
            "_model_module": "@jupyter-widgets/controls"
          }
        },
        "812f6919c2e34d04a8aa5930572fb683": {
          "model_module": "@jupyter-widgets/base",
          "model_name": "LayoutModel",
          "state": {
            "_view_name": "LayoutView",
            "grid_template_rows": null,
            "right": null,
            "justify_content": null,
            "_view_module": "@jupyter-widgets/base",
            "overflow": null,
            "_model_module_version": "1.2.0",
            "_view_count": null,
            "flex_flow": null,
            "width": null,
            "min_width": null,
            "border": null,
            "align_items": null,
            "bottom": null,
            "_model_module": "@jupyter-widgets/base",
            "top": null,
            "grid_column": null,
            "overflow_y": null,
            "overflow_x": null,
            "grid_auto_flow": null,
            "grid_area": null,
            "grid_template_columns": null,
            "flex": null,
            "_model_name": "LayoutModel",
            "justify_items": null,
            "grid_row": null,
            "max_height": null,
            "align_content": null,
            "visibility": null,
            "align_self": null,
            "height": null,
            "min_height": null,
            "padding": null,
            "grid_auto_rows": null,
            "grid_gap": null,
            "max_width": null,
            "order": null,
            "_view_module_version": "1.2.0",
            "grid_template_areas": null,
            "object_position": null,
            "object_fit": null,
            "grid_auto_columns": null,
            "margin": null,
            "display": null,
            "left": null
          }
        },
        "1abe66ebb859477eb0fcc3dfd9c6cc14": {
          "model_module": "@jupyter-widgets/controls",
          "model_name": "DescriptionStyleModel",
          "state": {
            "_view_name": "StyleView",
            "_model_name": "DescriptionStyleModel",
            "description_width": "",
            "_view_module": "@jupyter-widgets/base",
            "_model_module_version": "1.5.0",
            "_view_count": null,
            "_view_module_version": "1.2.0",
            "_model_module": "@jupyter-widgets/controls"
          }
        },
        "56e5b4b84414449e9e1e015dfaccc51c": {
          "model_module": "@jupyter-widgets/base",
          "model_name": "LayoutModel",
          "state": {
            "_view_name": "LayoutView",
            "grid_template_rows": null,
            "right": null,
            "justify_content": null,
            "_view_module": "@jupyter-widgets/base",
            "overflow": null,
            "_model_module_version": "1.2.0",
            "_view_count": null,
            "flex_flow": null,
            "width": null,
            "min_width": null,
            "border": null,
            "align_items": null,
            "bottom": null,
            "_model_module": "@jupyter-widgets/base",
            "top": null,
            "grid_column": null,
            "overflow_y": null,
            "overflow_x": null,
            "grid_auto_flow": null,
            "grid_area": null,
            "grid_template_columns": null,
            "flex": null,
            "_model_name": "LayoutModel",
            "justify_items": null,
            "grid_row": null,
            "max_height": null,
            "align_content": null,
            "visibility": null,
            "align_self": null,
            "height": null,
            "min_height": null,
            "padding": null,
            "grid_auto_rows": null,
            "grid_gap": null,
            "max_width": null,
            "order": null,
            "_view_module_version": "1.2.0",
            "grid_template_areas": null,
            "object_position": null,
            "object_fit": null,
            "grid_auto_columns": null,
            "margin": null,
            "display": null,
            "left": null
          }
        },
        "dc4c85ca1c7d48acbe6c227d28772473": {
          "model_module": "@jupyter-widgets/controls",
          "model_name": "HBoxModel",
          "state": {
            "_view_name": "HBoxView",
            "_dom_classes": [],
            "_model_name": "HBoxModel",
            "_view_module": "@jupyter-widgets/controls",
            "_model_module_version": "1.5.0",
            "_view_count": null,
            "_view_module_version": "1.5.0",
            "box_style": "",
            "layout": "IPY_MODEL_bf41479ab3c64815b172b008b422698e",
            "_model_module": "@jupyter-widgets/controls",
            "children": [
              "IPY_MODEL_31315900747a4929be60618b8294e18c",
              "IPY_MODEL_2d46720c2e104795ae548fad3c2fb060"
            ]
          }
        },
        "bf41479ab3c64815b172b008b422698e": {
          "model_module": "@jupyter-widgets/base",
          "model_name": "LayoutModel",
          "state": {
            "_view_name": "LayoutView",
            "grid_template_rows": null,
            "right": null,
            "justify_content": null,
            "_view_module": "@jupyter-widgets/base",
            "overflow": null,
            "_model_module_version": "1.2.0",
            "_view_count": null,
            "flex_flow": null,
            "width": null,
            "min_width": null,
            "border": null,
            "align_items": null,
            "bottom": null,
            "_model_module": "@jupyter-widgets/base",
            "top": null,
            "grid_column": null,
            "overflow_y": null,
            "overflow_x": null,
            "grid_auto_flow": null,
            "grid_area": null,
            "grid_template_columns": null,
            "flex": null,
            "_model_name": "LayoutModel",
            "justify_items": null,
            "grid_row": null,
            "max_height": null,
            "align_content": null,
            "visibility": null,
            "align_self": null,
            "height": null,
            "min_height": null,
            "padding": null,
            "grid_auto_rows": null,
            "grid_gap": null,
            "max_width": null,
            "order": null,
            "_view_module_version": "1.2.0",
            "grid_template_areas": null,
            "object_position": null,
            "object_fit": null,
            "grid_auto_columns": null,
            "margin": null,
            "display": null,
            "left": null
          }
        },
        "31315900747a4929be60618b8294e18c": {
          "model_module": "@jupyter-widgets/controls",
          "model_name": "FloatProgressModel",
          "state": {
            "_view_name": "ProgressView",
            "style": "IPY_MODEL_7980116bb02a48e08aed21f73119b2e6",
            "_dom_classes": [],
            "description": "Downloading: 100%",
            "_model_name": "FloatProgressModel",
            "bar_style": "success",
            "max": 213450,
            "_view_module": "@jupyter-widgets/controls",
            "_model_module_version": "1.5.0",
            "value": 213450,
            "_view_count": null,
            "_view_module_version": "1.5.0",
            "orientation": "horizontal",
            "min": 0,
            "description_tooltip": null,
            "_model_module": "@jupyter-widgets/controls",
            "layout": "IPY_MODEL_5e3ab333ba4e4d4795cb63ae95618cf5"
          }
        },
        "2d46720c2e104795ae548fad3c2fb060": {
          "model_module": "@jupyter-widgets/controls",
          "model_name": "HTMLModel",
          "state": {
            "_view_name": "HTMLView",
            "style": "IPY_MODEL_702dd64f9d4945da95aeea8f3ab6c27d",
            "_dom_classes": [],
            "description": "",
            "_model_name": "HTMLModel",
            "placeholder": "​",
            "_view_module": "@jupyter-widgets/controls",
            "_model_module_version": "1.5.0",
            "value": " 213k/213k [00:00&lt;00:00, 311kB/s]",
            "_view_count": null,
            "_view_module_version": "1.5.0",
            "description_tooltip": null,
            "_model_module": "@jupyter-widgets/controls",
            "layout": "IPY_MODEL_512ad770ee5c46bd9c327c037f21fc3d"
          }
        },
        "7980116bb02a48e08aed21f73119b2e6": {
          "model_module": "@jupyter-widgets/controls",
          "model_name": "ProgressStyleModel",
          "state": {
            "_view_name": "StyleView",
            "_model_name": "ProgressStyleModel",
            "description_width": "initial",
            "_view_module": "@jupyter-widgets/base",
            "_model_module_version": "1.5.0",
            "_view_count": null,
            "_view_module_version": "1.2.0",
            "bar_color": null,
            "_model_module": "@jupyter-widgets/controls"
          }
        },
        "5e3ab333ba4e4d4795cb63ae95618cf5": {
          "model_module": "@jupyter-widgets/base",
          "model_name": "LayoutModel",
          "state": {
            "_view_name": "LayoutView",
            "grid_template_rows": null,
            "right": null,
            "justify_content": null,
            "_view_module": "@jupyter-widgets/base",
            "overflow": null,
            "_model_module_version": "1.2.0",
            "_view_count": null,
            "flex_flow": null,
            "width": null,
            "min_width": null,
            "border": null,
            "align_items": null,
            "bottom": null,
            "_model_module": "@jupyter-widgets/base",
            "top": null,
            "grid_column": null,
            "overflow_y": null,
            "overflow_x": null,
            "grid_auto_flow": null,
            "grid_area": null,
            "grid_template_columns": null,
            "flex": null,
            "_model_name": "LayoutModel",
            "justify_items": null,
            "grid_row": null,
            "max_height": null,
            "align_content": null,
            "visibility": null,
            "align_self": null,
            "height": null,
            "min_height": null,
            "padding": null,
            "grid_auto_rows": null,
            "grid_gap": null,
            "max_width": null,
            "order": null,
            "_view_module_version": "1.2.0",
            "grid_template_areas": null,
            "object_position": null,
            "object_fit": null,
            "grid_auto_columns": null,
            "margin": null,
            "display": null,
            "left": null
          }
        },
        "702dd64f9d4945da95aeea8f3ab6c27d": {
          "model_module": "@jupyter-widgets/controls",
          "model_name": "DescriptionStyleModel",
          "state": {
            "_view_name": "StyleView",
            "_model_name": "DescriptionStyleModel",
            "description_width": "",
            "_view_module": "@jupyter-widgets/base",
            "_model_module_version": "1.5.0",
            "_view_count": null,
            "_view_module_version": "1.2.0",
            "_model_module": "@jupyter-widgets/controls"
          }
        },
        "512ad770ee5c46bd9c327c037f21fc3d": {
          "model_module": "@jupyter-widgets/base",
          "model_name": "LayoutModel",
          "state": {
            "_view_name": "LayoutView",
            "grid_template_rows": null,
            "right": null,
            "justify_content": null,
            "_view_module": "@jupyter-widgets/base",
            "overflow": null,
            "_model_module_version": "1.2.0",
            "_view_count": null,
            "flex_flow": null,
            "width": null,
            "min_width": null,
            "border": null,
            "align_items": null,
            "bottom": null,
            "_model_module": "@jupyter-widgets/base",
            "top": null,
            "grid_column": null,
            "overflow_y": null,
            "overflow_x": null,
            "grid_auto_flow": null,
            "grid_area": null,
            "grid_template_columns": null,
            "flex": null,
            "_model_name": "LayoutModel",
            "justify_items": null,
            "grid_row": null,
            "max_height": null,
            "align_content": null,
            "visibility": null,
            "align_self": null,
            "height": null,
            "min_height": null,
            "padding": null,
            "grid_auto_rows": null,
            "grid_gap": null,
            "max_width": null,
            "order": null,
            "_view_module_version": "1.2.0",
            "grid_template_areas": null,
            "object_position": null,
            "object_fit": null,
            "grid_auto_columns": null,
            "margin": null,
            "display": null,
            "left": null
          }
        },
        "80aa5de5f66f4e98bfdc3e5a4cc4c6d7": {
          "model_module": "@jupyter-widgets/controls",
          "model_name": "HBoxModel",
          "state": {
            "_view_name": "HBoxView",
            "_dom_classes": [],
            "_model_name": "HBoxModel",
            "_view_module": "@jupyter-widgets/controls",
            "_model_module_version": "1.5.0",
            "_view_count": null,
            "_view_module_version": "1.5.0",
            "box_style": "",
            "layout": "IPY_MODEL_c5248f102c0c4638bb7e628b30beaf9c",
            "_model_module": "@jupyter-widgets/controls",
            "children": [
              "IPY_MODEL_00268d395a9c4c0093c19b4548bab0fa",
              "IPY_MODEL_90fe0295f240435c8962be26c386bfed"
            ]
          }
        },
        "c5248f102c0c4638bb7e628b30beaf9c": {
          "model_module": "@jupyter-widgets/base",
          "model_name": "LayoutModel",
          "state": {
            "_view_name": "LayoutView",
            "grid_template_rows": null,
            "right": null,
            "justify_content": null,
            "_view_module": "@jupyter-widgets/base",
            "overflow": null,
            "_model_module_version": "1.2.0",
            "_view_count": null,
            "flex_flow": null,
            "width": null,
            "min_width": null,
            "border": null,
            "align_items": null,
            "bottom": null,
            "_model_module": "@jupyter-widgets/base",
            "top": null,
            "grid_column": null,
            "overflow_y": null,
            "overflow_x": null,
            "grid_auto_flow": null,
            "grid_area": null,
            "grid_template_columns": null,
            "flex": null,
            "_model_name": "LayoutModel",
            "justify_items": null,
            "grid_row": null,
            "max_height": null,
            "align_content": null,
            "visibility": null,
            "align_self": null,
            "height": null,
            "min_height": null,
            "padding": null,
            "grid_auto_rows": null,
            "grid_gap": null,
            "max_width": null,
            "order": null,
            "_view_module_version": "1.2.0",
            "grid_template_areas": null,
            "object_position": null,
            "object_fit": null,
            "grid_auto_columns": null,
            "margin": null,
            "display": null,
            "left": null
          }
        },
        "00268d395a9c4c0093c19b4548bab0fa": {
          "model_module": "@jupyter-widgets/controls",
          "model_name": "FloatProgressModel",
          "state": {
            "_view_name": "ProgressView",
            "style": "IPY_MODEL_d9761109ca1e4c4d859d2e007f4da2cf",
            "_dom_classes": [],
            "description": "Downloading: 100%",
            "_model_name": "FloatProgressModel",
            "bar_style": "success",
            "max": 435797,
            "_view_module": "@jupyter-widgets/controls",
            "_model_module_version": "1.5.0",
            "value": 435797,
            "_view_count": null,
            "_view_module_version": "1.5.0",
            "orientation": "horizontal",
            "min": 0,
            "description_tooltip": null,
            "_model_module": "@jupyter-widgets/controls",
            "layout": "IPY_MODEL_76ac6b4a75174a03940d8d9e69fe0a2c"
          }
        },
        "90fe0295f240435c8962be26c386bfed": {
          "model_module": "@jupyter-widgets/controls",
          "model_name": "HTMLModel",
          "state": {
            "_view_name": "HTMLView",
            "style": "IPY_MODEL_aa75c2a260c24c849aa2658ef7442e41",
            "_dom_classes": [],
            "description": "",
            "_model_name": "HTMLModel",
            "placeholder": "​",
            "_view_module": "@jupyter-widgets/controls",
            "_model_module_version": "1.5.0",
            "value": " 436k/436k [00:00&lt;00:00, 1.00MB/s]",
            "_view_count": null,
            "_view_module_version": "1.5.0",
            "description_tooltip": null,
            "_model_module": "@jupyter-widgets/controls",
            "layout": "IPY_MODEL_51ff0f244e7e4b0d8900cf9fa83adc34"
          }
        },
        "d9761109ca1e4c4d859d2e007f4da2cf": {
          "model_module": "@jupyter-widgets/controls",
          "model_name": "ProgressStyleModel",
          "state": {
            "_view_name": "StyleView",
            "_model_name": "ProgressStyleModel",
            "description_width": "initial",
            "_view_module": "@jupyter-widgets/base",
            "_model_module_version": "1.5.0",
            "_view_count": null,
            "_view_module_version": "1.2.0",
            "bar_color": null,
            "_model_module": "@jupyter-widgets/controls"
          }
        },
        "76ac6b4a75174a03940d8d9e69fe0a2c": {
          "model_module": "@jupyter-widgets/base",
          "model_name": "LayoutModel",
          "state": {
            "_view_name": "LayoutView",
            "grid_template_rows": null,
            "right": null,
            "justify_content": null,
            "_view_module": "@jupyter-widgets/base",
            "overflow": null,
            "_model_module_version": "1.2.0",
            "_view_count": null,
            "flex_flow": null,
            "width": null,
            "min_width": null,
            "border": null,
            "align_items": null,
            "bottom": null,
            "_model_module": "@jupyter-widgets/base",
            "top": null,
            "grid_column": null,
            "overflow_y": null,
            "overflow_x": null,
            "grid_auto_flow": null,
            "grid_area": null,
            "grid_template_columns": null,
            "flex": null,
            "_model_name": "LayoutModel",
            "justify_items": null,
            "grid_row": null,
            "max_height": null,
            "align_content": null,
            "visibility": null,
            "align_self": null,
            "height": null,
            "min_height": null,
            "padding": null,
            "grid_auto_rows": null,
            "grid_gap": null,
            "max_width": null,
            "order": null,
            "_view_module_version": "1.2.0",
            "grid_template_areas": null,
            "object_position": null,
            "object_fit": null,
            "grid_auto_columns": null,
            "margin": null,
            "display": null,
            "left": null
          }
        },
        "aa75c2a260c24c849aa2658ef7442e41": {
          "model_module": "@jupyter-widgets/controls",
          "model_name": "DescriptionStyleModel",
          "state": {
            "_view_name": "StyleView",
            "_model_name": "DescriptionStyleModel",
            "description_width": "",
            "_view_module": "@jupyter-widgets/base",
            "_model_module_version": "1.5.0",
            "_view_count": null,
            "_view_module_version": "1.2.0",
            "_model_module": "@jupyter-widgets/controls"
          }
        },
        "51ff0f244e7e4b0d8900cf9fa83adc34": {
          "model_module": "@jupyter-widgets/base",
          "model_name": "LayoutModel",
          "state": {
            "_view_name": "LayoutView",
            "grid_template_rows": null,
            "right": null,
            "justify_content": null,
            "_view_module": "@jupyter-widgets/base",
            "overflow": null,
            "_model_module_version": "1.2.0",
            "_view_count": null,
            "flex_flow": null,
            "width": null,
            "min_width": null,
            "border": null,
            "align_items": null,
            "bottom": null,
            "_model_module": "@jupyter-widgets/base",
            "top": null,
            "grid_column": null,
            "overflow_y": null,
            "overflow_x": null,
            "grid_auto_flow": null,
            "grid_area": null,
            "grid_template_columns": null,
            "flex": null,
            "_model_name": "LayoutModel",
            "justify_items": null,
            "grid_row": null,
            "max_height": null,
            "align_content": null,
            "visibility": null,
            "align_self": null,
            "height": null,
            "min_height": null,
            "padding": null,
            "grid_auto_rows": null,
            "grid_gap": null,
            "max_width": null,
            "order": null,
            "_view_module_version": "1.2.0",
            "grid_template_areas": null,
            "object_position": null,
            "object_fit": null,
            "grid_auto_columns": null,
            "margin": null,
            "display": null,
            "left": null
          }
        },
        "7f4396d6195a45e0a754830215eb5f31": {
          "model_module": "@jupyter-widgets/controls",
          "model_name": "HBoxModel",
          "state": {
            "_view_name": "HBoxView",
            "_dom_classes": [],
            "_model_name": "HBoxModel",
            "_view_module": "@jupyter-widgets/controls",
            "_model_module_version": "1.5.0",
            "_view_count": null,
            "_view_module_version": "1.5.0",
            "box_style": "",
            "layout": "IPY_MODEL_2bb8b63e914f4aeface8eb800b20561f",
            "_model_module": "@jupyter-widgets/controls",
            "children": [
              "IPY_MODEL_99f90d2f542645b09007eef25acf7c1f",
              "IPY_MODEL_a071b9e549604c54aecc5dd8a5607d4e"
            ]
          }
        },
        "2bb8b63e914f4aeface8eb800b20561f": {
          "model_module": "@jupyter-widgets/base",
          "model_name": "LayoutModel",
          "state": {
            "_view_name": "LayoutView",
            "grid_template_rows": null,
            "right": null,
            "justify_content": null,
            "_view_module": "@jupyter-widgets/base",
            "overflow": null,
            "_model_module_version": "1.2.0",
            "_view_count": null,
            "flex_flow": null,
            "width": null,
            "min_width": null,
            "border": null,
            "align_items": null,
            "bottom": null,
            "_model_module": "@jupyter-widgets/base",
            "top": null,
            "grid_column": null,
            "overflow_y": null,
            "overflow_x": null,
            "grid_auto_flow": null,
            "grid_area": null,
            "grid_template_columns": null,
            "flex": null,
            "_model_name": "LayoutModel",
            "justify_items": null,
            "grid_row": null,
            "max_height": null,
            "align_content": null,
            "visibility": null,
            "align_self": null,
            "height": null,
            "min_height": null,
            "padding": null,
            "grid_auto_rows": null,
            "grid_gap": null,
            "max_width": null,
            "order": null,
            "_view_module_version": "1.2.0",
            "grid_template_areas": null,
            "object_position": null,
            "object_fit": null,
            "grid_auto_columns": null,
            "margin": null,
            "display": null,
            "left": null
          }
        },
        "99f90d2f542645b09007eef25acf7c1f": {
          "model_module": "@jupyter-widgets/controls",
          "model_name": "FloatProgressModel",
          "state": {
            "_view_name": "ProgressView",
            "style": "IPY_MODEL_dcbd70fee5544b6a8adc9123bc485c1f",
            "_dom_classes": [],
            "description": "Downloading: 100%",
            "_model_name": "FloatProgressModel",
            "bar_style": "success",
            "max": 29,
            "_view_module": "@jupyter-widgets/controls",
            "_model_module_version": "1.5.0",
            "value": 29,
            "_view_count": null,
            "_view_module_version": "1.5.0",
            "orientation": "horizontal",
            "min": 0,
            "description_tooltip": null,
            "_model_module": "@jupyter-widgets/controls",
            "layout": "IPY_MODEL_81f3fa5916404f8dadf2ea102d370b02"
          }
        },
        "a071b9e549604c54aecc5dd8a5607d4e": {
          "model_module": "@jupyter-widgets/controls",
          "model_name": "HTMLModel",
          "state": {
            "_view_name": "HTMLView",
            "style": "IPY_MODEL_316df86ace684a9cb74e73c7deabc541",
            "_dom_classes": [],
            "description": "",
            "_model_name": "HTMLModel",
            "placeholder": "​",
            "_view_module": "@jupyter-widgets/controls",
            "_model_module_version": "1.5.0",
            "value": " 29.0/29.0 [00:36&lt;00:00, 1.26s/B]",
            "_view_count": null,
            "_view_module_version": "1.5.0",
            "description_tooltip": null,
            "_model_module": "@jupyter-widgets/controls",
            "layout": "IPY_MODEL_994eb4f514ff47d3895e33b87bc10665"
          }
        },
        "dcbd70fee5544b6a8adc9123bc485c1f": {
          "model_module": "@jupyter-widgets/controls",
          "model_name": "ProgressStyleModel",
          "state": {
            "_view_name": "StyleView",
            "_model_name": "ProgressStyleModel",
            "description_width": "initial",
            "_view_module": "@jupyter-widgets/base",
            "_model_module_version": "1.5.0",
            "_view_count": null,
            "_view_module_version": "1.2.0",
            "bar_color": null,
            "_model_module": "@jupyter-widgets/controls"
          }
        },
        "81f3fa5916404f8dadf2ea102d370b02": {
          "model_module": "@jupyter-widgets/base",
          "model_name": "LayoutModel",
          "state": {
            "_view_name": "LayoutView",
            "grid_template_rows": null,
            "right": null,
            "justify_content": null,
            "_view_module": "@jupyter-widgets/base",
            "overflow": null,
            "_model_module_version": "1.2.0",
            "_view_count": null,
            "flex_flow": null,
            "width": null,
            "min_width": null,
            "border": null,
            "align_items": null,
            "bottom": null,
            "_model_module": "@jupyter-widgets/base",
            "top": null,
            "grid_column": null,
            "overflow_y": null,
            "overflow_x": null,
            "grid_auto_flow": null,
            "grid_area": null,
            "grid_template_columns": null,
            "flex": null,
            "_model_name": "LayoutModel",
            "justify_items": null,
            "grid_row": null,
            "max_height": null,
            "align_content": null,
            "visibility": null,
            "align_self": null,
            "height": null,
            "min_height": null,
            "padding": null,
            "grid_auto_rows": null,
            "grid_gap": null,
            "max_width": null,
            "order": null,
            "_view_module_version": "1.2.0",
            "grid_template_areas": null,
            "object_position": null,
            "object_fit": null,
            "grid_auto_columns": null,
            "margin": null,
            "display": null,
            "left": null
          }
        },
        "316df86ace684a9cb74e73c7deabc541": {
          "model_module": "@jupyter-widgets/controls",
          "model_name": "DescriptionStyleModel",
          "state": {
            "_view_name": "StyleView",
            "_model_name": "DescriptionStyleModel",
            "description_width": "",
            "_view_module": "@jupyter-widgets/base",
            "_model_module_version": "1.5.0",
            "_view_count": null,
            "_view_module_version": "1.2.0",
            "_model_module": "@jupyter-widgets/controls"
          }
        },
        "994eb4f514ff47d3895e33b87bc10665": {
          "model_module": "@jupyter-widgets/base",
          "model_name": "LayoutModel",
          "state": {
            "_view_name": "LayoutView",
            "grid_template_rows": null,
            "right": null,
            "justify_content": null,
            "_view_module": "@jupyter-widgets/base",
            "overflow": null,
            "_model_module_version": "1.2.0",
            "_view_count": null,
            "flex_flow": null,
            "width": null,
            "min_width": null,
            "border": null,
            "align_items": null,
            "bottom": null,
            "_model_module": "@jupyter-widgets/base",
            "top": null,
            "grid_column": null,
            "overflow_y": null,
            "overflow_x": null,
            "grid_auto_flow": null,
            "grid_area": null,
            "grid_template_columns": null,
            "flex": null,
            "_model_name": "LayoutModel",
            "justify_items": null,
            "grid_row": null,
            "max_height": null,
            "align_content": null,
            "visibility": null,
            "align_self": null,
            "height": null,
            "min_height": null,
            "padding": null,
            "grid_auto_rows": null,
            "grid_gap": null,
            "max_width": null,
            "order": null,
            "_view_module_version": "1.2.0",
            "grid_template_areas": null,
            "object_position": null,
            "object_fit": null,
            "grid_auto_columns": null,
            "margin": null,
            "display": null,
            "left": null
          }
        },
        "9032fb37546049d2a53ed27a9ef671af": {
          "model_module": "@jupyter-widgets/controls",
          "model_name": "HBoxModel",
          "state": {
            "_view_name": "HBoxView",
            "_dom_classes": [],
            "_model_name": "HBoxModel",
            "_view_module": "@jupyter-widgets/controls",
            "_model_module_version": "1.5.0",
            "_view_count": null,
            "_view_module_version": "1.5.0",
            "box_style": "",
            "layout": "IPY_MODEL_521a749bb18c468788dfe68890971874",
            "_model_module": "@jupyter-widgets/controls",
            "children": [
              "IPY_MODEL_5be04d1a35ab40cbb8b68a3965a55932",
              "IPY_MODEL_337101aa55fd4d4495cef6df396ec886"
            ]
          }
        },
        "521a749bb18c468788dfe68890971874": {
          "model_module": "@jupyter-widgets/base",
          "model_name": "LayoutModel",
          "state": {
            "_view_name": "LayoutView",
            "grid_template_rows": null,
            "right": null,
            "justify_content": null,
            "_view_module": "@jupyter-widgets/base",
            "overflow": null,
            "_model_module_version": "1.2.0",
            "_view_count": null,
            "flex_flow": null,
            "width": null,
            "min_width": null,
            "border": null,
            "align_items": null,
            "bottom": null,
            "_model_module": "@jupyter-widgets/base",
            "top": null,
            "grid_column": null,
            "overflow_y": null,
            "overflow_x": null,
            "grid_auto_flow": null,
            "grid_area": null,
            "grid_template_columns": null,
            "flex": null,
            "_model_name": "LayoutModel",
            "justify_items": null,
            "grid_row": null,
            "max_height": null,
            "align_content": null,
            "visibility": null,
            "align_self": null,
            "height": null,
            "min_height": null,
            "padding": null,
            "grid_auto_rows": null,
            "grid_gap": null,
            "max_width": null,
            "order": null,
            "_view_module_version": "1.2.0",
            "grid_template_areas": null,
            "object_position": null,
            "object_fit": null,
            "grid_auto_columns": null,
            "margin": null,
            "display": null,
            "left": null
          }
        },
        "5be04d1a35ab40cbb8b68a3965a55932": {
          "model_module": "@jupyter-widgets/controls",
          "model_name": "FloatProgressModel",
          "state": {
            "_view_name": "ProgressView",
            "style": "IPY_MODEL_43b5dd9e83424e86a6438918cc67642b",
            "_dom_classes": [],
            "description": "Downloading: 100%",
            "_model_name": "FloatProgressModel",
            "bar_style": "success",
            "max": 1338740706,
            "_view_module": "@jupyter-widgets/controls",
            "_model_module_version": "1.5.0",
            "value": 1338740706,
            "_view_count": null,
            "_view_module_version": "1.5.0",
            "orientation": "horizontal",
            "min": 0,
            "description_tooltip": null,
            "_model_module": "@jupyter-widgets/controls",
            "layout": "IPY_MODEL_0171e6e190f546edbd421ab16f233720"
          }
        },
        "337101aa55fd4d4495cef6df396ec886": {
          "model_module": "@jupyter-widgets/controls",
          "model_name": "HTMLModel",
          "state": {
            "_view_name": "HTMLView",
            "style": "IPY_MODEL_066a388bc92e4f0bbe8b03bc7981505f",
            "_dom_classes": [],
            "description": "",
            "_model_name": "HTMLModel",
            "placeholder": "​",
            "_view_module": "@jupyter-widgets/controls",
            "_model_module_version": "1.5.0",
            "value": " 1.34G/1.34G [00:36&lt;00:00, 37.1MB/s]",
            "_view_count": null,
            "_view_module_version": "1.5.0",
            "description_tooltip": null,
            "_model_module": "@jupyter-widgets/controls",
            "layout": "IPY_MODEL_458c5a2f634343d5b4ca3808630a7bb9"
          }
        },
        "43b5dd9e83424e86a6438918cc67642b": {
          "model_module": "@jupyter-widgets/controls",
          "model_name": "ProgressStyleModel",
          "state": {
            "_view_name": "StyleView",
            "_model_name": "ProgressStyleModel",
            "description_width": "initial",
            "_view_module": "@jupyter-widgets/base",
            "_model_module_version": "1.5.0",
            "_view_count": null,
            "_view_module_version": "1.2.0",
            "bar_color": null,
            "_model_module": "@jupyter-widgets/controls"
          }
        },
        "0171e6e190f546edbd421ab16f233720": {
          "model_module": "@jupyter-widgets/base",
          "model_name": "LayoutModel",
          "state": {
            "_view_name": "LayoutView",
            "grid_template_rows": null,
            "right": null,
            "justify_content": null,
            "_view_module": "@jupyter-widgets/base",
            "overflow": null,
            "_model_module_version": "1.2.0",
            "_view_count": null,
            "flex_flow": null,
            "width": null,
            "min_width": null,
            "border": null,
            "align_items": null,
            "bottom": null,
            "_model_module": "@jupyter-widgets/base",
            "top": null,
            "grid_column": null,
            "overflow_y": null,
            "overflow_x": null,
            "grid_auto_flow": null,
            "grid_area": null,
            "grid_template_columns": null,
            "flex": null,
            "_model_name": "LayoutModel",
            "justify_items": null,
            "grid_row": null,
            "max_height": null,
            "align_content": null,
            "visibility": null,
            "align_self": null,
            "height": null,
            "min_height": null,
            "padding": null,
            "grid_auto_rows": null,
            "grid_gap": null,
            "max_width": null,
            "order": null,
            "_view_module_version": "1.2.0",
            "grid_template_areas": null,
            "object_position": null,
            "object_fit": null,
            "grid_auto_columns": null,
            "margin": null,
            "display": null,
            "left": null
          }
        },
        "066a388bc92e4f0bbe8b03bc7981505f": {
          "model_module": "@jupyter-widgets/controls",
          "model_name": "DescriptionStyleModel",
          "state": {
            "_view_name": "StyleView",
            "_model_name": "DescriptionStyleModel",
            "description_width": "",
            "_view_module": "@jupyter-widgets/base",
            "_model_module_version": "1.5.0",
            "_view_count": null,
            "_view_module_version": "1.2.0",
            "_model_module": "@jupyter-widgets/controls"
          }
        },
        "458c5a2f634343d5b4ca3808630a7bb9": {
          "model_module": "@jupyter-widgets/base",
          "model_name": "LayoutModel",
          "state": {
            "_view_name": "LayoutView",
            "grid_template_rows": null,
            "right": null,
            "justify_content": null,
            "_view_module": "@jupyter-widgets/base",
            "overflow": null,
            "_model_module_version": "1.2.0",
            "_view_count": null,
            "flex_flow": null,
            "width": null,
            "min_width": null,
            "border": null,
            "align_items": null,
            "bottom": null,
            "_model_module": "@jupyter-widgets/base",
            "top": null,
            "grid_column": null,
            "overflow_y": null,
            "overflow_x": null,
            "grid_auto_flow": null,
            "grid_area": null,
            "grid_template_columns": null,
            "flex": null,
            "_model_name": "LayoutModel",
            "justify_items": null,
            "grid_row": null,
            "max_height": null,
            "align_content": null,
            "visibility": null,
            "align_self": null,
            "height": null,
            "min_height": null,
            "padding": null,
            "grid_auto_rows": null,
            "grid_gap": null,
            "max_width": null,
            "order": null,
            "_view_module_version": "1.2.0",
            "grid_template_areas": null,
            "object_position": null,
            "object_fit": null,
            "grid_auto_columns": null,
            "margin": null,
            "display": null,
            "left": null
          }
        }
      }
    }
  },
  "cells": [
    {
      "cell_type": "markdown",
      "metadata": {
        "id": "ZawfVBK5Tpsd"
      },
      "source": [
        "## Download dataset"
      ]
    },
    {
      "cell_type": "code",
      "metadata": {
        "id": "sKbhj5QTTo9e"
      },
      "source": [
        "!pip install -U -q PyDrive\n",
        "from pydrive.auth import GoogleAuth\n",
        "from pydrive.drive import GoogleDrive\n",
        "from google.colab import auth\n",
        "from oauth2client.client import GoogleCredentials\n",
        "\n",
        "# Authenticate\n",
        "drive = None\n",
        "def authenticate():\n",
        "    global drive\n",
        "    auth.authenticate_user()\n",
        "    gauth = GoogleAuth()\n",
        "    gauth.credentials = GoogleCredentials.get_application_default()\n",
        "    drive = GoogleDrive(gauth)\n",
        "\n",
        "#Download files\n",
        "def downloadFiles(fileIds):\n",
        "    authenticate()\n",
        "    for fileId in fileIds:    \n",
        "        downloaded = drive.CreateFile({\"id\": fileId[1]})\n",
        "        downloaded.GetContentFile(fileId[0])"
      ],
      "execution_count": 1,
      "outputs": []
    },
    {
      "cell_type": "code",
      "metadata": {
        "id": "pDYwMVCYT4d1"
      },
      "source": [
        "# Download file if not existing\n",
        "try:\n",
        "  _ = open(\"test_without_labels.csv\", \"r\")\n",
        "except:\n",
        "  downloadFiles([[\"test_without_labels.csv\", \"1ScX29-3Z8HuNxtiAkeyT9AZgi6YMI1TJ\"]])\n",
        "\n",
        "try:\n",
        "  _ = open(\"train.csv\", \"r\")\n",
        "except:\n",
        "  downloadFiles([[\"train.csv\", \"1WuuPnijTPXyPSJ5ZJp0Kp2IhA2e6EeJy\"]])\n",
        "\n",
        "try:\n",
        "  _ = open(\"val.csv\", \"r\")\n",
        "except:\n",
        "  downloadFiles([[\"val.csv\", \"1IWcqwdFagOazxJvBR-KJhN4HFllx5Cf5\"]])"
      ],
      "execution_count": 2,
      "outputs": []
    },
    {
      "cell_type": "code",
      "metadata": {
        "id": "5WMJJuvqetPu"
      },
      "source": [
        "## Read dataset\n",
        "import pandas as pd\n",
        "training_dataset = pd.read_csv(\"train.csv\")\n",
        "testing_dataset = pd.read_csv(\"test_without_labels.csv\")\n",
        "validating_dataset = pd.read_csv(\"val.csv\")"
      ],
      "execution_count": 3,
      "outputs": []
    },
    {
      "cell_type": "code",
      "metadata": {
        "id": "f5NS_DPkfmD2"
      },
      "source": [
        "# Convert to list\n",
        "training_labels_list = list(training_dataset.labels)\n",
        "validating_labels_list = list(validating_dataset.labels)\n",
        "training_data_list = list(training_dataset.sents)\n",
        "validating_data_list = list(validating_dataset.sents)\n",
        "testing_data_list = list(testing_dataset.sents)"
      ],
      "execution_count": 4,
      "outputs": []
    },
    {
      "cell_type": "code",
      "metadata": {
        "id": "VmxGuA1SJYuF"
      },
      "source": [
        "# The function to remove punctuation\n",
        "def remove_punctuation(sent_data):\n",
        "  final_result = []\n",
        "  for idx, sentence in enumerate(sent_data):\n",
        "    temp = []\n",
        "    sentence = sentence.split(' ')\n",
        "    for word in sentence:\n",
        "      if(('.' in word or '\\'' in word or '?' in word) and len(word) > 1):\n",
        "        word = word.replace('?', '')\n",
        "        word = word.replace('.', '')\n",
        "        word = word.replace('\\'','')\n",
        "      temp.append(word)\n",
        "    final_result.append(temp)\n",
        "  return final_result"
      ],
      "execution_count": 5,
      "outputs": []
    },
    {
      "cell_type": "code",
      "metadata": {
        "id": "P3M1P35dJZr_"
      },
      "source": [
        "# Remove punctuation for training data\n",
        "training_data = remove_punctuation(training_data_list)\n",
        "# Remove punctuation for validating data\n",
        "validating_data = remove_punctuation(validating_data_list)\n",
        "# Remove punctuation for testing data\n",
        "testing_data = remove_punctuation(testing_data_list)"
      ],
      "execution_count": 6,
      "outputs": []
    },
    {
      "cell_type": "code",
      "metadata": {
        "id": "nfdb8qyPf_-9",
        "colab": {
          "base_uri": "https://localhost:8080/"
        },
        "outputId": "7ca821b6-1e47-4c94-fcf7-cf98312fe9cf"
      },
      "source": [
        "## Convert labels to list\n",
        "training_labels = []\n",
        "for label in training_labels_list:\n",
        "    training_labels.append(label.split(\" \"))\n",
        "\n",
        "validating_labels = []\n",
        "for label in validating_labels_list:\n",
        "    validating_labels.append(label.split(\" \"))\n",
        "\n",
        "print(training_labels[0])\n",
        "print(validating_labels[0])"
      ],
      "execution_count": 7,
      "outputs": [
        {
          "output_type": "stream",
          "text": [
            "['O', 'O', 'O', 'O', 'O', 'O', 'O', 'O', 'O', 'O', 'O', 'O', 'O', 'O', 'O', 'O', 'O', 'O', 'O', 'O', 'O', 'O', 'O', 'O', 'O', 'O', 'O', 'O', 'O', 'O', 'B-Organisation', 'I-Organisation', 'O', 'B-Temporal', 'I-Temporal', 'I-Temporal', 'O', 'O', 'O', 'O', 'O', 'B-Organisation', 'I-Organisation', 'O', 'O', 'O', 'O', 'O', 'O', 'B-Nationality', 'O', 'O']\n",
            "['O', 'B-Quantity', 'I-Quantity', 'I-Quantity', 'I-Quantity', 'I-Quantity', 'B-Person', 'O', 'O', 'O', 'O', 'O', 'O', 'O', 'O', 'O', 'O', 'O', 'O', 'B-Person', 'O', 'O', 'O', 'O', 'O', 'O', 'O', 'O', 'O', 'O', 'O', 'O', 'O', 'O', 'O', 'O', 'O', 'O']\n"
          ],
          "name": "stdout"
        }
      ]
    },
    {
      "cell_type": "code",
      "metadata": {
        "id": "2_GW3R8TapRG",
        "colab": {
          "base_uri": "https://localhost:8080/"
        },
        "outputId": "ac0ea483-fad7-4f1a-b0fa-e02538bd4673"
      },
      "source": [
        "print(training_data[0])\n",
        "print(validating_data[0])\n",
        "print(testing_data[0])"
      ],
      "execution_count": 8,
      "outputs": [
        {
          "output_type": "stream",
          "text": [
            "['Operation', 'Steel', 'Curtain', '(', 'Arabic', ':', 'ا', 'ل', 'ح', 'ج', 'ا', 'ب', 'ا', 'ل', 'ف', 'و', 'ل', 'ا', 'ذ', 'ي', 'Al', 'Hejab', 'Elfulathi', ')', 'was', 'a', 'military', 'operation', 'executed', 'by', 'coalition', 'forces', 'in', 'early', 'November', '2005', 'to', 'reduce', 'the', 'flow', 'of', 'foreign', 'insurgents', 'crossing', 'the', 'border', 'and', 'joining', 'the', 'Iraqi', 'insurgency', '.']\n",
            "['For', '14', '-', 'year', '-', 'old', 'Amjad', 'it', 'is', 'safer', 'there', 'than', 'being', 'above', 'ground', ',', 'and', 'over', 'time', 'his', 'enthusiasm', 'for', 'the', 'place', 'has', 'earned', 'him', 'the', 'role', 'of', '\"', '\"', 'deputy', 'librarian', '\"', '\"', '.', '\"']\n",
            "['Carter', 'thanked', 'Abadi', 'for', 'nearly', 'two', 'years', 'of', 'a', 'close', 'personal', 'partnership', ',', 'and', 'noted', 'the', 'continued', 'supporting', 'role', 'the', 'United', 'States', 'and', 'the', 'counter', '-', 'ISIL', 'coalition', 'can', 'play', 'in', 'Iraq', \"'\", 's', 'efforts', 'to', 'destroy', 'the', 'terrorist', 'group', ',', 'according', 'to', 'the', 'release', '.']\n"
          ],
          "name": "stdout"
        }
      ]
    },
    {
      "cell_type": "code",
      "metadata": {
        "id": "6uTdTtK8M8u-"
      },
      "source": [
        "## word to index\n",
        "import numpy as np\n",
        "word_to_ix = {}\n",
        "for sentence in training_data+validating_data+testing_data:\n",
        "    for word in sentence:\n",
        "        if word not in word_to_ix:\n",
        "            word_to_ix[word] = len(word_to_ix)\n",
        "word_list = list(word_to_ix.keys())\n",
        "\n",
        "# Add Start and Stop tags\n",
        "START_TAG = \"<START>\"\n",
        "STOP_TAG = \"<STOP>\"\n",
        "tag_to_ix = {START_TAG:0, STOP_TAG:1}\n",
        "for tags in training_labels+validating_labels:\n",
        "    for tag in tags:\n",
        "        if tag not in tag_to_ix:\n",
        "            tag_to_ix[tag] = len(tag_to_ix)"
      ],
      "execution_count": 9,
      "outputs": []
    },
    {
      "cell_type": "code",
      "metadata": {
        "id": "7IetIcqZPCTm",
        "colab": {
          "base_uri": "https://localhost:8080/"
        },
        "outputId": "c4e107ba-7e76-418d-8a4c-bb5e614c72e7"
      },
      "source": [
        "print(word_to_ix)\n",
        "print(tag_to_ix)\n",
        "print(np.shape(word_list))"
      ],
      "execution_count": 10,
      "outputs": [
        {
          "output_type": "stream",
          "text": [
            "{'Operation': 0, 'Steel': 1, 'Curtain': 2, '(': 3, 'Arabic': 4, ':': 5, 'ا': 6, 'ل': 7, 'ح': 8, 'ج': 9, 'ب': 10, 'ف': 11, 'و': 12, 'ذ': 13, 'ي': 14, 'Al': 15, 'Hejab': 16, 'Elfulathi': 17, ')': 18, 'was': 19, 'a': 20, 'military': 21, 'operation': 22, 'executed': 23, 'by': 24, 'coalition': 25, 'forces': 26, 'in': 27, 'early': 28, 'November': 29, '2005': 30, 'to': 31, 'reduce': 32, 'the': 33, 'flow': 34, 'of': 35, 'foreign': 36, 'insurgents': 37, 'crossing': 38, 'border': 39, 'and': 40, 'joining': 41, 'Iraqi': 42, 'insurgency': 43, '.': 44, 'The': 45, 'hospital': 46, 'has': 47, 'facilities': 48, 'for': 49, 'MRI': 50, 'CT': 51, 'scan': 52, ',': 53, 'gamma': 54, 'camera': 55, 'lithotripsy': 56, 'device': 57, 'important': 58, 'that': 59, 'it': 60, 'first': 61, 'large': 62, 'scale': 63, 'deployment': 64, 'New': 65, 'Army': 66, 'This': 67, 'my': 68, 'visit': 69, 'Uzbekistan': 70, 'an': 71, 'opportunity': 72, 'deepen': 73, 'strengthen': 74, 'bilateral': 75, 'relations': 76, 'between': 77, 'UK': 78, 'on': 79, 'number': 80, 'issues': 81, 'us': 82, 'both': 83, 'group': 84, 'founded': 85, 'Sheikh': 86, 'Abu': 87, 'Omar': 88, 'al': 89, '-': 90, 'Ansari': 91, '\"': 92, 'And': 93, 'hopefully': 94, 'reading': 95, 'we': 96, 'can': 97, 'achieve': 98, 'this': 99, 'But': 100, 'nobody': 101, 'leave': 102, 'now': 103, 'Members': 104, 'Security': 105, 'Council': 106, 'are': 107, 'encouraged': 108, 'decision': 109, 'President': 110, 'Fuad': 111, 'Masum': 112, 'nominate': 113, 'new': 114, 'Prime': 115, 'Minister': 116, 'designate': 117, 'Iraq': 118, 'We': 119, 'extend': 120, 'our': 121, 'deepest': 122, 'condolences': 123, 'families': 124, 'victims': 125, 'hope': 126, 'speedy': 127, 'recovery': 128, 'all': 129, 'those': 130, 'wounded': 131, 'siege': 132, 'Darayya': 133, 'government': 134, 'pro': 135, 'Assad': 136, 'began': 137, 'nearly': 138, 'four': 139, 'years': 140, 'ago': 141, 'stock': 142, 'clothing': 143, 'his': 144, 'family': 145, 'proudly': 146, 'sold': 147, 'is': 148, 'just': 149, 'mounds': 150, 'blackness': 151, '“': 152, 'nation': 153, '’': 154, 's': 155, 'business': 156, 'why': 157, 'here': 158, '”': 159, 'said': 160, 'Col': 161, 'Travis': 162, 'Caughlin': 163, '507th': 164, 'Maintenance': 165, 'Group': 166, 'Commander': 167, 'incident': 168, 'under': 169, 'investigation': 170, 'Foreign': 171, 'Secretary': 172, 'Boris': 173, 'Johnson': 174, 'statement': 175, 'UN': 176, 'not': 177, 'being': 178, 'given': 179, 'access': 180, 'eastern': 181, 'Aleppo': 182, 'release': 183, 'two': 184, 'leaders': 185, 'discussed': 186, 'next': 187, 'steps': 188, 'Mosul': 189, 'including': 190, 'need': 191, 'continue': 192, 'close': 193, 'cooperation': 194, 'Kurdistan': 195, 'regional': 196, 'Office': 197, 'Tobias': 198, 'Ellwood': 199, 'agreed': 200, 'priority': 201, 'must': 202, 'be': 203, 'protection': 204, 'civilians': 205, 'ensuring': 206, 'humanitarian': 207, 'aid': 208, 'Ground': 209, 'based': 210, 'artillery': 211, 'fired': 212, 'counter': 213, 'fire': 214, 'or': 215, 'support': 216, 'maneuver': 217, 'roles': 218, 'classified': 219, 'as': 220, 'strike': 221, 'defined': 222, 'CJTF': 223, 'OIR': 224, 'rest': 225, 'chapter': 226, 'deals': 227, 'with': 228, 'exercise': 229, 'divine': 230, 'power': 231, 'They': 232, 'breakfast': 233, 'work': 234, 'hourly': 235, 'rate': 236, 'one': 237, 'dinar': 238, 'consulting': 239, 'Government': 240, 'ascertain': 241, 'full': 242, 'extent': 243, 'unprovoked': 244, 'attack': 245, 'While': 246, 'step': 247, 'forward': 248, 'brings': 249, 'closer': 250, 'starting': 251, 'negotiations': 252, 'Syrian': 253, 'parties': 254, 'recognize': 255, 'difficult': 256, 'ahead': 257, 'remain': 258, 'determined': 259, 'toward': 260, 'political': 261, 'settlement': 262, 'end': 263, 'conflict': 264, 'Middle': 265, 'East': 266, 'In': 267, 'Skype': 268, 'conversations': 269, 'Anas': 270, 'tells': 271, 'me': 272, 'well': 273, 'aspiring': 274, 'teachers': 275, 'doctors': 276, 'dentists': 277, 'looking': 278, 'technical': 279, 'academic': 280, 'books': 281, 'many': 282, 'still': 283, 'read': 284, 'love': 285, 'Defense': 286, 'Department': 287, 'identified': 288, 'American': 289, 'service': 290, 'member': 291, 'who': 292, 'killed': 293, 'Syria': 294, 'Thanksgiving': 295, 'Day': 296, 'mournful': 297, 'lament': 298, 'from': 299, 'cello': 300, 'wafted': 301, 'through': 302, 'dark': 303, 'warren': 304, 'charred': 305, 'gutted': 306, 'shops': 307, 'which': 308, 'line': 309, 'street': 310, 'once': 311, 'known': 312, 'its': 313, 'bright': 314, 'blinking': 315, 'neon': 316, 'signs': 317, 'selling': 318, 'everything': 319, 'perfume': 320, 'pretty': 321, 'dresses': 322, 'kebabs': 323, 'says': 324, 'helps': 325, 'community': 326, 'sorts': 327, 'ways': 328, 'Coalition': 329, 'conducted': 330, '23': 331, 'strikes': 332, 'using': 333, 'bomber': 334, 'fighter': 335, 'remotely': 336, 'piloted': 337, 'aircraft': 338, 'against': 339, 'ISIL': 340, 'targets': 341, 'past': 342, '24': 343, 'hours': 344, 'US': 345, 'led': 346, 'airstrikes': 347, 'delivered': 348, 'munitions': 349, 'include': 350, 'three': 351, 'tactical': 352, 'units': 353, 'command': 354, 'control': 355, 'node': 356, 'five': 357, 'supply': 358, 'routes': 359, 'SDF': 360, 'operations': 361, 'isolate': 362, 'Raqqa': 363, 'Davis': 364, 'On': 365, 'behalf': 366, 'men': 367, 'women': 368, 'Central': 369, 'Command': 370, 'I': 371, 'personal': 372, 'gratitude': 373, 'friends': 374, 'fellow': 375, 'members': 376, \"'\": 377, 'd': 378, 'come': 379, 'shop': 380, 'festive': 381, 'night': 382, 'before': 383, 'Muslim': 384, 'Eid': 385, 'celebration': 386, 'isolation': 387, 'Raqqah': 388, 'when': 389, 'complete': 390, 'will': 391, 'liberate': 392, 'strategically': 393, 'valuable': 394, 'terrain': 395, 'surrounding': 396, 'enable': 397, 'liberation': 398, 'city': 399, 'integral': 400, 'accomplishment': 401, 'common': 402, 'objective': 403, 'ultimate': 404, 'defeat': 405, 'Daesh': 406, 'independent': 407, 'concluded': 408, 'Asad': 409, 'regime': 410, 'used': 411, 'chemical': 412, 'weapons': 413, 'people': 414, 'at': 415, 'least': 416, 'occasions': 417, 'such': 418, 'nations': 419, 'have': 420, 'Australia': 421, 'Bahrain': 422, 'Canada': 423, 'Denmark': 424, 'France': 425, 'Jordan': 426, 'Netherlands': 427, 'Saudi': 428, 'Arabia': 429, 'Turkey': 430, 'United': 431, 'Arab': 432, 'Emirates': 433, 'Kingdom': 434, 'States': 435, 'act': 436, 'continuing': 437, 'cut': 438, 'off': 439, 'finance': 440, 'severing': 441, 'oil': 442, 'stemming': 443, 'fighters': 444, 'addition': 445, 'action': 446, 'taking': 447, 'evil': 448, 'ideology': 449, 'General': 450, 'Joseph': 451, 'Votel': 452, 'commander': 453, 'recently': 454, 'met': 455, 'Air': 456, 'Force': 457, 'civilian': 458, 'employees': 459, 'provided': 460, 'overview': 461, 'CENTCOM': 462, 'vision': 463, 'current': 464, 'mission': 465, 'strategic': 466, 'approach': 467, 'jihadist': 468, 'also': 469, 'took': 470, 'over': 471, 'nearby': 472, 'barracks': 473, 'during': 474, 'battle': 475, '[': 476, '4': 477, ']': 478, 'It': 479, 'however': 480, 'hard': 481, 'immediately': 482, 'verify': 483, 'reports': 484, 'getting': 485, 'so': 486, 'following': 487, 'examples': 488, 'should': 489, 'treated': 490, 'preliminary': 491, 'definitive': 492, 'he': 493, 'noted': 494, 'commanding': 495, 'general': 496, 'Lt': 497, 'Gen': 498, 'Stephen': 499, 'J': 500, 'Townsend': 501, 'made': 502, 'clear': 503, 'Dec': 504, '14th': 505, 'press': 506, 'conference': 507, 'would': 508, 'equipment': 509, 'posed': 510, 'threat': 511, 'John': 512, 'JD': 513, 'Dorrian': 514, 'spokesperson': 515, 'explained': 516, 'top': 517, 'priorities': 518, 'As': 519, 'second': 520, 'largest': 521, 'contributor': 522, 'activities': 523, 'flown': 524, '870': 525, 'missions': 526, '265': 527, 'bombing': 528, 'raids': 529, 'providing': 530, 'additional': 531, '125': 532, 'soldiers': 533, 'assist': 534, 'Counter': 535, 'IED': 536, 'training': 537, 'helping': 538, 'them': 539, 'territory': 540, 'safely': 541, 'return': 542, 'local': 543, 'He': 544, 'captured': 545, 'Jordanian': 546, '71st': 547, 'Terrorism': 548, 'Battalion': 549, 'intelligence': 550, 'officers': 551, 'May': 552, '2006': 553, 'accused': 554, 'Musab': 555, 'Zarqawi': 556, 'assistant': 557, 'Karbouly': 558, 'denied': 559, '2': 560, 'told': 561, 'tribunal': 562, 'innocent': 563, 'Some': 564, 'Iraqis': 565, 'insist': 566, 'their': 567, 'life': 568, 'only': 569, 'please': 570, 'thankful': 571, 'there': 572, 'willing': 573, 'take': 574, 'up': 575, 'fight': 576, 'protect': 577, 'homeland': 578, 'hateful': 579, 'brutal': 580, 'report': 581, 'details': 582, 'destruction': 583, 'cultural': 584, 'heritage': 585, 'Yet': 586, 'like': 587, 'returned': 588, 'after': 589, '2003': 590, 'war': 591, 'toppled': 592, 'Saddam': 593, 'Hussein': 594, 'Karim': 595, 'insists': 596, 'stay': 597, 'Thursday': 598, '15': 599, 'destroyed': 600, '14': 601, 'tanks': 602, 'other': 603, 'near': 604, 'Palmyra': 605, 'worried': 606, 'they': 607, 'push': 608, 'down': 609, 'wages': 610, 'jobs': 611, 'Jordanians': 612, 'permanently': 613, 'stirring': 614, 'resentment': 615, 'primarily': 616, 'involved': 617, 'logistics': 618, 'AQI': 619, 'effort': 620, 'assisted': 621, 'smuggling': 622, 'money': 623, 'across': 624, 'Islamic': 625, 'Association': 626, 'got': 627, 'permission': 628, 'build': 629, 'Cultural': 630, 'Center': 631, 'center': 632, 'International': 633, 'Community': 634, 'do': 635, 'pressure': 636, 'lift': 637, 'sieges': 638, 'place': 639, 'sustain': 640, 'strongly': 641, 'condemns': 642, 'horrific': 643, 'attacks': 644, 'today': 645, 'towns': 646, 'Jabla': 647, 'northwest': 648, 'province': 649, 'Latakia': 650, 'port': 651, 'Tartus': 652, 'Da': 653, 'esh': 654, 'claimed': 655, 'responsibility': 656, 'where': 657, 'more': 658, 'than': 659, '60': 660, 'were': 661, 'injured': 662, 'multiple': 663, 'bombings': 664, 'targeted': 665, 'bus': 666, 'stations': 667, 'January': 668, 'umbrella': 669, 'organization': 670, 'Mujahideen': 671, 'Shura': 672, 'announced': 673, 'formation': 674, 'For': 675, 'means': 676, 'yet': 677, 'another': 678, 'while': 679, 'meeting': 680, 'safehouse': 681, 'spiritual': 682, 'adviser': 683, 'bombed': 684, 'Another': 685, 'resident': 686, 'had': 687, 'heard': 688, 'missile': 689, 'whizzing': 690, 'air': 691, 'station': 692, 'commissioned': 693, '1972': 694, 'officials': 695, 'reported': 696, '139': 697, '256': 698, 'prisoners': 699, 'considered': 700, 'successful': 701, 'death': 702, 'soldier': 703, 'supporting': 704, 'Inherent': 705, 'Resolve': 706, 'makes': 707, 'consistently': 708, 'failed': 709, 'co': 710, 'operate': 711, 'human': 712, 'rights': 713, 'staff': 714, 'received': 715, 'atrocities': 716, 'committed': 717, 'State': 718, 'militants': 719, 'backers': 720, 'notably': 721, 'Russia': 722, 'inflicting': 723, 'worst': 724, 'bombardment': 725, 'seen': 726, 'areas': 727, 'causing': 728, 'severe': 729, 'suffering': 730, 'Commenting': 731, 'reached': 732, 'UNESCO': 733, 'World': 734, 'Heritage': 735, 'Site': 736, 'Senior': 737, 'Advisor': 738, 'MEK': 739, 'Resettlement': 740, 'actively': 741, 'engaged': 742, 'international': 743, 'relocate': 744, 'residents': 745, 'Camp': 746, 'Hurriya': 747, 'safe': 748, 'permanent': 749, 'locations': 750, 'soon': 751, 'possible': 752, 'Answer': 753, 'Deputy': 754, 'Tony': 755, 'Blinken': 756, 'travel': 757, 'Paris': 758, 'tomorrow': 759, 'multilateral': 760, 'convened': 761, 'French': 762, 'discuss': 763, 'efforts': 764, 'resolve': 765, 'crisis': 766, 'these': 767, 'last': 768, '10': 769, 'infrastructure': 770, 'provides': 771, 'shrinking': 772, 'financial': 773, 'Alsumaria': 774, 'produces': 775, 'almost': 776, '/': 777, '7': 778, 'programs': 779, 'house': 780, '5': 781, 'Marines': 782, '3rd': 783, '6th': 784, '2nd': 785, '1st': 786, 'assault': 787, 'insurgent': 788, 'held': 789, 'Karabilah': 790, 'cleared': 791, 'days': 792, 'later': 793, 'If': 794, 'don': 795, 't': 796, 'get': 797, 'bombers': 798, 'airlifters': 799, 'won': 800, 'without': 801, 'tanker': 802, 'joined': 803, 'partners': 804, 'talks': 805, 'situation': 806, 'seized': 807, 'hardware': 808, 'Tiyas': 809, 'Military': 810, 'Airfield': 811, '11': 812, '13': 813, 'Ensure': 814, 'effective': 815, 'posture': 816, 'carried': 817, 'out': 818, 'unspeakable': 819, 'Dabiq': 820, 'named': 821, 'English': 822, 'language': 823, 'magazine': 824, 'town': 825, 'site': 826, 'final': 827, 'victory': 828, 'called': 829, 'caliphate': 830, 'Read': 831, 'summit': 832, 'documents': 833, 'terrorism': 834, 'migration': 835, 'defence': 836, 'nuclear': 837, 'energy': 838, 'listing': 839, 'gives': 840, 'indication': 841, 'sham': 842, 'supports': 843, 'financially': 844, 'yesterday': 845, 'agreement': 846, 'contribute': 847, 'positively': 848, 'process': 849, 'Despite': 850, 'differences': 851, 'leadership': 852, 'styles': 853, 'able': 854, 'overcome': 855, 'challenges': 856, 'use': 857, 'translators': 858, 'linguists': 859, 'weeks': 860, 'together': 861, 'right': 862, 'environment': 863, 'teams': 864, 'any': 865, 'Jan': 866, '3': 867, 'hit': 868, 'headquarters': 869, 'compound': 870, 'itself': 871, 'added': 872, 'After': 873, 'Ghadiya': 874, 'orders': 875, 'successor': 876, 'Ayyub': 877, 'Masri': 878, 'either': 879, 'directly': 880, 'deputy': 881, 'Sunday': 882, 'IS': 883, '50': 884, 'former': 885, 'police': 886, 'been': 887, 'holding': 888, 'building': 889, 'outside': 890, 'Near': 891, 'seven': 892, ';': 893, 'fighting': 894, 'position': 895, 'heavy': 896, 'machine': 897, 'gun': 898, 'buildings': 899, 'VBIEDs': 900, 'VBIED': 901, 'facility': 902, 'caches': 903, 'vehicles': 904, 'tunnel': 905, 'entrance': 906, 'mortar': 907, 'damaged': 908, '18': 909, 'suppressed': 910, 'unit': 911, 'continues': 912, 'stand': 913, 'shoulder': 914, 'information': 915, 'compile': 916, 'daily': 917, 'releases': 918, 'Z': 919, 'Greenwich': 920, 'Mean': 921, 'Time': 922, 'Pentagon': 923, 'Press': 924, 'gather': 925, 'around': 926, 'call': 927, 'Briefing': 928, 'Room': 929, 'ask': 930, 'questions': 931, 'Navy': 932, 'Capt': 933, 'Jeff': 934, 'room': 935, 'Noncommissioned': 936, 'each': 937, 'share': 938, 'knowledge': 939, 'experiences': 940, 'exchange': 941, 'subject': 942, 'matter': 943, 'experts': 944, 'Every': 945, 'time': 946, 'heads': 947, 'front': 948, 'stocks': 949, 'delivering': 950, '101': 951, 'cross': 952, 'raid': 953, 'October': 954, '26': 955, '2008': 956, '1': 957, 'Of': 958, 'course': 959, 'but': 960, 'world': 961, 'taken': 962, 'great': 963, 'resolving': 964, 'HRW': 965, 'woman': 966, 'section': 967, 'Khani': 968, 'mosque': 969, 'Daquq': 970, 'Kurdish': 971, 'controlled': 972, 'about': 973, '30km': 974, '19': 975, 'miles': 976, 'south': 977, 'Kirkuk': 978, 'filled': 979, 'Shia': 980, 'worshippers': 981, 'explosion': 982, 'train': 983, 'students': 984, 'graduate': 985, 'universities': 986, 'contributes': 987, 'scientific': 988, 'research': 989, 'am': 990, 'deeply': 991, 'concerned': 992, 'shocked': 993, '70': 994, 'Bu': 995, 'Nimr': 996, 'tribe': 997, 'Anbar': 998, 'performs': 999, 'endoscopic': 1000, 'vascular': 1001, 'cardiac': 1002, 'surgery': 1003, 'neurosurgery': 1004, 'urosurgery': 1005, '–': 1006, 'Iran': 1007, 'nationwide': 1008, 'Cessation': 1009, 'Hostilities': 1010, 'help': 1011, 'create': 1012, 'genuine': 1013, 'transition': 1014, 'SRTF': 1015, 'contribution': 1016, 'Syrians': 1017, 'face': 1018, 'significant': 1019, 'working': 1020, 'communities': 1021, 'urge': 1022, 'fulfill': 1023, 'nine': 1024, 'died': 1025, 'blazing': 1026, 'orange': 1027, 'fireball': 1028, 'set': 1029, 'blast': 1030, 'plan': 1031, 'gone': 1032, 'm': 1033, 'convinced': 1034, 'tankers': 1035, 'key': 1036, 'global': 1037, 'reach': 1038, 'Jandal': 1039, 'suicide': 1040, 'IEDs': 1041, 'media': 1042, 'may': 1043, 'contact': 1044, 'Special': 1045, 'Operations': 1046, 'Public': 1047, 'Affairs': 1048, '910': 1049, '432': 1050, '3383': 1051, 'Follow': 1052, '@': 1053, 'BBCNewsMagazine': 1054, 'Twitter': 1055, 'Facebook': 1056, 'definitely': 1057, 'mine': 1058, 'stronger': 1059, 'Recent': 1060, 'speculated': 1061, 'role': 1062, 'play': 1063, 'She': 1064, 'already': 1065, 'round': 1066, 'Ministers': 1067, 'Lebanon': 1068, 'Egypt': 1069, 'Qatar': 1070, 'year': 1071, 'Now': 1072, 'live': 1073, 'dignity': 1074, 'Through': 1075, 'illicit': 1076, 'trafficking': 1077, 'looted': 1078, 'archaeological': 1079, 'material': 1080, 'generated': 1081, 'millions': 1082, 'dollars': 1083, 'currency': 1084, 'enabling': 1085, 'brutalize': 1086, 'oppress': 1087, 'Question': 1088, 'Will': 1089, 'participate': 1090, '27': 1091, 'attend': 1092, 'what': 1093, 'level': 1094, 'provide': 1095, 'etc': 1096, '?': 1097, 'go': 1098, 'market': 1099, 'fortified': 1100, 'fell': 1101, 'bringing': 1102, 'conclusion': 1103, 'repeatedly': 1104, 'unity': 1105, 'sovereignty': 1106, 'campaign': 1107, 'slow': 1108, 'start': 1109, 'tough': 1110, 'kidnapped': 1111, 'hostage': 1112, 'beheaded': 1113, 'came': 1114, 'Karrada': 1115, '300': 1116, 'old': 1117, 'instrument': 1118, 'cradled': 1119, 'carefully': 1120, 'crowds': 1121, 'gathered': 1122, 'ongoing': 1123, 'explore': 1124, 'further': 1125, 'accelerate': 1126, 'network': 1127, 'geographic': 1128, 'borders': 1129, 'saved': 1130, 'having': 1131, 'bring': 1132, 'migrant': 1133, 'labourers': 1134, 'abroad': 1135, 'long': 1136, 'Ally': 1137, 'remains': 1138, 'steadfast': 1139, 'democratically': 1140, 'elected': 1141, 'institutions': 1142, '—': 1143, 'enshrined': 1144, 'constitution': 1145, 'terror': 1146, 'morning': 1147, 'Baghdad': 1148, 'serves': 1149, 'produce': 1150, 'hydroelectric': 1151, 'flood': 1152, 'although': 1153, 'become': 1154, 'less': 1155, 'critical': 1156, 'construction': 1157, 'Dam': 1158, 'upstream': 1159, 'several': 1160, 'dams': 1161, 'vicinity': 1162, 'airfield': 1163, 'northeast': 1164, 'along': 1165, 'highway': 1166, 'barbaric': 1167, 'terrorist': 1168, 'specifically': 1169, 'mourners': 1170, 'inside': 1171, 'funeral': 1172, 'tent': 1173, 'saddened': 1174, 'news': 1175, 'brave': 1176, 'protecting': 1177, 'Carter': 1178, 'Nov': 1179, 'tank': 1180, 'News': 1181, 'س': 1182, 'م': 1183, 'ر': 1184, 'ة': 1185, 'ن': 1186, 'ز': 1187, '\\u200e': 1188, 'satellite': 1189, 'TV': 1190, 'transmits': 1191, 'Nilesat': 1192, 'Hotbird': 1193, 'Noorsat': 1194, 'Eurobird': 1195, 'Ziad': 1196, 'Khalaf': 1197, 'د': 1198, 'خ': 1199, 'ك': 1200, 'February': 1201, '2015': 1202, 'native': 1203, 'Qa': 1204, 'im': 1205, 'Islamist': 1206, 'officer': 1207, 'son': 1208, 'tribal': 1209, 'sheikh': 1210, 'Karabla': 1211, 'clan': 1212, 'Dulaim': 1213, 'enthusiasts': 1214, 'stocked': 1215, 'underground': 1216, 'library': 1217, 'volumes': 1218, 'rescued': 1219, 'users': 1220, 'dodge': 1221, 'shells': 1222, 'bullets': 1223, 'high': 1224, 'value': 1225, 'connections': 1226, 'you': 1227, 'trade': 1228, 'tourism': 1229, 'exchanges': 1230, 'familial': 1231, 'ties': 1232, 'available': 1233, 'audience': 1234, 'throughout': 1235, 'via': 1236, 'online': 1237, 'streaming': 1238, 'website': 1239, 'Americas': 1240, 'myTV': 1241, 'day': 1242, 'Sinjar': 1243, 'liberated': 1244, 'violent': 1245, 'unwanted': 1246, 'occupation': 1247, 'There': 1248, 'way': 1249, 'away': 1250, 'army': 1251, 'claims': 1252, 'hollow': 1253, 'admitted': 1254, 'abducted': 1255, 'citizens': 1256, 'Moroccans': 1257, 'takes': 1258, 'potential': 1259, 'sanctions': 1260, 'violations': 1261, 'seriously': 1262, 'Qanbar': 1263, 'navy': 1264, 'reign': 1265, 'part': 1266, 'War': 1267, '1980': 1268, '88': 1269, 'Kuwait': 1270, '1990': 1271, '91': 1272, 'Witnesses': 1273, 'believe': 1274, 'because': 1275, 'sound': 1276, 'obtain': 1277, 'greater': 1278, 'capital': 1279, 'markets': 1280, 'found': 1281, 'Human': 1282, 'Rights': 1283, 'web': 1284, 'page': 1285, 'dedicated': 1286, 'commission': 1287, 'inquiry': 1288, 'Republic': 1289, 'lost': 1290, '30': 1291, 'percent': 1292, 'enemy': 1293, 're': 1294, 'going': 1295, 'make': 1296, 'sure': 1297, 'every': 1298, 'measure': 1299, 'mitigate': 1300, 'risk': 1301, 'Maj': 1302, 'Gary': 1303, 'Volesky': 1304, 'Combined': 1305, 'Joint': 1306, 'Forces': 1307, 'Land': 1308, 'Component': 1309, 'Next': 1310, 'Isolation': 1311, 'Phase': 1312, 'lead': 1313, 'degrade': 1314, 'no': 1315, 'longer': 1316, 'reject': 1317, 'tormented': 1318, 'worldview': 1319, 'totals': 1320, '6': 1321, '602': 1322, 'Following': 1323, 'Gulf': 1324, 'visiting': 1325, 'December': 1326, 'These': 1327, 'vicious': 1328, 'acts': 1329, 'mass': 1330, 'murder': 1331, 'sobering': 1332, 'reminder': 1333, 'eliminate': 1334, 'poses': 1335, 'comments': 1336, 'ceasefire': 1337, '29': 1338, 'recapture': 1339, 'occurred': 1340, 'courthouse': 1341, '7km': 1342, 'Turkish': 1343, 'frontier': 1344, 'security': 1345, 'allied': 1346, 'paramilitary': 1347, 'groups': 1348, 'committing': 1349, 'serious': 1350, 'previous': 1351, 'precision': 1352, 'location': 1353, 'target': 1354, 'firing': 1355, 'studied': 1356, 'video': 1357, 'footage': 1358, 'photos': 1359, 'aftermath': 1360, 'did': 1361, 'show': 1362, 'structures': 1363, 'targeting': 1364, 'developers': 1365, 'proliferators': 1366, 'businessmen': 1367, 'companies': 1368, 'shabiha': 1369, 'militias': 1370, 'pose': 1371, 'wider': 1372, 'often': 1373, 'goes': 1374, 'scenes': 1375, 'knows': 1376, 'bit': 1377, 'fabric': 1378, 'dies': 1379, 'offence': 1380, 'Australian': 1381, 'law': 1382, 'enter': 1383, 'district': 1384, 'legitimate': 1385, 'purpose': 1386, 'maintained': 1387, 'defensive': 1388, 'positions': 1389, 'Levant': 1390, 'sides': 1391, 'country': 1392, 'director': 1393, 'No': 1394, 'circumstances': 1395, 'point': 1396, 'absolute': 1397, 'assisting': 1398, 'High': 1399, 'Commissioner': 1400, 'Refugees': 1401, 'relocation': 1402, 'Hospital': 1403, 'internal': 1404, 'specialties': 1405, 'neurological': 1406, 'gastrointestinal': 1407, 'kidney': 1408, 'Sadiq': 1409, 'beamed': 1410, 'Dayr': 1411, 'Az': 1412, 'Zayr': 1413, 'pump': 1414, 'jack': 1415, 'ripped': 1416, 'apart': 1417, 'widespread': 1418, 'fuelling': 1419, 'sectarian': 1420, 'divisions': 1421, 'slaughter': 1422, 'scattering': 1423, 'hide': 1424, 'ourselves': 1425, 'snipers': 1426, 'goal': 1427, 'At': 1428, 'unknown': 1429, 'A': 1430, 'physician': 1431, 'Husaybah': 1432, 'Zahid': 1433, 'Mohammed': 1434, 'Rawi': 1435, 'medical': 1436, 'workers': 1437, 'counted': 1438, '97': 1439, 'week': 1440, 'allies': 1441, 'moderate': 1442, 'Opposition': 1443, 'defend': 1444, 'inhumanity': 1445, 'savagery': 1446, 'Once': 1447, 'spends': 1448, 'much': 1449, 'rifle': 1450, 'hand': 1451, 'book': 1452, 'entire': 1453, 'sends': 1454, 'hero': 1455, 'teammates': 1456, 'Task': 1457, 'retake': 1458, 'marks': 1459, 'towards': 1460, 'clearing': 1461, 'welcomes': 1462, 'listings': 1463, 'apply': 1464, 'laboratories': 1465, 'university': 1466, 'complex': 1467, 'Bassel': 1468, '1989': 1469, 'subsequently': 1470, 'headed': 1471, 'brother': 1472, 'Bashar': 1473, 'latest': 1474, 'result': 1475, 'Buried': 1476, 'beneath': 1477, 'bomb': 1478, 'home': 1479, 'secret': 1480, 'learning': 1481, 'inspiration': 1482, 'besieged': 1483, 'Damascus': 1484, 'suburb': 1485, 'University': 1486, 'social': 1487, 'symbolism': 1488, 'teaching': 1489, 'hospitals': 1490, 'kinetic': 1491, 'events': 1492, 'occur': 1493, 'roughly': 1494, 'same': 1495, 'single': 1496, 'sometimes': 1497, 'cumulative': 1498, 'effect': 1499, 'Unfortunately': 1500, 'little': 1501, 'predominately': 1502, 'Philip': 1503, 'Hammond': 1504, 'Regional': 1505, 'governments': 1506, 'exports': 1507, 'revenue': 1508, 'sharing': 1509, 'investigate': 1510, 'whether': 1511, 'unlawful': 1512, 'airstrike': 1513, 'findings': 1514, 'One': 1515, 'man': 1516, 'spoke': 1517, 'predicted': 1518, 'could': 1519, 'fall': 1520, 'within': 1521, 'Keating': 1522, 'honorable': 1523, 'selfless': 1524, 'keeping': 1525, 'finest': 1526, 'traditions': 1527, 'certainly': 1528, 'forgotten': 1529, 'put': 1530, 'ultimately': 1531, 'terrorists': 1532, 'associated': 1533, 'solution': 1534, 'أ': 1535, 'غ': 1536, 'born': 1537, 'Badran': 1538, 'Turki': 1539, 'Hishan': 1540, 'Mazidi': 1541, 'ت': 1542, 'ه': 1543, 'ش': 1544, 'sometime': 1545, '1977': 1546, '1979': 1547, 'Sunni': 1548, 'militant': 1549, 'active': 1550, 'Qaeda': 1551, 'Rawah': 1552, 'All': 1553, 'know': 1554, 'she': 1555, 'majority': 1556, 'places': 1557, 'collecting': 1558, 'very': 1559, 'dangerous': 1560, 'relationship': 1561, 'identifies': 1562, 'some': 1563, 'response': 1564, 'protracted': 1565, 'crises': 1566, 'might': 1567, 'strengthened': 1568, 'resolution': 1569, 'timetable': 1570, 'intends': 1571, 'hold': 1572, 'halls': 1573, 'varying': 1574, 'agendas': 1575, 'convey': 1576, 'useful': 1577, 'workforce': 1578, 'recommendations': 1579, 'During': 1580, 'ministers': 1581, 'announcements': 1582, 'About': 1583, '8': 1584, '000': 1585, 'population': 1586, '80': 1587, 'fled': 1588, 'host': 1589, 'Brussels': 1590, 'mid': 1591, 'find': 1592, 'ground': 1593, 'post': 1594, 'reconciliation': 1595, 'reconstruction': 1596, 'coordination': 1597, 'Geneva': 1598, 'EU': 1599, 'hosting': 1600, 'follow': 1601, 'London': 1602, 'spring': 1603, 'context': 1604, 'announcement': 1605, 'cessation': 1606, 'hostilities': 1607, 'eve': 1608, 'Year': 1609, 'welcome': 1610, 'Petty': 1611, 'Officer': 1612, 'advising': 1613, 'behind': 1614, 'rent': 1615, 'debts': 1616, 'Because': 1617, 'associations': 1618, 'planners': 1619, 'ability': 1620, 'launch': 1621, 'external': 1622, 'West': 1623, 'However': 1624, 'paid': 1625, 'minimum': 1626, 'wage': 1627, 'falsely': 1628, 'name': 1629, 'Islam': 1630, 'commit': 1631, 'again': 1632, 'slaughtered': 1633, 'Sunnis': 1634, 'claim': 1635, 'defending': 1636, 'permitting': 1637, 'journalists': 1638, '2004': 1639, 'manual': 1640, 'logo': 1641, 'address': 1642, 'Brandbergen': 1643, 'Mosque': 1644, 'spread': 1645, 'internet': 1646, 'SECRETARY': 1647, 'KERRY': 1648, 'obviously': 1649, 'talked': 1650, 'extraordinarily': 1651, 'dire': 1652, 'exchanged': 1653, 'ideas': 1654, 'intend': 1655, 'connect': 1656, 'see': 1657, '2013': 1658, '700': 1659, 'domains': 1660, 'registered': 1661, 'mostly': 1662, 'hosted': 1663, 'servers': 1664, 'IP': 1665, 'addresses': 1666, 'assigned': 1667, 'Computer': 1668, 'Society': 1669, 'DNS': 1670, 'operator': 1671, 'Network': 1672, 'Solutions': 1673, 'domain': 1674, 'names': 1675, 'marked': 1676, 'OFAC': 1677, 'Holding': 1678, 'believed': 1679, 'reference': 1680, 'federal': 1681, 'Assets': 1682, 'Control': 1683, 'So': 1684, 'too': 1685, 'expected': 1686, 'if': 1687, 'months': 1688, 'depending': 1689, 'how': 1690, 'resistance': 1691, 'Saturday': 1692, 'shot': 1693, 'dead': 1694, 'children': 1695, 'Rufaila': 1696, 'trailing': 1697, 'village': 1698, 'forced': 1699, 'area': 1700, 'keep': 1701, 'pushing': 1702, 'credibility': 1703, 'necessary': 1704, 'decorated': 1705, 'bravery': 1706, 'defense': 1707, 'island': 1708, 'posted': 1709, 'Basra': 1710, 'excluded': 1711, 'commands': 1712, 'refused': 1713, 'stop': 1714, '1991': 1715, 'Shiite': 1716, 'uprising': 1717, 'Strengthen': 1718, 'relationships': 1719, 'congratulate': 1720, 'standing': 1721, 'disagreement': 1722, 'underlined': 1723, 'commitment': 1724, 'give': 1725, 'future': 1726, 'Abboud': 1727, 'ع': 1728, 'ق': 1729, 'Haidar': 1730, 'Strike': 1731, 'assessments': 1732, 'initial': 1733, 'MR': 1734, 'KIRBY': 1735, 'Thanks': 1736, 'everybody': 1737, 'exchanging': 1738, 'Committee': 1739, 'retaking': 1740, 'reassigned': 1741, 'Tabqa': 1742, 'try': 1743, 'improve': 1744, 'defenses': 1745, 'Democratic': 1746, 'pursue': 1747, 'indiscriminate': 1748, 'sustained': 1749, 'immediate': 1750, 'lasting': 1751, 'negotiating': 1752, 'table': 1753, 'spokesman': 1754, 'My': 1755, 'thoughts': 1756, 'sees': 1757, 'framework': 1758, 'European': 1759, 'Union': 1760, 'Initiative': 1761, 'Representative': 1762, 'Federica': 1763, 'Mogherini': 1764, 'initiative': 1765, 'identify': 1766, 'arrangements': 1767, 'Before': 1768, 'couldn': 1769, 'easily': 1770, 'then': 1771, 'vast': 1772, 'feel': 1773, 'choice': 1774, 'carry': 1775, 'antiquity': 1776, 'mountains': 1777, 'region': 1778, 'Babylonia': 1779, 'Assyria': 1780, 'north': 1781, 'advance': 1782, '2016': 1783, 'main': 1784, 'dam': 1785, 'divert': 1786, 'floodwater': 1787, 'Tigris': 1788, 'River': 1789, 'Lake': 1790, 'Tharthar': 1791, 'depression': 1792, 'irrigation': 1793, '84': 1794, 'MW': 1795, 'hydro': 1796, 'electricity': 1797, 'Ultimately': 1798, 'free': 1799, 'deny': 1800, 'haven': 1801, 'plot': 1802, 'offer': 1803, 'sincere': 1804, 'recover': 1805, 'quickly': 1806, 'Fialaka': 1807, 'briefly': 1808, 'transferred': 1809, 'confront': 1810, 'violence': 1811, 'represents': 1812, 'strategy': 1813, 'succeeding': 1814, 'April': 1815, 'Barrage': 1816, 'saw': 1817, '120': 1818, 'senior': 1819, 'senseless': 1820, 'camp': 1821, 'example': 1822, 'finished': 1823, 'others': 1824, 'realignment': 1825, 'partially': 1826, 'designed': 1827, 'maintenance': 1828, 'starvation': 1829, 'method': 1830, 'combat': 1831, 'besiegement': 1832, 'populated': 1833, 'unacceptable': 1834, 'proud': 1835, 'supported': 1836, 'despite': 1837, 'propaganda': 1838, 'losing': 1839, 've': 1840, 'outset': 1841, 'different': 1842, 'elements': 1843, 'operating': 1844, 'Qamenas': 1845, 'Sarmin': 1846, 'Talamenes': 1847, 'demonstrate': 1848, 'cruel': 1849, 'barbarity': 1850, 'him': 1851, 'maestro': 1852, 'chapters': 1853, 'words': 1854, 'God': 1855, 'person': 1856, 'contrast': 1857, 'Black': 1858, 'Book': 1859, 'records': 1860, 'third': 1861, 'meet': 1862, 'Armed': 1863, 'Popular': 1864, 'Mobilization': 1865, 'reason': 1866, 'impossible': 1867, 'conducting': 1868, 'interviews': 1869, 'interrupted': 1870, 'shattering': 1871, 'explosions': 1872, 'loud': 1873, 'distort': 1874, 'studio': 1875, 'speakers': 1876, 'utterly': 1877, 'dependent': 1878, 'Russian': 1879, 'caused': 1880, 'tragic': 1881, 'QUESTION': 1882, 'Kerry': 1883, '20': 1884, 'since': 1885, 'Oct': 1886, '17': 1887, 'mourn': 1888, 'loss': 1889, 'own': 1890, 'Warfare': 1891, 'Operator': 1892, 'Class': 1893, 'Charles': 1894, 'H': 1895, 'IV': 1896, 'northern': 1897, 'progress': 1898, 'liberating': 1899, 'neighborhoods': 1900, 'included': 1901, 'nephews': 1902, 'wives': 1903, 'Abadi': 1904, 'recent': 1905, 'delighted': 1906, 'FS': 1907, 'Forbin': 1908, 'CTF': 1909, 'maritime': 1910, 'Burns': 1911, 'child': 1912, 'visits': 1913, 'lives': 1914, 'door': 1915, 'Deter': 1916, 'state': 1917, 'aggression': 1918, 'Huwayjah': 1919, 'disabled': 1920, 'bridges': 1921, 'completed': 1922, '1956': 1923, 'German': 1924, 'company': 1925, 'Züblin': 1926, 'responds': 1927, 'tell': 1928, 'myself': 1929, '!': 1930, 'art': 1931, 'space': 1932, 'young': 1933, 'poets': 1934, 'painters': 1935, 'musicians': 1936, 'Israeli': 1937, 'previously': 1938, 'neither': 1939, 'confirmed': 1940, 'nor': 1941, 'carries': 1942, 'Whether': 1943, 'deliberate': 1944, 'accidental': 1945, 'indefensible': 1946, 'ten': 1947, 'vital': 1948, 'vulnerable': 1949, 'linked': 1950, 'various': 1951, 'axes': 1952, 'into': 1953, 'mentioned': 1954, 'ISF': 1955, 'job': 1956, 'easier': 1957, 'Cook': 1958, 'Additionally': 1959, 'coordinated': 1960, 'rocket': 1961, 'defeating': 1962, 'patience': 1963, 'win': 1964, 'appalled': 1965, 'hundreds': 1966, 'ill': 1967, 'treatment': 1968, 'recruitment': 1969, 'executioners': 1970, 'thought': 1971, 'shipments': 1972, 'intended': 1973, 'Hezbollah': 1974, 'movement': 1975, 'times': 1976, 'civil': 1977, '2011': 1978, 'doesn': 1979, 'real': 1980, 'FCO': 1981, 'budget': 1982, 'deal': 1983, 'issue': 1984, 'allocations': 1985, 'Speaking': 1986, '12': 1987, 'guarantors': 1988, 'influence': 1989, 'ensure': 1990, 'adhered': 1991, 'reaches': 1992, 'desperate': 1993, 'images': 1994, 'flagrant': 1995, 'disregard': 1996, 'splashed': 1997, 'basis': 1998, 'eight': 1999, 'assistance': 2000, 'pleased': 2001, 'range': 2002, 'organisations': 2003, 'learn': 2004, 'specific': 2005, 'legal': 2006, 'requirements': 2007, 'policy': 2008, 'considerations': 2009, 'benefit': 2010, 'sovereign': 2011, 'loan': 2012, 'guarantee': 2013, 'More': 2014, 'million': 2015, 'central': 2016, 'water': 2017, 'enlightened': 2018, 'brain': 2019, 'fed': 2020, 'soul': 2021, 'replies': 2022, 'detailed': 2023, 'discussion': 2024, 'needed': 2025, 'momentum': 2026, 'lines': 2027, 'counterterrorist': 2028, 'financing': 2029, 'messaging': 2030, 'stabilization': 2031, 'Hibhib': 2032, 'Village': 2033, 'located': 2034, 'km': 2035, '0': 2036, 'mi': 2037, 'Baquba': 2038, 'displays': 2039, 'type': 2040, 'perpetrated': 2041, 'tens': 2042, 'thousands': 2043, 'affirms': 2044, 'Last': 2045, 'month': 2046, 'simplify': 2047, 'rules': 2048, 'origin': 2049, 'factories': 2050, 'exporting': 2051, 'reiterate': 2052, 'democratic': 2053, 'particular': 2054, 'education': 2055, 'painful': 2056, 'dangers': 2057, 'uniform': 2058, 'Staff': 2059, 'Sgt': 2060, 'Albert': 2061, 'Connelly': 2062, 'crew': 2063, 'chief': 2064, 'Abel': 2065, 'Battery': 2066, 'classes': 2067, 'systems': 2068, 'machines': 2069, 'showcased': 2070, 'raised': 2071, 'flag': 2072, 'Tikrit': 2073, 'Established': 2074, 'professional': 2075, 'actions': 2076, 'Qaida': 2077, 'firmly': 2078, 'closely': 2079, 'NATO': 2080, 'bilaterally': 2081, 'threats': 2082, 'stability': 2083, 'Mr': 2084, 'Ukraine': 2085, 'continued': 2086, 'Minsk': 2087, 'agreements': 2088, 'stressed': 2089, 'sustainable': 2090, 'Eastern': 2091, 'NAVCENT': 2092, 'responsible': 2093, 'approximately': 2094, 'square': 2095, 'Arabian': 2096, 'Oman': 2097, 'North': 2098, 'Sea': 2099, 'Aden': 2100, 'Red': 2101, 'Thames': 2102, 'deliver': 2103, 'remarks': 2104, 'religious': 2105, 'minorities': 2106, 'G': 2107, 'Interfaith': 2108, 'Conference': 2109, 'pledged': 2110, 'ease': 2111, 'regulations': 2112, 'Does': 2113, 'constitute': 2114, 'violation': 2115, 'reservoir': 2116, 'design': 2117, 'capacity': 2118, '150': 2119, 'm3': 2120, '121': 2121, '607': 2122, 'acre': 2123, '·': 2124, 'ft': 2125, 'sediment': 2126, 'Belgium': 2127, 'cases': 2128, 'shell': 2129, 'homes': 2130, 'Terrestrial': 2131, 'broadcasting': 2132, '64': 2133, 'UHF': 2134, 'NileSat': 2135, '102': 2136, 'authorities': 2137, 'experimenting': 2138, 'possibility': 2139, 'presence': 2140, 'boost': 2141, 'sluggish': 2142, 'economy': 2143, 'sun': 2144, 'baked': 2145, 'field': 2146, 'Ramtha': 2147, 'weave': 2148, 'rows': 2149, 'green': 2150, 'peppers': 2151, 'ancient': 2152, 'tragedy': 2153, 'terrible': 2154, 'vandalism': 2155, 'expressed': 2156, 'desire': 2157, 'attracts': 2158, 'retains': 2159, 'best': 2160, 'fully': 2161, 'enabled': 2162, 'develop': 2163, 'Our': 2164, 'policies': 2165, 'ordinary': 2166, 'exercising': 2167, 'fundamental': 2168, 'freedoms': 2169, 'expression': 2170, 'assembly': 2171, 'association': 2172, 'preventing': 2173, 'goods': 2174, 'services': 2175, 'repressive': 2176, 'regimes': 2177, 'player': 2178, 'dealing': 2179, 'swift': 2180, 'results': 2181, 'September': 2182, 'az': 2183, 'Zawr': 2184, 'record': 2185, 'open': 2186, 'special': 2187, 'regard': 2188, 'offensive': 2189, 'kill': 2190, 'allow': 2191, 'relief': 2192, 'supplies': 2193, 'solely': 2194, 'comply': 2195, 'completely': 2196, 'aimed': 2197, 'ending': 2198, 'chance': 2199, 'succeed': 2200, 'never': 2201, 'unite': 2202, 'series': 2203, 'operatives': 2204, 'northwestern': 2205, 'Idlib': 2206, 'Peter': 2207, 'reporters': 2208, 'television': 2209, 'Brig': 2210, 'Richard': 2211, 'Tex': 2212, 'Coe': 2213, 'investigating': 2214, 'present': 2215, 'aim': 2216, 'limiting': 2217, 'resupply': 2218, 'reinforce': 2219, 'east': 2220, 'Named': 2221, 'Commanders': 2222, 'hardened': 2223, 'sweep': 2224, 'hence': 2225, 'steel': 2226, 'curtain': 2227, 'SNCOs': 2228, 'Pittsburgh': 2229, 'Steelers': 2230, 'fan': 2231, 'run': 2232, 'agency': 2233, 'Sana': 2234, 'Mezzeh': 2235, 'airport': 2236, 'ambulances': 2237, 'rushing': 2238, 'scene': 2239, 'Over': 2240, 'Global': 2241, 'launched': 2242, 'back': 2243, '%': 2244, 'scenarios': 2245, 'developed': 2246, 'cyber': 2247, 'battlespace': 2248, 'management': 2249, 'Many': 2250, 'comrades': 2251, 'mini': 2252, 'libraries': 2253, 'adding': 2254, 'spaced': 2255, '50m': 2256, 'collection': 2257, 'borrowed': 2258, 'Elite': 2259, 'troops': 2260, 'entered': 2261, 'Friday': 2262, 'major': 2263, 'though': 2264, 'defences': 2265, 'most': 2266, 'negotiated': 2267, 'peace': 2268, 'united': 2269, 'rebuild': 2270, 'conditions': 2271, 'want': 2272, 'cowardly': 2273, 'Istanbul': 2274, 'secretary': 2275, 'Please': 2276, 'your': 2277, 'prayers': 2278, 'join': 2279, 'expressing': 2280, 'thanks': 2281, 'selflessly': 2282, 'Alzoubi': 2283, 'total': 2284, '922': 2285, 'Ambassador': 2286, 'Robert': 2287, 'Ford': 2288, 'consultations': 2289, 'Washington': 2290, 'returning': 2291, 'officially': 2292, 'Haninge': 2293, 'Municipality': 2294, 'Stockholm': 2295, 'Sweden': 2296, 'With': 2297, 'assessed': 2298, 'documented': 2299, 'emergency': 2300, 'undertaken': 2301, 'schools': 2302, 'restoring': 2303, 'society': 2304, 'accountable': 2305, 'opposition': 2306, 'respects': 2307, 'rule': 2308, 'Nations': 2309, 'demonstrated': 2310, 'essential': 2311, 'shocking': 2312, 'proof': 2313, 'methods': 2314, 'injure': 2315, 'National': 2316, 'Symphony': 2317, 'Orchestra': 2318, 'left': 2319, 'redoubles': 2320, 'condemning': 2321, 'relentlessly': 2322, 'combating': 2323, 'enormously': 2324, 'grateful': 2325, 'tremendous': 2326, 'especially': 2327, 'Turks': 2328, 'setting': 2329, 'self': 2330, 'proclaimed': 2331, 'influx': 2332, 'Europe': 2333, 'partly': 2334, 'resulted': 2335, 'cuts': 2336, 'food': 2337, 'cash': 2338, 'payments': 2339, 'Monday': 2340, 'Kuwaiti': 2341, 'gang': 2342, 'leader': 2343, 'struck': 2344, 'Who': 2345, 'say': 2346, 'paths': 2347, 'gains': 2348, 'river': 2349, 'western': 2350, 'seeking': 2351, 'Donors': 2352, 'dependence': 2353, 'handouts': 2354, 'authorized': 2355, 'reward': 2356, '$': 2357, 'leading': 2358, 'disruption': 2359, 'sale': 2360, 'antiquities': 2361, 'acronym': 2362, 'DAESH': 2363, 'reiterates': 2364, 'organisation': 2365, 'allegedly': 2366, 'beaten': 2367, 'sticks': 2368, 'butts': 2369, '25': 2370, 'hire': 2371, 'Egyptians': 2372, 'dinars': 2373, '£': 2374, 'hour': 2375, 'touch': 2376, 'renders': 2377, 'stabilisation': 2378, 'planning': 2379, 'forthcoming': 2380, 'civic': 2381, 'interfaith': 2382, 'Lebanese': 2383, 'plight': 2384, 'minority': 2385, 'refugee': 2386, 'populations': 2387, 'coming': 2388, 'powered': 2389, 'carrier': 2390, 'de': 2391, 'Gaulle': 2392, 'belonged': 2393, 'supporters': 2394, 'Electronic': 2395, 'Hollande': 2396, 'Working': 2397, 'enjoyable': 2398, 'extremely': 2399, 'knowledgeable': 2400, 'Resolution': 2401, '2254': 2402, 'commitments': 2403, 'facilitate': 2404, 'donor': 2405, 'countries': 2406, 'projects': 2407, 'sectors': 2408, 'health': 2409, 'agriculture': 2410, 'waste': 2411, 'convoys': 2412, 'wouldn': 2413, 'sense': 2414, 'spend': 2415, 'rather': 2416, 'anti': 2417, 'frigate': 2418, 'Naval': 2419, 'exclusive': 2420, 'broadcast': 2421, 'movies': 2422, 'documentaries': 2423, 'musicals': 2424, 'entertainment': 2425, 'sports': 2426, 'shows': 2427, 'reinforces': 2428, 'fears': 2429, 'shields': 2430, '650': 2431, 'refugees': 2432, 'everyone': 2433, 'turned': 2434, 'backs': 2435, 'allows': 2436, 'imported': 2437, 'raw': 2438, 'materials': 2439, 'products': 2440, 'labelled': 2441, 'duty': 2442, 'problem': 2443, 'departed': 2444, 'Sarmada': 2445, 'facilitating': 2446, 'bolsters': 2447, 'economic': 2448, 'institutional': 2449, 'reforms': 2450, 'consolidating': 2451, 'foundation': 2452, 'growth': 2453, 'Down': 2454, 'flight': 2455, 'steep': 2456, 'far': 2457, 'flying': 2458, 'shrapnel': 2459, 'shelling': 2460, 'above': 2461, 'dimly': 2462, 'lit': 2463, 'condemnation': 2464, 'Tal': 2465, 'Afar': 2466, 'UAV': 2467, 'appalling': 2468, 'incidents': 2469, 'Vienna': 2470, 'Riyadh': 2471, 'Support': 2472, 'constructive': 2473, 'auspices': 2474, 'regarding': 2475, 'accordance': 2476, 'Communique': 2477, '2012': 2478, 'implemented': 2479, 'unhindered': 2480, 'countrywide': 2481, 'renewal': 2482, 'intra': 2483, 'respect': 2484, 'intermediate': 2485, 'facilitated': 2486, 'players': 2487, 'Astana': 2488, 'inclusive': 2489, 'preparing': 2490, 'fruitful': 2491, 'meaningful': 2492, 'resumption': 2493, 'To': 2494, 'spoken': 2495, 'Mevl': 2496, 'ü': 2497, 'Ç': 2498, 'avu': 2499, 'ş': 2500, 'o': 2501, 'ğ': 2502, 'lu': 2503, 'Envoy': 2504, 'Staffan': 2505, 'Mistura': 2506, 'coordinate': 2507, 'half': 2508, 'empower': 2509, 'provincial': 2510, 'councils': 2511, 'activists': 2512, 'responders': 2513, 'needs': 2514, 'period': 2515, 'Knox': 2516, 'Saperstein': 2517, 'Religious': 2518, 'Minorities': 2519, 'South': 2520, 'Asia': 2521, '16': 2522, 'imperative': 2523, 'Throughout': 2524, 'phase': 2525, 'continually': 2526, 'consult': 2527, 'seizure': 2528, 'governance': 2529, 'defeated': 2530, 'big': 2531, 'Ibrahim': 2532, 'Jaafari': 2533, 'force': 2534, 'personnel': 2535, 'tribesmen': 2536, 'militiamen': 2537, 'awaited': 2538, 'Federal': 2539, 'Haider': 2540, 'represented': 2541, 'Nechirvan': 2542, 'Barzani': 2543, 'aided': 2544, 'strong': 2545, 'ally': 2546, 'breach': 2547, 'resolutions': 2548, 'westernmost': 2549, 'ripple': 2550, 'Zagros': 2551, 'Hamrin': 2552, 'Diyala': 2553, 'Province': 2554, 'bordering': 2555, 'Salah': 2556, 'ad': 2557, 'Din': 2558, 'southern': 2559, 'Also': 2560, 'commented': 2561, 'fires': 2562, 'casualties': 2563, 'Declaring': 2564, 'criminal': 2565, 'code': 2566, 'follows': 2567, 'declaration': 2568, '2014': 2569, 'joint': 2570, 'Calais': 2571, 'Wasifi': 2572, 'studying': 2573, 'music': 2574, 'slipped': 2575, 'artists': 2576, 'iron': 2577, 'fist': 2578, 'greatest': 2579, 'challenge': 2580, 'encountered': 2581, 'hid': 2582, 'Spc': 2583, 'airdrops': 2584, 'saving': 2585, 'underscores': 2586, 'importance': 2587, 'adopted': 2588, '2328': 2589, 'moved': 2590, 'farmland': 2591, 'even': 2592, 'outlying': 2593, 'residential': 2594, 'transplant': 2595, 'physiotherapy': 2596, 'rehabilitation': 2597, 'Ishtar': 2598, 'Gate': 2599, 'cooperative': 2600, 'venture': 2601, 'Future': 2602, 'Babylon': 2603, 'project': 2604, 'partnership': 2605, '2009': 2606, 'Governments': 2607, 'WMF': 2608, 'assess': 2609, 'document': 2610, 'preserve': 2611, 'approval': 2612, 'Whilst': 2613, 'interim': 2614, 'positive': 2615, 'demonstrates': 2616, 'ready': 2617, 'negotiate': 2618, 'good': 2619, 'faith': 2620, 'Reserve': 2621, 'Airmen': 2622, 'mix': 2623, 'professionals': 2624, 'Tinker': 2625, 'helped': 2626, 'mature': 2627, 'things': 2628, 'increase': 2629, '59': 2630, 'flee': 2631, 'brutality': 2632, 'swiftly': 2633, 'form': 2634, 'constitutional': 2635, 'frame': 2636, 'integration': 2637, 'integrated': 2638, 'task': 2639, 'Royal': 2640, 'Shakespeare': 2641, 'style': 2642, 'writing': 2643, 'simply': 2644, 'beautiful': 2645, 'Victorious': 2646, 'Sect': 2647, 'constituent': 2648, 'Monotheism': 2649, 'Supporters': 2650, 'Brigades': 2651, 'Saray': 2652, 'Jihad': 2653, 'Ghuraba': 2654, 'Ahwal': 2655, 'reaffirms': 2656, 'struggle': 2657, 'Chapter': 2658, 'contains': 2659, 'warning': 2660, 'outsiders': 2661, 'enunciates': 2662, 'doctrine': 2663, 'concerning': 2664, 'corruption': 2665, 'holy': 2666, 'similar': 2667, 'Muslims': 2668, 'Since': 2669, 'responded': 2670, '135': 2671, 'volunteers': 2672, 'whose': 2673, 'studies': 2674, 'brought': 2675, 'halt': 2676, 'collected': 2677, 'imaginable': 2678, 'started': 2679, 'cultivate': 2680, 'land': 2681, 'COI': 2682, 'allowed': 2683, 'gathering': 2684, 'evidence': 2685, 'perpetrators': 2686, 'abuses': 2687, 'crimes': 2688, 'account': 2689, 'date': 2690, 'Men': 2691, 'Women': 2692, '407th': 2693, 'AEG': 2694, 'destroy': 2695, 'Lyons': 2696, 'storage': 2697, 'When': 2698, 'reduced': 2699, 'Be': 2700, 'doubt': 2701, 'destroying': 2702, 'scourge': 2703, 'threatens': 2704, 'Board': 2705, 'Inquiry': 2706, 'convoy': 2707, 'attacked': 2708, 'making': 2709, 'That': 2710, 'striking': 2711, 'interests': 2712, 'dialogue': 2713, 'gave': 2714, 'wants': 2715, 'stiffened': 2716, 'determination': 2717, 'basic': 2718, 'values': 2719, 'basement': 2720, 'bombs': 2721, 'Ahmad': 2722, 'engineering': 2723, 'student': 2724, 'founders': 2725, 'Revelation': 2726, 'order': 2727, 'decreasing': 2728, 'length': 2729, 'honest': 2730, 'became': 2731, 'obsessed': 2732, 'Hamlet': 2733, 'limits': 2734, 'conduct': 2735, 'persecuted': 2736, '63': 2737, 'poisonous': 2738, 'extended': 2739, 'opening': 2740, 'Thomas': 2741, 'Work': 2742, '2017': 2743, 'emerged': 2744, 'showing': 2745, 'aircrew': 2746, 'dropping': 2747, 'barrel': 2748, 'helicopters': 2749, 'buy': 2750, 'suit': 2751, 'Rupert': 2752, 'Colville': 2753, 'Tuesday': 2754, 'receive': 2755, 'depredations': 2756, 'male': 2757, 'justice': 2758, 'Christophe': 2759, 'Cluzel': 2760, 'll': 2761, 'sitting': 2762, 'watching': 2763, 'shelled': 2764, 'thinking': 2765, 'Why': 2766, 'Sometimes': 2767, 'hear': 2768, 'someone': 2769, 'injuries': 2770, 'die': 2771, 'Then': 2772, 'Jaish': 2773, 'Ta': 2774, 'ifa': 2775, 'Mansurah': 2776, 'ط': 2777, 'ئ': 2778, 'ص': 2779, 'Jaysh': 2780, 'ṭ': 2781, 'Ṭ': 2782, 'ā': 2783, 'Man': 2784, 'ṣ': 2785, 'ū': 2786, 'rah': 2787, 'request': 2788, 'DFAT': 2789, 'Branch': 2790, 'ODE': 2791, 'evaluation': 2792, 'examining': 2793, 'effectiveness': 2794, 'Northern': 2795, 'Rabiyah': 2796, 'Zumar': 2797, 'broken': 2798, 'Yazidis': 2799, 'Mount': 2800, 'pushed': 2801, 'Kobane': 2802, 'representatives': 2803, 'USCENTCOM': 2804, 'components': 2805, 'decisive': 2806, 'huge': 2807, 'among': 2808, 'carpenter': 2809, 'complies': 2810, 'Law': 2811, 'Conflict': 2812, 'feasible': 2813, 'precautions': 2814, 'execution': 2815, 'harm': 2816, 'non': 2817, 'combatants': 2818, 'Although': 2819, 'overdue': 2820, 'relieve': 2821, '40': 2822, 'update': 2823, 'Truly': 2824, 'swear': 2825, 'holds': 2826, 'hearts': 2827, 'system': 2828, 'Instead': 2829, 'enthusiasm': 2830, 'familiar': 2831, 'Frequency': 2832, '12130': 2833, 'MHZ': 2834, 'Polarization': 2835, 'Vertical': 2836, 'Symbol': 2837, 'Mb': 2838, 'FEC': 2839, 'HotBird': 2840, '°': 2841, 'Transponder': 2842, '77': 2843, '245': 2844, 'MHz': 2845, 'Horizontal': 2846, 'Rate': 2847, '500': 2848, 'M': 2849, 'difference': 2850, 'deterioration': 2851, 'setback': 2852, 'change': 2853, 'fundamentals': 2854, 'Antony': 2855, 'Manama': 2856, 'Dialogue': 2857, '100': 2858, 'everywhere': 2859, 'focused': 2860, 'prosperity': 2861, 'popular': 2862, 'writers': 2863, 'poet': 2864, 'playwright': 2865, 'Ahmed': 2866, 'Shawqi': 2867, 'Prince': 2868, 'Poets': 2869, 'author': 2870, 'Tanawi': 2871, 'chronicled': 2872, 'rebellions': 2873, 'march': 2874, 'dozens': 2875, 'villages': 2876, 'Exercise': 2877, 'Eager': 2878, 'Lion': 2879, 'consist': 2880, 'simulated': 2881, 'partnered': 2882, 'conventional': 2883, 'unconventional': 2884, 'advise': 2885, 'SAC': 2886, 'considers': 2887, 'efficacy': 2888, 'diplomatic': 2889, 'hunger': 2890, 'stalks': 2891, 'streets': 2892, 'interest': 2893, 'body': 2894, 'fear': 2895, 'attackers': 2896, 'knew': 2897, '350': 2898, 'Rahman': 2899, 'Farms': 2900, 'conveyed': 2901, 'Jubeir': 2902, 'appreciate': 2903, 'convening': 2904, 'broad': 2905, 'representative': 2906, '116': 2907, 'participants': 2908, 'structure': 2909, 'represent': 2910, 'Dayton': 2911, 'mortally': 2912, 'Ayn': 2913, 'Issa': 2914, 'according': 2915, 'original': 2916, 'text': 2917, 'kept': 2918, 'Yazidi': 2919, 'Ba': 2920, 'idn': 2921, 'Qasr': 2922, 'tzz': 2923, 'clarify': 2924, 'repeat': 2925, 'revenge': 2926, 'escape': 2927, 'treat': 2928, 'suspected': 2929, 'capture': 2930, 'grow': 2931, 'Attribution': 2932, 'Spokesperson': 2933, 'Kirby': 2934, 'Tel': 2935, 'Tamer': 2936, 'Hasaka': 2937, 'scores': 2938, 'marketplace': 2939, 'healthcare': 2940, 'spent': 2941, 'savings': 2942, 'wife': 2943, 'March': 2944, 'Summit': 2945, 'Amiens': 2946, 'His': 2947, 'permit': 2948, 'describes': 2949, 'doing': 2950, 'low': 2951, 'skilled': 2952, 'fleeting': 2953, 'moment': 2954, 'story': 2955, 'calling': 2956, 'ever': 2957, 'broke': 2958, 'Ar': 2959, 'loader': 2960, 'prompted': 2961, 'Passcode': 2962, '3080897': 2963, 'forefront': 2964, '1bn': 2965, 'displaced': 2966, 'neighbouring': 2967, 'Such': 2968, 'focus': 2969, 'shared': 2970, 'killing': 2971, 'injuring': 2972, '200': 2973, 'Today': 2974, '35': 2975, 'Sergei': 2976, 'Lavrov': 2977, 'earlier': 2978, 'margins': 2979, 'UNGA': 2980, 'York': 2981, 'appointed': 2982, 'permits': 2983, 'Dae': 2984, 'sh': 2985, 'dual': 2986, 'commercial': 2987, 'Sinek': 2988, 'neighborhood': 2989, '28': 2990, 'better': 2991, 'heart': 2992, 'procedure': 2993, 'shouldn': 2994, 'eat': 2995, 'Her': 2996, 'bonds': 2997, 'interoperability': 2998, 'Coordinates': 2999, '33': 3000, '′': 3001, '21': 3002, '″': 3003, 'N': 3004, '36': 3005, 'E': 3006, '505716': 3007, '269635': 3008, 'packed': 3009, 'latter': 3010, 'commanded': 3011, 'garrison': 3012, 'Failaka': 3013, 'prisoner': 3014, 'survived': 3015, 'jumping': 3016, 'window': 3017, 'calm': 3018, 'governed': 3019, 'Constitution': 3020, 'regained': 3021, 'salaries': 3022, 'aren': 3023, 'enough': 3024, 'isn': 3025, 'sister': 3026, 'plane': 3027, '300m': 3028, '984ft': 3029, 'shortly': 3030, 'Besides': 3031, 'identifying': 3032, 'scope': 3033, 'credible': 3034, 'Were': 3035, 'unclear': 3036, 'alleged': 3037, '645': 3038, 'beds': 3039, 'intensive': 3040, 'care': 3041, 'ward': 3042, 'diseases': 3043, 'confident': 3044, 'attempt': 3045, 'lot': 3046, 'chemicals': 3047, 'mitigating': 3048, 'sign': 3049, 'cowardice': 3050, 'contempt': 3051, 'sow': 3052, 'discord': 3053, 'remaining': 3054, 'parts': 3055, 'conservation': 3056, 'correct': 3057, 'modern': 3058, 'era': 3059, 'modifications': 3060, 'hasten': 3061, 'damage': 3062, 'monument': 3063, 'historically': 3064, 'accurate': 3065, 'careful': 3066, 'sights': 3067, 'anticipating': 3068, 'reaching': 3069, 'dictatorship': 3070, 'Museum': 3071, 'Embassy': 3072, 'Chargé': 3073, 'Affaires': 3074, 'ai': 3075, 'Jonathan': 3076, 'Cohen': 3077, 'Dr': 3078, 'Kamil': 3079, 'Murad': 3080, 'Acting': 3081, 'Director': 3082, 'Museums': 3083, 'Ministry': 3084, 'Culture': 3085, 'Antiquities': 3086, 'SBAH': 3087, 'funding': 3088, 'preservation': 3089, 'scheduled': 3090, '45': 3091, 'minutes': 3092, 'Immortal': 3093, 'Spirits': 3094, '22': 3095, 'Maroof': 3096, 'shopkeeper': 3097, 'worked': 3098, 'tirelessly': 3099, 'states': 3100, 'secure': 3101, 'voted': 3102, 'unanimously': 3103, 'adopt': 3104, '2249': 3105, 'condemned': 3106, 'Sousse': 3107, 'June': 3108, 'Britons': 3109, 'murdered': 3110, 'applying': 3111, 'until': 3112, 'reassesses': 3113, 'ends': 3114, 'engages': 3115, 'omnipotence': 3116, 'base': 3117, 'seizing': 3118, 'fought': 3119, 'counterattacks': 3120, 'six': 3121, 'retrograding': 3122, 'short': 3123, 'distance': 3124, 'daylight': 3125, 'late': 3126, 'evening': 3127, 'Defence': 3128, 'secures': 3129, 'Brimstone': 3130, 'sales': 3131, 'unmanned': 3132, 'moves': 3133, 'farms': 3134, 'owner': 3135, 'Jamal': 3136, 'Samarra': 3137, 'َ': 3138, 'ّ': 3139, 'ء': 3140, 'ث': 3141, 'multi': 3142, 'barrage': 3143, 'adjacent': 3144, 'west': 3145, 'counterparts': 3146, 'Ash': 3147, 'proceeding': 3148, 'planned': 3149, 'Peshmerga': 3150, 'nearest': 3151, '15km': 3152, 'Shadaddi': 3153, 'neighbourhood': 3154, 'lived': 3155, 'Accordingly': 3156, 'does': 3157, 'employed': 3158, 'dropped': 3159, 'individual': 3160, 'munition': 3161, 'impact': 3162, 'points': 3163, 'exposed': 3164, 'starving': 3165, 'dying': 3166, 'thirst': 3167, 'fleeing': 3168, 'element': 3169, 'indigenous': 3170, 'establish': 3171, 'Shi': 3172, 'ite': 3173, 'regular': 3174, 'citation': 3175, 'Badr': 3176, 'Interior': 3177, 'Doura': 3178, 'commando': 3179, 'uniforms': 3180, 'official': 3181, 'ministry': 3182, 'Membership': 3183, '2007': 3184, 'Nouri': 3185, 'Maliki': 3186, 'Operational': 3187, 'controls': 3188, 'charged': 3189, 'securing': 3190, 'brigadier': 3191, 'Amjad': 3192, 'safer': 3193, 'earned': 3194, 'librarian': 3195, 'apparent': 3196, 'summary': 3197, 'Urem': 3198, 'Kubra': 3199, 'stood': 3200, 'musician': 3201, 'played': 3202, 'piece': 3203, 'composed': 3204, 'himself': 3205, 'relieved': 3206, 'delivery': 3207, 'Madaya': 3208, 'reportedly': 3209, 'discovered': 3210, 'bodies': 3211, 'houses': 3212, 'Tuloul': 3213, 'Naser': 3214, '35km': 3215, 'affiliated': 3216, 'speaking': 3217, 'plus': 3218, 'includes': 3219, 'extraordinary': 3220, 'kilometers': 3221, 'dictated': 3222, 'terms': 3223, 'addressing': 3224, 'practical': 3225, 'national': 3226, 'murderous': 3227, 'requires': 3228, 'Isiah': 3229, 'L': 3230, 'Booker': 3231, 'Cibolo': 3232, 'Texas': 3233, 'related': 3234, 'hands': 3235, 'attempted': 3236, 'seize': 3237, 'Salem': 3238, 'escalating': 3239, 'Daraya': 3240, 'obstruction': 3241, 'progressing': 3242, '7th': 3243, 'propelled': 3244, 'grenade': 3245, 'requested': 3246, 'declined': 3247, 'planes': 3248, 'Associated': 3249, 'Ninety': 3250, 'Four': 3251, 'Citizen': 3252, 'Refueling': 3253, 'Wing': 3254, 'Incirlik': 3255, 'Base': 3256, 'KC': 3257, '135R': 3258, 'Stratotanker': 3259, 'refueling': 3260, 'Abdulbaset': 3261, 'Alahmar': 3262, '20s': 3263, 'quoted': 3264, 'saying': 3265, 'rockets': 3266, 'landed': 3267, 'Reuters': 3268, 'Independent': 3269, 'Commission': 3270, 'CoI': 3271, 'grim': 3272, 'unabated': 3273, 'torture': 3274, 'illegal': 3275, 'detentions': 3276, 'executions': 3277, 'sexual': 3278, 'echo': 3279, 'suffered': 3280, 'pressed': 3281, 'constructively': 3282, 'advanced': 3283, 'Disrupt': 3284, 'extremism': 3285, 'Presidential': 3286, 'Brett': 3287, 'McGurk': 3288, 'interagency': 3289, 'delegation': 3290, 'Berlin': 3291, 'Germany': 3292, 'false': 3293, 'passports': 3294, 'side': 3295, 'illegally': 3296, 'risked': 3297, 'deported': 3298, 'caught': 3299, 'Battle': 3300, 'constructed': 3301, 'regaining': 3302, 'launcher': 3303, '39': 3304, 'tunnels': 3305, 'disagreements': 3306, 'mean': 3307, 'normalise': 3308, 'Chief': 3309, 'Scott': 3310, 'C': 3311, '42': 3312, 'Woodbridge': 3313, 'Virginia': 3314, 'wounds': 3315, 'improvised': 3316, 'explosive': 3317, 'DoD': 3318, 'issued': 3319, 'happy': 3320, 'excellent': 3321, 'broadcasts': 3322, 'game': 3323, 'drama': 3324, 'comedy': 3325, 'starred': 3326, 'directed': 3327, 'produced': 3328, 'enterprising': 3329, 'spirit': 3330, 'rich': 3331, '01': 3332, '57': 3333, '43': 3334, '38': 3335, '47': 3336, '0325': 3337, '6463889': 3338, 'ANSWER': 3339, 'prohibited': 3340, 'Executive': 3341, 'Order': 3342, '13582': 3343, 'license': 3344, 'Treasury': 3345, 'oppressive': 3346, 'Again': 3347, 'thank': 3348, 'demanded': 3349, 'monitor': 3350, 'evacuations': 3351, 'opted': 3352, 'require': 3353, 'flexibility': 3354, 'compromise': 3355, 'benefits': 3356, 'responding': 3357, 'urgent': 3358, 'welcoming': 3359, 'contributing': 3360, 'fund': 3361, 'established': 3362, 'resettlement': 3363, 'consistent': 3364, 'obligations': 3365, 'Explosive': 3366, 'Ordnance': 3367, 'Disposal': 3368, 'Mobile': 3369, 'Unit': 3370, 'Two': 3371, 'Beach': 3372, 'view': 3373, 'Resolutions': 3374, '2118': 3375, 'begun': 3376, 'Yes': 3377, 'remember': 3378, 'replied': 3379, 'factory': 3380, 'currently': 3381, 'growing': 3382, 'BAGHDAD': 3383, 'protective': 3384, 'masks': 3385, 'preparation': 3386, 'shorter': 3387, 'ARW': 3388, 'deploying': 3389, 'contingent': 3390, 'wing': 3391, 'summer': 3392, 'You': 3393, 'Secret': 3394, 'Library': 3395, 'Radio': 3396, 'Crossing': 3397, 'Continents': 3398, '11am': 3399, 'July': 3400, '2001': 3401, 'grip': 3402, 'few': 3403, 'Marea': 3404, 'norms': 3405, 'seeing': 3406, 'heartbreaking': 3407, 'implementing': 3408, 'reform': 3409, 'agenda': 3410, 'promises': 3411, 'count': 3412, 'Photographs': 3413, 'shown': 3414, 'wearing': 3415, 'patches': 3416, 'YPG': 3417, 'circulated': 3418, 'traditional': 3419, 'frontline': 3420, '6km': 3421, 'rooms': 3422, 'suitable': 3423, 'laparoscopic': 3424, 'computerized': 3425, 'divides': 3426, 'adopts': 3427, 'Liberal': 3428, 'perspective': 3429, 'whilst': 3430, 'maintaining': 3431, 'refuting': 3432, 'repression': 3433, 'autocracy': 3434, 'Ninewa': 3435, 'declared': 3436, 'designated': 3437, '119': 3438, 'Criminal': 3439, 'Code': 3440, 'trucks': 3441, 'jacks': 3442, 'excavator': 3443, 'described': 3444, 'simple': 3445, 'Swedish': 3446, 'citizen': 3447, 'Mohamed': 3448, 'Moumou': 3449, 'uncontested': 3450, 'extremist': 3451, 'centered': 3452, '1267': 3453, 'list': 3454, 'contributed': 3455, 'depravity': 3456, 'Rewards': 3457, 'Justice': 3458, 'disrupt': 3459, 'thousand': 3460, 'actual': 3461, 'core': 3462, 'texts': 3463, 'religion': 3464, 'exist': 3465, 'hymns': 3466, 'qewl': 3467, 'What': 3468, 'conductor': 3469, 'famed': 3470, 'composer': 3471, 'arts': 3472, 'activist': 3473, 'biggest': 3474, '9': 3475, 'billion': 3476, 'euros': 3477, 'trained': 3478, 'calls': 3479, 'monitoring': 3480, 'draws': 3481, 'aside': 3482, 'Bayji': 3483, 'runs': 3484, 'Each': 3485, 'asked': 3486, 'themselves': 3487, 'affiliation': 3488, 'recording': 3489, 'automatically': 3490, 'connected': 3491, 'Elsewhere': 3492, 'thrown': 3493, 'published': 3494, 'welcomed': 3495, 'unanimous': 3496, 'adoption': 3497, 'warring': 3498, 'assemble': 3499, 'review': 3500, 'strategize': 3501, 'demise': 3502, 'updated': 3503, 'crackdown': 3504, 'relatively': 3505, 'rejected': 3506, 'Mohan': 3507, 'Freiji': 3508, 'premiere': 3509, 'exercises': 3510, 'Hashemite': 3511, 'program': 3512, 'offering': 3513, 'rewards': 3514, 'hall': 3515, 'restaurant': 3516, 'gyms': 3517, 'baths': 3518, 'meant': 3519, 'serve': 3520, 'condemn': 3521, 'strongest': 3522, 'weekend': 3523, 'Najaf': 3524, 'Even': 3525, 'heat': 3526, 'armed': 3527, 'avoid': 3528, 'harming': 3529, 'Lama': 3530, 'Fakih': 3531, 'theater': 3532, '5th': 3533, 'Fleet': 3534, 'proposed': 3535, 'invited': 3536, 'her': 3537, 'Fort': 3538, 'Campbell': 3539, 'Kentucky': 3540, 'Homs': 3541, 'ABlinken': 3542, 'Flickr': 3543, 'Instagram': 3544, 'updates': 3545, 'trip': 3546, 'achieved': 3547, 'Questions': 3548, '1988': 3549, 'Higher': 3550, 'Education': 3551, 'excited': 3552, 'generate': 3553, 'execute': 3554, 'airpower': 3555, 'expeditionary': 3556, 'squadron': 3557, 'David': 3558, 'plans': 3559, 'deployed': 3560, 'deployments': 3561, 'fronts': 3562, 'militarily': 3563, 'cutting': 3564, 'reducing': 3565, 'challenging': 3566, 'abiding': 3567, 'diverse': 3568, 'wanted': 3569, 'beauty': 3570, 'civilisation': 3571, 'created': 3572, 'darkness': 3573, 'detail': 3574, 'vividly': 3575, 'cinema': 3576, 'film': 3577, 'bu': 3578, 'UPDATE': 3579, 'August': 3580, 'Within': 3581, 'publication': 3582, 'Establishing': 3583, 'enhancing': 3584, 'strengthens': 3585, 'protects': 3586, 'deters': 3587, 'sets': 3588, 'contingency': 3589, 'Russell': 3590, 'Region': 3591, 'discussions': 3592, 'Kit': 3593, 'ê': 3594, 'ba': 3595, 'Cilwe': 3596, 'transliterated': 3597, 'Kitab': 3598, 'Jilwah': 3599, 'written': 3600, 'Kurmanji': 3601, 'dialect': 3602, 'Mishefa': 3603, 'Re': 3604, 'glance': 3605, 'idea': 3606, 'risking': 3607, 'limb': 3608, 'collect': 3609, 'seems': 3610, 'bizarre': 3611, 'Later': 3612, 'flew': 3613, 'Qayyarah': 3614, 'Q': 3615, 'Israel': 3616, 'repercussions': 3617, 'sit': 3618, 'grenades': 3619, 'vehicle': 3620, 'borne': 3621, 'homemade': 3622, 'loaders': 3623, 'bridge': 3624, 'cache': 3625, 'staging': 3626, 'team': 3627, 'torn': 3628, 'neighbours': 3629, 'debt': 3630, 'Having': 3631, 'employ': 3632, 'blue': 3633, 'collar': 3634, 'allowing': 3635, 'convert': 3636, 'burden': 3637, 'minister': 3638, 'Imad': 3639, 'Fakhoury': 3640, 'heroes': 3641, 'Talib': 3642, 'Shaghati': 3643, 'grant': 3644, 'Strategic': 3645, 'Framework': 3646, 'Agreement': 3647, 'gas': 3648, 'warfighter': 3649, 'Especially': 3650, 'wake': 3651, 'strive': 3652, 'intensified': 3653, 'UNSC': 3654, 'weapon': 3655, 'lone': 3656, 'harder': 3657, 'proven': 3658, 'fortifications': 3659, 'armored': 3660, 'decoys': 3661, 'Canadian': 3662, 'websites': 3663, 'Part': 3664, 'Recovery': 3665, 'Trust': 3666, 'Fund': 3667, 'channels': 3668, 'contributions': 3669, 'transparent': 3670, 'manner': 3671, 'petrol': 3672, 'Hilla': 3673, 'symbolic': 3674, 'Isa': 3675, 'offered': 3676, 'turn': 3677, 'farm': 3678, 'reacting': 3679, 'effectively': 3680, 'instead': 3681, 'shoot': 3682, 'Lorraine': 3683, 'Walsh': 3684, 'crewmember': 3685, 'Vermillion': 3686, 'Dakota': 3687, 'impunity': 3688, 'Amnesty': 3689, 'subjected': 3690, 'Arabs': 3691, 'arbitrary': 3692, 'detention': 3693, 'enforced': 3694, 'disappearance': 3695, 'capturing': 3696, 'placing': 3697, 'custody': 3698, 'Rome': 3699, 'Italy': 3700, 'refinement': 3701, 'stills': 3702, 'bulldozer': 3703, 'dump': 3704, 'truck': 3705, 'pontoon': 3706, 'route': 3707, 'T': 3708, 'shirt': 3709, 'receding': 3710, 'hairline': 3711, 'wore': 3712, 'sadness': 3713, 'cloak': 3714, 'carrying': 3715, 'Small': 3716, 'regularly': 3717, 'meets': 3718, 'synchronize': 3719, 'enhance': 3720, 'combined': 3721, 'minimising': 3722, '850': 3723, '44': 3724, '783': 3725, 'violated': 3726, 'Ramadan': 3727, 'stopped': 3728, 'scouring': 3729, 'devastated': 3730, 'fill': 3731, 'shelves': 3732, 'Nearly': 3733, 'horrendous': 3734, 'Julie': 3735, 'Bishop': 3736, 'HE': 3737, 'Ja': 3738, 'afari': 3739, 'Canberra': 3740, 'reaffirm': 3741, 'thanked': 3742, 'Analyses': 3743, 'performed': 3744, 'lab': 3745, 'hormonal': 3746, 'immune': 3747, 'tumor': 3748, 'pharmaceutical': 3749, 'lymphatic': 3750, 'tests': 3751, 'stem': 3752, 'cell': 3753, 'bank': 3754, 'D': 3755, 'Ministerial': 3756, 'hoping': 3757, 'campaigns': 3758, 'overlap': 3759, 'jet': 3760, 'school': 3761, 'girls': 3762, 'Rudskoi': 3763, 'mutual': 3764, 'capabilities': 3765, 'proficiency': 3766, 'partnerships': 3767, 'commerce': 3768, 'freedom': 3769, 'navigation': 3770, 'Fallujah': 3771, 'advances': 3772, 'Manbij': 3773, 'irreversible': 3774, 'path': 3775, '05': 3776, '173616': 3777, '167988': 3778, 'lagging': 3779, 'disability': 3780, 'cause': 3781, 'bloodshed': 3782, 'stands': 3783, 'faces': 3784, 'cooperate': 3785, 'maintain': 3786, 'threaten': 3787, 'partner': 3788, 'refer': 3789, 'pending': 3790, 'licensure': 3791, 'investigations': 3792, 'attempting': 3793, 'stronghold': 3794, 'catastrophe': 3795, 'historic': 3796, 'cities': 3797, 'rubble': 3798, 'apparently': 3799, 'Sadah': 3800, 'small': 3801, 'portion': 3802, 'Iron': 3803, 'Fist': 3804, 'achievement': 3805, 'outcome': 3806, 'consensus': 3807, 'principles': 3808, 'pluralistic': 3809, 'breadth': 3810, 'desperation': 3811, 'crumble': 3812, 'car': 3813, 'rebel': 3814, 'Azaz': 3815, 'shopping': 3816, 'celebrating': 3817, 'suhur': 3818, 'turns': 3819, 'fault': 3820, 'appropriate': 3821, 'measures': 3822, 'compensate': 3823, 'crucial': 3824, 'Responding': 3825, 'Gareth': 3826, 'Bayley': 3827, 'promote': 3828, 'expects': 3829, 'encourage': 3830, 'individuals': 3831, 'persons': 3832, 'entities': 3833, 'production': 3834, 'facilitation': 3835, 'processing': 3836, 'distribution': 3837, 'networks': 3838, 'underlying': 3839, 'Thank': 3840, 'orchestra': 3841, 'empty': 3842, 'chairs': 3843, 'excavators': 3844, 'cranes': 3845, 'supplying': 3846, 'George': 3847, 'Haswani': 3848, 'middleman': 3849, 'buying': 3850, 'sent': 3851, 'girl': 3852, 'indoors': 3853, 'playing': 3854, 'games': 3855, 'ignore': 3856, 'gnawing': 3857, 'pangs': 3858, 'stomach': 3859, 'tangle': 3860, 'black': 3861, 'curly': 3862, 'hair': 3863, 'rimmed': 3864, 'glasses': 3865, 'mourning': 3866, 'rid': 3867, 'finish': 3868, 'According': 3869, '530': 3870, 'Monuments': 3871, 'preservationists': 3872, 'guidance': 3873, 'vile': 3874, 'forms': 3875, 'linguistic': 3876, 'boundary': 3877, 'precious': 3878, 'anger': 3879, 'emotion': 3880, 'disputed': 3881, 'prosecution': 3882, 'version': 3883, 'intent': 3884, 'stored': 3885, 'Ramadi': 3886, 'combatting': 3887, 'nomination': 3888, 'segments': 3889, 'finding': 3890, 'viable': 3891, 'Hopefully': 3892, 'attract': 3893, 'investments': 3894, 'increasing': 3895, 'Volunteers': 3896, 'patients': 3897, 'untrained': 3898, 'prepare': 3899, 'advice': 3900, 'fillings': 3901, 'extracting': 3902, 'teeth': 3903, 'discusses': 3904, 'nature': 3905, 'declare': 3906, 'evils': 3907, 'Wednesday': 3908, 'tied': 3909, 'dragged': 3910, 'alongside': 3911, 'definitively': 3912, 'concerns': 3913, 'urged': 3914, 'cease': 3915, 'suburbs': 3916, 'Commodore': 3917, 'Andrew': 3918, 'Amphibious': 3919, 'embarked': 3920, 'deck': 3921, 'amphibious': 3922, 'ship': 3923, 'HMS': 3924, 'Ocean': 3925, 'recommended': 3926, 'dial': 3927, 'prior': 3928, 'mark': 3929, 'wishes': 3930, 'prosperous': 3931, 'cool': 3932, 'hazy': 3933, 'greeted': 3934, 'Soldiers': 3935, '321st': 3936, 'Field': 3937, 'Artillery': 3938, 'Regiment': 3939, 'event': 3940, 'loved': 3941, 'ones': 3942, 'pray': 3943, 'utter': 3944, 'burned': 3945, 'alive': 3946, 'centre': 3947, 'exits': 3948, 'escapes': 3949, 'renew': 3950, 'capability': 3951, 'denying': 3952, 'localized': 3953, 'accompany': 3954, 'worthwhile': 3955, 'really': 3956, 'investment': 3957, 'acknowledge': 3958, 'per': 3959, 'cent': 3960, 'requests': 3961, 'approved': 3962, 'larger': 3963, 'Sayeed': 3964, 'Hunter': 3965, 'prevent': 3966, 'Euphrates': 3967, 'Valley': 3968, 'visited': 3969, 'Major': 3970, 'Hassan': 3971, 'Plans': 3972, 'Colonel': 3973, 'Abd': 3974, 'Alamir': 3975, 'custom': 3976, 'furniture': 3977, 'treats': 3978, 'begins': 3979, 'guides': 3980, 'scripture': 3981, 'gates': 3982, 'capable': 3983, 'passing': 3984, '247': 3985, '203': 3986, 'cu': 3987, 'regulator': 3988, '317': 3989, '832': 3990, 'canal': 3991, 'Obama': 3992, 'pledge': 3993, 'G7': 3994, 'Ise': 3995, 'Shima': 3996, 'enduring': 3997, 'particularly': 3998, 'Reports': 3999, 'Wadi': 4000, 'Barada': 4001, 'concern': 4002, 'express': 4003, 'deep': 4004, 'namely': 4005, 'message': 4006, 'reliable': 4007, 'reporting': 4008, 'engaging': 4009, 'spectrum': 4010, 'peaceful': 4011, 'case': 4012, 'Accompanying': 4013, 'ANG': 4014, '158th': 4015, 'Fighter': 4016, 'comprise': 4017, '134th': 4018, 'Expeditionary': 4019, 'Squadron': 4020, 'fly': 4021, 'informed': 4022, 'Safina': 4023, '45km': 4024, 'threw': 4025, '575': 4026, 'B': 4027, 'King': 4028, 'Nebuchadnezzar': 4029, 'II': 4030, 'Bank': 4031, '100m': 4032, 'exhortation': 4033, 'faithful': 4034, 'timely': 4035, 'feedback': 4036, 'supervisors': 4037, 'mentorship': 4038, 'opportunities': 4039, 'resources': 4040, 'noting': 4041, 'recognition': 4042, 'superior': 4043, 'performance': 4044, 'employee': 4045, 'tenure': 4046, 'bloody': 4047, 'paved': 4048, 'amongst': 4049, 'Local': 4050, 'scorching': 4051, 'clung': 4052, '967': 4053, '111': 4054, '274': 4055, '280': 4056, 'bunkers': 4057, '224': 4058, 'sites': 4059, 'instrumental': 4060, 'brigades': 4061, 'groundwork': 4062, 'laid': 4063, 'registration': 4064, 'authority': 4065, 'Targeted': 4066, 'Against': 4067, 'Terrorists': 4068, 'hails': 4069, 'Amarah': 4070, 'Southern': 4071, 'Mountains': 4072, 'Jab': 4073, 'l': 4074, 'Hamr': 4075, 'ī': 4076, 'n': 4077, 'iyay': 4078, 'Hemr': 4079, 'î': 4080, 'mountain': 4081, 'ridge': 4082, 'tide': 4083, 'battlefield': 4084, 'planting': 4085, 'weeding': 4086, 'harvesting': 4087, 'Manal': 4088, 'empties': 4089, 'bag': 4090, 'vegetables': 4091, 'sack': 4092, 'younger': 4093, 'Funds': 4094, 'living': 4095, 'fallen': 4096, 'therapeutic': 4097, 'surgical': 4098, 'bombarding': 4099, 'Designs': 4100, 'British': 4101, 'firm': 4102, 'Voganlei': 4103, 'Coode': 4104, 'Nonetheless': 4105, 'reflect': 4106, 'authentic': 4107, 'always': 4108, 'look': 4109, 'commend': 4110, 'Yezidi': 4111, 'reclaim': 4112, 'Watch': 4113, 'crowded': 4114, 'meetings': 4115, 'businesses': 4116, 'Tashkent': 4117, 'Uzbek': 4118, 'alumni': 4119, 'Westminster': 4120, 'announce': 4121, 'programme': 4122, 'labour': 4123, 'quotas': 4124, 'numbers': 4125, 'complimented': 4126, 'prime': 4127, 'evaporation': 4128, 'Lakes': 4129, 'Habbaniyah': 4130, 'reduces': 4131, 'salinity': 4132, 'unsuitable': 4133, 'symbolises': 4134, 'beyond': 4135, 'class': 4136, 'architects': 4137, 'archaeologists': 4138, 'Scholars': 4139, 'generally': 4140, 'agree': 4141, 'translation': 4142, '1911': 4143, '1913': 4144, 'respectively': 4145, 'forgeries': 4146, 'Western': 4147, 'travelers': 4148, 'scholars': 4149, 'greatly': 4150, 'gunned': 4151, 'Free': 4152, 'daunting': 4153, 'avid': 4154, 'readers': 4155, 'send': 4156, 'term': 4157, 'comprehensive': 4158, 'Books': 4159, 'motivate': 4160, 'muscle': 4161, 'Weeks': 4162, 'deadliest': 4163, 'coup': 4164, 'Those': 4165, '888': 4166, '847': 4167, '6592': 4168, 'Unified': 4169, 'Trident': 4170, 'encompassing': 4171, 'CTFs': 4172, 'assets': 4173, 'Southwest': 4174, '34': 4175, 'released': 4176, 'signing': 4177, 'ceremony': 4178, 'encourages': 4179, 'creates': 4180, 'expanding': 4181, 'repeater': 4182, 'celebrate': 4183, '93rd': 4184, 'anniversary': 4185, 'founding': 4186, 'republic': 4187, 'unexpectedly': 4188, '40s': 4189, 'solutions': 4190, 'affected': 4191, 'Young': 4192, 'ran': 4193, 'plastic': 4194, 'stacked': 4195, '…': 4196, 'solid': 4197, 'seat': 4198, 'bigger': 4199, 'signed': 4200, 'cost': 4201, 'Home': 4202, 'Secretaries': 4203, 'attended': 4204, 'topics': 4205, 'Libya': 4206, 'Days': 4207, 'jets': 4208, 'missiles': 4209, 'airspace': 4210, 'Sabboura': 4211, 'Monetary': 4212, 'implement': 4213, 'Amman': 4214, 'middle': 4215, 'aged': 4216, 'asks': 4217, 'entrances': 4218, 'OK': 4219, 'shrug': 4220, 'smile': 4221, 'hopes': 4222, 'improving': 4223, 'standards': 4224, 'likely': 4225, 'head': 4226, 'shores': 4227, 'temporary': 4228, 'truce': 4229, 'unconditional': 4230, 'Ubaydi': 4231, 'Matador': 4232, 'F': 4233, 'Fighting': 4234, 'Falcons': 4235, 'Vermont': 4236, 'Guard': 4237, 'arrived': 4238, '292': 4239, 'ministerial': 4240, 'facing': 4241, 'matters': 4242, 'foremost': 4243, 'indiscriminately': 4244, 'unencumbered': 4245, 'moral': 4246, 'restraint': 4247, 'sentenced': 4248, 'Sajida': 4249, 'Mubarak': 4250, 'Atrous': 4251, 'Rishawi': 4252, 'hanged': 4253, 'expedited': 4254, 'retaliation': 4255, 'burning': 4256, 'lieutenant': 4257, 'Muath': 4258, 'Kasasbeh': 4259, 'ships': 4260, 'USS': 4261, 'Hopper': 4262, 'DDG': 4263, 'Mahan': 4264, '72': 4265, 'Daring': 4266, '32': 4267, 'reversal': 4268, 'donors': 4269, 'turning': 4270, 'store': 4271, 'regarded': 4272, 'watched': 4273, 'hello': 4274, 'equipped': 4275, 'component': 4276, 'advisers': 4277, 'protected': 4278, 'Defeating': 4279}\n",
            "{'<START>': 0, '<STOP>': 1, 'O': 2, 'B-Organisation': 3, 'I-Organisation': 4, 'B-Temporal': 5, 'I-Temporal': 6, 'B-Nationality': 7, 'B-Location': 8, 'I-Location': 9, 'B-Person': 10, 'I-Person': 11, 'B-DocumentReference': 12, 'I-DocumentReference': 13, 'B-Money': 14, 'I-Money': 15, 'B-Quantity': 16, 'B-MilitaryPlatform': 17, 'I-MilitaryPlatform': 18, 'B-Weapon': 19, 'I-Weapon': 20, 'I-Quantity': 21, 'I-Nationality': 22}\n",
            "(4280,)\n"
          ],
          "name": "stdout"
        }
      ]
    },
    {
      "cell_type": "markdown",
      "metadata": {
        "id": "Sd6H_LbldDl3"
      },
      "source": [
        "# Input embedding"
      ]
    },
    {
      "cell_type": "markdown",
      "metadata": {
        "id": "qiIU4i_aPdlX"
      },
      "source": [
        "### POS tag"
      ]
    },
    {
      "cell_type": "code",
      "metadata": {
        "id": "Hnpo2HI2gIJV",
        "colab": {
          "base_uri": "https://localhost:8080/"
        },
        "outputId": "baf95c37-9466-4d85-c570-b70b48e0508e"
      },
      "source": [
        "## POS tagging\n",
        "import nltk\n",
        "nltk.download('averaged_perceptron_tagger')\n",
        "from nltk.tokenize import word_tokenize\n",
        "def get_pos_tags(all_tokens):\n",
        "  pos_tags = []\n",
        "  for sentence in all_tokens:\n",
        "    temp = []\n",
        "    # Use the nltk to generate pos tags.\n",
        "    for word, tag in nltk.pos_tag(sentence):\n",
        "      temp.append(tag)\n",
        "    pos_tags.append(temp)\n",
        "\n",
        "  return pos_tags"
      ],
      "execution_count": 11,
      "outputs": [
        {
          "output_type": "stream",
          "text": [
            "[nltk_data] Downloading package averaged_perceptron_tagger to\n",
            "[nltk_data]     /root/nltk_data...\n",
            "[nltk_data]   Unzipping taggers/averaged_perceptron_tagger.zip.\n"
          ],
          "name": "stdout"
        }
      ]
    },
    {
      "cell_type": "code",
      "metadata": {
        "id": "3H0WA_4AbkAO"
      },
      "source": [
        "# Get all tags for all data\n",
        "pos_tags = get_pos_tags(training_data + validating_data + testing_data)\n",
        "all_data = training_data + validating_data + testing_data"
      ],
      "execution_count": 12,
      "outputs": []
    },
    {
      "cell_type": "code",
      "metadata": {
        "id": "vMTVhgwAbe2n",
        "colab": {
          "base_uri": "https://localhost:8080/"
        },
        "outputId": "c8eec10a-70b8-4260-ea2c-ab47823e5fed"
      },
      "source": [
        "print(training_data[0])\n",
        "print(pos_tags[0])"
      ],
      "execution_count": 13,
      "outputs": [
        {
          "output_type": "stream",
          "text": [
            "['Operation', 'Steel', 'Curtain', '(', 'Arabic', ':', 'ا', 'ل', 'ح', 'ج', 'ا', 'ب', 'ا', 'ل', 'ف', 'و', 'ل', 'ا', 'ذ', 'ي', 'Al', 'Hejab', 'Elfulathi', ')', 'was', 'a', 'military', 'operation', 'executed', 'by', 'coalition', 'forces', 'in', 'early', 'November', '2005', 'to', 'reduce', 'the', 'flow', 'of', 'foreign', 'insurgents', 'crossing', 'the', 'border', 'and', 'joining', 'the', 'Iraqi', 'insurgency', '.']\n",
            "['NN', 'NNP', 'NNP', '(', 'NNP', ':', 'NN', 'NNP', 'NNP', 'NNP', 'NNP', 'NNP', 'NNP', 'NNP', 'NNP', 'NNP', 'NNP', 'NNP', 'NNP', 'NNP', 'NNP', 'NNP', 'NNP', ')', 'VBD', 'DT', 'JJ', 'NN', 'VBN', 'IN', 'NN', 'NNS', 'IN', 'JJ', 'NNP', 'CD', 'TO', 'VB', 'DT', 'NN', 'IN', 'JJ', 'NNS', 'VBG', 'DT', 'NN', 'CC', 'VBG', 'DT', 'NNP', 'NN', '.']\n"
          ],
          "name": "stdout"
        }
      ]
    },
    {
      "cell_type": "code",
      "metadata": {
        "id": "PIBcpMEeMsyY"
      },
      "source": [
        "pos_tag_id_map = {}\n",
        "# Generate id for unique pos tag\n",
        "pos_tag_id = 1\n",
        "\n",
        "for tag_list in pos_tags:\n",
        "  for pos_tag in tag_list:\n",
        "    if pos_tag not in pos_tag_id_map:\n",
        "      # if not in the map, add the tag and set the id\n",
        "      pos_tag_id_map[pos_tag] = pos_tag_id\n",
        "      # id + 1\n",
        "      pos_tag_id = pos_tag_id + 1\n",
        "\n",
        "# Do one hot encoding for pos tag\n",
        "one_hot_coding = np.zeros(pos_tag_id - 1)\n",
        "\n",
        "for key in pos_tag_id_map.keys():\n",
        "  one_hot_coding = np.zeros(pos_tag_id - 1)\n",
        "  # Setting the position of the id as 1\n",
        "  one_hot_coding[pos_tag_id_map[key] - 1] = 1\n",
        "  # Save the one hot coding into the map\n",
        "  pos_tag_id_map[key] = one_hot_coding\n",
        "\n",
        "# Generate pos tag map\n",
        "pos_map = {}\n",
        "for index in range(0,len(all_data)):\n",
        "    for index2 in range(0,len(all_data[index])):\n",
        "        pos_map[all_data[index][index2]] = pos_tag_id_map[pos_tags[index][index2]]"
      ],
      "execution_count": 14,
      "outputs": []
    },
    {
      "cell_type": "code",
      "metadata": {
        "id": "YGiDTgxVRJJY",
        "colab": {
          "base_uri": "https://localhost:8080/"
        },
        "outputId": "15efe0d2-e100-4eff-e920-f9b2e3773932"
      },
      "source": [
        "print(pos_map['repeater'])"
      ],
      "execution_count": 15,
      "outputs": [
        {
          "output_type": "stream",
          "text": [
            "[1. 0. 0. 0. 0. 0. 0. 0. 0. 0. 0. 0. 0. 0. 0. 0. 0. 0. 0. 0. 0. 0. 0. 0.\n",
            " 0. 0. 0. 0. 0. 0. 0. 0. 0. 0. 0. 0. 0. 0. 0. 0. 0.]\n"
          ],
          "name": "stdout"
        }
      ]
    },
    {
      "cell_type": "markdown",
      "metadata": {
        "id": "uHV9mK6HiJRa"
      },
      "source": [
        "### Dependency"
      ]
    },
    {
      "cell_type": "code",
      "metadata": {
        "id": "-9MCVzqiiN4B"
      },
      "source": [
        "import spacy\n",
        "nlp = spacy.load(\"en_core_web_sm\")\n",
        "\n",
        "# Use the spacy to parse the sentence for dependency tree\n",
        "# Ref lab 7\n",
        "def get_dependency(data):\n",
        "  parsed_sentences = []\n",
        "  for sentence in data:\n",
        "    joined_sentence = ' '.join(sentence)\n",
        "    parse = nlp(joined_sentence)\n",
        "    deps = []\n",
        "    for item in parse:\n",
        "      dep = item.dep_\n",
        "      deps.append(dep)\n",
        "\n",
        "    parsed_sentences.append(deps[:len(sentence)])\n",
        "  return parsed_sentences\n",
        "\n",
        "parsed_sentences = get_dependency(all_data)"
      ],
      "execution_count": 16,
      "outputs": []
    },
    {
      "cell_type": "code",
      "metadata": {
        "id": "g6hICS-Li0_T",
        "colab": {
          "base_uri": "https://localhost:8080/"
        },
        "outputId": "2f01b16f-c9a9-452a-9670-fcc0885c83e5"
      },
      "source": [
        "print(parsed_sentences)"
      ],
      "execution_count": 17,
      "outputs": [
        {
          "output_type": "stream",
          "text": [
            "[['compound', 'compound', 'ROOT', 'punct', 'appos', 'punct', 'punct', 'nsubj', 'punct', 'intj', 'punct', 'nmod', 'intj', 'compound', 'compound', 'compound', 'nmod', 'intj', 'compound', 'compound', 'compound', 'compound', 'appos', 'punct', 'ROOT', 'det', 'amod', 'attr', 'acl', 'agent', 'compound', 'pobj', 'prep', 'amod', 'pobj', 'nummod', 'aux', 'advcl', 'det', 'dobj', 'prep', 'amod', 'pobj', 'acl', 'det', 'dobj', 'cc', 'conj', 'det', 'amod', 'dobj', 'punct'], ['det', 'nsubj', 'ROOT', 'dobj', 'prep', 'pobj', 'cc', 'compound', 'conj', 'punct', 'det', 'nmod', 'nmod', 'cc', 'compound', 'appos', 'punct'], ['det', 'nsubj', 'ROOT', 'acomp', 'prep', 'mark', 'nsubj', 'ccomp', 'det', 'amod', 'amod', 'compound', 'attr', 'prep', 'det', 'compound', 'compound', 'pobj', 'punct'], ['nsubj', 'ROOT', 'poss', 'amod', 'attr', 'prep', 'pobj', 'cc', 'det', 'amod', 'conj', 'aux', 'acl', 'cc', 'conj', 'amod', 'dobj', 'prep', 'det', 'pobj', 'cc', 'conj', 'prep', 'det', 'pobj', 'prep', 'pobj', 'amod', 'prep', 'pobj', 'appos', 'punct'], ['det', 'nsubjpass', 'auxpass', 'ROOT', 'agent', 'compound', 'compound', 'compound', 'compound', 'punct', 'pobj', 'punct', 'punct'], ['cc', 'advmod', 'punct', 'prep', 'pobj', 'punct', 'nsubj', 'aux', 'ROOT', 'dobj', 'punct', 'punct', 'ROOT', 'punct'], ['cc', 'nsubj', 'aux', 'ROOT', 'advmod', 'punct'], ['det', 'nsubjpass', 'prep', 'det', 'compound', 'pobj', 'auxpass', 'ROOT', 'agent', 'det', 'pobj', 'prep', 'amod', 'compound', 'compound', 'pobj', 'aux', 'acl', 'det', 'amod', 'compound', 'compound', 'punct', 'dobj', 'punct'], ['ROOT'], ['nsubj', 'ROOT', 'poss', 'amod', 'dobj', 'prep', 'det', 'pobj', 'prep', 'det', 'pobj', 'cc', 'conj', 'prep', 'det', 'amod', 'pobj', 'prep', 'predet', 'pobj', 'acl', 'punct'], ['det', 'nsubj', 'prep', 'pobj', 'prep', 'pobj', 'cc', 'dep', 'dep', 'amod', 'conj', 'ROOT', 'advmod', 'nummod', 'npadvmod', 'advmod', 'punct'], ['punct', 'det', 'nsubj', 'prep', 'pobj', 'poss', 'dobj', 'aux', 'advmod', 'csubj', 'prep', 'pobj', 'ROOT', 'advmod', 'attr', 'prep', 'pobj', 'advmod', 'punct'], ['punct', 'det', 'poss', 'punct', 'compound', 'nsubj', 'ccomp', 'advmod', 'nsubj', 'ccomp', 'dep', 'advmod', 'punct', 'punct', 'ROOT', 'compound', 'compound', 'nsubj', 'punct', 'compound', 'compound', 'compound', 'appos', 'punct'], ['det', 'nsubj', 'ROOT', 'prep', 'pobj', 'punct'], ['amod', 'compound', 'compound', 'nsubj', 'nsubjpass', 'prep', 'det', 'pobj', 'neg', 'auxpass', 'ROOT', 'dobj', 'prep', 'compound', 'pobj', 'punct'], ['det', 'nsubj', 'ROOT', 'det', 'nummod', 'nsubj', 'ccomp', 'det', 'amod', 'dobj', 'prep', 'det', 'compound', 'pobj', 'punct', 'prep', 'det', 'pobj', 'aux', 'acl', 'det', 'amod', 'dobj', 'prep', 'det', 'amod', 'pobj', 'cc', 'det', 'nmod', 'amod', 'conj', 'punct'], ['amod', 'compound', 'nsubj', 'punct', 'compound', 'appos', 'punct', 'ROOT', 'punct'], ['nsubj', 'ROOT', 'poss', 'amod', 'nsubj', 'aux', 'ccomp', 'det', 'attr', 'prep', 'pobj', 'cc', 'conj', 'dobj', 'prep', 'amod', 'pobj', 'punct'], ['npadvmod', 'punct', 'amod', 'nsubjpass', 'acl', 'prep', 'dep', 'dep', 'pobj', 'cc', 'conj', 'compound', 'pobj', 'aux', 'advcl', 'dobj', 'auxpass', 'neg', 'ROOT', 'prep', 'det', 'pobj', 'mark', 'advcl', 'agent', 'compound', 'punct', 'pobj', 'punct'], ['det', 'ROOT', 'prep', 'det', 'compound', 'pobj', 'prep', 'det', 'pobj', 'prep', 'amod', 'pobj', 'punct', 'punct'], ['nsubjpass', 'auxpass', 'ROOT', 'dobj', 'cc', 'conj', 'prep', 'det', 'amod', 'pobj', 'prep', 'nummod', 'pobj', 'punct'], ['nsubj', 'aux', 'ROOT', 'prep', 'det', 'pobj', 'prep', 'pobj', 'aux', 'advcl', 'det', 'amod', 'dobj', 'prep', 'det', 'amod', 'pobj', 'punct'], ['mark', 'det', 'amod', 'nsubj', 'advmod', 'advcl', 'dobj', 'advmod', 'prep', 'pcomp', 'dobj', 'prep', 'det', 'amod', 'pobj', 'punct', 'nsubj', 'ROOT', 'det', 'amod', 'dobj', 'advmod', 'punct', 'cc', 'conj', 'acomp', 'aux', 'xcomp', 'prep', 'det', 'amod', 'pobj', 'nsubj', 'relcl', 'det', 'dobj', 'det', 'dobj', 'punct'], ['npadvmod', 'prep', 'det', 'compound', 'pobj', 'punct', 'compound', 'nsubj', 'ROOT', 'punct'], ['prep', 'pobj', 'prep', 'poss', 'compound', 'pobj', 'punct', 'nsubj', 'ROOT', 'dobj', 'mark', 'advmod', 'advmod', 'cc', 'amod', 'conj', 'punct', 'nsubj', 'cc', 'conj', 'advcl', 'prep', 'amod', 'cc', 'conj', 'pobj', 'punct', 'nsubj', 'advmod', 'advmod', 'ccomp', 'prep', 'det', 'pobj', 'prep', 'pobj', 'punct'], ['det', 'compound', 'nsubj', 'aux', 'ROOT', 'det', 'amod', 'compound', 'dobj', 'nsubjpass', 'auxpass', 'relcl', 'prep', 'pobj', 'prep', 'compound', 'pobj', 'punct'], ['det', 'amod', 'nsubj', 'prep', 'poss', 'pobj', 'ROOT', 'prep', 'det', 'amod', 'pobj', 'prep', 'amod', 'cc', 'conj', 'pobj', 'nsubj', 'advmod', 'relcl', 'det', 'dobj', 'advmod', 'acl', 'prep', 'poss', 'pobj', 'punct', 'amod', 'compound', 'conj', 'cc', 'conj', 'acl', 'dobj', 'prep', 'pobj', 'prep', 'amod', 'pobj', 'prep', 'pobj', 'punct'], ['cc', 'nsubj', 'ROOT', 'nsubj', 'ccomp', 'det', 'dobj', 'prep', 'det', 'pobj', 'prep', 'pobj', 'punct'], ['prep', 'pobj', 'punct', 'nmod', 'amod', 'nsubj', 'ROOT', 'nummod', 'dobj', 'acl', 'dobj', 'punct', 'conj', 'punct', 'conj', 'cc', 'advmod', 'amod', 'conj', 'prep', 'compound', 'pobj', 'punct'], ['prep', 'det', 'amod', 'nummod', 'pobj', 'punct', 'det', 'npadvmod', 'punct', 'amod', 'nsubj', 'punct', 'nmod', 'nummod', 'appos', 'ccomp', 'nummod', 'dobj', 'prep', 'compound', 'pobj', 'punct', 'nsubj', 'relcl', 'nummod', 'amod', 'dobj', 'punct', 'det', 'nmod', 'punct', 'cc', 'punct', 'conj', 'conj', 'cc', 'nummod', 'compound', 'conj', 'prep', 'pobj', 'prep', 'compound', 'pobj', 'aux', 'relcl', 'dobj', 'punct', 'nsubj', 'ROOT', 'punct'], ['prep', 'pobj', 'prep', 'det', 'pobj', 'cc', 'conj', 'prep', 'compound', 'compound', 'pobj', 'punct', 'nsubj', 'ROOT', 'poss', 'amod', 'dobj', 'cc', 'poss', 'amod', 'conj', 'prep', 'poss', 'pobj', 'punct', 'conj', 'cc', 'amod', 'compound', 'conj', 'punct', 'punct'], ['poss', 'case', 'nsubj', 'ROOT', 'aux', 'advcl', 'prep', 'det', 'amod', 'pobj', 'advmod', 'prep', 'det', 'compound', 'compound', 'pobj', 'punct'], ['det', 'nsubj', 'prep', 'pobj', 'punct', 'advmod', 'amod', 'punct', 'aux', 'ROOT', 'advmod', 'amod', 'dobj', 'acl', 'dobj', 'cc', 'conj', 'det', 'dobj', 'prep', 'det', 'pobj', 'punct'], ['nsubj', 'ROOT', 'acomp', 'prep', 'det', 'pobj', 'prep', 'poss', 'amod', 'pobj', 'nsubj', 'relcl', 'det', 'amod', 'attr', 'prep', 'pobj', 'prep', 'pobj', 'cc', 'conj', 'punct', 'punct'], ['det', 'amod', 'nsubj', 'aux', 'ROOT', 'mark', 'det', 'compound', 'nsubj', 'aux', 'ccomp', 'amod', 'dobj', 'prep', 'det', 'amod', 'pobj', 'prep', 'advmod', 'advmod', 'nummod', 'pobj', 'punct', 'cc', 'mark', 'nsubj', 'aux', 'conj', 'amod', 'dobj', 'advmod', 'advmod', 'advmod', 'punct'], ['compound', 'nsubj', 'nsubj', 'aux', 'relcl', 'dobj', 'prep', 'pobj', 'ROOT', 'dobj', 'punct', 'conj', 'punct', 'conj', 'punct', 'conj', 'punct', 'conj', 'punct', 'conj', 'punct', 'det', 'conj', 'punct', 'compound', 'conj', 'punct', 'conj', 'punct', 'compound', 'compound', 'conj', 'punct', 'det', 'compound', 'conj', 'punct', 'cc', 'det', 'compound', 'conj', 'punct'], ['nsubj', 'aux', 'dep', 'ROOT', 'prep', 'pcomp', 'aux', 'xcomp', 'prt', 'poss', 'dobj', 'punct', 'advcl', 'poss', 'dobj', 'prep', 'pobj', 'cc', 'conj', 'det', 'dobj', 'prep', 'amod', 'pobj', 'punct', 'prep', 'pobj', 'prep', 'det', 'amod', 'pobj', 'nsubj', 'aux', 'relcl', 'prep', 'det', 'amod', 'pobj', 'punct'], ['compound', 'compound', 'compound', 'compound', 'ROOT', 'punct', 'appos', 'punct', 'compound', 'compound', 'nsubj', 'advmod', 'ROOT', 'prep', 'compound', 'compound', 'nmod', 'amod', 'pobj', 'cc', 'conj', 'det', 'dobj', 'prep', 'det', 'compound', 'pobj', 'punct', 'det', 'amod', 'npadvmod', 'punct', 'cc', 'amod', 'conj', 'punct'], ['det', 'compound', 'nsubj', 'advmod', 'ROOT', 'prt', 'det', 'amod', 'amod', 'dobj', 'prep', 'det', 'pobj', 'punct', 'punct', 'ROOT', 'punct'], ['punct', 'punct', 'punct', 'nsubj', 'ccomp', 'advmod', 'acomp', 'aux', 'advmod', 'xcomp', 'predet', 'det', 'dobj', 'nsubj', 'aux', 'relcl', 'punct', 'cc', 'det', 'amod', 'nsubjpass', 'aux', 'auxpass', 'conj', 'prep', 'amod', 'cc', 'neg', 'conj', 'punct', 'punct', 'punct', 'nsubj', 'ROOT', 'punct', 'punct'], ['punct', 'det', 'compound', 'punct', 'compound', 'compound', 'nsubj', 'punct', 'compound', 'compound', 'compound', 'compound', 'appos', 'punct', 'ccomp', 'nsubj', 'ccomp', 'prep', 'poss', 'compound', 'compound', 'compound', 'pobj', 'mark', 'nsubj', 'aux', 'acl', 'det', 'dobj', 'mark', 'nsubj', 'advcl', 'det', 'dobj', 'dative', 'dep', 'dep', 'amod', 'pobj', 'punct', 'punct', 'ROOT', 'compound', 'poss', 'punct', 'nmod', 'punct', 'nsubj', 'punct', 'det', 'compound', 'punct', 'compound', 'appos', 'punct'], ['nsubj', 'ROOT', 'compound', 'compound', 'poss', 'punct', 'appos', 'amod', 'dobj', 'punct'], ['prep', 'det', 'amod', 'amod', 'pobj', 'prep', 'det', 'nmod', 'compound', 'pobj', 'punct', 'det', 'nsubj', 'aux', 'ROOT', 'quantmod', 'nummod', 'dobj', 'punct', 'acl', 'prep', 'nummod', 'compound', 'pobj', 'prep', 'compound', 'pobj', 'punct', 'cc', 'aux', 'advmod', 'conj', 'det', 'amod', 'nummod', 'dobj', 'aux', 'relcl', 'prep', 'dep', 'dep', 'compound', 'pobj', 'prep', 'det', 'compound', 'pobj', 'xcomp', 'nsubj', 'aux', 'ccomp', 'dobj', 'advmod', 'cc', 'conj', 'dobj', 'prep', 'amod', 'pobj', 'punct'], ['nsubjpass', 'auxpass', 'ROOT', 'agent', 'compound', 'compound', 'compound', 'compound', 'pobj', 'prep', 'det', 'pobj', 'prep', 'amod', 'compound', 'pobj', 'prep', 'pobj', 'nummod', 'punct', 'cc', 'conj', 'prep', 'pcomp', 'compound', 'compound', 'compound', 'punct', 'poss', 'case', 'case', 'attr', 'nsubj', 'nsubj', 'relcl', 'punct', 'punct', 'meta', 'punct', 'advmod', 'ROOT', 'det', 'dobj', 'mark', 'nsubj', 'ccomp', 'punct', 'acomp', 'punct', 'punct'], ['det', 'nsubj', 'advmod', 'ROOT', 'poss', 'nsubj', 'ccomp', 'advmod', 'cc', 'advmod', 'conj', 'punct'], ['punct', 'prep', 'det', 'pobj', 'punct', 'intj', 'ROOT', 'acomp', 'mark', 'expl', 'ccomp', 'compound', 'attr', 'amod', 'aux', 'xcomp', 'prt', 'det', 'dobj', 'aux', 'advcl', 'poss', 'dobj', 'prep', 'poss', 'case', 'nmod', 'amod', 'cc', 'conj', 'pobj', 'punct', 'punct'], ['det', 'nsubj', 'advmod', 'ROOT', 'det', 'dobj', 'prep', 'pobj', 'punct', 'nmod', 'amod', 'conj', 'prep', 'pobj', 'punct'], ['advmod', 'intj', 'amod', 'nsubj', 'nsubj', 'relcl', 'prep', 'det', 'nummod', 'pobj', 'advcl', 'compound', 'dobj', 'punct', 'nsubj', 'ROOT', 'nsubj', 'aux', 'ccomp', 'punct'], ['prep', 'pobj', 'punct', 'npadvmod', 'nummod', 'punct', 'compound', 'nsubj', 'prep', 'compound', 'punct', 'pobj', 'ROOT', 'nummod', 'compound', 'dobj', 'cc', 'amod', 'conj', 'acl', 'prep', 'pobj', 'punct', 'appos', 'punct'], ['nsubj', 'ROOT', 'acomp', 'nsubj', 'aux', 'ccomp', 'prt', 'dobj', 'punct', 'conj', 'dobj', 'prep', 'pobj', 'cc', 'auxpass', 'conj', 'aux', 'xcomp', 'advmod', 'punct', 'advcl', 'prt', 'dobj', 'punct'], ['nsubjpass', 'auxpass', 'advmod', 'ROOT', 'prep', 'det', 'pobj', 'prep', 'pobj', 'case', 'pobj', 'pobj', 'prep', 'pobj', 'cc', 'conj', 'prep', 'compound', 'pobj', 'punct', 'conj', 'cc', 'conj', 'prep', 'det', 'compound', 'punct', 'compound', 'pobj', 'punct'], ['prep', 'pobj', 'nummod', 'det', 'compound', 'nsubj', 'ROOT', 'dobj', 'aux', 'acl', 'det', 'compound', 'compound', 'dobj', 'advmod', 'prep', 'det', 'compound', 'pobj', 'punct'], ['det', 'compound', 'nsubj', 'aux', 'ROOT', 'dobj', 'nsubj', 'relcl', 'aux', 'advcl', 'det', 'compound', 'dobj', 'aux', 'xcomp', 'dobj', 'prep', 'pobj', 'prep', 'pobj', 'cc', 'conj', 'amod', 'dobj', 'punct'], ['det', 'compound', 'nsubj', 'advmod', 'ROOT', 'det', 'amod', 'dobj', 'npadvmod', 'prep', 'det', 'pobj', 'prep', 'pobj', 'prep', 'det', 'amod', 'pobj', 'prep', 'pobj', 'punct', 'cc', 'det', 'compound', 'conj', 'prep', 'pobj', 'punct', 'prep', 'pobj', 'nmod', 'punct', 'nsubj', 'aux', 'relcl', 'dobj', 'cc', 'advmod', 'amod', 'quantmod', 'nummod', 'nsubjpass', 'auxpass', 'conj', 'cc', 'conj', 'prep', 'amod', 'pobj', 'nsubj', 'relcl', 'compound', 'dobj', 'cc', 'det', 'conj', 'punct'], ['prep', 'pobj', 'nummod', 'punct', 'npadvmod', 'punct', 'det', 'compound', 'nsubj', 'acl', 'prep', 'det', 'compound', 'compound', 'pobj', 'ROOT', 'poss', 'dobj', 'punct'], ['prep', 'pobj', 'punct', 'nsubj', 'ROOT', 'advmod', 'det', 'amod', 'dobj', 'prep', 'pobj', 'punct'], ['prep', 'pobj', 'punct', 'mark', 'advcl', 'prep', 'det', 'pobj', 'prep', 'poss', 'amod', 'pobj', 'punct', 'nsubjpass', 'auxpass', 'ROOT', 'cc', 'conj', 'agent', 'npadvmod', 'punct', 'amod', 'compound', 'pobj', 'punct', 'punct', 'ROOT', 'punct'], ['det', 'nsubj', 'ROOT', 'nsubj', 'aux', 'aux', 'ccomp', 'det', 'nsubj', 'ccomp', 'prep', 'det', 'pobj', 'punct'], ['det', 'compound', 'nsubjpass', 'auxpass', 'ROOT', 'prep', 'pobj', 'punct'], ['compound', 'nsubj', 'ROOT', 'mark', 'det', 'nsubj', 'ccomp', 'nummod', 'dobj', 'cc', 'conj', 'nummod', 'amod', 'dobj', 'punct', 'cc', 'conj', 'nsubj', 'ccomp', 'punct'], ['det', 'nsubj', 'prep', 'pobj', 'ROOT', 'npadvmod', 'det', 'dobj', 'prep', 'det', 'pobj', 'nsubj', 'aux', 'relcl', 'compound', 'compound', 'dobj', 'punct'], ['det', 'nsubj', 'ROOT', 'ccomp', 'mark', 'det', 'compound', 'nsubj', 'aux', 'advmod', 'csubj', 'aux', 'dep', 'dep', 'xcomp', 'prep', 'det', 'pobj', 'punct'], ['compound', 'amod', 'compound', 'nsubj', 'aux', 'ROOT', 'dobj', 'prep', 'pobj', 'auxpass', 'acl', 'agent', 'compound', 'compound', 'pobj', 'mark', 'amod', 'compound', 'nsubj', 'advmod', 'prep', 'prep', 'pobj', 'punct'], ['det', 'nsubj', 'cc', 'poss', 'conj', 'punct', 'advmod', 'appos', 'punct', 'aux', 'ROOT', 'det', 'amod', 'dobj', 'acl', 'advmod', 'prep', 'pobj', 'cc', 'amod', 'conj', 'cc', 'conj', 'prep', 'pobj', 'punct', 'advcl', 'amod', 'amod', 'dobj', 'punct'], ['advcl', 'prep', 'pobj', 'mark', 'compound', 'nsubj', 'aux', 'acl', 'det', 'compound', 'compound', 'compound', 'dobj', 'prep', 'pobj', 'prep', 'pobj', 'punct', 'compound', 'compound', 'compound', 'compound', 'nsubj', 'ROOT', 'punct'], ['det', 'nsubj', 'punct', 'prep', 'poss', 'amod', 'pobj', 'prep', 'compound', 'pobj', 'punct', 'aux', 'ROOT', 'advmod', 'acomp', 'prep', 'det', 'amod', 'pobj', 'aux', 'acl', 'det', 'dobj', 'prep', 'compound', 'pobj', 'prep', 'amod', 'punct', 'amod', 'pobj', 'advmod', 'advmod', 'prep', 'amod', 'punct'], ['ROOT', 'punct', 'nmod', 'nmod', 'prep', 'pobj', 'compound', 'nsubj', 'aux', 'ROOT', 'prep', 'pobj', 'prep', 'pobj', 'punct', 'nmod', 'amod', 'dobj', 'punct', 'acl', 'agent', 'det', 'amod', 'pobj', 'punct', 'aux', 'relcl', 'dobj', 'aux', 'acl', 'det', 'dobj', 'prep', 'pobj', 'punct'], ['punct', 'prep', 'pobj', 'prep', 'det', 'pobj', 'punct', 'det', 'nsubj', 'prep', 'det', 'amod', 'nummod', 'pobj', 'ROOT', 'nummod', 'dobj', 'punct', 'prep', 'pobj', 'prep', 'det', 'amod', 'pobj', 'cc', 'det', 'compound', 'conj', 'nsubj', 'relcl', 'poss', 'punct', 'nmod', 'amod', 'amod', 'dobj', 'punct', 'punct'], ['nsubj', 'ROOT', 'advmod', 'dobj', 'prep', 'poss', 'nummod', 'punct', 'pobj', 'pobj', 'prep', 'punct', 'pobj', 'punct'], ['ROOT', 'intj', 'nummod', 'pobj', 'punct', 'intj', 'prep', 'compound', 'pobj', 'punct', 'compound', 'conj', 'cc', 'compound', 'conj', 'punct', 'compound', 'nsubj', 'ROOT', 'poss', 'dobj', 'prep', 'npadvmod', 'punct', 'amod', 'pobj', 'punct', 'cc', 'aux', 'conj', 'det', 'dobj', 'nummod', 'npadvmod', 'advmod', 'punct'], ['punct', 'mark', 'nsubj', 'advcl', 'punct', 'dobj', 'ccomp', 'advmod', 'punct', 'nsubj', 'punct', 'conj', 'punct', 'cc', 'conj', 'ROOT', 'punct', 'nsubj', 'ccomp', 'advmod', 'prep', 'det', 'pobj', 'punct'], ['det', 'compound', 'nsubj', 'ROOT', 'det', 'nmod', 'dobj', 'prep', 'pobj', 'cc', 'amod', 'conj', 'prep', 'pobj', 'prep', 'det', 'amod', 'pobj', 'prep', 'pobj', 'cc', 'conj', 'pobj', 'punct'], ['nsubj', 'ROOT', 'det', 'dobj', 'cc', 'amod', 'amod', 'conj', 'prep', 'compound', 'compound', 'pobj', 'prep', 'pobj', 'punct', 'appos', 'punct', 'prep', 'nummod', 'punct', 'nummod', 'pobj'], ['punct', 'ROOT', 'det', 'amod', 'dobj', 'punct'], ['det', 'nsubj', 'ROOT', 'prt', 'amod', 'dobj', 'prep', 'pobj', 'punct', 'advcl', 'poss', 'compound', 'punct', 'compound', 'dobj', 'prep', 'det', 'pobj', 'cc', 'conj', 'nsubj', 'aux', 'ccomp', 'det', 'attr', 'prep', 'det', 'amod', 'pobj', 'prep', 'det', 'advmod', 'punct', 'amod', 'pobj', 'punct'], ['ROOT', 'det', 'compound', 'dobj', 'prep', 'pobj', 'prep', 'dep', 'dep', 'pobj', 'punct', 'conj', 'punct', 'conj', 'cc', 'amod', 'conj', 'punct'], ['det', 'nsubj', 'ROOT', 'advmod', 'det', 'dobj', 'mark', 'nmod', 'punct', 'nmod', 'punct', 'nsubj', 'punct', 'prep', 'pobj', 'acl', 'det', 'attr', 'cc', 'mark', 'nsubj', 'conj', 'dobj', 'advmod', 'punct'], ['nsubj', 'ROOT', 'mark', 'npadvmod', 'punct', 'compound', 'nsubj', 'aux', 'ccomp', 'advmod', 'prep', 'det', 'pobj', 'punct'], ['prep', 'pobj', 'prep', 'nmod', 'cc', 'conj', 'pobj', 'punct', 'det', 'nummod', 'nsubj', 'ROOT', 'acomp', 'aux', 'xcomp', 'det', 'dobj', 'prep', 'det', 'pobj', 'prep', 'pobj', 'cc', 'conj', 'mark', 'nsubj', 'prep', 'pcomp', 'poss', 'dobj', 'advmod', 'advcl', 'det', 'amod', 'dobj', 'mark', 'det', 'nsubj', 'aux', 'advcl', 'det', 'amod', 'dobj', 'punct'], ['cc', 'punct', 'det', 'nmod', 'nummod', 'compound', 'nsubj', 'ccomp', 'det', 'compound', 'ccomp', 'dobj', 'punct', 'nsubj', 'ROOT', 'punct'], ['prep', 'poss', 'case', 'case', 'pobj', 'punct', 'nsubj', 'ROOT', 'dobj', 'prep', 'poss', 'pobj', 'punct', 'compound', 'compound', 'compound', 'punct', 'appos', 'punct', 'preconj', 'advmod', 'cc', 'conj', 'det', 'pobj', 'punct'], ['cc', 'prep', 'pobj', 'punct', 'nsubjpass', 'prep', 'pobj', 'auxpass', 'ROOT', 'aux', 'aux', 'xcomp', 'nummod', 'amod', 'amod', 'compound', 'dobj', 'nsubj', 'aux', 'aux', 'relcl', 'prep', 'det', 'pobj', 'prep', 'pobj', 'punct'], ['ROOT', 'prep', 'pobj', 'punct', 'nummod', 'nsubj', 'ROOT', 'nummod', 'nmod', 'amod', 'dobj', 'punct', 'conj', 'det', 'compound', 'dobj', 'punct', 'det', 'amod', 'compound', 'appos', 'punct', 'nummod', 'npadvmod', 'punct', 'amod', 'conj', 'punct', 'nummod', 'conj', 'punct', 'det', 'compound', 'conj', 'punct', 'nummod', 'compound', 'conj', 'punct', 'nummod', 'amod', 'conj', 'punct', 'det', 'compound', 'conj', 'punct', 'cc', 'det', 'conj', 'punct', 'conj', 'nummod', 'compound', 'dobj', 'punct', 'cc', 'conj', 'nummod', 'compound', 'dobj', 'cc', 'det', 'nmod', 'amod', 'conj', 'punct'], ['det', 'nsubj', 'ROOT', 'aux', 'xcomp', 'dobj', 'prep', 'pobj', 'prep', 'det', 'pobj', 'cc', 'conj', 'prep', 'pobj', 'prep', 'det', 'pobj', 'prep', 'pobj', 'punct'], ['det', 'nsubjpass', 'acl', 'aux', 'xcomp', 'det', 'amod', 'compound', 'dobj', 'auxpass', 'ROOT', 'prep', 'punct', 'nmod', 'punct', 'cc', 'conj', 'compound', 'pobj', 'punct'], ['compound', 'nsubj', 'aux', 'ROOT', 'prep', 'det', 'pobj', 'prep', 'det', 'compound', 'compound', 'pobj', 'cc', 'auxpass', 'conj', 'prt', 'aux', 'advcl', 'poss', 'dobj', 'prep', 'compound', 'compound', 'compound', 'pobj', 'nsubj', 'aux', 'advmod', 'ccomp', 'prep', 'det', 'pobj', 'prep', 'det', 'pobj', 'punct'], ['amod', 'nsubj', 'prep', 'det', 'pobj', 'ROOT', 'acomp', 'aux', 'xcomp', 'dobj', 'prep', 'amod', 'pobj', 'prep', 'det', 'compound', 'pobj', 'prep', 'amod', 'compound', 'pobj', 'punct'], ['det', 'npadvmod', 'nsubj', 'relcl', 'prep', 'det', 'amod', 'pobj', 'punct', 'nsubj', 'ROOT', 'prt', 'prep', 'pobj', 'advmod', 'punct'], ['ROOT', 'nummod', 'dobj', 'punct', 'advcl', 'nummod', 'dobj', 'punct'], ['nsubjpass', 'auxpass', 'ROOT', 'cc', 'conj', 'prep', 'det', 'dep', 'dep', 'amod', 'pobj', 'acl', 'agent', 'det', 'compound', 'pobj', 'prep', 'pobj', 'nummod', 'punct', 'nummod', 'punct', 'punct', 'ROOT', 'punct', 'punct', 'ROOT', 'punct'], ['advmod', 'advmod', 'expl', 'ROOT', 'amod', 'attr', 'advmod', 'cc', 'det', 'nsubj', 'aux', 'conj', 'det', 'amod', 'dobj', 'advmod', 'prep', 'pcomp', 'det', 'amod', 'dobj', 'punct'], ['nsubj', 'ROOT', 'det', 'poss', 'case', 'nsubj', 'nsubjpass', 'prep', 'det', 'compound', 'punct', 'compound', 'pobj', 'prep', 'pobj', 'punct', 'det', 'npadvmod', 'punct', 'amod', 'appos', 'advmod', 'nummod', 'appos', 'punct', 'nummod', 'appos', 'punct', 'advmod', 'prep', 'pobj', 'punct', 'aux', 'auxpass', 'ccomp', 'prep', 'compound', 'compound', 'pobj', 'advmod', 'nsubjpass', 'auxpass', 'advcl', 'agent', 'det', 'pobj'], ['nsubjpass', 'auxpass', 'ROOT', 'aux', 'xcomp', 'dobj', 'cc', 'conj', 'dobj', 'prep', 'amod', 'pobj', 'cc', 'conj', 'prep', 'amod', 'pobj', 'punct'], ['nsubj', 'ROOT', 'advmod', 'acomp', 'cc', 'conj', 'agent', 'pobj', 'mark', 'nsubj', 'aux', 'acl', 'nummod', 'dobj', 'prep', 'det', 'compound', 'compound', 'compound', 'pobj', 'prep', 'compound', 'pobj', 'punct', 'appos', 'punct'], ['nsubj', 'advmod', 'ROOT', 'acomp', 'punct', 'conj', 'punct', 'conj', 'cc', 'conj', 'conj', 'punct', 'conj', 'cc', 'conj', 'punct'], ['det', 'amod', 'nsubj', 'punct', 'prep', 'pobj', 'cc', 'conj', 'punct', 'aux', 'advmod', 'ROOT', 'aux', 'advcl', 'det', 'amod', 'dobj', 'prep', 'pobj', 'aux', 'advcl', 'xcomp', 'det', 'dobj', 'prep', 'det', 'amod', 'pobj', 'acl', 'prep', 'amod', 'pobj', 'punct', 'punct'], ['det', 'compound', 'nsubj', 'punct', 'compound', 'appos', 'punct', 'ROOT', 'punct'], ['mark', 'poss', 'compound', 'nsubj', 'npadvmod', 'aux', 'advcl', 'dobj', 'punct', 'nsubj', 'ROOT', 'amod', 'dobj', 'acl', 'aux', 'advcl', 'poss', 'dobj', 'punct', 'cc', 'nsubj', 'conj', 'aux', 'xcomp', 'poss', 'amod', 'dobj', 'aux', 'xcomp', 'cc', 'conj', 'det', 'nsubj', 'ccomp', 'poss', 'amod', 'dobj', 'punct'], ['cc', 'nummod', 'nsubj', 'prep', 'poss', 'pobj', 'ROOT', 'prep', 'det', 'amod', 'compound', 'pobj', 'acl', 'prt', 'agent', 'det', 'pobj', 'punct'], ['nsubj', 'ROOT', 'nsubj', 'ccomp', 'prep', 'pobj', 'mark', 'nsubjpass', 'auxpass', 'advcl', 'punct'], ['punct', 'nmod', 'punct', 'npadvmod', 'amod', 'nsubj', 'ccomp', 'det', 'attr', 'prep', 'amod', 'pobj', 'punct', 'punct', 'nsubj', 'ROOT', 'punct'], ['compound', 'nsubjpass', 'auxpass', 'ROOT', 'prep', 'det', 'pobj', 'prep', 'compound', 'pobj', 'punct', 'conj', 'cc', 'compound', 'conj', 'prep', 'det', 'pobj', 'punct'], ['prep', 'amod', 'pobj', 'punct', 'nsubj', 'aux', 'ROOT', 'det', 'compound', 'compound', 'compound', 'compound', 'compound', 'compound', 'compound', 'dobj', 'prep', 'nummod', 'punct', 'nummod', 'punct', 'pobj', 'punct'], ['ROOT', 'amod', 'dobj', 'prep', 'pobj', 'cc', 'conj', 'pobj'], ['cc', 'nsubj', 'aux', 'advmod', 'ROOT', 'nsubj', 'ccomp', 'punct'], ['amod', 'compound', 'nsubj', 'aux', 'ROOT', 'prep', 'det', 'pobj', 'dobj', 'amod', 'nsubj', 'aux', 'relcl', 'prep', 'det', 'amod', 'pobj', 'aux', 'advcl', 'dobj', 'punct'], ['nsubj', 'advmod', 'ROOT', 'det', 'amod', 'dobj', 'prep', 'pobj', 'prep', 'det', 'compound', 'pobj', 'prep', 'pobj', 'punct', 'compound', 'conj', 'punct', 'conj', 'punct', 'conj', 'punct', 'conj', 'punct', 'conj', 'punct', 'conj', 'punct', 'conj', 'prep', 'det', 'pobj', 'prep', 'det', 'pobj', 'punct'], ['punct', 'punct', 'punct', 'advmod', 'det', 'nsubj', 'ccomp', 'prep', 'pobj', 'punct', 'punct', 'punct', 'nsubj', 'ROOT', 'punct'], ['prep', 'poss', 'amod', 'compound', 'pobj', 'cc', 'conj', 'prep', 'amod', 'amod', 'pobj', 'prep', 'pobj', 'cc', 'conj', 'punct', 'nsubj', 'aux', 'ROOT', 'dobj', 'prep', 'pobj', 'prep', 'amod', 'pobj', 'punct', 'advcl', 'dobj', 'aux', 'xcomp', 'cc', 'conj', 'amod', 'dobj', 'punct'], ['ROOT', 'punct', 'aux', 'det', 'compound', 'nsubj', 'acl', 'prep', 'det', 'compound', 'pobj', 'prep', 'pobj', 'prep', 'pobj', 'nummod', 'punct', 'nsubj', 'aux', 'relcl', 'punct', 'prep', 'det', 'pobj', 'punct', 'det', 'amod', 'dobj', 'aux', 'nsubj', 'parataxis', 'punct', 'npadvmod', 'punct', 'punct'], ['nsubj', 'ROOT', 'prep', 'det', 'pobj', 'punct'], ['det', 'amod', 'nsubj', 'ROOT', 'prep', 'compound', 'pobj', 'prep', 'nummod', 'pobj', 'prep', 'pobj', 'punct', 'advcl', 'det', 'dobj', 'prep', 'compound', 'compound', 'pobj', 'punct'], ['mark', 'nsubj', 'aux', 'advmod', 'advcl', 'oprd', 'punct', 'det', 'compound', 'nsubj', 'ROOT', 'amod', 'dobj', 'cc', 'conj', 'punct'], ['det', 'nsubj', 'ROOT', 'prep', 'pobj', 'punct', 'cc', 'conj', 'prt', 'prep', 'det', 'amod', 'pobj', 'prep', 'det', 'pobj', 'prep', 'pobj', 'conj', 'attr', 'cc', 'dep', 'dep', 'conj', 'punct'], ['nsubj', 'ROOT', 'cc', 'conj', 'nummod', 'dobj', 'punct', 'prep', 'nummod', 'pobj', 'nsubjpass', 'auxpass', 'relcl', 'punct'], ['nsubj', 'ROOT', 'prep', 'pobj', 'aux', 'advcl', 'poss', 'dobj', 'punct', 'det', 'nummod', 'punct', 'npadvmod', 'punct', 'amod', 'appos', 'nsubj', 'relcl', 'advmod', 'mark', 'nsubj', 'advcl', 'punct'], ['det', 'nsubj', 'aux', 'ROOT', 'det', 'attr', 'mark', 'compound', 'nsubj', 'aux', 'advcl', 'amod', 'dobj', 'prep', 'pobj', 'cc', 'conj', 'cc', 'aux', 'conj', 'dobj', 'aux', 'advmod', 'relcl', 'det', 'dobj', 'prep', 'nmod', 'punct', 'pobj', 'prep', 'pobj', 'cc', 'conj', 'cc', 'poss', 'conj', 'prep', 'det', 'amod', 'pobj', 'punct'], ['nsubj', 'ROOT', 'dobj', 'prep', 'pcomp', 'aux', 'xcomp', 'prt', 'amod', 'dobj', 'prep', 'pcomp', 'punct'], ['prep', 'det', 'amod', 'punct', 'compound', 'pobj', 'punct', 'det', 'compound', 'nsubj', 'ROOT', 'acomp', 'prep', 'pobj', 'prep', 'poss', 'punct', 'punct', 'advmod', 'amod', 'pobj', 'cc', 'conj', 'punct', 'dep', 'acl', 'prep', 'pobj', 'punct', 'compound', 'ROOT', 'punct'], ['det', 'nsubj', 'ROOT', 'det', 'amod', 'attr', 'prep', 'pobj', 'prep', 'amod', 'pobj', 'prep', 'det', 'amod', 'pobj', 'prep', 'compound', 'pobj', 'prep', 'pobj', 'punct', 'appos', 'punct'], ['nsubj', 'advmod', 'ROOT', 'aux', 'xcomp', 'amod', 'dobj', 'cc', 'compound', 'conj', 'punct', 'mark', 'det', 'nsubj', 'aux', 'advcl', 'advmod', 'acomp', 'prep', 'det', 'pobj', 'prep', 'det', 'compound', 'compound', 'pobj', 'cc', 'amod', 'amod', 'amod', 'conj', 'prep', 'pobj', 'punct'], ['det', 'nsubjpass', 'auxpass', 'ROOT', 'prep', 'det', 'pobj', 'prep', 'det', 'pobj', 'punct', 'npadvmod', 'prep', 'det', 'pobj', 'prep', 'det', 'pobj', 'punct'], ['det', 'compound', 'nsubj', 'advmod', 'ROOT', 'det', 'amod', 'amod', 'dobj', 'prep', 'pobj', 'npadvmod', 'punct', 'prep', 'pobj', 'prep', 'pobj', 'acl', 'agent', 'pobj', 'nsubj', 'advmod', 'relcl', 'dobj', 'prep', 'det', 'amod', 'pobj', 'punct'], ['punct', 'nsubjpass', 'auxpass', 'advmod', 'ccomp', 'agent', 'det', 'pobj', 'prep', 'det', 'compound', 'pobj', 'mark', 'nsubjpass', 'prep', 'poss', 'amod', 'compound', 'pobj', 'aux', 'auxpass', 'acl', 'prep', 'pobj', 'mark', 'advcl', 'dobj', 'prep', 'det', 'pobj', 'prep', 'pobj', 'punct', 'punct', 'nsubj', 'ROOT', 'prep', 'det', 'compound', 'nummod', 'pobj', 'punct'], ['ROOT', 'prep', 'pobj', 'punct', 'nummod', 'nsubj', 'ROOT', 'det', 'npadvmod', 'punct', 'amod', 'dobj', 'punct'], ['compound', 'ROOT', 'punct', 'ROOT', 'punct', 'punct', 'dep', 'ROOT', 'punct', 'ROOT', 'compound', 'ROOT', 'compound', 'compound', 'compound', 'compound', 'dep', 'nsubj', 'appos', 'punct', 'ROOT', 'det', 'amod', 'amod', 'compound', 'compound', 'attr', 'nsubj', 'relcl', 'prep', 'pobj', 'punct', 'conj', 'punct', 'cc', 'nmod', 'punct', 'conj', 'punct'], ['compound', 'compound', 'compound', 'punct', 'ROOT', 'punct', 'meta', 'dep', 'dep', 'appos', 'ROOT', 'ROOT', 'ROOT', 'ROOT', 'ROOT', 'ROOT', 'compound', 'compound', 'compound', 'compound', 'nsubj', 'punct', 'ROOT', 'nummod', 'npadvmod', 'nummod', 'punct', 'det', 'nsubj', 'prep', 'compound', 'punct', 'nmod', 'punct', 'compound', 'pobj', 'punct', 'ROOT', 'det', 'amod', 'punct', 'nummod', 'punct', 'amod', 'amod', 'attr', 'cc', 'det', 'conj', 'prep', 'det', 'amod', 'amod', 'pobj', 'prep', 'det', 'compound', 'punct', 'compound', 'pobj', 'prep', 'det', 'pobj'], ['cc', 'nsubj', 'aux', 'ROOT', 'det', 'amod', 'dobj', 'prep', 'pobj', 'prep', 'pobj', 'acl', 'prep', 'amod', 'pobj', 'punct', 'cc', 'compound', 'compound', 'conj', 'cc', 'conj', 'aux', 'advcl', 'dobj', 'punct'], ['det', 'amod', 'nsubj', 'ROOT', 'det', 'amod', 'dobj', 'prep', 'poss', 'amod', 'pobj', 'prep', 'pobj', 'punct', 'prep', 'pobj', 'cc', 'conj', 'punct', 'amod', 'conj', 'punct', 'cc', 'amod', 'cc', 'conj', 'conj', 'punct'], ['nsubj', 'ROOT', 'acomp', 'prep', 'det', 'amod', 'pobj', 'prep', 'det', 'pobj', 'prep', 'pobj', 'punct', 'advmod', 'advcl', 'prep', 'poss', 'pobj', 'cc', 'conj', 'det', 'pobj', 'prep', 'pobj', 'punct', 'punct', 'ROOT', 'punct'], ['nsubj', 'ccomp', 'det', 'amod', 'attr', 'punct', 'nsubjpass', 'aux', 'auxpass', 'ROOT', 'prep', 'poss', 'amod', 'cc', 'conj', 'pobj', 'prep', 'det', 'compound', 'pobj', 'npadvmod', 'punct'], ['punct', 'expl', 'ROOT', 'advmod', 'nummod', 'attr', 'aux', 'relcl', 'det', 'dobj', 'punct', 'det', 'npadvmod', 'punct', 'amod', 'amod', 'attr', 'acl', 'prep', 'det', 'pobj', 'advmod', 'prep', 'det', 'compound', 'pobj', 'punct'], ['punct', 'det', 'amod', 'nsubj', 'advmod', 'ROOT', 'amod', 'dobj', 'prep', 'pobj', 'punct', 'cc', 'nsubj', 'conj', 'det', 'amod', 'attr', 'punct'], ['prep', 'nummod', 'pobj', 'nummod', 'punct', 'nsubj', 'ROOT', 'mark', 'nsubj', 'aux', 'ccomp', 'cc', 'conj', 'dobj', 'prep', 'pobj', 'cc', 'conj', 'punct', 'cc', 'aux', 'conj', 'nummod', 'dobj', 'prep', 'pobj', 'nummod', 'punct', 'punct', 'ROOT', 'punct', 'punct', 'ROOT', 'punct'], ['det', 'compound', 'nsubj', 'ROOT', 'det', 'dobj', 'prep', 'amod', 'compound', 'pobj', 'advmod', 'punct'], ['nsubj', 'ROOT', 'det', 'attr', 'prep', 'det', 'pobj', 'prep', 'compound', 'nmod', 'dep', 'compound', 'pobj', 'punct', 'cc', 'conj', 'dobj', 'prep', 'det', 'compound', 'punct', 'compound', 'pobj', 'prep', 'pobj', 'punct', 'prep', 'punct', 'cc', 'det', 'conj', 'prep', 'pobj', 'prep', 'pobj', 'punct', 'prep', 'punct'], ['nsubj', 'ROOT', 'det', 'nsubj', 'prep', 'pobj', 'ccomp', 'det', 'compound', 'attr', 'prep', 'pcomp', 'det', 'pobj', 'prep', 'pobj', 'cc', 'conj', 'prep', 'pobj', 'punct'], ['det', 'nsubj', 'ROOT', 'det', 'amod', 'attr', 'prep', 'det', 'pobj', 'mark', 'nsubj', 'aux', 'advcl', 'amod', 'dobj', 'prep', 'amod', 'compound', 'pobj', 'punct'], ['det', 'amod', 'nsubjpass', 'aux', 'auxpass', 'ROOT', 'prep', 'det', 'compound', 'compound', 'compound', 'compound', 'pobj', 'acl', 'prep', 'det', 'pobj', 'prep', 'pobj', 'prep', 'det', 'compound', 'compound', 'pobj', 'punct'], ['nsubj', 'aux', 'advmod', 'ROOT', 'amod', 'quantmod', 'nummod', 'dobj', 'prep', 'det', 'pobj', 'nsubj', 'advmod', 'relcl', 'advmod', 'punct'], ['punct', 'det', 'nsubj', 'aux', 'ccomp', 'amod', 'dobj', 'prep', 'det', 'pobj', 'punct', 'cc', 'nsubj', 'aux', 'aux', 'conj', 'aux', 'xcomp', 'acomp', 'nsubj', 'aux', 'ccomp', 'det', 'dobj', 'aux', 'advcl', 'det', 'dobj', 'prep', 'poss', 'pobj', 'punct', 'punct', 'ROOT', 'compound', 'compound', 'compound', 'compound', 'nsubj', 'punct', 'appos', 'punct', 'amod', 'compound', 'compound', 'compound', 'compound', 'compound', 'punct', 'compound', 'compound', 'appos', 'punct'], ['ROOT', 'prep', 'compound', 'compound', 'pobj'], ['nsubj', 'aux', 'ROOT', 'aux', 'xcomp', 'det', 'amod', 'dobj', 'prep', 'pobj', 'cc', 'conj', 'dobj', 'punct', 'dobj', 'mark', 'mark', 'nsubj', 'aux', 'neg', 'advmod', 'advcl', 'dobj', 'nsubj', 'relcl', 'poss', 'amod', 'dobj', 'punct'], ['advmod', 'ROOT', 'npadvmod', 'punct', 'npadvmod', 'punct'], ['prep', 'det', 'pobj', 'prep', 'pobj', 'det', 'compound', 'nsubj', 'aux', 'ROOT', 'prep', 'det', 'pobj', 'punct', 'advcl', 'compound', 'dobj', 'prep', 'nummod', 'pobj', 'punct'], ['det', 'amod', 'nsubj', 'prep', 'compound', 'pobj', 'ROOT', 'det', 'amod', 'attr', 'prep', 'det', 'pobj', 'aux', 'acl', 'compound', 'dobj', 'prep', 'nmod', 'punct', 'pobj', 'cc', 'aux', 'conj', 'det', 'dobj', 'det', 'amod', 'nsubj', 'relcl', 'punct'], ['det', 'nsubj', 'prep', 'pobj', 'ROOT', 'det', 'amod', 'attr', 'acl', 'agent', 'pobj', 'prep', 'pobj', 'punct'], ['ROOT', 'prep', 'det', 'compound', 'compound', 'compound', 'compound', 'pobj', 'prep', 'pobj', 'prep', 'pobj', 'prep', 'det', 'pobj', 'prep', 'pobj', 'acl', 'agent', 'pobj', 'cc', 'conj', 'prep', 'nummod', 'pobj', 'punct'], ['ROOT', 'prep', 'det', 'compound', 'compound', 'compound', 'compound', 'pobj', 'prep', 'det', 'pobj', 'prep', 'det', 'amod', 'pobj', 'aux', 'relcl', 'det', 'dobj', 'prep', 'pobj', 'prep', 'pobj', 'punct'], ['det', 'nsubj', 'ROOT', 'prep', 'det', 'pobj', 'prep', 'det', 'pobj', 'punct', 'advmod', 'nummod', 'appos', 'punct', 'nummod', 'appos', 'punct', 'prep', 'det', 'amod', 'pobj'], ['amod', 'compound', 'nsubjpass', 'cc', 'amod', 'nmod', 'amod', 'amod', 'conj', 'aux', 'auxpass', 'ROOT', 'prep', 'pcomp', 'amod', 'dobj', 'prep', 'amod', 'pobj', 'prep', 'pobj', 'punct'], ['ROOT', 'prep', 'pobj', 'punct', 'nummod', 'nsubj', 'ROOT', 'det', 'advmod', 'amod', 'dobj', 'punct'], ['prep', 'pobj', 'prep', 'det', 'compound', 'compound', 'pobj', 'punct', 'compound', 'nsubj', 'ROOT', 'det', 'compound', 'dobj', 'prep', 'det', 'pobj', 'aux', 'relcl', 'compound', 'dobj', 'xcomp', 'prep', 'amod', 'pobj', 'punct'], ['nsubj', 'ROOT', 'compound', 'dobj', 'cc', 'conj', 'prep', 'det', 'pobj', 'punct', 'nsubj', 'nsubj', 'relcl', 'aux', 'neg', 'ccomp', 'det', 'amod', 'dobj', 'cc', 'conj', 'prep', 'det', 'pobj', 'punct'], ['nsubj', 'aux', 'ROOT', 'dobj', 'punct', 'conj', 'cc', 'conj', 'prep', 'amod', 'pobj', 'punct', 'prep', 'prep', 'pobj', 'cc', 'conj', 'acl', 'det', 'amod', 'compound', 'dobj', 'punct'], ['det', 'nsubjpass', 'auxpass', 'ROOT', 'prep', 'pobj', 'prep', 'compound', 'compound', 'pobj', 'punct', 'det', 'appos', 'aux', 'relcl', 'det', 'amod', 'amod', 'dobj', 'cc', 'det', 'conj', 'nsubj', 'relcl', 'prep', 'pobj', 'punct', 'conj', 'punct', 'cc', 'det', 'amod', 'amod', 'conj', 'punct'], ['nsubj', 'advmod', 'ROOT', 'prep', 'det', 'pobj', 'prep', 'pobj', 'aux', 'advcl', 'mark', 'nsubj', 'advcl', 'mark', 'punct', 'prep', 'det', 'pobj', 'det', 'nsubj', 'relcl', 'advmod', 'punct', 'det', 'npadvmod', 'nsubj', 'prep', 'det', 'pobj', 'prep', 'pobj', 'prep', 'det', 'pobj', 'ccomp', 'punct'], ['nsubj', 'ROOT', 'nsubj', 'aux', 'ccomp', 'det', 'attr', 'prep', 'amod', 'pobj', 'aux', 'relcl', 'punct', 'cc', 'conj', 'advmod', 'punct', 'compound', 'npadvmod', 'prep', 'det', 'amod', 'pobj', 'punct'], ['prep', 'det', 'amod', 'nummod', 'pobj', 'punct', 'amod', 'nsubj', 'ccomp', 'poss', 'amod', 'dobj', 'prep', 'compound', 'nmod', 'prep', 'pobj', 'cc', 'det', 'amod', 'conj', 'prep', 'nummod', 'pobj', 'prep', 'pobj', 'punct', 'det', 'poss', 'punct', 'nmod', 'advmod', 'punct', 'amod', 'pobj', 'punct', 'compound', 'compound', 'compound', 'compound', 'compound', 'compound', 'compound', 'nsubj', 'ROOT', 'npadvmod', 'punct'], ['ROOT'], ['neg', 'advmod', 'det', 'intj', 'punct', 'prep', 'det', 'pobj', 'nsubj', 'ccomp', 'acomp', 'punct', 'det', 'compound', 'nsubj', 'ROOT', 'acomp', 'prep', 'pcomp', 'det', 'compound', 'compound', 'dobj', 'prep', 'pobj', 'prep', 'det', 'pobj', 'prep', 'det', 'compound', 'compound', 'pobj', 'prep', 'det', 'amod', 'cc', 'conj', 'pobj', 'prep', 'prep', 'pobj', 'punct'], ['compound', 'nsubj', 'ROOT', 'amod', 'dobj', 'punct', 'prep', 'pobj', 'punct', 'conj', 'punct', 'conj', 'cc', 'conj', 'punct'], ['nsubj', 'ROOT', 'punct'], ['ROOT', 'ROOT', 'pobj', 'compound', 'npadvmod', 'punct', 'nummod', 'nsubj', 'ROOT', 'det', 'compound', 'compound', 'dobj', 'punct'], ['nsubjpass', 'aux', 'auxpass', 'ROOT', 'advmod', 'agent', 'det', 'amod', 'pobj', 'punct', 'det', 'appos', 'prep', 'amod', 'pobj', 'punct', 'cc', 'det', 'conj', 'cc', 'conj', 'prep', 'poss', 'pobj', 'punct'], ['punct', 'punct', 'punct', 'nsubj', 'ROOT', 'aux', 'xcomp', 'prep', 'amod', 'punct', 'prt', 'pobj', 'aux', 'advcl', 'dobj', 'prep', 'pobj', 'punct'], ['ROOT', 'prep', 'pobj', 'punct', 'nummod', 'nsubj', 'ROOT', 'det', 'nmod', 'amod', 'dobj', 'cc', 'conj', 'nummod', 'amod', 'dobj', 'punct'], ['det', 'compound', 'nsubj', 'ROOT', 'acomp', 'prep', 'det', 'pobj', 'punct'], ['advmod', 'advmod', 'nummod', 'compound', 'nsubj', 'cc', 'det', 'amod', 'conj', 'prep', 'amod', 'pobj', 'ROOT', 'punct', 'punct', 'ROOT', 'punct', 'punct', 'ROOT', 'punct', 'punct', 'meta', 'punct', 'det', 'amod', 'nsubj', 'prep', 'pobj', 'punct', 'compound', 'compound', 'appos', 'punct', 'ROOT', 'mark', 'amod', 'nsubj', 'aux', 'ccomp', 'nummod', 'dobj', 'acl', 'prep', 'det', 'amod', 'pobj', 'prep', 'det', 'pobj', 'punct', 'punct', 'ROOT', 'punct'], ['det', 'nsubj', 'aux', 'ROOT', 'prep', 'poss', 'pobj', 'aux', 'advcl', 'det', 'amod', 'compound', 'dobj', 'aux', 'advcl', 'det', 'amod', 'dobj', 'prep', 'poss', 'punct', 'conj', 'pobj', 'cc', 'conj', 'punct', 'compound', 'dobj', 'punct'], ['advmod', 'advmod', 'nsubj', 'ROOT', 'dobj', 'prep', 'poss', 'pobj', 'prep', 'det', 'pobj', 'prep', 'nummod', 'pobj', 'cc', 'det', 'conj', 'prep', 'det', 'pobj', 'punct'], ['punct', 'det', 'amod', 'compound', 'punct', 'compound', 'nsubj', 'ccomp', 'poss', 'dobj', 'prep', 'det', 'poss', 'case', 'compound', 'pobj', 'punct', 'conj', 'cc', 'conj', 'punct', 'punct', 'compound', 'compound', 'compound', 'compound', 'compound', 'nsubj', 'punct', 'appos', 'prep', 'compound', 'compound', 'compound', 'compound', 'punct', 'compound', 'compound', 'pobj', 'punct', 'ROOT', 'prep', 'det', 'pobj', 'punct'], ['det', 'nsubj', 'prep', 'amod', 'pobj', 'aux', 'acl', 'det', 'dobj', 'prep', 'pobj', 'ROOT', 'det', 'npadvmod', 'advmod', 'prep', 'pcomp', 'dobj', 'prep', 'pobj', 'punct'], ['compound', 'nsubj', 'ROOT', 'amod', 'compound', 'compound', 'dobj', 'nsubj', 'relcl', 'amod', 'dobj', 'prep', 'poss', 'punct', 'nmod', 'amod', 'pobj', 'punct'], ['amod', 'nsubj', 'ROOT', 'det', 'compound', 'nsubj', 'aux', 'ccomp', 'dobj', 'prep', 'det', 'compound', 'pobj', 'aux', 'xcomp', 'amod', 'dobj', 'punct'], ['nsubjpass', 'auxpass', 'ROOT', 'agent', 'compound', 'compound', 'punct', 'pobj', 'prep', 'pobj', 'punct', 'cc', 'auxpass', 'advmod', 'conj', 'agent', 'poss', 'pobj', 'compound', 'compound', 'punct', 'appos', 'punct', 'punct', 'appos', 'punct', 'nsubj', 'aux', 'advmod', 'relcl', 'det', 'attr', 'prep', 'pobj', 'punct'], ['nsubj', 'ROOT', 'acomp', 'prep', 'advmod', 'det', 'amod', 'amod', 'pobj', 'prep', 'det', 'amod', 'pobj', 'punct'], ['advcl', 'prep', 'det', 'npadvmod', 'punct', 'amod', 'pobj', 'punct', 'nsubj', 'punct', 'ROOT', 'dobj', 'prep', 'det', 'amod', 'pobj', 'nsubj', 'relcl', 'dobj', 'punct', 'conj', 'cc', 'conj', 'prep', 'pobj', 'prep', 'det', 'amod', 'compound', 'pobj', 'prep', 'pobj', 'punct'], ['punct', 'punct', 'det', 'nsubj', 'prep', 'det', 'pobj', 'prep', 'pobj', 'ROOT', 'dobj', 'punct', 'prep', 'poss', 'amod', 'punct', 'conj', 'cc', 'conj', 'pobj', 'punct', 'punct', 'punct', 'punct'], ['compound', 'compound', 'compound', 'nsubj', 'prep', 'pobj', 'ROOT', 'attr', 'prep', 'det', 'amod', 'compound', 'pobj', 'prep', 'pobj', 'punct'], ['det', 'nsubj', 'punct', 'mark', 'acl', 'prep', 'det', 'compound', 'pobj', 'punct', 'ROOT', 'nummod', 'cc', 'conj', 'amod', 'dobj', 'nsubj', 'relcl', 'prep', 'advmod', 'det', 'amod', 'amod', 'pobj', 'aux', 'advcl', 'det', 'amod', 'punct', 'advmod', 'amod', 'dobj', 'prep', 'det', 'pobj', 'punct'], ['advmod', 'prep', 'pobj', 'punct', 'poss', 'amod', 'conj', 'cc', 'det', 'conj', 'prep', 'pobj', 'punct', 'nsubj', 'aux', 'advmod', 'ROOT', 'amod', 'dobj', 'prep', 'pobj', 'punct'], ['nsubj', 'ROOT', 'advmod', 'compound', 'attr', 'punct', 'punct', 'ROOT', 'punct'], ['compound', 'nsubj', 'ROOT', 'dobj', 'prep', 'amod', 'cc', 'conj', 'conj', 'pobj', 'prep', 'compound', 'pobj', 'cc', 'compound', 'conj', 'punct'], ['punct', 'punct', 'amod', 'nsubj', 'aux', 'ROOT', 'mark', 'nsubj', 'ccomp', 'det', 'amod', 'amod', 'attr', 'nsubj', 'relcl', 'dobj', 'cc', 'conj', 'poss', 'dobj', 'punct'], ['nummod', 'ROOT', 'nsubj', 'relcl', 'aux', 'xcomp', 'mark', 'mark', 'advmod', 'nummod', 'amod', 'nsubj', 'prep', 'compound', 'pobj', 'aux', 'ccomp', 'prep', 'pobj', 'punct'], ['punct', 'nmod', 'punct', 'nmod', 'amod', 'cc', 'conj', 'nsubj', 'ROOT', 'prep', 'pcomp', 'prep', 'det', 'amod', 'pobj', 'prep', 'amod', 'pobj', 'cc', 'advmod', 'aux', 'neg', 'auxpass', 'conj', 'mark', 'nsubj', 'advcl', 'aux', 'xcomp', 'dobj', 'prep', 'cc', 'advmod', 'conj', 'det', 'dobj', 'acl', 'prep', 'pobj', 'punct'], ['expl', 'aux', 'ROOT', 'det', 'amod', 'attr', 'prep', 'pobj', 'punct'], ['compound', 'nsubj', 'punct', 'appos', 'punct', 'appos', 'compound', 'dep', 'intj', 'punct', 'compound', 'compound', 'compound', 'appos', 'appos', 'punct', 'punct', 'ROOT', 'compound', 'compound', 'compound', 'compound', 'punct', 'dobj', 'punct', 'ROOT', 'punct', 'punct', 'punct', 'punct', 'punct', 'punct', 'punct', 'compound', 'compound', 'compound', 'dobj', 'appos', 'ROOT', 'intj', 'ROOT', 'ROOT', 'ROOT', 'ROOT', 'ROOT', 'compound', 'compound', 'dep', 'ROOT', 'appos', 'punct', 'advmod', 'prep', 'pobj', 'punct', 'prep', 'prep', 'pobj', 'punct', 'ROOT', 'det', 'amod', 'nsubj', 'amod', 'prep', 'compound', 'punct', 'pobj', 'prep', 'pobj', 'punct', 'appos', 'punct', 'punct'], ['ROOT'], ['ROOT', 'prep', 'pobj', 'punct', 'nummod', 'nsubj', 'ROOT', 'det', 'nmod', 'amod', 'dobj', 'cc', 'conj', 'nummod', 'npadvmod', 'punct', 'amod', 'dobj', 'cc', 'det', 'conj', 'punct'], ['punct', 'punct', 'punct', 'nsubj', 'nsubj', 'relcl', 'ccomp', 'nsubjpass', 'punct', 'intj', 'advmod', 'auxpass', 'ccomp', 'prep', 'punct', 'punct', 'punct', 'nsubj', 'ROOT', 'punct', 'punct'], ['det', 'nsubj', 'prep', 'det', 'pobj', 'ccomp', 'prep', 'det', 'amod', 'pobj', 'punct', 'cc', 'csubj', 'dobj', 'conj', 'advmod', 'acomp', 'punct', 'punct', 'punct', 'nsubj', 'ROOT', 'punct', 'punct'], ['compound', 'punct', 'compound', 'ROOT'], ['nsubj', 'advmod', 'ROOT', 'det', 'amod', 'dobj', 'prep', 'pobj', 'nsubj', 'punct', 'relcl', 'dobj', 'prep', 'pobj', 'punct', 'cc', 'amod', 'punct', 'amod', 'nsubjpass', 'aux', 'auxpass', 'advmod', 'conj', 'punct'], ['det', 'nsubj', 'ROOT', 'dative', 'det', 'dobj', 'cc', 'det', 'amod', 'npadvmod', 'advmod', 'punct'], ['det', 'nsubj', 'ROOT', 'aux', 'xcomp', 'nummod', 'compound', 'dobj', 'amod', 'npadvmod', 'prep', 'compound', 'pobj', 'aux', 'advcl', 'amod', 'dobj', 'prep', 'det', 'amod', 'pobj', 'cc', 'aux', 'conj', 'dobj', 'cc', 'conj', 'punct'], ['prep', 'det', 'pobj', 'punct', 'nsubj', 'ROOT', 'det', 'amod', 'dobj', 'punct'], ['advmod', 'quantmod', 'punct', 'nsubj', 'prep', 'pobj', 'case', 'pobj', 'pobj', 'prep', 'nummod', 'punct', 'pobj', 'aux', 'ROOT', 'punct'], ['nsubj', 'aux', 'ROOT', 'prep', 'pobj', 'prep', 'amod', 'pobj', 'det', 'dobj', 'prep', 'amod', 'pobj', 'aux', 'relcl', 'amod', 'dobj', 'prep', 'det', 'compound', 'pobj', 'prep', 'pobj', 'punct', 'cc', 'conj', 'pobj', 'cc', 'conj', 'punct', 'conj', 'amod', 'pobj', 'cc', 'conj', 'prep', 'det', 'pobj', 'nsubjpass', 'aux', 'auxpass', 'relcl', 'prep', 'pobj', 'prep', 'pobj', 'punct', 'prep', 'pobj', 'punct', 'det', 'nsubj', 'aux', 'aux', 'ROOT', 'det', 'dobj', 'prep', 'pobj', 'punct', 'compound', 'punct', 'nmod', 'prep', 'amod', 'pobj', 'punct', 'nummod', 'compound', 'dobj', 'prep', 'pobj', 'punct', 'prep', 'pobj', 'punct'], ['prep', 'det', 'pobj', 'punct', 'det', 'nsubj', 'prep', 'det', 'pobj', 'prep', 'pobj', 'prep', 'pobj', 'prep', 'det', 'pobj', 'prep', 'det', 'compound', 'pobj', 'ROOT', 'acomp', 'punct'], ['compound', 'ROOT'], ['compound', 'compound', 'nsubj', 'aux', 'ROOT', 'cc', 'conj', 'poss', 'amod', 'dobj', 'punct', 'prep', 'pobj', 'prep', 'compound', 'compound', 'pobj', 'punct', 'punct'], ['nsubj', 'punct', 'npadvmod', 'ROOT', 'prep', 'poss', 'pobj', 'punct', 'nsubj', 'ROOT', 'dobj', 'punct', 'punct', 'ROOT', 'punct'], ['prep', 'pcomp', 'poss', 'pobj', 'prep', 'compound', 'compound', 'compound', 'pobj', 'cc', 'compound', 'compound', 'conj', 'punct', 'poss', 'nsubj', 'aux', 'ROOT', 'poss', 'punct', 'case', 'dobj', 'aux', 'acl', 'dobj', 'cc', 'conj', 'amod', 'dobj', 'prep', 'det', 'pobj', 'punct'], ['advmod', 'punct', 'prep', 'pobj', 'punct', 'nsubjpass', 'aux', 'auxpass', 'ROOT', 'advmod', 'det', 'amod', 'dobj', 'punct'], ['nsubj', 'advmod', 'ROOT', 'det', 'dobj', 'prep', 'pobj', 'aux', 'xcomp', 'dobj', 'cc', 'aux', 'advmod', 'advmod', 'conj', 'dobj', 'punct', 'appos', 'nsubj', 'relcl', 'aux', 'aux', 'xcomp', 'punct'], ['compound', 'advcl', 'punct', 'nsubj', 'prep', 'det', 'pobj', 'aux', 'advmod', 'ROOT', 'acomp', 'aux', 'xcomp', 'dobj', 'punct'], ['punct', 'prep', 'pobj', 'det', 'amod', 'punct', 'compound', 'nsubjpass', 'punct', 'nsubj', 'relcl', 'det', 'dobj', 'cc', 'conj', 'prep', 'det', 'compound', 'pobj', 'punct', 'auxpass', 'ROOT', 'prep', 'det', 'pobj', 'punct'], ['compound', 'ROOT', 'punct', 'nsubj', 'advmod', 'ROOT', 'prep', 'det', 'advmod', 'amod', 'pobj', 'prep', 'pobj', 'cc', 'nsubj', 'conj', 'det', 'dobj', 'prep', 'pobj', 'punct', 'cc', 'nsubj', 'conj', 'aux', 'xcomp', 'prep', 'det', 'pobj', 'aux', 'advcl', 'advmod', 'nsubj', 'ccomp', 'prep', 'pobj', 'punct'], ['punct', 'prep', 'pobj', 'nummod', 'punct', 'nummod', 'nsubj', 'acl', 'agent', 'pobj', 'punct', 'advmod', 'ccomp', 'prep', 'pobj', 'prep', 'compound', 'pobj', 'acl', 'prep', 'det', 'compound', 'compound', 'pobj', 'punct', 'punct', 'nsubjpass', 'punct', 'auxpass', 'ROOT', 'aux', 'aux', 'auxpass', 'xcomp', 'agent', 'det', 'compound', 'compound', 'compound', 'pobj', 'compound', 'appos', 'punct', 'punct', 'ROOT', 'punct', 'det', 'compound', 'nsubjpass', 'auxpass', 'ROOT', 'prep', 'punct', 'punct', 'compound', 'pobj', 'punct', 'punct', 'punct', 'acl', 'aux', 'xcomp', 'det', 'attr', 'prep', 'det', 'nmod', 'amod', 'poss', 'case', 'compound', 'pobj', 'prep', 'compound', 'compound', 'pobj', 'punct', 'punct', 'ROOT', 'punct', 'punct'], ['advmod', 'nsubj', 'aux', 'ROOT', 'prep', 'pobj', 'advmod', 'punct'], ['det', 'nsubjpass', 'auxpass', 'ROOT', 'aux', 'xcomp', 'dobj', 'punct', 'advmod', 'neg', 'npadvmod', 'punct', 'prep', 'prep', 'advmod', 'amod', 'dobj', 'nsubj', 'pcomp', 'prep', 'det', 'dep', 'punct', 'quantmod', 'quantmod', 'dep', 'punct', 'nummod', 'pobj', 'acl', 'aux', 'xcomp', 'prep', 'pobj', 'punct'], ['prep', 'pobj', 'punct', 'nsubj', 'ROOT', 'amod', 'nummod', 'dobj', 'cc', 'nummod', 'conj', 'prep', 'pobj', 'punct', 'advmod', 'advmod', 'prep', 'pobj', 'punct', 'mark', 'nsubj', 'aux', 'advcl', 'prep', 'det', 'pobj', 'prep', 'amod', 'pobj', 'prep', 'det', 'amod', 'pobj', 'nsubjpass', 'aux', 'auxpass', 'relcl', 'agent', 'pobj', 'aux', 'xcomp', 'prep', 'det', 'pobj', 'punct'], ['nsubj', 'aux', 'ROOT', 'xcomp', 'prep', 'det', 'pobj', 'prep', 'det', 'amod', 'pobj', 'prep', 'det', 'pobj', 'amod', 'mark', 'det', 'nsubj', 'aux', 'advcl', 'prep', 'det', 'pobj', 'prep', 'predet', 'det', 'pobj', 'punct'], ['prep', 'auxpass', 'pcomp', 'agent', 'amod', 'pobj', 'punct', 'nsubjpass', 'auxpass', 'advmod', 'ROOT', 'agent', 'pobj', 'prep', 'poss', 'pobj', 'prep', 'pobj', 'prep', 'det', 'pobj', 'punct', 'punct', 'ROOT', 'punct', 'prep', 'det', 'pobj', 'punct', 'nsubjpass', 'auxpass', 'ROOT', 'prep', 'pobj', 'punct', 'cc', 'auxpass', 'conj', 'prep', 'amod', 'pobj', 'mark', 'nsubj', 'advcl', 'aux', 'xcomp', 'det', 'nummod', 'amod', 'dobj', 'punct', 'punct', 'ROOT', 'punct'], ['punct', 'amod', 'ROOT', 'prep', 'pobj', 'punct'], ['nsubj', 'ROOT', 'dobj', 'advcl', 'mark', 'poss', 'nsubj', 'aux', 'advcl', 'det', 'advmod', 'punct', 'amod', 'dobj', 'punct'], ['compound', 'nsubj', 'nsubj', 'aux', 'relcl', 'dobj', 'prep', 'pobj', 'ROOT', 'dobj', 'punct', 'conj', 'punct', 'conj', 'punct', 'conj', 'punct', 'conj', 'punct', 'conj', 'punct', 'det', 'conj', 'punct', 'compound', 'conj', 'punct', 'conj', 'punct', 'compound', 'compound', 'conj', 'punct', 'det', 'compound', 'conj', 'punct', 'cc', 'det', 'compound', 'conj', 'punct'], ['punct', 'det', 'compound', 'nsubj', 'ROOT', 'det', 'dobj', 'punct', 'xcomp', 'dobj', 'prep', 'pcomp', 'det', 'dobj', 'prep', 'pobj', 'aux', 'advcl', 'dobj', 'cc', 'aux', 'conj', 'det', 'dative', 'amod', 'dobj', 'prep', 'det', 'pobj', 'punct'], ['compound', 'ROOT', 'punct', 'appos', 'punct', 'intj', 'ROOT', 'compound', 'ROOT', 'ROOT', 'ROOT', 'compound', 'compound', 'compound', 'ROOT', 'punct', 'punct', 'advmod', 'acl', 'prep', 'compound', 'pobj', 'punct', 'punct', 'nsubj', 'punct', 'ROOT', 'det', 'amod', 'attr', 'punct'], ['compound', 'nsubjpass', 'auxpass', 'ROOT', 'prep', 'amod', 'pobj', 'punct'], ['compound', 'ROOT', 'punct', 'ROOT', 'punct', 'npadvmod', 'punct'], ['nsubj', 'punct', 'ROOT', 'det', 'amod', 'dobj', 'prep', 'pcomp', 'dobj', 'advmod', 'advmod', 'cc', 'conj', 'punct', 'punct', 'punct', 'punct'], ['nsubj', 'ROOT', 'det', 'amod', 'attr', 'prep', 'det', 'poss', 'punct', 'intj', 'compound', 'pobj', 'cc', 'auxpass', 'conj', 'prep', 'poss', 'pobj', 'prep', 'pobj', 'punct', 'appos', 'punct', 'prep', 'auxpass', 'pcomp', 'prep', 'pobj', 'aux', 'advcl', 'aux', 'xcomp', 'amod', 'punct', 'compound', 'dobj', 'prep', 'det', 'compound', 'compound', 'pobj', 'punct'], ['det', 'nsubj', 'aux', 'ROOT', 'aux', 'xcomp', 'prep', 'det', 'amod', 'pobj', 'aux', 'advcl', 'det', 'dobj', 'prep', 'det', 'poss', 'punct', 'case', 'compound', 'compound', 'pobj', 'punct', 'amod', 'cc', 'conj', 'amod', 'conj', 'punct', 'det', 'amod', 'cc', 'conj', 'conj', 'punct', 'cc', 'det', 'conj', 'prep', 'det', 'compound', 'pobj', 'punct'], ['det', 'compound', 'compound', 'nsubj', 'ROOT', 'punct'], ['poss', 'nsubj', 'ROOT', 'prep', 'det', 'pobj', 'cc', 'conj', 'prep', 'pobj', 'nsubjpass', 'aux', 'auxpass', 'relcl', 'cc', 'conj', 'prep', 'predet', 'det', 'amod', 'pobj', 'punct'], ['det', 'nsubj', 'ROOT', 'det', 'dobj', 'prep', 'det', 'amod', 'pobj', 'prep', 'pobj', 'prep', 'det', 'pobj', 'prep', 'det', 'compound', 'poss', 'case', 'case', 'compound', 'pobj', 'prep', 'det', 'pobj', 'prep', 'pobj', 'punct', 'compound', 'compound', 'compound', 'conj', 'dep', 'compound', 'dobj', 'aux', 'acl', 'dep', 'dep', 'amod', 'dobj', 'prep', 'det', 'pobj', 'punct'], ['ROOT', 'punct', 'mark', 'nsubj', 'intj', 'punct', 'compound', 'dobj', 'advmod', 'advmod', 'punct'], ['cc', 'advmod', 'expl', 'punct', 'ROOT', 'det', 'amod', 'attr', 'nsubj', 'relcl', 'nsubj', 'ccomp', 'det', 'dobj', 'cc', 'aux', 'pcomp', 'prt', 'punct', 'neg', 'advmod', 'ROOT', 'punct'], ['prep', 'pobj', 'punct', 'det', 'nsubj', 'ROOT', 'attr', 'prep', 'det', 'compound', 'pobj', 'prep', 'pobj', 'prep', 'det', 'pobj', 'cc', 'conj', 'prep', 'det', 'pobj', 'punct'], ['det', 'compound', 'compound', 'nsubj', 'ROOT', 'mark', 'nsubj', 'ccomp', 'poss', 'dobj', 'aux', 'xcomp', 'dobj', 'punct', 'conj', 'punct', 'appos', 'nummod', 'punct', 'nummod', 'punct'], ['det', 'amod', 'nsubj', 'prep', 'det', 'pobj', 'ROOT', 'aux', 'xcomp', 'dobj', 'prep', 'det', 'compound', 'pobj', 'prep', 'compound', 'pobj', 'prep', 'det', 'compound', 'pobj', 'prep', 'prep', 'pobj', 'cc', 'det', 'nummod', 'compound', 'compound', 'punct', 'compound', 'conj', 'punct'], ['advmod', 'punct', 'det', 'nsubj', 'prep', 'pobj', 'aux', 'ROOT', 'dobj', 'aux', 'xcomp', 'prep', 'det', 'pobj', 'amod', 'prep', 'compound', 'pobj', 'prep', 'pobj', 'cc', 'amod', 'conj', 'cc', 'conj', 'dative', 'det', 'amod', 'dobj', 'aux', 'advcl', 'amod', 'dobj', 'prep', 'det', 'pobj', 'punct'], ['nsubj', 'ROOT', 'poss', 'amod', 'dobj', 'dative', 'det', 'pobj', 'cc', 'conj', 'prep', 'det', 'pobj', 'punct', 'cc', 'conj', 'dobj', 'acl', 'prep', 'det', 'compound', 'pobj', 'advmod', 'punct'], ['prep', 'auxpass', 'pcomp', 'prep', 'pobj', 'punct', 'nsubjpass', 'auxpass', 'advmod', 'ROOT', 'prep', 'compound', 'pobj', 'prep', 'poss', 'pobj', 'punct'], ['det', 'compound', 'nsubj', 'ROOT', 'aux', 'xcomp', 'dobj', 'prep', 'pobj', 'prep', 'det', 'amod', 'pobj', 'mark', 'nsubj', 'advcl', 'dobj', 'cc', 'det', 'conj', 'nsubj', 'relcl', 'punct'], ['prep', 'det', 'pobj', 'det', 'compound', 'nsubj', 'ROOT', 'punct'], ['prep', 'pobj', 'nummod', 'punct', 'nmod', 'amod', 'nsubj', 'ROOT', 'nummod', 'dobj', 'prep', 'compound', 'pobj', 'prep', 'pobj', 'cc', 'conj', 'punct'], ['det', 'nmod', 'punct', 'compound', 'nsubj', 'aux', 'relcl', 'dobj', 'aux', 'ROOT', 'punct'], ['prep', 'pobj', 'nummod', 'det', 'compound', 'nsubjpass', 'auxpass', 'ROOT', 'agent', 'det', 'compound', 'pobj', 'prep', 'amod', 'pobj', 'prep', 'pobj', 'nsubj', 'relcl', 'nummod', 'amod', 'nsubj', 'cc', 'det', 'amod', 'amod', 'conj', 'ccomp', 'punct'], ['det', 'compound', 'nsubj', 'advmod', 'ROOT', 'npadvmod', 'punct', 'nmod', 'amod', 'punct', 'amod', 'amod', 'dobj', 'prep', 'compound', 'pobj', 'nsubj', 'relcl', 'cc', 'conj', 'compound', 'dobj', 'punct'], ['punct', 'punct', 'punct', 'advmod', 'punct', 'prep', 'pobj', 'punct', 'advmod', 'nsubj', 'aux', 'ROOT', 'xcomp', 'det', 'dobj', 'nsubj', 'relcl', 'prep', 'prep', 'pobj', 'prep', 'det', 'pobj', 'prep', 'det', 'amod', 'pobj', 'cc', 'conj', 'dobj', 'prep', 'pobj', 'nsubj', 'aux', 'advmod', 'relcl', 'punct'], ['det', 'nsubjpass', 'auxpass', 'advmod', 'ROOT', 'aux', 'xcomp', 'dobj', 'prep', 'pcomp', 'nmod', 'cc', 'conj', 'dobj', 'advmod', 'preconj', 'prep', 'det', 'pobj', 'cc', 'advmod', 'conj', 'prep', 'compound', 'pobj', 'punct'], ['det', 'compound', 'compound', 'nsubj', 'ROOT', 'acomp', 'mark', 'det', 'nsubj', 'prep', 'pobj', 'prep', 'pobj', 'prep', 'det', 'pobj', 'prep', 'pobj', 'punct', 'prep', 'det', 'pobj', 'prep', 'amod', 'pobj', 'punct', 'ccomp', 'acomp', 'punct'], ['nsubj', 'ccomp', 'acomp', 'mark', 'det', 'amod', 'nsubj', 'aux', 'ccomp', 'det', 'compound', 'compound', 'dobj', 'prep', 'poss', 'pobj', 'aux', 'acl', 'dobj', 'cc', 'conj', 'poss', 'compound', 'pobj', 'punct', 'nsubj', 'aux', 'ROOT', 'det', 'dobj', 'punct'], ['ROOT', 'punct', 'compound', 'nsubj', 'punct', 'appos', 'prep', 'compound', 'compound', 'pobj', 'ROOT', 'punct', 'punct', 'nsubj', 'punct', 'appos', 'ccomp', 'advmod', 'acomp', 'prep', 'det', 'pobj', 'prep', 'det', 'pobj', 'mark', 'aux', 'advcl', 'dobj', 'nsubj', 'aux', 'relcl', 'aux', 'xcomp', 'prep', 'amod', 'amod', 'pobj', 'acl', 'prep', 'det', 'pobj', 'prep', 'pobj', 'cc', 'conj', 'punct'], ['det', 'nsubj', 'prep', 'pobj', 'punct', 'conj', 'cc', 'conj', 'ROOT', 'det', 'amod', 'dobj', 'prep', 'det', 'compound', 'pobj', 'prep', 'det', 'pobj', 'punct'], ['ROOT'], ['nsubj', 'ROOT', 'dobj', 'punct', 'punct', 'det', 'oprd', 'punct', 'punct', 'punct', 'punct'], ['prep', 'det', 'nummod', 'pobj', 'prep', 'det', 'pobj', 'punct', 'det', 'nsubjpass', 'prep', 'pobj', 'auxpass', 'ROOT', 'prep', 'det', 'amod', 'pobj', 'punct', 'prep', 'pobj', 'prep', 'det', 'compound', 'pobj', 'punct', 'nsubj', 'relcl', 'det', 'dobj', 'prep', 'pobj', 'prep', 'det', 'amod', 'pobj', 'punct'], ['nsubj', 'aux', 'advmod', 'ROOT', 'prep', 'amod', 'nmod', 'amod', 'pobj', 'aux', 'advcl', 'poss', 'amod', 'dobj', 'prep', 'det', 'compound', 'compound', 'pobj', 'punct', 'compound', 'compound', 'conj', 'punct', 'cc', 'conj', 'prep', 'pobj', 'prep', 'det', 'compound', 'pobj', 'prep', 'pobj', 'punct'], ['prep', 'det', 'amod', 'pobj', 'punct', 'nsubj', 'punct', 'dep', 'advmod', 'ccomp', 'acomp', 'mark', 'nsubj', 'aux', 'advcl', 'dobj', 'punct', 'advmod', 'nsubj', 'aux', 'aux', 'ROOT', 'dobj', 'prep', 'pobj', 'punct', 'poss', 'nsubj', 'advmod', 'ROOT', 'prep', 'pcomp', 'dobj', 'punct', 'advmod', 'advmod', 'mark', 'nsubj', 'ccomp', 'det', 'dobj', 'case', 'compound', 'ROOT', 'punct'], ['nsubj', 'aux', 'ROOT', 'advmod', 'acomp', 'prep', 'amod', 'pobj', 'cc', 'amod', 'compound', 'conj', 'punct', 'cc', 'aux', 'conj', 'dobj', 'prep', 'det', 'amod', 'pobj', 'prep', 'amod', 'pobj', 'prep', 'det', 'amod', 'pobj', 'punct'], ['ROOT', 'punct', 'compound', 'npadvmod', 'punct', 'aux', 'nsubj', 'ROOT', 'dobj', 'punct'], ['nsubj', 'aux', 'ccomp', 'dobj', 'prep', 'pobj', 'prep', 'nummod', 'pobj', 'punct', 'cc', 'det', 'nsubj', 'aux', 'conj', 'quantmod', 'quantmod', 'nummod', 'dobj', 'prep', 'det', 'pobj', 'prep', 'compound', 'pobj', 'mark', 'det', 'nsubj', 'prep', 'det', 'pobj', 'advcl', 'npadvmod', 'nummod', 'punct', 'nsubj', 'ROOT', 'punct'], ['punct', 'nsubj', 'ROOT', 'det', 'dobj', 'prep', 'pobj', 'prep', 'poss', 'pobj', 'punct', 'compound', 'compound', 'compound', 'compound', 'compound', 'compound', 'compound', 'compound', 'compound', 'oprd', 'punct', 'nsubjpass', 'auxpass', 'relcl', 'npadvmod', 'prep', 'amod', 'pobj', 'punct'], ['prep', 'det', 'pobj', 'aux', 'acl', 'det', 'amod', 'dobj', 'prep', 'pobj', 'punct', 'amod', 'compound', 'nsubj', 'aux', 'ccomp', 'dobj', 'prep', 'pcomp', 'dobj', 'cc', 'conj', 'compound', 'pobj', 'advmod', 'acl', 'punct', 'nsubj', 'ROOT', 'punct'], ['det', 'nsubj', 'ROOT', 'poss', 'dobj', 'acl', 'prep', 'det', 'poss', 'case', 'case', 'compound', 'pobj', 'punct', 'advmod', 'prep', 'poss', 'pobj', 'cc', 'conj', 'punct'], ['nsubj', 'ROOT', 'det', 'amod', 'dobj', 'nsubjpass', 'aux', 'auxpass', 'relcl', 'agent', 'compound', 'compound', 'pobj', 'cc', 'poss', 'conj', 'prep', 'amod', 'pobj', 'prep', 'pobj', 'prep', 'pobj', 'punct', 'prep', 'poss', 'punct', 'case', 'pobj', 'punct'], ['punct', 'nsubj', 'ccomp', 'acomp', 'mark', 'compound', 'nsubj', 'aux', 'aux', 'ccomp', 'prep', 'pobj', 'prep', 'pobj', 'nummod', 'cc', 'conj', 'advmod', 'prep', 'det', 'pobj', 'nsubj', 'aux', 'relcl', 'prep', 'amod', 'nmod', 'punct', 'conj', 'cc', 'conj', 'amod', 'compound', 'pobj', 'prep', 'det', 'pobj', 'punct', 'punct', 'ROOT', 'nsubj', 'punct'], ['punct', 'expl', 'ROOT', 'nummod', 'attr', 'nsubj', 'relcl', 'det', 'dobj', 'det', 'npadvmod', 'punct', 'advmod', 'punct', 'mark', 'nsubj', 'advcl', 'amod', 'npadvmod', 'punct'], ['punct', 'ROOT', 'cc', 'conj', 'compound', 'conj', 'punct'], ['ROOT', 'prep', 'compound', 'pobj', 'punct', 'nummod', 'nsubj', 'ROOT', 'nummod', 'dobj', 'punct'], ['nsubjpass', 'auxpass', 'ROOT', 'prep', 'pobj', 'agent', 'det', 'amod', 'pobj', 'appos', 'punct'], ['nsubj', 'prep', 'det', 'compound', 'pobj', 'punct', 'compound', 'appos', 'punct', 'ROOT', 'prep', 'det', 'pobj', 'prep', 'det', 'compound', 'pobj', 'prep', 'pobj'], ['prep', 'det', 'pobj', 'nsubj', 'ROOT', 'aux', 'xcomp', 'dobj', 'aux', 'xcomp', 'punct', 'punct', 'ROOT', 'punct'], ['nsubj', 'punct', 'intj', 'advmod', 'ROOT', 'prt', 'det', 'compound', 'dobj', 'prep', 'amod', 'pobj', 'punct', 'conj', 'punct', 'cc', 'punct', 'prep', 'pobj', 'punct', 'pobj', 'punct'], ['det', 'amod', 'nsubj', 'aux', 'advmod', 'preconj', 'ROOT', 'cc', 'conj', 'mark', 'nsubj', 'ccomp', 'prt', 'dobj', 'prep', 'pobj', 'punct'], ['mark', 'advcl', 'cc', 'conj', 'punct', 'nsubj', 'ROOT', 'det', 'amod', 'attr', 'punct', 'mark', 'advmod', 'advmod', 'nummod', 'nsubj', 'advcl', 'cc', 'amod', 'nsubj', 'prep', 'amod', 'pobj', 'conj', 'punct'], ['ROOT', 'nsubj', 'aux', 'advmod', 'intj', 'det', 'amod', 'dobj', 'prep', 'pobj', 'prep', 'pobj', 'punct', 'nsubj', 'mark', 'nsubj', 'punct', 'appos', 'advcl', 'advmod', 'relcl', 'det', 'nmod', 'punct', 'nummod', 'nsubj', 'ccomp', 'cc', 'conj', 'punct', 'nmod', 'ccomp', 'advmod', 'amod', 'punct', 'punct', 'nsubj', 'ROOT', 'punct'], ['advmod', 'prep', 'pobj', 'punct', 'nmod', 'amod', 'nsubj', 'ROOT', 'nummod', 'dobj', 'acl', 'prep', 'cc', 'conj', 'pobj', 'prep', 'det', 'pobj', 'prep', 'pobj', 'acl', 'nmod', 'punct', 'conj', 'punct', 'conj', 'punct', 'cc', 'advmod', 'conj', 'dobj', 'advmod', 'advmod', 'cc', 'compound', 'dobj', 'prep', 'compound', 'pobj', 'punct'], ['nsubj', 'aux', 'ROOT', 'acomp', 'punct', 'csubj', 'dobj', 'aux', 'conj', 'dobj', 'cc', 'conj', 'cc', 'nsubj', 'conj', 'det', 'attr', 'nsubj', 'aux', 'relcl', 'punct'], ['ROOT'], ['nsubj', 'ROOT', 'acomp', 'agent', 'pobj', 'prep', 'det', 'pobj', 'prep', 'pobj', 'prep', 'pobj', 'punct', 'det', 'amod', 'appos', 'prep', 'pobj', 'cc', 'det', 'conj', 'prep', 'pobj', 'advmod', 'amod', 'prep', 'pobj', 'prep', 'pobj', 'punct', 'conj', 'cc', 'compound', 'conj', 'punct'], ['nsubjpass', 'auxpass', 'ROOT', 'aux', 'xcomp', 'amod', 'compound', 'dobj', 'acl', 'prep', 'poss', 'case', 'case', 'compound', 'pobj', 'amod', 'npadvmod', 'mark', 'poss', 'case', 'case', 'amod', 'nsubj', 'advcl', 'prep', 'pobj', 'punct'], ['nsubj', 'ROOT', 'punct', 'nsubj', 'xcomp', 'advmod', 'advmod', 'acomp', 'prep', 'pobj', 'punct', 'punct'], ['compound', 'compound', 'compound', 'nsubj', 'ROOT', 'amod', 'compound', 'dobj', 'prep', 'amod', 'pobj', 'prep', 'pcomp', 'det', 'dobj', 'prep', 'det', 'pobj', 'prep', 'amod', 'compound', 'pobj'], ['advcl', 'advmod', 'nummod', 'npadvmod', 'prep', 'det', 'pobj', 'prep', 'pobj', 'prep', 'compound', 'pobj', 'punct', 'compound', 'nsubj', 'ROOT', 'punct'], ['nsubj', 'ROOT', 'acomp', 'mark', 'det', 'nsubj', 'prep', 'det', 'pobj', 'ccomp', 'poss', 'dobj', 'aux', 'xcomp', 'nsubjpass', 'auxpass', 'ccomp', 'prep', 'punct', 'cc', 'mark', 'det', 'nsubj', 'conj', 'amod', 'dobj', 'aux', 'advcl', 'amod', 'nsubj', 'ccomp', 'predet', 'dobj', 'prep', 'pobj', 'prep', 'pobj', 'punct'], ['compound', 'compound', 'nsubj', 'ROOT', 'punct'], ['det', 'nsubj', 'prep', 'pobj', 'ROOT', 'acomp', 'prep', 'amod', 'pobj', 'prep', 'pobj', 'cc', 'det', 'amod', 'conj', 'prep', 'amod', 'pobj', 'auxpass', 'acl', 'prep', 'det', 'pobj', 'prep', 'det', 'amod', 'pobj', 'punct'], ['punct', 'advmod', 'advmod', 'punct', 'det', 'amod', 'nsubj', 'ROOT', 'aux', 'xcomp', 'amod', 'dobj', 'prep', 'compound', 'pobj', 'punct', 'punct', 'pobj', 'prep', 'det', 'amod', 'nummod', 'pobj', 'prep', 'pobj', 'prep', 'det', 'compound', 'pobj', 'punct', 'punct', 'advmod', 'advmod', 'cc', 'dobj', 'prep', 'det', 'pobj', 'punct', 'punct'], ['nsubj', 'ROOT', 'acomp', 'aux', 'xcomp', 'det', 'dobj', 'prep', 'pobj', 'aux', 'advcl', 'prep', 'det', 'amod', 'pobj', 'nsubj', 'relcl', 'punct'], ['mark', 'amod', 'amod', 'nsubjpass', 'cc', 'compound', 'conj', 'aux', 'auxpass', 'advcl', 'punct', 'nsubj', 'aux', 'ROOT', 'acomp', 'aux', 'xcomp', 'prep', 'det', 'compound', 'amod', 'compound', 'pobj', 'punct'], ['amod', 'quantmod', 'compound', 'nummod', 'nsubj', 'prep', 'pobj', 'advmod', 'ROOT', 'prep', 'pobj', 'prep', 'det', 'amod', 'compound', 'pobj', 'punct'], ['poss', 'amod', 'nsubj', 'aux', 'advmod', 'ccomp', 'poss', 'dobj', 'advmod', 'punct', 'punct', 'punct', 'nsubj', 'ROOT', 'punct', 'punct'], ['nsubj', 'aux', 'ROOT', 'det', 'amod', 'dobj', 'prep', 'det', 'pobj', 'acl', 'aux', 'xcomp', 'det', 'dobj', 'prep', 'det', 'pobj', 'prep', 'poss', 'amod', 'pobj', 'prep', 'pobj', 'punct', 'prep', 'pobj', 'punct', 'amod', 'amod', 'conj', 'punct', 'compound', 'conj', 'punct', 'dep', 'dep', 'conj', 'cc', 'conj', 'prep', 'amod', 'pobj', 'punct'], ['ROOT', 'punct', 'ROOT', 'punct', 'appos', 'punct', 'cc', 'intj', 'intj', 'intj', 'intj', 'intj', 'compound', 'compound', 'nsubj', 'punct', 'compound', 'appos', 'punct', 'ROOT', 'det', 'attr', 'prep', 'amod', 'pobj', 'punct', 'conj', 'nummod', 'dobj', 'punct', 'nummod', 'punct', 'conj', 'appos', 'punct', 'ROOT', 'prep', 'pobj', 'punct'], ['det', 'nsubj', 'advmod', 'advmod', 'ROOT', 'det', 'dobj', 'prep', 'amod', 'pobj', 'dobj', 'nsubj', 'aux', 'relcl', 'prep', 'quantmod', 'quantmod', 'pobj', 'prep', 'amod', 'pobj', 'prep', 'pobj', 'cc', 'conj', 'cc', 'conj', 'det', 'dobj', 'mark', 'amod', 'nsubj', 'aux', 'advcl', 'dobj', 'prep', 'det', 'pobj', 'acl', 'dobj', 'punct'], ['amod', 'npadvmod', 'punct', 'det', 'amod', 'nsubjpass', 'auxpass', 'ROOT', 'aux', 'advcl', 'det', 'advmod', 'punct', 'amod', 'dobj', 'prep', 'pobj', 'prep', 'amod', 'pobj', 'acl', 'prep', 'det', 'compound', 'pobj', 'punct'], ['det', 'nsubj', 'prep', 'det', 'compound', 'pobj', 'ROOT', 'poss', 'dobj', 'prep', 'poss', 'punct', 'case', 'amod', 'pobj', 'cc', 'poss', 'conj', 'prep', 'det', 'compound', 'pobj', 'prep', 'poss', 'pobj', 'prep', 'pobj', 'punct', 'prep', 'amod', 'prep', 'pobj', 'punct'], ['punct', 'punct', 'punct', 'nsubj', 'ROOT', 'mark', 'nsubj', 'ccomp', 'acomp', 'aux', 'xcomp', 'det', 'amod', 'dobj', 'mark', 'mark', 'nsubj', 'aux', 'advcl', 'poss', 'dobj', 'punct'], ['punct', 'nsubj', 'ROOT', 'det', 'amod', 'attr', 'prep', 'det', 'pobj', 'poss', 'appos', 'cc', 'conj', 'prep', 'amod', 'pobj', 'prep', 'det', 'pobj', 'aux', 'xcomp', 'dobj', 'oprd', 'punct', 'punct'], ['compound', 'compound', 'compound', 'nsubj', 'punct', 'det', 'compound', 'compound', 'appos', 'prep', 'compound', 'pobj', 'punct', 'compound', 'appos', 'punct', 'ROOT', 'punct', 'nsubj', 'ccomp', 'acomp', 'aux', 'xcomp', 'dobj', 'prep', 'det', 'amod', 'pobj', 'nsubj', 'relcl', 'prep', 'det', 'pobj', 'punct', 'punct', 'det', 'nsubj', 'ROOT', 'det', 'amod', 'dobj', 'prep', 'det', 'nummod', 'pobj', 'punct'], ['nsubj', 'ROOT', 'det', 'dobj', 'mark', 'det', 'nsubj', 'prep', 'pobj', 'aux', 'acl', 'det', 'amod', 'dobj', 'advmod', 'prep', 'pobj', 'punct'], ['advcl', 'agent', 'det', 'pobj', 'prep', 'amod', 'pobj', 'prep', 'pobj', 'punct', 'nsubj', 'ROOT', 'nummod', 'dobj', 'prep', 'pobj', 'punct', 'conj', 'punct', 'det', 'compound', 'compound', 'conj', 'cc', 'conj', 'punct'], ['nsubj', 'aux', 'ROOT', 'aux', 'xcomp', 'dobj', 'aux', 'advcl', 'det', 'amod', 'dobj', 'prep', 'compound', 'punct', 'pobj', 'prep', 'pobj', 'punct'], ['nsubj', 'ROOT', 'advmod', 'acomp', 'prep', 'pcomp', 'advmod', 'prep', 'pobj', 'prep', 'pobj', 'cc', 'det', 'dep', 'dep', 'amod', 'conj', 'advmod', 'advmod', 'cc', 'conj', 'aux', 'advcl', 'amod', 'dobj', 'prep', 'pobj', 'cc', 'conj', 'punct', 'punct'], ['punct', 'compound', 'nsubj', 'advmod', 'ROOT', 'det', 'dobj', 'prep', 'pobj', 'punct', 'advmod', 'expl', 'relcl', 'amod', 'attr', 'prep', 'det', 'compound', 'pobj', 'punct', 'cc', 'conj', 'det', 'dobj', 'prep', 'det', 'amod', 'pobj', 'prep', 'compound', 'pobj', 'punct'], ['amod', 'compound', 'compound', 'compound', 'nsubj', 'ROOT', 'punct'], ['nsubj', 'ROOT', 'acomp', 'prep', 'advmod', 'nummod', 'pobj', 'compound', 'nummod', 'amod', 'pobj', 'prep', 'pobj', 'prep', 'det', 'compound', 'pobj', 'punct', 'conj', 'prep', 'pobj', 'punct', 'compound', 'compound', 'conj', 'punct', 'conj', 'prep', 'pobj', 'cc', 'det', 'compound', 'conj', 'punct'], ['prep', 'pobj', 'punct', 'compound', 'compound', 'nsubj', 'aux', 'ROOT', 'dobj', 'prep', 'det', 'pobj', 'punct', 'dobj', 'dobj', 'aux', 'acl', 'amod', 'dobj', 'prep', 'det', 'compound', 'punct', 'nummod', 'compound', 'pobj', 'punct'], ['amod', 'nsubj', 'ROOT', 'aux', 'xcomp', 'compound', 'dobj', 'prep', 'pobj', 'punct'], ['aux', 'csubj', 'det', 'compound', 'compound', 'dobj', 'ROOT', 'det', 'compound', 'dobj', 'punct'], ['det', 'amod', 'punct', 'compound', 'compound', 'nsubj', 'ROOT', 'nummod', 'punct', 'dep', 'punct', 'nummod', 'attr', 'punct', 'appos', 'punct', 'nummod', 'appos', 'punct', 'prep', 'punct', 'cc', 'nsubjpass', 'prep', 'pobj', 'auxpass', 'conj', 'prep', 'pobj', 'punct', 'punct', 'ROOT', 'punct', 'punct', 'ROOT', 'punct'], ['compound', 'nsubj', 'nsubj', 'aux', 'relcl', 'dobj', 'prep', 'pobj', 'ROOT', 'dobj', 'punct', 'conj', 'punct', 'conj', 'punct', 'conj', 'punct', 'conj', 'punct', 'conj', 'punct', 'det', 'conj', 'punct', 'det', 'compound', 'conj', 'punct', 'cc', 'det', 'compound', 'conj', 'punct'], ['punct', 'punct', 'punct', 'prep', 'amod', 'pobj', 'nsubj', 'ROOT', 'dobj', 'prep', 'nmod', 'cc', 'npadvmod', 'punct', 'conj', 'pobj', 'punct'], ['ROOT', 'acl', 'nummod', 'compound', 'npadvmod', 'nummod', 'punct'], ['advmod', 'det', 'nsubj', 'aux', 'ROOT', 'prep', 'det', 'pobj', 'punct', 'mark', 'det', 'nsubj', 'prep', 'advmod', 'amod', 'pobj', 'aux', 'ccomp', 'det', 'amod', 'dobj', 'punct'], ['prep', 'det', 'npadvmod', 'punct', 'amod', 'pobj', 'advmod', 'prep', 'det', 'amod', 'pobj', 'prep', 'pobj', 'punct', 'det', 'amod', 'appos', 'prep', 'amod', 'pobj', 'cc', 'conj', 'ROOT', 'poss', 'dobj', 'prt', 'cc', 'conj', 'pobj', 'prep', 'amod', 'pobj', 'punct'], ['amod', 'punct', 'compound', 'nsubj', 'prep', 'det', 'amod', 'pobj', 'prep', 'pobj', 'ROOT', 'det', 'attr', 'prep', 'det', 'pobj', 'cc', 'poss', 'nsubj', 'aux', 'conj', 'det', 'amod', 'attr', 'prep', 'pobj', 'punct'], ['nsubj', 'ROOT', 'poss', 'dobj', 'mark', 'det', 'nsubj', 'acl', 'cc', 'conj', 'det', 'advmod', 'amod', 'dobj', 'aux', 'advcl', 'det', 'amod', 'dobj', 'cc', 'mark', 'nsubjpass', 'auxpass', 'advmod', 'conj', 'aux', 'xcomp', 'cc', 'conj', 'prep', 'det', 'pobj', 'punct'], ['poss', 'nsubjpass', 'auxpass', 'ROOT', 'aux', 'xcomp', 'amod', 'dobj', 'nsubj', 'aux', 'relcl', 'poss', 'amod', 'dobj', 'prep', 'pobj', 'punct', 'conj', 'cc', 'conj', 'punct', 'mark', 'advcl', 'dobj', 'prep', 'pobj', 'cc', 'conj', 'dobj', 'amod', 'nsubj', 'aux', 'relcl', 'prep', 'poss', 'pobj', 'punct'], ['compound', 'compound', 'compound', 'nsubj', 'ROOT', 'punct'], ['nsubj', 'ROOT', 'det', 'amod', 'attr', 'prep', 'det', 'pobj', 'acl', 'prep', 'det', 'amod', 'pobj', 'punct'], ['poss', 'nsubj', 'ROOT', 'prt', 'prep', 'det', 'pobj', 'prep', 'det', 'pobj', 'punct', 'cc', 'nsubj', 'conj', 'prep', 'det', 'amod', 'pobj', 'prep', 'pobj', 'acl', 'punct'], ['compound', 'compound', 'compound', 'compound', 'nsubj', 'aux', 'ROOT', 'det', 'dobj', 'prep', 'det', 'nmod', 'nummod', 'compound', 'compound', 'pobj', 'punct', 'compound', 'compound', 'dobj', 'prep', 'det', 'amod', 'punct', 'intj', 'punct', 'det', 'punct', 'pobj', 'compound', 'pobj', 'oprd', 'prep', 'pobj', 'punct', 'advcl', 'prep', 'pobj', 'ROOT', 'attr', 'nummod', 'punct', 'nummod', 'punct'], ['nsubj', 'ccomp', 'det', 'amod', 'dobj', 'prep', 'det', 'pobj', 'aux', 'acl', 'det', 'dobj', 'aux', 'advcl', 'poss', 'amod', 'dobj', 'cc', 'conj', 'nsubj', 'relcl', 'dobj', 'punct', 'advmod', 'ROOT', 'compound', 'dobj', 'punct', 'mark', 'advcl', 'advmod', 'agent', 'det', 'pobj', 'punct', 'aux', 'advcl', 'advmod', 'prep', 'pobj', 'punct', 'cc', 'aux', 'conj', 'advmod', 'prep', 'det', 'pobj', 'prep', 'pobj', 'punct', 'mark', 'mark', 'amod', 'nsubj', 'acl', 'prep', 'pcomp', 'det', 'dobj', 'advcl', 'det', 'dobj', 'aux', 'acl', 'punct'], ['nmod', 'punct', 'nmod', 'amod', 'nsubj', 'aux', 'neg', 'ROOT', 'dobj', 'cc', 'conj', 'dobj', 'punct'], ['det', 'nsubj', 'prep', 'pobj', 'nsubj', 'nsubj', 'prep', 'compound', 'punct', 'compound', 'pobj', 'det', 'npadvmod', 'prep', 'amod', 'nmod', 'punct', 'compound', 'compound', 'pobj', 'ccomp', 'amod', 'quantmod', 'nummod', 'dobj', 'cc', 'conj', 'nummod', 'dobj', 'cc', 'nummod', 'conj', 'punct', 'compound', 'compound', 'compound', 'compound', 'nsubj', 'ROOT', 'dobj', 'npadvmod', 'punct'], ['amod', 'nsubj', 'aux', 'ccomp', 'amod', 'dobj', 'prep', 'compound', 'pobj', 'prep', 'poss', 'pobj', 'prep', 'advmod', 'punct', 'amod', 'compound', 'pobj', 'punct', 'amod', 'compound', 'nsubj', 'ROOT', 'punct'], ['prep', 'det', 'pobj', 'punct', 'nmod', 'compound', 'nmod', 'punct', 'nmod', 'punct', 'nsubj', 'punct', 'det', 'appos', 'amod', 'appos', 'punct', 'aux', 'ROOT', 'det', 'dobj', 'cc', 'conj', 'punct'], ['det', 'nsubjpass', 'acl', 'aux', 'xcomp', 'det', 'amod', 'compound', 'dobj', 'auxpass', 'ROOT', 'prep', 'punct', 'nmod', 'punct', 'cc', 'conj', 'compound', 'pobj', 'punct'], ['det', 'nsubjpass', 'auxpass', 'ROOT', 'agent', 'compound', 'compound', 'pobj', 'prep', 'pobj', 'prep', 'det', 'pobj', 'prep', 'pcomp', 'det', 'dobj', 'prep', 'pobj', 'aux', 'advmod', 'cc', 'conj', 'poss', 'dobj', 'prep', 'det', 'pobj', 'punct'], ['csubj', 'agent', 'compound', 'pobj', 'punct', 'punct', 'punct', 'compound', 'compound', 'oprd', 'punct', 'punct', 'punct', 'ROOT', 'det', 'amod', 'attr', 'cc', 'amod', 'conj', 'advmod', 'punct', 'punct', 'compound', 'appos', 'punct', 'punct', 'mark', 'nsubj', 'prep', 'det', 'pobj', 'advcl', 'det', 'compound', 'compound', 'attr', 'punct', 'punct'], ['npadvmod', 'punct', 'amod', 'amod', 'compound', 'compound', 'nsubj', 'ROOT', 'dobj', 'prep', 'det', 'compound', 'compound', 'pobj', 'cc', 'conj', 'nsubj', 'aux', 'ccomp', 'prep', 'det', 'pobj', 'punct'], ['prep', 'det', 'amod', 'pobj', 'det', 'compound', 'nsubj', 'aux', 'ROOT', 'advmod', 'quantmod', 'punct', 'nummod', 'dobj', 'prep', 'pobj', 'prep', 'pobj', 'cc', 'conj', 'cc', 'aux', 'conj', 'advmod', 'nummod', 'dobj', 'prep', 'pobj', 'dobj', 'advmod', 'acl', 'prep', 'pobj', 'punct'], ['det', 'nsubj', 'acl', 'aux', 'ROOT', 'compound', 'dobj', 'punct', 'conj', 'cc', 'conj', 'punct', 'compound', 'conj', 'cc', 'conj', 'conj', 'punct'], ['nsubj', 'prep', 'poss', 'pobj', 'advmod', 'ccomp', 'poss', 'amod', 'amod', 'amod', 'compound', 'dobj', 'punct', 'nsubj', 'ROOT', 'punct', 'advcl', 'mark', 'prep', 'advmod', 'advmod', 'det', 'compound', 'pobj', 'punct', 'nsubjpass', 'auxpass', 'relcl', 'advmod', 'nummod', 'npadvmod', 'advmod', 'punct', 'nsubj', 'aux', 'ccomp', 'det', 'dobj', 'prep', 'amod', 'pobj'], ['compound', 'nsubj', 'aux', 'ROOT', 'det', 'dobj', 'prep', 'pobj', 'prep', 'pobj', 'prep', 'det', 'amod', 'pobj', 'prep', 'amod', 'pobj', 'punct'], ['prep', 'pcomp', 'intj', 'punct', 'nsubj', 'ROOT', 'det', 'nsubj', 'aux', 'ccomp', 'aux', 'xcomp', 'det', 'poss', 'case', 'nummod', 'dobj', 'advmod', 'advmod', 'cc', 'poss', 'conj', 'punct'], ['nsubj', 'ROOT', 'attr', 'prep', 'pobj', 'aux', 'xcomp', 'punct', 'prep', 'pobj', 'prep', 'pobj', 'punct', 'prep', 'det', 'amod', 'pobj', 'prep', 'det', 'amod', 'cc', 'conj', 'pobj', 'punct', 'cc', 'aux', 'conj', 'det', 'amod', 'nsubj', 'aux', 'ccomp', 'poss', 'dobj', 'mark', 'det', 'amod', 'nsubj', 'advcl', 'prep', 'pobj', 'punct'], ['punct', 'prep', 'pobj', 'prep', 'det', 'pobj', 'prep', 'pobj', 'punct', 'nsubj', 'ccomp', 'aux', 'xcomp', 'poss', 'amod', 'dobj', 'prep', 'det', 'pobj', 'prep', 'det', 'pobj', 'prep', 'poss', 'punct', 'nmod', 'advmod', 'amod', 'pobj', 'prep', 'pobj', 'punct', 'punct', 'det', 'nsubj', 'ROOT', 'prep', 'det', 'pobj', 'punct'], ['det', 'nsubj', 'ROOT', 'punct', 'punct', 'intj', 'xcomp', 'det', 'compound', 'poss', 'case', 'compound', 'dobj', 'punct', 'conj', 'cc', 'conj', 'prep', 'poss', 'pobj', 'cc', 'conj', 'punct', 'cc', 'det', 'npadvmod', 'nsubj', 'conj', 'nsubj', 'aux', 'ccomp', 'dobj', 'prep', 'pcomp', 'dobj', 'prep', 'pobj', 'prep', 'poss', 'amod', 'pobj', 'nsubj', 'advmod', 'relcl', 'dobj', 'det', 'npadvmod', 'punct', 'punct'], ['compound', 'nsubjpass', 'auxpass', 'ROOT', 'nsubj', 'ccomp', 'det', 'compound', 'punct', 'compound', 'attr', 'punct'], ['det', 'advmod', 'amod', 'nsubj', 'ccomp', 'det', 'amod', 'dobj', 'prep', 'pobj', 'prep', 'pobj', 'prep', 'det', 'pobj', 'prep', 'pobj', 'nummod', 'prep', 'pobj', 'punct', 'nsubj', 'ROOT', 'punct'], ['compound', 'compound', 'nsubj', 'aux', 'ROOT', 'poss', 'dobj', 'prep', 'pobj', 'cc', 'aux', 'conj', 'prep', 'pobj', 'punct'], ['det', 'compound', 'nsubj', 'punct', 'advmod', 'det', 'compound', 'nsubj', 'prep', 'pobj', 'ROOT', 'det', 'attr', 'acl', 'prep', 'pobj', 'punct', 'compound', 'conj', 'punct', 'advmod', 'prep', 'pobj', 'punct', 'appos', 'punct'], ['prep', 'compound', 'pobj', 'punct', 'nsubjpass', 'prep', 'det', 'pobj', 'aux', 'auxpass', 'ROOT', 'cc', 'conj', 'punct', 'compound', 'compound', 'nsubjpass', 'aux', 'auxpass', 'conj', 'punct', 'cc', 'conj', 'det', 'compound', 'compound', 'dobj', 'punct'], ['compound', 'nsubj', 'aux', 'ROOT', 'xcomp', 'dobj', 'amod', 'prep', 'amod', 'pobj', 'punct', 'advcl', 'dobj', 'prep', 'nmod', 'cc', 'compound', 'pobj', 'punct', 'conj', 'amod', 'dobj', 'cc', 'amod', 'conj', 'aux', 'advcl', 'poss', 'amod', 'nsubj', 'ccomp', 'punct', 'cc', 'conj', 'det', 'dobj', 'prep', 'det', 'amod', 'pobj', 'aux', 'advcl', 'det', 'dobj', 'prep', 'det', 'amod', 'pobj', 'nsubj', 'relcl', 'amod', 'dobj', 'cc', 'det', 'conj', 'prep', 'pobj', 'punct'], ['det', 'compound', 'compound', 'compound', 'nsubj', 'aux', 'ROOT', 'det', 'dobj', 'prep', 'det', 'amod', 'pobj', 'prep', 'pcomp', 'aux', 'advcl', 'dobj', 'punct'], ['nsubj', 'punct', 'ROOT', 'acomp', 'mark', 'det', 'nsubj', 'cc', 'poss', 'conj', 'ccomp', 'det', 'compound', 'dobj', 'nsubj', 'ccomp', 'prep', 'amod', 'pobj', 'punct'], ['nsubj', 'ROOT', 'advmod', 'amod', 'attr', 'prep', 'det', 'amod', 'cc', 'conj', 'pobj', 'det', 'compound', 'nsubj', 'aux', 'relcl', 'aux', 'xcomp', 'cc', 'conj', 'amod', 'dobj', 'punct', 'prep', 'pobj', 'punct'], ['nsubj', 'prep', 'pobj', 'case', 'compound', 'compound', 'compound', 'nsubj', 'aux', 'advmod', 'ROOT', 'punct'], ['punct', 'det', 'nsubj', 'advmod', 'ROOT', 'poss', 'dobj', 'aux', 'acl', 'dobj', 'punct', 'prep', 'punct', 'pobj', 'prep', 'poss', 'amod', 'pobj', 'prep', 'pcomp', 'det', 'dobj', 'cc', 'advmod', 'conj', 'dobj', 'punct'], ['prep', 'det', 'amod', 'pobj', 'punct', 'nsubj', 'ROOT', 'advmod', 'acomp', 'prep', 'det', 'amod', 'pobj', 'acl', 'agent', 'poss', 'compound', 'pobj', 'punct', 'advmod', 'det', 'appos', 'punct'], ['prep', 'pobj', 'prep', 'pcomp', 'dobj', 'prep', 'det', 'amod', 'pobj', 'prep', 'pobj', 'punct', 'nmod', 'punct', 'intj', 'npadvmod', 'punct', 'amod', 'dobj', 'punct', 'det', 'nsubj', 'aux', 'advmod', 'ROOT', 'prt', 'dobj', 'prep', 'pobj', 'prep', 'pobj', 'punct', 'appos', 'punct'], ['amod', 'poss', 'punct', 'case', 'nsubj', 'prep', 'pobj', 'prep', 'pobj', 'prep', 'pobj', 'advmod', 'ROOT', 'prep', 'pobj', 'prep', 'compound', 'pobj', 'cc', 'compound', 'conj', 'punct'], ['prep', 'pobj', 'punct', 'nsubjpass', 'nummod', 'punct', 'compound', 'compound', 'compound', 'punct', 'appos', 'punct', 'det', 'compound', 'compound', 'appos', 'prep', 'pobj', 'auxpass', 'ROOT', 'cc', 'conj', 'agent', 'det', 'compound', 'pobj', 'prep', 'compound', 'pobj', 'punct', 'appos', 'punct'], ['punct', 'compound', 'nsubj', 'ROOT', 'poss', 'nmod', 'nummod', 'attr', 'advmod', 'punct', 'punct'], ['compound', 'nsubj', 'nsubj', 'aux', 'relcl', 'dobj', 'prep', 'pobj', 'ROOT', 'dobj', 'punct', 'conj', 'punct', 'conj', 'punct', 'conj', 'punct', 'conj', 'punct', 'conj', 'punct', 'det', 'conj', 'punct', 'compound', 'conj', 'punct', 'conj', 'punct', 'compound', 'compound', 'conj', 'punct', 'det', 'compound', 'conj', 'punct', 'cc', 'det', 'compound', 'conj', 'punct'], ['det', 'amod', 'nsubj', 'aux', 'ROOT', 'nsubj', 'aux', 'ccomp', 'prep', 'det', 'pobj', 'punct'], ['nsubj', 'aux', 'ROOT', 'advmod', 'poss', 'nsubj', 'aux', 'ccomp', 'advmod', 'advmod', 'cc', 'pobj', 'nsubj', 'aux', 'conj', 'prep', 'advmod', 'punct'], ['cc', 'amod', 'nsubj', 'prep', 'det', 'pobj', 'aux', 'ROOT', 'prt', 'amod', 'dobj', 'punct', 'nsubj', 'relcl', 'advmod', 'prep', 'nummod', 'pobj', 'punct', 'prep', 'amod', 'pobj', 'acl', 'aux', 'xcomp', 'punct'], ['nsubj', 'advmod', 'ROOT', 'aux', 'xcomp', 'dobj', 'prep', 'pobj', 'punct'], ['det', 'nsubj', 'prep', 'pobj', 'aux', 'ROOT', 'det', 'dobj', 'prep', 'quantmod', 'quantmod', 'quantmod', 'compound', 'pobj', 'prep', 'pobj', 'acl', 'prep', 'det', 'amod', 'pobj', 'prep', 'det', 'pobj', 'cc', 'punct', 'cc', 'conj', 'prep', 'pobj', 'cc', 'conj', 'prep', 'punct', 'prep', 'punct', 'prep', 'pobj', 'prep', 'punct', 'cc', 'aux', 'conj', 'dobj', 'punct', 'advmod', 'advcl', 'agent', 'poss', 'amod', 'pobj', 'prep', 'pobj', 'punct'], ['compound', 'nsubj', 'ROOT', 'dobj', 'punct', 'compound', 'dobj', 'prep', 'pobj', 'prep', 'pobj', 'cc', 'conj', 'det', 'dobj', 'punct', 'conj', 'dobj', 'prep', 'pcomp', 'det', 'amod', 'dobj', 'punct'], ['nsubjpass', 'auxpass', 'advmod', 'advmod', 'ROOT', 'prep', 'pobj', 'cc', 'compound', 'conj', 'punct'], ['det', 'nsubj', 'punct', 'det', 'amod', 'compound', 'appos', 'cc', 'det', 'conj', 'prep', 'pobj', 'ROOT', 'acomp', 'prep', 'pcomp', 'det', 'dobj', 'cc', 'aux', 'advmod', 'conj', 'det', 'dep', 'dep', 'dobj', 'prep', 'amod', 'compound', 'pobj', 'prep', 'quantmod', 'nummod', 'pobj', 'prep', 'amod', 'pobj', 'punct', 'prep', 'pobj', 'punct'], ['punct', 'punct', 'punct', 'nsubj', 'ROOT', 'aux', 'xcomp', 'dobj', 'prep', 'nummod', 'amod', 'pobj', 'punct', 'appos', 'dep', 'npadvmod', 'nummod', 'punct', 'nmod', 'dep', 'punct', 'nummod', 'punct', 'det', 'npadvmod', 'punct'], ['nsubj', 'aux', 'ROOT', 'prep', 'pobj', 'prep', 'amod', 'amod', 'pobj', 'aux', 'advcl', 'mark', 'det', 'nsubj', 'prep', 'pobj', 'ccomp', 'det', 'amod', 'amod', 'cc', 'conj', 'dobj', 'prep', 'det', 'pobj', 'punct'], ['nsubj', 'advmod', 'ROOT', 'amod', 'punct', 'conj', 'cc', 'conj', 'dobj', 'prep', 'amod', 'pobj', 'aux', 'advcl', 'det', 'dobj', 'prep', 'pobj', 'punct'], ['prep', 'pobj', 'punct', 'compound', 'compound', 'nsubj', 'aux', 'ROOT', 'prep', 'amod', 'cc', 'conj', 'pobj', 'aux', 'advcl', 'prt', 'dobj', 'prep', 'det', 'amod', 'amod', 'pobj', 'cc', 'aux', 'conj', 'det', 'dobj', 'prep', 'amod', 'amod', 'compound', 'compound', 'pobj', 'acl', 'prep', 'pobj', 'prep', 'pobj', 'cc', 'conj', 'punct'], ['det', 'compound', 'nsubj', 'ROOT', 'punct'], ['det', 'nsubj', 'advmod', 'ROOT', 'dobj', 'nummod', 'amod', 'npadvmod', 'punct', 'advcl', 'dobj', 'prep', 'det', 'npadvmod', 'punct', 'amod', 'compound', 'pobj', 'compound', 'compound', 'compound', 'appos', 'punct'], ['det', 'nsubj', 'prep', 'det', 'compound', 'compound', 'pobj', 'ROOT', 'prep', 'det', 'amod', 'pobj', 'prep', 'pobj', 'prep', 'det', 'compound', 'compound', 'pobj', 'punct', 'punct', 'ROOT', 'punct'], ['det', 'compound', 'nsubj', 'cc', 'compound', 'conj', 'ROOT', 'compound', 'punct', 'compound', 'dep', 'dep', 'dobj', 'prep', 'dep', 'dep', 'pobj', 'punct', 'conj', 'punct', 'conj', 'cc', 'amod', 'conj', 'punct'], ['punct', 'csubj', 'prep', 'pobj', 'ccomp', 'acomp', 'punct', 'det', 'nsubj', 'ROOT', 'advmod', 'acomp', 'prep', 'poss', 'pobj', 'punct', 'punct'], ['det', 'nsubj', 'ROOT', 'det', 'dobj', 'prep', 'det', 'pobj', 'prep', 'pobj', 'punct', 'compound', 'compound', 'compound', 'appos', 'nummod', 'punct', 'cc', 'conj', 'aux', 'acl', 'det', 'amod', 'dobj', 'prep', 'det', 'pobj', 'punct', 'advmod', 'advmod', 'cc', 'poss', 'amod', 'dobj', 'aux', 'advcl', 'amod', 'dobj', 'prep', 'amod', 'compound', 'pobj', 'punct'], ['prep', 'pobj', 'prep', 'nummod', 'compound', 'pobj', 'prep', 'det', 'amod', 'nummod', 'pobj', 'punct', 'det', 'nsubj', 'aux', 'ROOT', 'quantmod', 'nummod', 'dobj', 'nsubj', 'relcl', 'compound', 'nummod', 'dobj', 'prep', 'det', 'pobj', 'prep', 'pobj', 'punct', 'compound', 'conj', 'punct', 'conj', 'punct', 'conj', 'punct', 'conj', 'punct', 'cc', 'compound', 'conj', 'prep', 'pobj', 'prep', 'amod', 'compound', 'pobj', 'prep', 'pobj', 'punct'], ['cc', 'punct', 'nsubj', 'ROOT', 'dobj', 'punct', 'prep', 'det', 'amod', 'pobj', 'nsubj', 'aux', 'advmod', 'relcl', 'dobj', 'prep', 'nummod', 'compound', 'pobj', 'prep', 'advmod', 'nummod', 'pobj', 'punct', 'amod', 'punct', 'dep', 'nsubj', 'ROOT', 'amod', 'dobj', 'mark', 'det', 'compound', 'nsubj', 'aux', 'advcl', 'poss', 'dobj', 'xcomp', 'prep', 'pobj', 'advmod', 'cc', 'conj', 'punct'], ['det', 'amod', 'dep', 'dep', 'amod', 'nsubj', 'compound', 'nsubj', 'ROOT', 'compound', 'compound', 'compound', 'compound', 'dobj', 'punct', 'case', 'punct', 'appos', 'punct', 'compound', 'ROOT', 'punct', 'appos', 'punct', 'appos', 'prep', 'pobj', 'nummod', 'punct'], ['nsubj', 'ROOT', 'amod', 'dobj', 'aux', 'acl', 'dobj', 'punct', 'conj', 'punct', 'conj', 'punct', 'conj', 'punct', 'conj', 'punct', 'cc', 'compound', 'conj', 'punct'], ['det', 'nsubj', 'ROOT', 'nsubj', 'ccomp', 'dobj', 'mark', 'nsubj', 'aux', 'acl', 'dobj', 'prep', 'amod', 'pobj', 'punct'], ['amod', 'quantmod', 'dep', 'punct', 'ROOT', 'nsubjpass', 'auxpass', 'ROOT', 'prep', 'pobj', 'prep', 'pobj', 'punct'], ['nsubj', 'ROOT', 'advmod', 'prep', 'det', 'pobj', 'nsubj', 'ccomp', 'poss', 'dobj', 'prep', 'det', 'amod', 'pobj', 'punct', 'cc', 'nsubj', 'advmod', 'conj', 'dobj', 'punct'], ['nsubj', 'ccomp', 'advmod', 'amod', 'amod', 'nsubjpass', 'aux', 'auxpass', 'ccomp', 'prep', 'amod', 'pobj', 'nsubjpass', 'auxpass', 'relcl', 'prep', 'npadvmod', 'punct', 'pcomp', 'punct', 'advmod', 'nsubj', 'ROOT', 'npadvmod', 'punct', 'amod', 'dobj', 'prep', 'compound', 'pobj', 'punct'], ['expl', 'punct', 'ROOT', 'det', 'dobj', 'punct', 'punct', 'punct', 'punct'], ['det', 'compound', 'nsubj', 'prep', 'pobj', 'nummod', 'ccomp', 'nummod', 'compound', 'punct', 'compound', 'dobj', 'nsubj', 'aux', 'relcl', 'det', 'amod', 'compound', 'punct', 'compound', 'dobj', 'prep', 'pobj', 'punct', 'appos', 'punct', 'nsubj', 'ROOT', 'punct'], ['prep', 'pobj', 'prep', 'pcomp', 'dobj', 'prep', 'amod', 'pobj', 'mark', 'nsubj', 'advcl', 'amod', 'amod', 'dobj', 'punct', 'det', 'compound', 'nsubj', 'ROOT', 'amod', 'amod', 'cc', 'conj', 'dobj', 'acl', 'prep', 'pcomp', 'det', 'dobj', 'prep', 'pobj', 'cc', 'conj', 'punct'], ['prep', 'det', 'pobj', 'prep', 'amod', 'pobj', 'punct', 'advmod', 'intj', 'mark', 'nsubj', 'punct', 'advcl', 'acomp', 'aux', 'intj', 'prep', 'det', 'amod', 'pobj', 'punct', 'csubj', 'cc', 'poss', 'case', 'conj', 'advmod', 'punct', 'ROOT', 'det', 'amod', 'advmod', 'amod', 'attr', 'punct'], ['compound', 'nsubj', 'nsubj', 'aux', 'relcl', 'dobj', 'prep', 'pobj', 'ROOT', 'dobj', 'punct', 'conj', 'punct', 'conj', 'punct', 'conj', 'punct', 'conj', 'punct', 'conj', 'punct', 'det', 'conj', 'punct', 'det', 'compound', 'conj', 'punct', 'cc', 'det', 'compound', 'conj', 'punct'], ['det', 'nsubj', 'ROOT', 'mark', 'nsubjpass', 'auxpass', 'ccomp', 'prep', 'poss', 'pobj', 'prep', 'pobj', 'punct', 'nmod', 'amod', 'pobj', 'punct'], ['ROOT', 'prep', 'compound', 'pobj', 'punct', 'nummod', 'nsubj', 'ROOT', 'det', 'npadvmod', 'punct', 'amod', 'dobj', 'cc', 'nummod', 'compound', 'compound', 'conj', 'punct'], ['nsubj', 'ROOT', 'attr', 'prep', 'det', 'advmod', 'amod', 'pobj', 'prep', 'det', 'pobj', 'advmod', 'advmod', 'punct'], ['prep', 'det', 'pobj', 'acl', 'prep', 'det', 'pobj', 'cc', 'advmod', 'conj', 'pobj', 'punct', 'det', 'compound', 'compound', 'compound', 'nsubj', 'ROOT', 'aux', 'xcomp', 'det', 'dobj', 'prep', 'amod', 'pobj', 'prep', 'pobj', 'prep', 'compound', 'pobj', 'punct', 'prep', 'det', 'amod', 'pobj', 'prep', 'pobj', 'prep', 'det', 'compound', 'pobj', 'prep', 'pobj', 'punct'], ['cc', 'mark', 'advcl', 'advmod', 'punct', 'det', 'nsubj', 'aux', 'ROOT', 'det', 'dobj', 'aux', 'relcl', 'cc', 'conj', 'amod', 'dobj', 'prep', 'pobj', 'prep', 'pobj', 'punct', 'cc', 'punct', 'npadvmod', 'prep', 'pobj', 'punct', 'mark', 'advcl', 'nsubj', 'aux', 'ROOT', 'det', 'dobj', 'prep', 'det', 'pobj', 'prep', 'dep', 'dep', 'amod', 'pobj', 'prep', 'compound', 'pobj', 'punct', 'prep', 'det', 'pobj', 'acl', 'agent', 'det', 'compound', 'compound', 'pobj', 'punct', 'prep', 'det', 'pobj', 'punct', 'nsubj', 'aux', 'ROOT', 'det', 'amod', 'dobj', 'acl', 'agent', 'amod', 'amod', 'pobj', 'punct', 'amod', 'prep', 'det', 'amod', 'pobj', 'prep', 'pobj', 'punct', 'mark', 'advmod', 'advcl', 'cc', 'conj', 'prep', 'pcomp', 'det', 'amod', 'cc', 'conj', 'dobj', 'prep', 'dep', 'dep', 'amod', 'pobj', 'prep', 'pobj', 'prep', 'compound', 'pobj', 'punct', 'prep', 'det', 'pobj', 'punct', 'nsubj', 'aux', 'ROOT', 'npadvmod', 'prep', 'amod', 'compound', 'compound', 'compound', 'compound', 'compound', 'compound', 'pobj', 'intj', 'intj', 'det', 'ROOT', 'cc', 'conj', 'det', 'compound', 'compound', 'compound', 'compound', 'compound', 'pobj', 'punct', 'aux', 'ROOT', 'poss', 'dobj', 'prep', 'pobj', 'punct', 'det', 'compound', 'nsubj', 'aux', 'ROOT', 'poss', 'dobj', 'prep', 'det', 'amod', 'pobj', 'punct'], ['amod', 'amod', 'nsubj', 'ROOT', 'nsubj', 'advmod', 'ccomp', 'det', 'amod', 'dobj', 'prep', 'det', 'pobj', 'case', 'pobj', 'amod', 'pobj', 'punct'], ['prep', 'pobj', 'prep', 'poss', 'amod', 'pobj', 'aux', 'acl', 'det', 'amod', 'dobj', 'punct', 'det', 'nsubj', 'aux', 'ROOT', 'amod', 'cc', 'conj', 'dobj', 'punct', 'amod', 'compound', 'conj', 'punct', 'nmod', 'amod', 'conj', 'punct', 'cc', 'conj', 'aux', 'advcl', 'det', 'dobj', 'prep', 'det', 'amod', 'pobj', 'punct'], ['prep', 'det', 'amod', 'pobj', 'amod', 'quantmod', 'dep', 'punct', 'nummod', 'nsubjpass', 'punct', 'appos', 'prep', 'pobj', 'appos', 'punct', 'aux', 'auxpass', 'ROOT', 'punct'], ['compound', 'nsubj', 'punct', 'det', 'compound', 'appos', 'prep', 'compound', 'pobj', 'prep', 'amod', 'pobj', 'prep', 'det', 'compound', 'pobj', 'cc', 'nmod', 'cc', 'conj', 'conj', 'punct', 'aux', 'ROOT', 'prep', 'pobj', 'npadvmod', 'nummod', 'punct', 'prep', 'cc', 'conj', 'pobj', 'npadvmod', 'nummod', 'punct', 'nummod', 'punct'], ['nsubj', 'ROOT', 'acomp', 'mark', 'det', 'nsubj', 'aux', 'advcl', 'advmod', 'prep', 'det', 'amod', 'pobj', 'cc', 'conj', 'aux', 'advcl', 'dobj', 'prep', 'pobj', 'prep', 'pcomp', 'dobj', 'cc', 'aux', 'conj', 'prep', 'det', 'amod', 'pobj', 'prep', 'det', 'amod', 'pobj', 'punct'], ['prep', 'det', 'pobj', 'prep', 'det', 'pobj', 'aux', 'intj', 'dobj', 'punct', 'det', 'nsubj', 'aux', 'advmod', 'ROOT', 'prep', 'pobj', 'cc', 'conj', 'mark', 'nsubj', 'advcl', 'prep', 'det', 'poss', 'punct', 'case', 'amod', 'pobj', 'cc', 'conj', 'mark', 'nsubjpass', 'auxpass', 'advcl', 'punct'], ['advmod', 'nsubj', 'ROOT', 'det', 'amod', 'dobj', 'punct', 'punct', 'punct', 'punct'], ['punct', 'det', 'compound', 'nsubj', 'ROOT', 'det', 'amod', 'compound', 'dobj', 'punct', 'compound', 'compound', 'punct', 'appos', 'punct', 'aux', 'advcl', 'det', 'dobj', 'prep', 'pobj', 'prep', 'det', 'amod', 'pobj', 'cc', 'det', 'conj', 'auxpass', 'acl', 'prep', 'pobj', 'prep', 'pobj', 'punct'], ['advmod', 'dep', 'punct', 'nummod', 'amod', 'compound', 'compound', 'nsubj', 'punct', 'amod', 'nsubj', 'punct', 'amod', 'amod', 'conj', 'cc', 'compound', 'conj', 'punct', 'acl', 'agent', 'npadvmod', 'punct', 'amod', 'compound', 'compound', 'pobj', 'punct', 'ROOT', 'det', 'advmod', 'punct', 'amod', 'dobj', 'aux', 'acl', 'dobj', 'nummod', 'npadvmod', 'advmod', 'punct'], ['ROOT'], ['nsubj', 'advmod', 'advmod', 'ROOT', 'det', 'dobj', 'prep', 'nummod', 'pobj', 'prep', 'det', 'compound', 'pobj', 'prep', 'pobj', 'punct', 'acl', 'agent', 'compound', 'compound', 'compound', 'compound', 'pobj', 'punct', 'cc', 'det', 'compound', 'compound', 'conj', 'punct', 'acl', 'agent', 'compound', 'compound', 'compound', 'pobj', 'punct', 'prep', 'amod', 'pobj', 'prep', 'compound', 'pobj', 'cc', 'compound', 'conj', 'punct'], ['nsubj', 'ROOT', 'npadvmod', 'punct', 'nsubj', 'ROOT', 'mark', 'amod', 'compound', 'nsubj', 'acl', 'det', 'amod', 'dobj', 'prep', 'pobj', 'prep', 'compound', 'pobj', 'punct', 'advcl', 'agent', 'amod', 'pobj', 'prep', 'poss', 'pobj', 'appos', 'cc', 'poss', 'amod', 'conj', 'punct'], ['advmod', 'prep', 'pobj', 'punct', 'nmod', 'amod', 'nsubj', 'ROOT', 'nummod', 'dobj', 'acl', 'prep', 'cc', 'conj', 'pobj', 'prep', 'det', 'pobj', 'prep', 'pobj', 'acl', 'nmod', 'punct', 'conj', 'punct', 'conj', 'punct', 'cc', 'advmod', 'conj', 'dobj', 'advmod', 'advmod', 'cc', 'compound', 'dobj', 'prep', 'compound', 'pobj', 'punct'], ['det', 'nsubj', 'prep', 'amod', 'pobj', 'ROOT', 'acomp', 'punct', 'cc', 'det', 'conj', 'prep', 'amod', 'pobj', 'cc', 'compound', 'compound', 'compound', 'conj', 'punct'], ['det', 'amod', 'nsubj', 'prep', 'det', 'amod', 'compound', 'pobj', 'punct', 'punct', 'meta', 'punct', 'det', 'compound', 'nsubj', 'ROOT', 'prep', 'det', 'compound', 'pobj', 'acl', 'dobj', 'punct', 'advmod', 'prep', 'det', 'compound', 'pobj', 'punct', 'advcl', 'amod', 'compound', 'compound', 'compound', 'dobj', 'cc', 'amod', 'compound', 'conj', 'punct'], ['advmod', 'npadvmod', 'punct', 'nsubj', 'ROOT', 'prep', 'pobj', 'punct', 'nmod', 'amod', 'dobj', 'prep', 'pobj', 'punct', 'appos', 'punct'], ['prep', 'pobj', 'punct', 'amod', 'compound', 'nsubj', 'ROOT', 'det', 'amod', 'compound', 'nsubj', 'aux', 'ccomp', 'det', 'dobj', 'prep', 'pobj', 'punct', 'advcl', 'dobj', 'cc', 'det', 'conj', 'punct'], ['ROOT', 'compound', 'nsubj', 'prep', 'det', 'amod', 'pobj', 'ccomp', 'det', 'dobj', 'prep', 'compound', 'punct', 'compound', 'pobj', 'prep', 'pobj', 'prep', 'pobj', 'nummod', 'punct'], ['amod', 'amod', 'ROOT', 'prep', 'pobj', 'cc', 'conj', 'prep', 'compound', 'pobj'], ['compound', 'nsubj', 'punct', 'acl', 'dobj', 'prep', 'det', 'compound', 'pobj', 'punct', 'ROOT', 'prep', 'pobj', 'aux', 'advcl', 'dobj', 'cc', 'amod', 'conj', 'punct'], ['advmod', 'ROOT', 'mark', 'det', 'amod', 'nsubj', 'prep', 'dep', 'dep', 'amod', 'pobj', 'punct', 'compound', 'punct', 'appos', 'punct', 'advcl', 'nsubj', 'aux', 'ccomp', 'prt', 'prep', 'pobj', 'prep', 'det', 'punct', 'punct', 'compound', 'pobj', 'punct', 'punct', 'punct'], ['nsubj', 'aux', 'ccomp', 'det', 'amod', 'attr', 'dobj', 'nmod', 'punct', 'compound', 'compound', 'nsubj', 'aux', 'advmod', 'relcl', 'punct', 'nsubj', 'ROOT', 'advmod', 'prep', 'det', 'pobj', 'punct'], ['nsubj', 'ROOT', 'prep', 'det', 'pobj', 'punct'], ['ROOT', 'punct'], ['det', 'compound', 'nsubj', 'ROOT', 'nummod', 'dobj', 'prep', 'npadvmod', 'punct', 'amod', 'amod', 'pobj', 'punct'], ['nsubj', 'advmod', 'ROOT', 'det', 'dobj', 'prep', 'compound', 'pobj', 'aux', 'acl', 'amod', 'compound', 'dobj', 'prep', 'poss', 'pobj', 'aux', 'advcl', 'det', 'amod', 'dobj', 'punct'], ['prep', 'pobj', 'nummod', 'npadvmod', 'det', 'compound', 'compound', 'nsubj', 'ROOT', 'dobj', 'nummod', 'punct'], ['nsubj', 'aux', 'ROOT', 'aux', 'xcomp', 'poss', 'dobj', 'amod', 'prep', 'det', 'pobj', 'prep', 'pobj', 'punct'], ['prep', 'det', 'amod', 'nummod', 'pobj', 'amod', 'compound', 'nsubj', 'cc', 'poss', 'compound', 'conj', 'aux', 'ROOT', 'prep', 'predet', 'det', 'pobj', 'prep', 'det', 'pobj', 'cc', 'advmod', 'det', 'amod', 'amod', 'conj', 'punct'], ['nsubj', 'ROOT', 'det', 'compound', 'compound', 'dobj', 'cc', 'det', 'compound', 'conj', 'punct'], ['det', 'nsubj', 'prep', 'det', 'compound', 'pobj', 'ROOT', 'det', 'advmod', 'amod', 'amod', 'attr', 'prep', 'det', 'pobj', 'prep', 'compound', 'pobj', 'punct', 'det', 'appos', 'prep', 'pobj', 'prep', 'det', 'pobj', 'prep', 'pobj', 'cc', 'det', 'compound', 'conj', 'cc', 'conj', 'aux', 'acl', 'amod', 'dobj', 'aux', 'acl', 'punct', 'conj', 'punct', 'cc', 'conj', 'det', 'amod', 'dobj', 'acl', 'advmod', 'prep', 'pobj', 'punct'], ['compound', 'nsubj', 'punct', 'appos', 'prep', 'det', 'compound', 'pobj', 'ROOT', 'det', 'nsubj', 'prep', 'pobj', 'cc', 'conj', 'ccomp', 'prep', 'det', 'pobj', 'prep', 'pobj', 'prep', 'det', 'pobj', 'prep', 'pobj'], ['prep', 'det', 'pobj', 'punct', 'nsubj', 'ROOT', 'det', 'amod', 'nsubj', 'prep', 'pobj', 'aux', 'ccomp', 'advmod', 'prep', 'det', 'pobj', 'prep', 'cc', 'conj', 'pobj', 'prep', 'det', 'pobj', 'prep', 'pobj', 'punct', 'prep', 'det', 'pobj', 'prep', 'det', 'pobj', 'punct'], ['intj', 'nsubj', 'ccomp', 'det', 'amod', 'attr', 'punct', 'nsubj', 'ROOT', 'det', 'amod', 'cc', 'conj', 'amod', 'attr', 'nsubj', 'relcl', 'mark', 'det', 'nsubj', 'ccomp', 'acomp', 'cc', 'conj', 'aux', 'xcomp', 'advmod', 'cc', 'conj', 'amod', 'pobj', 'punct'], ['det', 'ROOT', 'prep', 'compound', 'pobj', 'punct', 'acl', 'prt', 'prep', 'det', 'pobj', 'prep', 'compound', 'pobj', 'cc', 'compound', 'conj', 'nsubj', 'ROOT', 'attr', 'prep', 'det', 'amod', 'pobj', 'aux', 'relcl', 'prep', 'pobj', 'det', 'npadvmod', 'aux', 'advcl', 'amod', 'dobj', 'prep', 'det', 'compound', 'pobj', 'prep', 'pobj', 'cc', 'det', 'conj', 'punct'], ['nsubj', 'punct', 'nsubj', 'ROOT', 'dobj', 'aux', 'xcomp', 'dobj', 'advmod', 'oprd', 'prep', 'pobj', 'punct', 'npadvmod', 'pobj', 'nsubj', 'aux', 'relcl', 'dobj', 'prep', 'cc', 'conj', 'dobj', 'prep', 'punct'], ['amod', 'npadvmod', 'punct', 'nsubj', 'advmod', 'ROOT', 'mark', 'nsubj', 'aux', 'ccomp', 'poss', 'amod', 'dobj', 'prep', 'pobj', 'prep', 'quantmod', 'compound', 'pobj', 'punct', 'advcl', 'poss', 'amod', 'dobj', 'aux', 'advcl', 'dobj', 'punct', 'compound', 'ROOT', 'punct', 'acl', 'dobj', 'prep', 'pobj', 'nsubjpass', 'aux', 'auxpass', 'relcl', 'aux', 'xcomp', 'prep', 'nmod', 'punct', 'poss', 'pobj', 'punct'], ['det', 'nsubj', 'prep', 'det', 'compound', 'pobj', 'ROOT', 'det', 'compound', 'compound', 'punct', 'dobj', 'punct', 'compound', 'compound', 'punct', 'appos', 'punct', 'aux', 'xcomp', 'advmod', 'aux', 'advcl', 'predet', 'det', 'dobj', 'advmod', 'advmod', 'prep', 'amod', 'cc', 'conj', 'det', 'amod', 'compound', 'punct', 'pobj', 'punct'], ['det', 'nsubj', 'prep', 'compound', 'pobj', 'ROOT', 'det', 'amod', 'dobj', 'det', 'amod', 'nsubj', 'aux', 'relcl', 'prep', 'det', 'compound', 'pobj', 'mark', 'auxpass', 'advcl', 'agent', 'det', 'compound', 'pobj', 'punct'], ['punct', 'punct', 'punct', 'amod', 'punct', 'nmod', 'nsubj', 'prep', 'pobj', 'ROOT', 'advmod', 'acomp', 'punct'], ['det', 'nsubjpass', 'prep', 'det', 'compound', 'pobj', 'auxpass', 'ROOT', 'prep', 'pobj', 'prep', 'poss', 'amod', 'pobj', 'punct', 'prep', 'prep', 'compound', 'punct', 'pobj', 'prep', 'pobj', 'punct', 'compound', 'compound', 'npadvmod', 'punct', 'compound', 'compound', 'punct', 'compound', 'conj', 'punct', 'compound', 'punct', 'compound', 'conj', 'punct', 'cc', 'compound', 'punct', 'compound', 'conj', 'punct'], ['det', 'nsubj', 'ROOT', 'poss', 'dobj', 'aux', 'acl', 'det', 'dobj', 'cc', 'conj', 'prep', 'pobj', 'prep', 'det', 'pobj', 'punct', 'cc', 'conj', 'acomp', 'prep', 'poss', 'pobj', 'prep', 'det', 'compound', 'compound', 'pobj', 'aux', 'acl', 'cc', 'conj', 'nmod', 'punct', 'dobj', 'punct'], ['punct', 'nsubj', 'nummod', 'ROOT', 'det', 'dobj', 'prep', 'pobj', 'punct', 'cc', 'conj', 'det', 'dobj', 'acl', 'det', 'punct', 'punct', 'pobj', 'punct', 'punct', 'prep', 'amod', 'pobj', 'advmod', 'amod', 'prep', 'pobj', 'prep', 'det', 'pobj', 'punct', 'punct'], ['compound', 'nsubj', 'ROOT', 'punct'], ['mark', 'det', 'amod', 'nsubj', 'advcl', 'punct', 'det', 'amod', 'nsubj', 'aux', 'ROOT', 'prep', 'quantmod', 'quantmod', 'compound', 'pobj', 'prep', 'amod', 'pobj', 'punct'], ['prep', 'pcomp', 'pobj', 'cc', 'amod', 'conj', 'punct', 'nsubj', 'prep', 'pobj', 'advmod', 'amod', 'nsubj', 'poss', 'nsubjpass', 'auxpass', 'relcl', 'prep', 'det', 'pobj', 'prep', 'det', 'pobj', 'punct', 'aux', 'ROOT', 'amod', 'quantmod', 'quantmod', 'punct', 'nummod', 'dobj', 'prep', 'advmod', 'advmod', 'det', 'pobj', 'amod', 'punct'], ['nsubj', 'ROOT', 'amod', 'dobj', 'cc', 'nsubj', 'conj', 'aux', 'xcomp', 'amod', 'dobj', 'punct'], ['det', 'nsubjpass', 'aux', 'auxpass', 'ROOT', 'aux', 'xcomp', 'xcomp', 'dobj', 'mark', 'mark', 'nummod', 'npadvmod', 'nsubjpass', 'cc', 'amod', 'conj', 'prep', 'amod', 'compound', 'pobj', 'cc', 'amod', 'compound', 'conj', 'aux', 'auxpass', 'advcl', 'aux', 'advcl', 'punct'], ['prep', 'pobj', 'punct', 'advmod', 'nummod', 'amod', 'cc', 'conj', 'nsubj', 'aux', 'ROOT', 'advmod', 'aux', 'advcl', 'dobj', 'punct', 'compound', 'dobj', 'prep', 'pobj', 'cc', 'conj', 'punct', 'nsubj', 'ccomp', 'aux', 'xcomp', 'det', 'dobj', 'prep', 'det', 'amod', 'pobj', 'punct', 'cc', 'det', 'nsubj', 'cc', 'conj', 'prep', 'det', 'amod', 'pobj', 'punct', 'advmod', 'prep', 'poss', 'nmod', 'cc', 'conj', 'pobj', 'punct', 'aux', 'conj', 'advmod', 'aux', 'advcl', 'cc', 'conj', 'nmod', 'punct', 'dobj', 'punct', 'punct', 'nsubj', 'ROOT', 'punct'], ['ROOT', 'prep', 'compound', 'pobj', 'punct', 'nummod', 'nsubj', 'ROOT', 'det', 'compound', 'compound', 'dobj', 'punct'], ['advmod', 'det', 'nsubj', 'advcl', 'nsubj', 'ROOT', 'dobj', 'punct'], ['ROOT'], ['advcl', 'prep', 'det', 'pobj', 'punct', 'nsubj', 'ROOT', 'acomp', 'prep', 'pcomp', 'det', 'amod', 'dobj', 'prep', 'pobj', 'nsubj', 'relcl', 'det', 'dobj', 'prep', 'pobj', 'prep', 'det', 'pobj', 'prep', 'det', 'pobj', 'cc', 'conj', 'punct'], ['nsubj', 'ROOT', 'det', 'nmod', 'prep', 'pobj', 'punct', 'nsubj', 'dobj', 'punct', 'nsubj', 'relcl', 'mark', 'det', 'compound', 'nsubjpass', 'auxpass', 'ccomp', 'prep', 'det', 'pobj', 'punct', 'advcl', 'nsubj', 'ccomp', 'mark', 'det', 'nsubjpass', 'auxpass', 'advcl', 'prt', 'agent', 'pobj', 'prep', 'preconj', 'det', 'compound', 'pobj', 'cc', 'conj', 'punct'], ['nsubj', 'ROOT', 'det', 'compound', 'dobj', 'cc', 'conj', 'prep', 'pobj'], ['nsubj', 'ROOT', 'advmod', 'det', 'nsubj', 'aux', 'advcl', 'prep', 'pobj', 'prep', 'det', 'compound', 'pobj', 'aux', 'advcl', 'cc', 'conj', 'dobj', 'prep', 'pobj', 'cc', 'conj', 'cc', 'punct', 'advmod', 'amod', 'punct', 'intj', 'prep', 'pobj', 'nsubj', 'relcl', 'det', 'dobj', 'prep', 'det', 'pobj', 'punct', 'cc', 'poss', 'ROOT', 'cc', 'conj', 'punct'], ['det', 'nsubj', 'aux', 'ROOT', 'det', 'dobj', 'prep', 'pobj', 'advmod', 'punct'], ['punct', 'punct', 'punct', 'prep', 'det', 'pobj', 'det', 'nsubj', 'ROOT', 'dobj', 'advmod', 'poss', 'dobj', 'punct'], ['cc', 'det', 'amod', 'nsubj', 'nsubj', 'relcl', 'prep', 'det', 'compound', 'npadvmod', 'advmod', 'advmod', 'ROOT', 'nsubj', 'ccomp', 'aux', 'xcomp', 'punct'], ['det', 'amod', 'nsubj', 'prep', 'pobj', 'aux', 'ROOT', 'det', 'dobj', 'prep', 'det', 'amod', 'pobj', 'prep', 'poss', 'pobj', 'aux', 'acl', 'dobj', 'punct', 'poss', 'nsubj', 'prep', 'pobj', 'prep', 'pobj', 'cc', 'det', 'compound', 'conj', 'relcl', 'aux', 'xcomp', 'poss', 'amod', 'dobj', 'cc', 'conj', 'prep', 'pobj', 'punct'], ['nsubj', 'ccomp', 'dobj', 'prep', 'det', 'pobj', 'aux', 'advcl', 'xcomp', 'nsubjpass', 'auxpass', 'ccomp', 'agent', 'pobj', 'cc', 'conj', 'prep', 'advmod', 'amod', 'amod', 'pobj', 'advmod', 'punct', 'punct', 'punct', 'ROOT', 'compound', 'nsubj', 'punct', 'det', 'amod', 'amod', 'compound', 'appos', 'nsubj', 'relcl', 'attr', 'prep', 'det', 'pobj', 'punct', 'punct'], ['det', 'nsubj', 'prep', 'pobj', 'ROOT', 'nummod', 'dobj', 'prep', 'pobj', 'prep', 'pcomp', 'dobj', 'punct'], ['aux', 'ROOT', 'acomp', 'nsubj', 'ROOT', 'advmod', 'acomp', 'prep', 'pobj', 'mark', 'nsubj', 'ccomp', 'xcomp', 'dobj', 'prep', 'pobj', 'punct'], ['det', 'nsubj', 'prep', 'compound', 'pobj', 'prep', 'pobj', 'cc', 'conj', 'advmod', 'ROOT', 'det', 'poss', 'case', 'case', 'dobj', 'aux', 'acl', 'dobj', 'cc', 'conj', 'dobj', 'punct'], ['nsubj', 'aux', 'ROOT', 'aux', 'xcomp', 'predet', 'dobj', 'acl', 'agent', 'det', 'amod', 'pobj', 'prep', 'pobj', 'prep', 'det', 'nummod', 'compound', 'pobj', 'acl', 'aux', 'xcomp', 'amod', 'punct', 'nmod', 'amod', 'dobj', 'punct'], ['compound', 'poss', 'punct', 'punct', 'amod', 'compound', 'ROOT', 'punct', 'cc', 'compound', 'compound', 'compound', 'conj', 'punct', 'compound', 'compound', 'nsubj', 'aux', 'ROOT', 'punct'], ['nsubjpass', 'auxpass', 'ROOT', 'aux', 'auxpass', 'xcomp', 'prep', 'pobj', 'punct'], ['nsubj', 'ROOT', 'det', 'attr', 'prep', 'det', 'pobj', 'cc', 'nsubj', 'conj', 'acomp', 'mark', 'nmod', 'punct', 'compound', 'nsubj', 'ccomp', 'prep', 'det', 'pobj', 'prep', 'det', 'amod', 'pobj', 'punct'], ['nsubj', 'auxpass', 'ROOT', 'agent', 'det', 'amod', 'amod', 'pobj', 'prep', 'nmod', 'dep', 'compound', 'pobj', 'punct', 'advmod', 'advmod', 'nummod', 'npadvmod', 'mark', 'compound', 'nsubj', 'advcl', 'xcomp', 'amod', 'compound', 'ccomp', 'advcl', 'compound', 'dobj', 'prep', 'prep', 'pobj', 'punct'], ['advmod', 'advmod', 'punct', 'nsubj', 'ROOT', 'aux', 'xcomp', 'det', 'npadvmod', 'punct', 'amod', 'dobj', 'punct'], ['det', 'nsubj', 'prep', 'det', 'compound', 'compound', 'pobj', 'prep', 'compound', 'pobj', 'punct', 'compound', 'appos', 'punct', 'ROOT', 'det', 'compound', 'dobj', 'prep', 'pobj', 'prep', 'pobj', 'mark', 'nsubj', 'aux', 'ccomp', 'aux', 'xcomp', 'dobj', 'prep', 'pobj', 'prep', 'pobj', 'cc', 'conj', 'punct', 'advmod', 'advmod', 'cc', 'amod', 'dobj', 'punct'], ['nsubj', 'advmod', 'ROOT', 'aux', 'xcomp', 'advmod', 'prep', 'amod', 'pobj', 'cc', 'conj', 'det', 'pobj', 'prep', 'det', 'amod', 'pobj', 'aux', 'acl', 'dobj', 'prep', 'pobj', 'punct', 'punct'], ['punct', 'nsubj', 'ccomp', 'acomp', 'prep', 'pcomp', 'advmod', 'prep', 'det', 'nmod', 'cc', 'conj', 'pobj', 'punct', 'punct', 'ROOT', 'compound', 'compound', 'nsubj', 'punct', 'appos', 'prep', 'pobj', 'punct'], ['punct', 'punct', 'punct', 'nsubj', 'punct', 'aux', 'aux', 'ROOT', 'prep', 'pobj', 'punct', 'advcl', 'det', 'nsubjpass', 'auxpass', 'ccomp', 'cc', 'nsubj', 'punct', 'compound', 'ROOT', 'punct', 'punct', 'advmod', 'aux', 'nsubj', 'ccomp', 'det', 'dobj', 'punct', 'punct', 'advmod', 'nsubj', 'ROOT', 'mark', 'nsubj', 'aux', 'ccomp', 'prep', 'pcomp', 'poss', 'pobj', 'cc', 'nsubj', 'conj', 'dobj', 'punct', 'punct', 'advmod', 'aux', 'nsubj', 'ccomp', 'punct', 'dobj', 'aux', 'nsubj', 'ccomp', 'punct', 'punct', 'ROOT', 'appos', 'punct', 'nsubj', 'ROOT', 'punct', 'punct', 'punct', 'punct'], ['advmod', 'prep', 'nummod', 'pobj', 'det', 'compound', 'nsubj', 'ROOT', 'aux', 'xcomp', 'det', 'dobj', 'prep', 'pobj', 'cc', 'conj', 'det', 'dobj', 'nsubj', 'relcl', 'dobj', 'punct'], ['ROOT', 'compound', 'compound', 'punct', 'nmod', 'punct', 'compound', 'compound', 'punct', 'intj', 'punct', 'ROOT', 'punct', 'punct', 'dep', 'ROOT', 'nummod', 'dep', 'ROOT', 'ROOT', 'ROOT', 'ROOT', 'ROOT', 'ROOT', 'ROOT', 'compound', 'compound', 'compound', 'compound', 'compound', 'compound', 'ROOT', 'ROOT', 'nsubj', 'det', 'compound', 'punct', 'compound', 'appos', 'punct', 'compound', 'compound', 'punct', 'compound', 'compound', 'compound', 'appos', 'punct', 'punct', 'punct', 'appos', 'prep', 'det', 'compound', 'pobj', 'punct', 'punct', 'punct', 'ROOT', 'det', 'amod', 'amod', 'attr', 'acl', 'aux', 'xcomp', 'dobj', 'prep', 'det', 'amod', 'pobj', 'punct'], ['punct', 'det', 'nsubj', 'ROOT', 'det', 'dobj', 'prep', 'pobj', 'cc', 'det', 'conj', 'prep', 'pobj', 'prep', 'amod', 'pobj', 'punct', 'prep', 'det', 'amod', 'amod', 'pobj', 'prep', 'det', 'compound', 'pobj', 'punct'], ['prep', 'det', 'pobj', 'prep', 'poss', 'punct', 'intj', 'compound', 'compound', 'pobj', 'punct', 'nsubj', 'aux', 'ROOT', 'det', 'dobj', 'acl', 'det', 'dobj', 'prep', 'det', 'pobj', 'punct'], ['nsubj', 'aux', 'ROOT', 'det', 'dobj', 'prep', 'amod', 'pobj', 'prep', 'amod', 'pobj', 'prep', 'pobj', 'cc', 'conj', 'punct', 'conj', 'det', 'dobj', 'prep', 'det', 'pobj', 'prep', 'compound', 'pobj', 'punct', 'cc', 'conj', 'dobj', 'prep', 'prep', 'pobj', 'punct'], ['advmod', 'quantmod', 'punct', 'nummod', 'amod', 'nsubj', 'punct', 'prep', 'pobj', 'prep', 'amod', 'pobj', 'cc', 'poss', 'nmod', 'punct', 'conj', 'cc', 'conj', 'conj', 'punct', 'aux', 'ROOT', 'det', 'dobj', 'punct'], ['nsubj', 'ROOT', 'advmod', 'det', 'amod', 'attr', 'aux', 'relcl', 'det', 'amod', 'dobj', 'prep', 'pobj', 'prep', 'pobj', 'punct'], ['punct', 'punct', 'punct', 'expl', 'punct', 'dep', 'amod', 'intj', 'advmod', 'prep', 'pobj', 'nsubj', 'relcl', 'punct', 'punct', 'punct', 'det', 'nsubj', 'ROOT', 'punct'], ['det', 'compound', 'ROOT', 'prep', 'det', 'pobj', 'prep', 'compound', 'pobj', 'cc', 'conj', 'det', 'amod', 'dobj', 'prep', 'det', 'pobj', 'cc', 'conj', 'prep', 'pobj', 'aux', 'advcl', 'det', 'dobj', 'prep', 'pobj', 'prep', 'dep', 'dep', 'pobj', 'punct'], ['mark', 'advmod', 'advcl', 'punct', 'det', 'nsubj', 'aux', 'ROOT', 'xcomp', 'det', 'dobj', 'prep', 'dep', 'punct', 'nummod', 'pobj', 'acl', 'prep', 'det', 'pobj', 'punct'], ['prep', 'det', 'pobj', 'punct', 'det', 'compound', 'nsubj', 'compound', 'appos', 'ROOT', 'punct'], ['punct', 'punct', 'punct', 'advmod', 'nsubj', 'ROOT', 'det', 'nsubj', 'ccomp', 'det', 'amod', 'dobj', 'prep', 'predet', 'poss', 'pobj', 'punct'], ['prep', 'pobj', 'prep', 'det', 'nummod', 'pobj', 'punct', 'nummod', 'compound', 'appos', 'punct', 'nummod', 'npadvmod', 'punct', 'amod', 'conj', 'punct', 'nummod', 'amod', 'conj', 'punct', 'cc', 'det', 'compound', 'compound', 'compound', 'nsubjpass', 'auxpass', 'advmod', 'ROOT', 'prep', 'det', 'pobj', 'punct'], ['advmod', 'poss', 'nsubj', 'ROOT', 'det', 'dobj', 'aux', 'advcl', 'dobj', 'det', 'amod', 'dobj', 'amod', 'dobj', 'prep', 'pobj', 'punct'], ['cc', 'nsubj', 'ROOT', 'expl', 'punct', 'ccomp', 'advmod', 'amod', 'attr', 'prep', 'pobj', 'nsubj', 'relcl', 'advmod', 'acomp', 'prep', 'det', 'pobj', 'punct'], ['ROOT', 'punct', 'npadvmod', 'compound', 'ROOT', 'punct', 'compound', 'compound', 'ROOT', 'punct', 'dep', 'punct', 'ROOT', 'nmod', 'punct', 'ROOT', 'ROOT', 'punct', 'nummod', 'punct', 'appos', 'appos', 'nummod', 'punct', 'prep', 'appos', 'compound', 'appos', 'punct', 'appos', 'appos', 'punct', 'appos', 'punct', 'nummod', 'ROOT', 'appos', 'punct', 'compound', 'compound', 'appos', 'punct', 'appos', 'punct', 'ROOT', 'compound', 'compound', 'ROOT', 'punct', 'nummod', 'punct', 'appos'], ['punct', 'punct', 'punct', 'nsubj', 'ccomp', 'det', 'dobj', 'punct', 'punct', 'punct', 'ROOT', 'nsubj', 'punct'], ['mark', 'det', 'nsubj', 'prep', 'det', 'pobj', 'prep', 'pobj', 'aux', 'ROOT', 'det', 'attr', 'prep', 'det', 'amod', 'pobj', 'nsubj', 'aux', 'neg', 'ROOT', 'det', 'dobj', 'prep', 'det', 'pobj', 'punct'], ['mark', 'nmod', 'nmod', 'prep', 'pobj', 'compound', 'nsubj', 'advcl', 'npadvmod', 'prep', 'det', 'compound', 'pobj', 'punct', 'det', 'compound', 'nsubj', 'aux', 'ROOT', 'advmod', 'quantmod', 'compound', 'dobj', 'prep', 'amod', 'pobj', 'prep', 'det', 'amod', 'pobj', 'punct', 'advcl', 'det', 'amod', 'dobj', 'nsubj', 'aux', 'relcl', 'cc', 'aux', 'conj', 'prep', 'det', 'amod', 'pobj', 'prep', 'pobj', 'prep', 'advmod', 'quantmod', 'compound', 'pobj', 'punct'], ['nsubj', 'punct', 'ROOT', 'det', 'nummod', 'dobj', 'prep', 'pobj', 'nsubj', 'ROOT', 'advmod', 'nsubj', 'ccomp', 'punct'], ['det', 'nsubj', 'prep', 'compound', 'compound', 'compound', 'pobj', 'ROOT', 'prep', 'pobj', 'prep', 'pobj', 'advmod', 'advmod', 'cc', 'amod', 'conj', 'cc', 'conj', 'punct'], ['det', 'nsubj', 'prep', 'poss', 'advmod', 'amod', 'pobj', 'ROOT', 'prep', 'advmod', 'punct', 'amod', 'amod', 'pobj', 'amod', 'prep', 'det', 'pobj', 'cc', 'compound', 'compound', 'conj', 'punct', 'acl', 'prep', 'det', 'pobj', 'prep', 'pobj', 'punct', 'cc', 'amod', 'compound', 'compound', 'punct', 'conj', 'punct', 'nsubj', 'relcl', 'dobj', 'prep', 'det', 'amod', 'pobj', 'punct'], ['prep', 'pobj', 'punct', 'nmod', 'amod', 'nsubj', 'ROOT', 'nummod', 'dobj', 'acl', 'dobj', 'punct', 'conj', 'punct', 'conj', 'cc', 'advmod', 'amod', 'conj', 'prep', 'compound', 'pobj', 'punct'], ['prep', 'poss', 'pobj', 'prep', 'pobj', 'punct', 'det', 'nsubj', 'aux', 'advmod', 'ROOT', 'dobj', 'prep', 'pobj', 'cc', 'amod', 'quantmod', 'nummod', 'amod', 'conj', 'prep', 'npadvmod', 'punct', 'amod', 'pobj', 'punct'], ['compound', 'compound', 'nsubj', 'nummod', 'aux', 'ROOT', 'prep', 'det', 'npadvmod', 'punct', 'amod', 'pobj', 'prep', 'amod', 'pobj', 'aux', 'advcl', 'det', 'amod', 'amod', 'amod', 'dobj', 'prep', 'amod', 'cc', 'conj', 'pobj', 'punct'], ['det', 'nsubj', 'ROOT', 'det', 'dobj', 'prep', 'pobj', 'punct', 'conj', 'cc', 'conj', 'conj', 'punct', 'conj', 'cc', 'compound', 'conj', 'prep', 'det', 'pobj', 'punct'], ['det', 'nsubj', 'ROOT', 'preconj', 'det', 'nsubj', 'prep', 'compound', 'pobj', 'ccomp', 'cc', 'conj', 'prep', 'poss', 'punct', 'case', 'amod', 'pobj', 'punct'], ['advmod', 'det', 'nsubjpass', 'aux', 'auxpass', 'advcl', 'prep', 'pobj', 'cc', 'conj', 'conj', 'det', 'dobj', 'punct', 'nsubj', 'aux', 'aux', 'ROOT', 'nsubj', 'aux', 'ccomp', 'amod', 'dobj', 'prep', 'pobj', 'punct'], ['nsubj', 'aux', 'ccomp', 'mark', 'advmod', 'mark', 'det', 'nsubj', 'ccomp', 'dobj', 'punct', 'det', 'nsubj', 'ROOT', 'dobj', 'punct', 'punct', 'ROOT', 'punct'], ['det', 'nsubj', 'prep', 'det', 'pobj', 'ROOT', 'acomp', 'mark', 'nsubj', 'cc', 'amod', 'conj', 'advcl', 'nsubjpass', 'aux', 'auxpass', 'ccomp', 'agent', 'poss', 'case', 'compound', 'pobj', 'mark', 'nsubj', 'advcl', 'advmod', 'nsubj', 'ccomp', 'punct'], ['advmod', 'nummod', 'nsubj', 'ROOT', 'prep', 'compound', 'punct', 'compound', 'pobj', 'punct'], ['mark', 'nsubj', 'advcl', 'prep', 'compound', 'compound', 'compound', 'punct', 'pobj', 'npadvmod', 'punct', 'nsubj', 'ROOT', 'compound', 'dobj', 'punct', 'compound', 'ROOT', 'prep', 'pcomp', 'det', 'amod', 'cc', 'conj', 'dobj', 'prep', 'nummod', 'pobj', 'punct', 'nsubj', 'relcl', 'npadvmod', 'prep', 'det', 'pobj', 'prep', 'poss', 'amod', 'pobj', 'aux', 'advcl', 'dobj', 'prep', 'det', 'amod', 'pobj', 'punct'], ['nsubjpass', 'auxpass', 'advmod', 'ROOT', 'prep', 'det', 'pobj', 'prep', 'compound', 'pobj', 'prep', 'amod', 'pobj', 'punct', 'prep', 'prep', 'det', 'amod', 'compound', 'compound', 'compound', 'punct', 'compound', 'compound', 'compound', 'compound', 'pobj', 'punct'], ['nsubjpass', 'auxpass', 'ROOT', 'mark', 'det', 'amod', 'nsubjpass', 'prep', 'det', 'pobj', 'prep', 'pobj', 'auxpass', 'ccomp', 'prep', 'det', 'compound', 'pobj', 'prep', 'poss', 'case', 'pobj', 'cc', 'det', 'amod', 'conj', 'prep', 'det', 'compound', 'compound', 'pobj', 'auxpass', 'conj', 'prep', 'det', 'pobj', 'prep', 'poss', 'case', 'pobj', 'prep', 'punct', 'pobj', 'punct', 'punct', 'ROOT', 'punct'], ['aux', 'advcl', 'punct', 'compound', 'nsubj', 'aux', 'ROOT', 'cc', 'conj', 'amod', 'compound', 'dobj', 'punct', 'appos', 'punct', 'punct', 'advmod', 'amod', 'amod', 'appos', 'acl', 'prep', 'det', 'amod', 'pobj', 'prep', 'det', 'pobj', 'nsubj', 'aux', 'relcl', 'dobj', 'prep', 'det', 'pobj', 'aux', 'acl', 'dobj', 'punct'], ['punct', 'punct', 'punct', 'nsubj', 'advmod', 'advmod', 'ROOT', 'mark', 'nsubj', 'aux', 'neg', 'ccomp', 'det', 'amod', 'amod', 'attr', 'nsubj', 'relcl', 'prep', 'amod', 'amod', 'pobj', 'prep', 'punct', 'pobj', 'punct', 'punct', 'cc', 'conj', 'poss', 'dobj', 'prep', 'compound', 'pobj', 'cc', 'poss', 'conj', 'aux', 'advcl', 'poss', 'nsubj', 'aux', 'neg', 'ccomp', 'dobj', 'prep', 'pobj', 'prep', 'det', 'pobj', 'nsubj', 'relcl', 'prep', 'pobj', 'prep', 'compound', 'pobj', 'punct', 'cc', 'conj', 'dobj', 'xcomp', 'ccomp', 'attr', 'nsubj', 'relcl', 'prep', 'pobj', 'prep', 'amod', 'amod', 'pobj', 'punct', 'punct', 'punct', 'ROOT', 'compound', 'nsubj', 'punct', 'punct'], ['nsubj', 'aux', 'neg', 'ROOT', 'compound', 'punct', 'nsubj', 'aux', 'ccomp', 'poss', 'dobj', 'aux', 'acl', 'det', 'compound', 'dobj', 'cc', 'poss', 'conj', 'prep', 'det', 'pobj', 'punct', 'cc', 'det', 'nsubj', 'conj', 'det', 'dobj', 'punct', 'punct'], ['nsubj', 'ROOT', 'prep', 'punct', 'det', 'punct', 'pobj', 'prep', 'compound', 'compound', 'pobj', 'punct'], ['det', 'compound', 'nsubj', 'advmod', 'ROOT', 'dobj', 'punct', 'nmod', 'amod', 'compound', 'dobj', 'prep', 'det', 'pobj', 'prep', 'compound', 'pobj', 'prep', 'compound', 'pobj', 'punct', 'nsubj', 'relcl', 'cc', 'conj', 'dobj', 'prep', 'amod', 'pobj', 'punct', 'prep', 'prep', 'det', 'pobj', 'cc', 'conj', 'punct'], ['punct', 'punct', 'punct', 'nsubj', 'nmod', 'punct', 'nsubj', 'ROOT', 'dobj', 'cc', 'nsubj', 'ccomp', 'det', 'poss', 'dobj', 'prep', 'compound', 'pobj', 'prep', 'poss', 'pobj', 'punct', 'punct', 'punct', 'nsubj', 'ROOT', 'prt', 'punct'], ['prep', 'pobj', 'punct', 'nmod', 'amod', 'nsubj', 'ROOT', 'nummod', 'dobj', 'acl', 'dobj', 'punct', 'conj', 'punct', 'conj', 'cc', 'advmod', 'amod', 'conj', 'prep', 'compound', 'pobj', 'punct'], ['det', 'compound', 'nsubj', 'cc', 'compound', 'conj', 'ROOT', 'prep', 'nummod', 'pobj', 'prep', 'det', 'nummod', 'compound', 'punct', 'compound', 'pobj', 'prep', 'pobj', 'prep', 'pobj', 'punct'], ['poss', 'nsubj', 'ROOT', 'dobj', 'prep', 'pcomp', 'det', 'amod', 'punct', 'amod', 'punct', 'amod', 'dobj', 'punct'], ['nsubj', 'cc', 'conj', 'ROOT', 'advmod', 'det', 'npadvmod', 'prep', 'det', 'amod', 'pobj', 'punct'], ['nsubj', 'punct', 'ROOT', 'advmod', 'det', 'attr', 'prep', 'pobj', 'punct'], ['det', 'compound', 'nsubj', 'aux', 'ROOT', 'prep', 'pobj', 'acl', 'prep', 'det', 'amod', 'pobj', 'prep', 'pobj', 'prep', 'pobj', 'advmod', 'mark', 'det', 'amod', 'nsubj', 'advcl', 'prt', 'prep', 'pobj', 'punct'], ['amod', 'amod', 'nsubj', 'nsubjpass', 'aux', 'auxpass', 'relcl', 'prep', 'pobj', 'prep', 'pobj', 'aux', 'ROOT', 'aux', 'xcomp', 'det', 'dobj', 'punct', 'nsubj', 'ccomp', 'prep', 'pobj', 'punct', 'nsubj', 'ROOT', 'punct'], ['ROOT', 'prep', 'compound', 'pobj', 'punct', 'nummod', 'nsubj', 'ROOT', 'nummod', 'nmod', 'amod', 'dobj', 'cc', 'conj', 'det', 'amod', 'punct', 'compound', 'dobj', 'punct', 'det', 'conj', 'punct', 'det', 'compound', 'conj', 'punct', 'cc', 'det', 'compound', 'conj', 'punct'], ['advmod', 'advcl', 'punct', 'ROOT', 'dobj', 'nummod', 'punct'], ['det', 'nsubj', 'ROOT', 'prep', 'det', 'pobj', 'prep', 'amod', 'pobj', 'aux', 'acl', 'amod', 'dobj', 'aux', 'advcl', 'advmod', 'advmod', 'nummod', 'punct', 'ROOT', 'prep', 'amod', 'cc', 'conj', 'pobj', 'prep', 'pobj', 'cc', 'conj', 'pobj', 'prep', 'compound', 'pobj', 'punct'], ['predet', 'det', 'nsubj', 'aux', 'ROOT', 'det', 'nsubj', 'aux', 'ccomp', 'prep', 'det', 'amod', 'pobj', 'acl', 'agent', 'poss', 'case', 'pobj', 'cc', 'amod', 'conj', 'punct'], ['advmod', 'prep', 'pobj', 'punct', 'det', 'amod', 'amod', 'nsubj', 'ROOT', 'det', 'npadvmod', 'punct', 'amod', 'dobj', 'prep', 'pcomp', 'amod', 'quantmod', 'nummod', 'dobj', 'cc', 'conj', 'nummod', 'dobj', 'prep', 'compound', 'pobj', 'prep', 'cc', 'conj', 'pobj', 'prep', 'det', 'amod', 'nummod', 'pobj', 'punct'], ['npadvmod', 'punct', 'amod', 'nsubj', 'punct', 'advmod', 'parataxis', 'agent', 'poss', 'case', 'pobj', 'punct', 'aux', 'ROOT', 'advmod', 'advmod', 'nummod', 'advmod', 'amod', 'dobj', 'cc', 'amod', 'conj', 'prep', 'pobj', 'punct'], ['det', 'compound', 'compound', 'nsubj', 'ROOT', 'punct', 'punct', 'det', 'compound', 'nsubj', 'ccomp', 'amod', 'compound', 'compound', 'compound', 'dobj', 'advmod', 'npadvmod', 'prep', 'det', 'pobj', 'prep', 'det', 'compound', 'pobj', 'prep', 'compound', 'pobj', 'punct', 'poss', 'amod', 'nmod', 'punct', 'prep', 'punct', 'pobj', 'dobj', 'mark', 'compound', 'nsubjpass', 'auxpass', 'advcl', 'punct'], ['nsubj', 'ROOT', 'dobj', 'punct'], ['prep', 'pobj', 'punct', 'nmod', 'punct', 'nsubj', 'ROOT', 'amod', 'dobj', 'prep', 'det', 'amod', 'pobj', 'prep', 'det', 'compound', 'punct', 'compound', 'pobj', 'prep', 'pobj', 'nsubj', 'relcl', 'advmod', 'advmod', 'nummod', 'dobj', 'punct'], ['prep', 'nummod', 'pobj', 'prep', 'amod', 'pobj', 'punct', 'det', 'nsubj', 'prep', 'pobj', 'aux', 'ROOT', 'aux', 'xcomp', 'dobj', 'prep', 'det', 'amod', 'pobj', 'punct'], ['ROOT', 'punct', 'nsubj', 'intj', 'det', 'compound', 'dobj', 'cc', 'nsubj', 'conj', 'punct', 'compound', 'dobj', 'cc', 'det', 'nsubj', 'compound', 'poss', 'punct', 'compound', 'conj', 'punct', 'compound', 'appos', 'punct', 'nsubj', 'ROOT', 'punct', 'punct', 'ROOT', 'punct'], ['punct', 'poss', 'nsubj', 'aux', 'ROOT', 'poss', 'advmod', 'amod', 'dobj', 'cc', 'conj', 'det', 'dobj', 'prep', 'pobj', 'acl', 'prep', 'pobj', 'punct', 'punct'], ['ROOT', 'punct', 'nummod', 'appos', 'nummod', 'nmod', 'nummod', 'appos', 'ROOT', 'nummod', 'appos', 'nummod', 'nmod', 'nummod', 'nmod', 'dep', 'punct', 'ROOT', 'punct', 'ROOT', 'dep', 'ROOT', 'nummod', 'punct', 'ROOT', 'ROOT', 'dep', 'punct', 'nummod', 'punct', 'npadvmod', 'punct', 'conj', 'punct', 'punct'], ['amod', 'dep', 'nmod', 'amod', 'nsubj', 'aux', 'ROOT', 'prt', 'advmod', 'punct'], ['prep', 'det', 'pobj', 'punct', 'nsubj', 'ROOT', 'det', 'dobj', 'prep', 'det', 'compound', 'pobj', 'prep', 'pobj', 'punct', 'cc', 'auxpass', 'conj', 'dobj', 'agent', 'compound', 'pobj', 'punct'], ['compound', 'nsubj', 'ROOT', 'det', 'amod', 'compound', 'dobj', 'punct', 'compound', 'compound', 'punct', 'appos', 'prep', 'pobj', 'npadvmod', 'punct'], ['nsubj', 'ROOT', 'det', 'dobj', 'prep', 'det', 'pobj', 'prep', 'pcomp', 'prep', 'det', 'pobj', 'punct'], ['advcl', 'npadvmod', 'punct', 'compound', 'nsubj', 'ROOT', 'punct'], ['det', 'nsubj', 'prep', 'det', 'compound', 'pobj', 'ROOT', 'det', 'amod', 'dobj', 'cc', 'poss', 'conj', 'aux', 'xcomp', 'acomp', 'cc', 'conj', 'det', 'amod', 'dobj', 'acl', 'agent', 'det', 'pobj', 'punct'], ['det', 'nsubj', 'aux', 'ccomp', 'advmod', 'nummod', 'amod', 'dobj', 'mark', 'det', 'nsubj', 'prep', 'pobj', 'advcl', 'advmod', 'amod', 'npadvmod', 'punct', 'nsubj', 'ROOT', 'punct'], ['punct', 'punct', 'det', 'nsubj', 'poss', 'punct', 'ROOT', 'advmod', 'cc', 'det', 'nmod', 'nmod', 'nmod', 'punct', 'nsubj', 'conj', 'dobj', 'punct'], ['det', 'nsubj', 'poss', 'nsubjpass', 'auxpass', 'relcl', 'ROOT', 'det', 'compound', 'dobj', 'mark', 'nsubj', 'aux', 'ccomp', 'det', 'dobj', 'acl', 'prep', 'poss', 'pobj', 'punct', 'nummod', 'conj', 'punct', 'nummod', 'appos', 'punct', 'prep', 'det', 'pobj', 'punct', 'advmod', 'prep', 'det'], ['det', 'nsubj', 'punct', 'mark', 'acl', 'prep', 'det', 'compound', 'pobj', 'punct', 'ROOT', 'nummod', 'cc', 'conj', 'amod', 'dobj', 'nsubj', 'relcl', 'prep', 'advmod', 'det', 'amod', 'amod', 'pobj', 'aux', 'advcl', 'det', 'amod', 'punct', 'advmod', 'amod', 'dobj', 'prep', 'det', 'pobj', 'punct'], ['poss', 'nsubj', 'ccomp', 'advmod', 'acomp', 'prep', 'pcomp', 'punct', 'nsubj', 'aux', 'ROOT', 'aux', 'xcomp', 'prep', 'det', 'amod', 'pobj', 'prep', 'det', 'pobj', 'prep', 'pobj', 'nsubj', 'relcl', 'det', 'dobj', 'punct'], ['prep', 'pcomp', 'amod', 'dobj', 'prep', 'dep', 'dep', 'amod', 'pobj', 'punct', 'det', 'nsubj', 'aux', 'ROOT', 'det', 'dobj', 'prep', 'pobj', 'cc', 'conj', 'mark', 'det', 'amod', 'amod', 'nsubj', 'advcl', 'advmod', 'prep', 'pobj', 'punct'], ['ROOT', 'expl', 'det', 'attr', 'punct'], ['nsubj', 'ROOT', 'acomp', 'mark', 'det', 'amod', 'nsubj', 'punct', 'nsubj', 'relcl', 'dobj', 'punct', 'aux', 'advcl', 'det', 'dobj', 'punct'], ['det', 'nsubj', 'ROOT', 'nummod', 'dobj', 'punct', 'nsubj', 'prep', 'pobj', 'relcl', 'prep', 'amod', 'pobj', 'punct', 'cc', 'conj', 'det', 'amod', 'compound', 'dobj', 'prep', 'amod', 'pobj', 'punct', 'punct', 'ROOT', 'punct'], ['compound', 'compound', 'ROOT', 'prep', 'compound', 'compound', 'compound', 'pobj'], ['punct', 'nsubj', 'punct', 'ROOT', 'acomp', 'ccomp', 'mark', 'det', 'nsubj', 'intj', 'aux', 'xcomp', 'det', 'dobj', 'prep', 'pobj', 'punct', 'neg', 'advmod', 'dep', 'punct', 'nsubj', 'aux', 'aux', 'ROOT', 'det', 'dobj', 'prep', 'det', 'pobj', 'cc', 'conj', 'det', 'pobj', 'aux', 'advcl', 'ccomp', 'nsubj', 'punct', 'aux', 'ccomp', 'det', 'dobj', 'prep', 'det', 'pobj', 'punct', 'punct'], ['det', 'nsubj', 'ROOT', 'advmod', 'det', 'attr', 'prep', 'nmod', 'punct', 'compound', 'ROOT', 'cc', 'conj', 'prep', 'amod', 'pobj', 'cc', 'poss', 'conj', 'aux', 'acl', 'amod', 'dobj', 'prep', 'det', 'pobj', 'prep', 'pobj', 'punct'], ['det', 'amod', 'nsubj', 'prep', 'det', 'pobj', 'ROOT', 'prep', 'amod', 'pobj', 'prep', 'pobj', 'aux', 'acl', 'amod', 'dobj', 'cc', 'aux', 'conj', 'amod', 'punct', 'compound', 'dobj', 'mark', 'amod', 'intj', 'prep', 'det', 'pobj', 'cc', 'nsubj', 'relcl', 'neg', 'advmod', 'acomp', 'punct'], ['nsubj', 'ROOT', 'aux', 'xcomp', 'advmod', 'acomp', 'mark', 'nsubj', 'advmod', 'advcl', 'dobj', 'prep', 'poss', 'pobj', 'punct', 'advcl', 'det', 'amod', 'dobj', 'nsubj', 'punct', 'aux', 'relcl', 'punct', 'punct', 'punct', 'punct'], ['det', 'amod', 'nsubjpass', 'prep', 'pobj', 'punct', 'nsubjpass', 'aux', 'auxpass', 'ROOT', 'agent', 'pobj', 'acl', 'det', 'amod', 'amod', 'dobj', 'advmod', 'prep', 'det', 'compound', 'pobj', 'poss', 'nsubj', 'aux', 'relcl', 'nsubj', 'punct', 'nsubj', 'compound', 'dobj', 'punct'], ['ROOT', 'prep', 'det', 'compound', 'pobj', 'prep', 'pobj', 'punct', 'det', 'compound', 'compound', 'compound', 'pobj', 'punct', 'appos', 'punct', 'conj', 'punct', 'compound', 'conj', 'cc', 'compound', 'compound', 'compound', 'conj', 'punct', 'compound', 'compound', 'appos', 'prep', 'det', 'pobj', 'prep', 'pobj', 'prep', 'det', 'compound', 'pobj', 'prep', 'pobj', 'punct', 'compound', 'conj', 'prep', 'pobj', 'cc', 'conj', 'punct', 'nsubj', 'punct', 'ROOT', 'det', 'dobj', 'prep', 'det', 'pobj', 'prep', 'det', 'pobj', 'cc', 'conj', 'prep', 'det', 'compound', 'pobj', 'prep', 'det', 'pobj', 'prep', 'det', 'amod', 'pobj', 'prep', 'pobj', 'prep', 'pobj', 'punct'], ['det', 'nsubjpass', 'auxpass', 'ROOT', 'aux', 'xcomp', 'nummod', 'dobj', 'punct'], ['compound', 'npadvmod', 'punct', 'nsubj', 'ROOT', 'dobj', 'punct'], ['nsubjpass', 'auxpass', 'ROOT', 'prep', 'det', 'nummod', 'pobj', 'prep', 'compound', 'compound', 'pobj', 'prep', 'amod', 'pobj', 'punct', 'punct', 'ROOT', 'punct'], ['prep', 'det', 'pobj', 'punct', 'nummod', 'compound', 'nsubj', 'ROOT', 'nummod', 'dobj', 'acl', 'nummod', 'dobj', 'punct'], ['compound', 'nsubj', 'ROOT', 'det', 'amod', 'attr', 'advmod', 'punct'], ['compound', 'nsubj', 'ROOT', 'punct', 'det', 'nsubj', 'aux', 'ccomp', 'advmod', 'prep', 'amod', 'compound', 'pobj', 'aux', 'advcl', 'nummod', 'amod', 'compound', 'compound', 'dobj', 'prep', 'pobj', 'punct'], ['det', 'compound', 'compound', 'nsubj', 'ROOT', 'advmod', 'aux', 'xcomp', 'dobj', 'nummod', 'punct', 'nsubj', 'relcl', 'det', 'nummod', 'compound', 'dobj', 'prep', 'pobj', 'cc', 'conj', 'prep', 'det', 'compound', 'pobj', 'punct', 'prep', 'pobj', 'prep', 'pobj', 'prep', 'nummod', 'pobj', 'prep', 'pobj', 'nummod', 'nsubjpass', 'auxpass', 'relcl', 'punct'], ['nsubj', 'aux', 'ROOT', 'xcomp', 'dobj', 'prep', 'det', 'pobj', 'mark', 'nsubj', 'advcl', 'poss', 'dobj', 'punct', 'conj', 'det', 'dobj', 'cc', 'conj', 'prep', 'amod', 'pobj', 'prep', 'det', 'amod', 'pobj', 'punct'], ['nsubj', 'nummod', 'ROOT', 'det', 'dobj', 'prep', 'pobj', 'punct'], ['det', 'nsubj', 'ROOT', 'prep', 'pobj', 'advmod', 'punct'], ['nmod', 'nmod', 'prep', 'pobj', 'compound', 'nsubj', 'aux', 'ROOT', 'prep', 'pobj', 'aux', 'advcl', 'amod', 'amod', 'punct', 'conj', 'punct', 'cc', 'conj', 'dobj', 'prep', 'compound', 'pobj', 'punct'], ['prep', 'pcomp', 'det', 'dobj', 'punct', 'det', 'nsubj', 'ROOT', 'prt', 'amod', 'dobj', 'cc', 'nummod', 'conj', 'det', 'amod', 'npadvmod', 'prep', 'pcomp', 'det', 'amod', 'dobj', 'punct', 'prep', 'amod', 'compound', 'pobj', 'punct', 'aux', 'advcl', 'poss', 'dobj', 'punct'], ['det', 'nsubj', 'ROOT', 'prep', 'compound', 'pobj', 'prep', 'amod', 'pobj', 'prep', 'amod', 'pobj', 'prep', 'pobj', 'punct'], ['compound', 'compound', 'nsubj', 'ROOT', 'prep', 'compound', 'pobj', 'mark', 'amod', 'compound', 'nsubj', 'advcl', 'advmod'], ['nsubj', 'advmod', 'ccomp', 'dative', 'dobj', 'punct', 'punct', 'punct', 'ROOT', 'det', 'poss', 'case', 'nsubj', 'punct', 'compound', 'appos', 'punct', 'punct'], ['compound', 'ROOT', 'punct', 'appos', 'punct', 'appos', 'punct', 'appos', 'punct', 'punct', 'compound', 'ROOT', 'punct', 'punct', 'compound', 'appos', 'appos', 'punct', 'cc', 'compound', 'conj', 'punct', 'ROOT', 'punct', 'punct', 'ROOT', 'dep', 'ROOT', 'nummod', 'compound', 'ROOT', 'ROOT', 'ROOT', 'compound', 'nsubj', 'appos', 'punct', 'ROOT', 'det', 'dep', 'dep', 'amod', 'attr', 'prep', 'det', 'compound', 'pobj', 'amod', 'punct', 'ROOT', 'punct', 'prep', 'pobj', 'cc', 'conj', 'prep', 'pobj', 'punct', 'appos', 'punct'], ['advcl', 'prep', 'det', 'pobj', 'prep', 'compound', 'pobj', 'prep', 'pobj', 'punct', 'det', 'compound', 'compound', 'compound', 'compound', 'nsubj', 'ROOT', 'det', 'nsubj', 'aux', 'ccomp', 'mark', 'advcl', 'punct'], ['nsubj', 'advmod', 'ROOT', 'mark', 'expl', 'ccomp', 'det', 'attr', 'prep', 'compound', 'compound', 'pobj', 'prep', 'pobj', 'cc', 'mark', 'det', 'nsubj', 'conj', 'prep', 'pcomp', 'dobj', 'prep', 'det', 'amod', 'npadvmod', 'punct', 'amod', 'pobj', 'punct', 'advmod', 'nummod', 'npadvmod', 'advmod'], ['ROOT', 'prep', 'compound', 'pobj', 'punct', 'nummod', 'nsubj', 'ROOT', 'det', 'nmod', 'amod', 'dobj', 'cc', 'conj', 'det', 'compound', 'dobj', 'punct'], ['nsubj', 'ROOT', 'advmod', 'aux', 'advcl', 'dobj', 'punct', 'prep', 'pobj', 'case', 'ccomp', 'amod', 'compound', 'ROOT', 'punct', 'det', 'appos', 'advmod', 'nsubj', 'prep', 'pobj', 'relcl', 'punct', 'appos', 'prep', 'det', 'pobj', 'punct', 'cc', 'det', 'conj', 'punct'], ['advmod', 'punct', 'compound', 'punct', 'nsubj', 'aux', 'neg', 'ccomp', 'det', 'dobj', 'cc', 'conj', 'prep', 'pobj', 'acl', 'prep', 'det', 'pobj', 'punct', 'det', 'nsubj', 'prep', 'pobj', 'ROOT', 'prep', 'det', 'pobj', 'punct', 'cc', 'det', 'conj', 'prep', 'amod', 'compound', 'compound', 'pobj', 'prep', 'det', 'pobj', 'punct'], ['det', 'compound', 'nsubjpass', 'auxpass', 'ROOT', 'punct', 'advcl', 'cc', 'conj', 'prep', 'pobj', 'advmod', 'nsubjpass', 'auxpass', 'advcl', 'prt', 'compound', 'dobj', 'prep', 'pcomp', 'prep', 'poss', 'pobj', 'punct'], ['det', 'amod', 'nsubj', 'prep', 'det', 'pobj', 'ROOT', 'acomp', 'prep', 'det', 'pobj', 'cc', 'aux', 'conj', 'xcomp', 'amod', 'dobj', 'prep', 'compound', 'pobj', 'punct'], ['nsubj', 'ROOT', 'dobj', 'prep', 'poss', 'case', 'amod', 'pobj', 'prep', 'det', 'amod', 'pobj', 'punct', 'nsubj', 'acl', 'punct', 'cc', 'advmod', 'conj', 'nsubj', 'prep', 'det', 'pobj', 'prep', 'dobj', 'nsubj', 'pcomp', 'ccomp', 'nmod', 'cc', 'compound', 'conj', 'attr', 'prep', 'det', 'compound', 'pobj', 'prep', 'pobj', 'advcl', 'compound', 'compound', 'dobj', 'cc', 'amod', 'compound', 'conj', 'punct'], ['punct', 'punct', 'punct', 'nsubj', 'ROOT', 'dobj', 'det', 'npadvmod', 'punct'], ['nsubj', 'prep', 'det', 'compound', 'pobj', 'advmod', 'ROOT', 'det', 'dative', 'amod', 'dobj', 'cc', 'amod', 'conj', 'aux', 'advcl', 'dobj', 'punct'], ['prep', 'pobj', 'nummod', 'punct', 'npadvmod', 'punct', 'nsubjpass', 'auxpass', 'ROOT', 'agent', 'compound', 'compound', 'compound', 'pobj', 'prep', 'det', 'amod', 'pobj', 'prep', 'det', 'compound', 'compound', 'pobj', 'punct', 'nsubj', 'relcl', 'det', 'amod', 'compound', 'dobj', 'prep', 'pobj', 'cc', 'auxpass', 'conj', 'prep', 'pcomp', 'det', 'dobj', 'punct'], ['nsubj', 'ROOT', 'det', 'compound', 'attr', 'prep', 'det', 'pobj', 'prep', 'det', 'nummod', 'compound', 'pobj', 'punct'], ['prep', 'nummod', 'punct', 'npadvmod', 'punct', 'amod', 'pobj', 'nsubj', 'ROOT', 'acomp', 'advmod', 'prep', 'pcomp', 'prep', 'pobj', 'punct', 'cc', 'prep', 'pobj', 'poss', 'nsubj', 'prep', 'det', 'pobj', 'aux', 'conj', 'dative', 'det', 'dobj', 'prep', 'punct', 'punct', 'compound', 'pobj', 'punct', 'punct', 'punct', 'punct'], ['ROOT', 'prep', 'compound', 'pobj', 'punct', 'nummod', 'nsubj', 'ROOT', 'det', 'nmod', 'amod', 'dobj', 'cc', 'conj', 'det', 'npadvmod', 'punct', 'amod', 'dobj', 'punct'], ['compound', 'nsubj', 'ROOT', 'amod', 'compound', 'compound', 'dobj', 'prep', 'pobj', 'nsubj', 'aux', 'relcl', 'cc', 'conj', 'advmod', 'amod', 'dobj'], ['amod', 'compound', 'compound', 'nsubj', 'ROOT', 'det', 'compound', 'dobj', 'prep', 'pobj', 'punct', 'compound', 'ROOT', 'prep', 'poss', 'pobj', 'prep', 'det', 'pobj', 'prep', 'det', 'compound', 'pobj', 'punct', 'nsubj', 'relcl', 'dobj', 'prep', 'compound', 'compound', 'punct', 'pobj', 'punct', 'amod', 'appos', 'punct', 'prep', 'nummod', 'pobj', 'punct'], ['nsubj', 'ROOT', 'prep', 'pobj', 'advmod', 'det', 'nsubj', 'advcl', 'det', 'dobj', 'nsubj', 'punct', 'nsubj', 'advcl', 'npadvmod', 'punct'], ['compound', 'compound', 'nsubj', 'ROOT', 'det', 'dobj', 'prep', 'pobj', 'punct', 'compound', 'ROOT', 'prep', 'pobj', 'cc', 'conj', 'compound', 'dobj', 'prep', 'pobj', 'prep', 'det', 'pobj', 'prep', 'pobj', 'punct'], ['nsubjpass', 'auxpass', 'advmod', 'ROOT', 'agent', 'det', 'pobj', 'prep', 'npadvmod', 'punct', 'amod', 'pobj', 'cc', 'conj', 'dobj', 'prep', 'pobj', 'punct'], ['det', 'amod', 'npadvmod', 'punct', 'amod', 'compound', 'nsubj', 'advmod', 'ROOT', 'det', 'dobj', 'prep', 'nummod', 'pobj', 'prep', 'pobj', 'prep', 'det', 'pobj', 'prep', 'compound', 'pobj', 'punct', 'advmod', 'nummod', 'npadvmod', 'advmod', 'prep', 'pobj'], ['det', 'amod', 'nsubj', 'prep', 'compound', 'pobj', 'prep', 'pobj', 'punct', 'npadvmod', 'punct', 'amod', 'compound', 'compound', 'compound', 'compound', 'punct', 'appos', 'punct', 'ROOT', 'det', 'dobj', 'prep', 'det', 'pobj', 'punct'], ['det', 'nsubjpass', 'auxpass', 'ROOT', 'prep', 'compound', 'pobj', 'punct', 'punct', 'ROOT', 'punct', 'punct', 'ROOT', 'punct'], ['compound', 'ROOT', 'cc', 'compound', 'conj', 'acl', 'prep', 'det', 'compound', 'punct', 'compound', 'pobj', 'npadvmod', 'punct'], ['prep', 'pobj', 'punct', 'prep', 'det', 'pobj', 'prep', 'det', 'nummod', 'punct', 'cc', 'nmod', 'compound', 'punct', 'compound', 'pobj', 'punct', 'det', 'appos', 'punct', 'nsubj', 'relcl', 'det', 'amod', 'compound', 'dobj', 'punct', 'aux', 'ROOT', 'amod', 'dobj', 'prep', 'det', 'amod', 'nummod', 'punct', 'cc', 'pobj', 'punct', 'advcl', 'amod', 'quantmod', 'dep', 'punct', 'nummod', 'amod', 'dobj', 'prep', 'pobj', 'advmod', 'acl', 'agent', 'det', 'pobj', 'punct'], ['nsubj', 'ROOT', 'dobj', 'punct'], ['nsubj', 'ROOT', 'mark', 'det', 'amod', 'nsubj', 'aux', 'ccomp', 'det', 'amod', 'dobj', 'prep', 'pcomp', 'amod', 'dobj', 'punct', 'prep', 'det', 'pobj', 'prep', 'amod', 'pobj', 'cc', 'conj', 'prep', 'det', 'amod', 'pobj', 'nsubj', 'relcl', 'det', 'attr', 'prep', 'pobj', 'punct'], ['nsubj', 'prep', 'det', 'compound', 'compound', 'compound', 'pobj', 'aux', 'ROOT', 'prep', 'det', 'advmod', 'punct', 'amod', 'pobj', 'prep', 'pobj', 'prep', 'pobj', 'prep', 'pobj', 'punct'], ['amod', 'punct', 'nmod', 'amod', 'nsubj', 'ROOT', 'det', 'amod', 'compound', 'dobj', 'punct'], ['compound', 'ROOT', 'punct', 'nsubj', 'punct', 'prep', 'pobj', 'punct', 'appos', 'punct', 'ROOT', 'npadvmod', 'nummod', 'punct', 'prep', 'pobj', 'punct', 'prep', 'det', 'dep', 'dep', 'npadvmod', 'amod', 'pobj', 'punct'], ['nsubj', 'prep', 'det', 'compound', 'compound', 'compound', 'pobj', 'ROOT', 'nummod', 'npadvmod', 'prep', 'compound', 'pobj', 'prep', 'compound', 'pobj', 'prep', 'det', 'pobj', 'prep', 'pobj', 'punct'], ['prep', 'compound', 'pobj', 'punct', 'compound', 'compound', 'nsubj', 'ROOT', 'aux', 'xcomp', 'det', 'compound', 'compound', 'compound', 'dobj', 'prep', 'compound', 'pobj', 'prep', 'det', 'pobj', 'prep', 'compound', 'pobj', 'punct'], ['nsubj', 'advmod', 'ROOT', 'prep', 'det', 'pobj', 'prep', 'det', 'compound', 'pobj', 'punct', 'oprd', 'amod', 'dobj', 'prep', 'pobj', 'cc', 'conj', 'punct', 'advmod', 'advmod', 'cc', 'poss', 'conj', 'prep', 'pobj', 'cc', 'conj', 'prep', 'amod', 'pobj', 'punct'], ['nsubj', 'ROOT', 'det', 'nsubj', 'prep', 'compound', 'pobj', 'prep', 'pobj', 'cc', 'det', 'amod', 'conj', 'aux', 'advmod', 'ccomp', 'prep', 'det', 'pobj', 'cc', 'conj', 'punct'], ['prep', 'compound', 'pobj', 'punct', 'mark', 'amod', 'nsubj', 'advcl', 'aux', 'xcomp', 'amod', 'cc', 'conj', 'compound', 'dobj', 'cc', 'conj', 'amod', 'compound', 'advcl', 'prep', 'compound', 'pobj', 'prep', 'det', 'pobj', 'prep', 'det', 'compound', 'pobj', 'punct', 'nsubj', 'ROOT', 'amod', 'dobj', 'prep', 'det', 'pobj', 'punct'], ['advmod', 'punct', 'det', 'nsubj', 'ROOT', 'aux', 'xcomp', 'mark', 'amod', 'compound', 'compound', 'nsubj', 'aux', 'ccomp', 'prep', 'det', 'pobj', 'punct', 'prep', 'prep', 'det', 'compound', 'pobj', 'punct'], ['compound', 'punct', 'nummod', 'compound', 'nsubj', 'prep', 'det', 'amod', 'compound', 'compound', 'pobj', 'advmod', 'ROOT', 'prep', 'det', 'pobj', 'prep', 'compound', 'compound', 'pobj', 'punct', 'npadvmod', 'aux', 'advcl', 'compound', 'compound', 'dobj', 'prep', 'compound', 'punct', 'compound', 'compound', 'compound', 'compound', 'pobj', 'punct'], ['punct', 'punct', 'punct', 'nmod', 'punct', 'nsubj', 'ROOT', 'det', 'dobj', 'prep', 'amod', 'pobj', 'cc', 'nsubj', 'ccomp', 'dobj', 'det', 'appos', 'punct', 'punct', 'punct', 'ROOT', 'compound', 'nsubj', 'punct', 'det', 'amod', 'appos', 'prep', 'poss', 'dep', 'dep', 'pobj', 'punct', 'punct'], ['compound', 'nsubj', 'ccomp', 'det', 'dobj', 'prep', 'pcomp', 'amod', 'nsubj', 'ccomp', 'prep', 'det', 'compound', 'pobj', 'prep', 'pobj', 'punct', 'compound', 'compound', 'nsubj', 'ROOT', 'punct'], ['det', 'nsubj', 'prep', 'det', 'compound', 'compound', 'pobj', 'prep', 'pobj', 'punct', 'appos', 'punct', 'prep', 'pobj', 'ccomp', 'amod', 'dobj', 'punct', 'nsubj', 'nsubj', 'ROOT', 'dobj', 'prep', 'pobj', 'punct', 'cc', 'amod', 'conj', 'prep', 'amod', 'pobj', 'amod', 'prep', 'pobj', 'punct', 'amod', 'conj', 'punct', 'conj', 'cc', 'amod', 'conj', 'punct'], ['nsubj', 'ROOT', 'compound', 'compound', 'dobj', 'punct', 'nmod', 'amod', 'dobj', 'mark', 'det', 'nsubj', 'relcl', 'det', 'amod', 'dobj', 'prep', 'pobj', 'prep', 'pobj', 'nsubj', 'aux', 'advmod', 'relcl', 'advmod', 'advmod', 'prep', 'det', 'pobj', 'prep', 'amod', 'compound', 'pobj', 'punct'], ['det', 'compound', 'nsubj', 'ROOT', 'mark', 'nsubj', 'aux', 'advcl', 'poss', 'dobj', 'advmod', 'cc', 'conj', 'det', 'dobj', 'mark', 'det', 'amod', 'nsubj', 'aux', 'advcl', 'advmod', 'aux', 'advcl', 'det', 'dobj', 'punct'], ['punct', 'compound', 'nsubj', 'aux', 'advmod', 'ROOT', 'prep', 'prep', 'dep', 'pobj', 'nummod', 'nsubj', 'prep', 'compound', 'pobj', 'punct', 'cc', 'conj', 'aux', 'xcomp', 'dobj', 'prep', 'compound', 'pobj', 'advmod', 'cc', 'conj', 'prep', 'pobj', 'punct', 'punct', 'nsubj', 'ROOT', 'punct'], ['punct', 'ROOT', 'cc', 'conj', 'amod', 'dobj', 'punct'], ['amod', 'compound', 'ROOT', 'prep', 'det', 'compound', 'pobj', 'prep', 'pobj', 'compound', 'compound', 'nsubj', 'aux', 'ROOT', 'det', 'compound', 'dobj', 'prep', 'pobj', 'punct', 'appos', 'prep', 'det', 'pobj', 'prep', 'pobj', 'nummod', 'prep', 'amod', 'pobj', 'prep', 'det', 'compound', 'compound', 'pobj', 'punct'], ['compound', 'nsubj', 'ROOT', 'amod', 'dobj', 'punct', 'amod', 'conj', 'punct', 'conj', 'cc', 'conj', 'prep', 'pobj', 'prep', 'det', 'amod', 'pobj', 'prep', 'det', 'amod', 'pobj', 'mark', 'det', 'nsubj', 'aux', 'advcl', 'prep', 'pobj', 'punct', 'punct', 'ROOT', 'punct'], ['nsubj', 'aux', 'advmod', 'aux', 'ROOT', 'advmod', 'prep', 'pobj', 'prep', 'pobj', 'cc', 'conj', 'auxpass', 'xcomp', 'advmod', 'prep', 'pobj', 'mark', 'nsubjpass', 'auxpass', 'advcl', 'punct'], ['compound', 'nsubjpass', 'auxpass', 'ROOT', 'punct', 'advcl', 'det', 'dobj', 'prep', 'pcomp', 'dobj', 'prep', 'det', 'pobj', 'punct'], ['ROOT', 'prep', 'pobj', 'punct', 'nummod', 'nsubj', 'ROOT', 'nummod', 'npadvmod', 'amod', 'dobj', 'punct', 'conj', 'nummod', 'compound', 'dobj', 'punct', 'nummod', 'conj', 'punct', 'det', 'npadvmod', 'punct', 'amod', 'conj', 'punct', 'cc', 'det', 'npadvmod', 'punct', 'amod', 'compound', 'conj', 'punct', 'cc', 'conj', 'nummod', 'compound', 'dobj', 'punct', 'nummod', 'conj', 'punct', 'cc', 'det', 'amod', 'punct', 'compound', 'conj', 'punct'], ['punct', 'det', 'compound', 'nsubj', 'ROOT', 'acomp', 'mark', 'mark', 'amod', 'nsubj', 'advcl', 'nsubj', 'ccomp', 'advmod', 'acomp', 'aux', 'xcomp', 'amod', 'dobj', 'punct', 'nsubj', 'ccomp', 'acomp', 'mark', 'det', 'nsubj', 'ccomp', 'aux', 'xcomp', 'amod', 'amod', 'dobj', 'punct', 'punct'], ['compound', 'compound', 'compound', 'compound', 'compound', 'compound', 'ROOT', 'punct', 'nsubj', 'punct', 'appos', 'punct', 'prep', 'pobj', 'punct', 'appos', 'punct', 'ROOT', 'dobj', 'nummod', 'prep', 'amod', 'pobj', 'punct', 'prep', 'pobj', 'acl', 'prep', 'det', 'amod', 'amod', 'compound', 'pobj', 'punct', 'prep', 'prep', 'det', 'compound', 'compound', 'pobj', 'acl', 'npadvmod', 'punct'], ['amod', 'nsubj', 'ROOT', 'acomp', 'aux', 'xcomp', 'dobj', 'cc', 'nsubj', 'ROOT', 'nsubj', 'aux', 'ccomp', 'dobj', 'aux', 'advcl', 'poss', 'dobj', 'punct'], ['prep', 'det', 'pobj', 'punct', 'nsubj', 'punct', 'ROOT', 'acomp', 'punct', 'punct', 'punct', 'punct'], ['nsubj', 'ROOT', 'amod', 'nmod', 'punct', 'conj', 'punct', 'conj', 'punct', 'cc', 'compound', 'dobj', 'acl', 'agent', 'amod', 'pobj', 'punct', 'cc', 'nmod', 'cc', 'compound', 'nsubj', 'conj', 'punct', 'conj', 'cc', 'conj', 'agent', 'pobj', 'punct'], ['det', 'nsubj', 'prep', 'compound', 'pobj', 'prep', 'pobj', 'cc', 'conj', 'advmod', 'ROOT', 'det', 'poss', 'case', 'case', 'dobj', 'aux', 'acl', 'dobj', 'cc', 'conj', 'dobj', 'punct'], ['prep', 'det', 'pobj', 'punct', 'det', 'nsubj', 'ROOT', 'punct'], ['nsubj', 'ROOT', 'det', 'amod', 'dobj', 'prep', 'det', 'npadvmod', 'punct', 'amod', 'pobj', 'nsubj', 'aux', 'relcl', 'acomp', 'aux', 'xcomp', 'dobj', 'dative', 'poss', 'pobj', 'punct'], ['ROOT', 'punct', 'nummod', 'appos', 'nummod', 'nmod', 'nummod', 'npadvmod', 'ROOT', 'nummod', 'appos', 'nummod', 'nmod', 'nummod', 'ROOT', 'nmod', 'punct', 'nummod', 'punct', 'ROOT', 'ROOT', 'npadvmod', 'dep', 'appos', 'ROOT', 'ROOT', 'dep', 'punct', 'nummod', 'compound', 'nummod', 'punct', 'dep', 'punct', 'nummod'], ['ROOT', 'punct', 'compound', 'nsubjpass', 'auxpass', 'ROOT', 'prep', 'pcomp', 'compound', 'punct', 'dobj', 'cc', 'det', 'amod', 'conj', 'prep', 'det', 'amod', 'pobj', 'prep', 'compound', 'pobj', 'nummod', 'prep', 'det', 'pobj', 'prep', 'det', 'pobj', 'prep', 'det', 'pobj', 'punct'], ['punct', 'punct', 'det', 'nsubj', 'advmod', 'nsubj', 'relcl', 'ROOT', 'acomp', 'cc', 'advmod', 'nsubj', 'aux', 'conj', 'acomp', 'aux', 'xcomp', 'cc', 'conj', 'punct'], ['det', 'compound', 'compound', 'nsubj', 'ROOT', 'det', 'dobj', 'prep', 'det', 'amod', 'pobj', 'prep', 'poss', 'pobj', 'aux', 'advcl', 'poss', 'punct', 'auxpass', 'npadvmod', 'punct', 'amod', 'dobj', 'prep', 'pobj', 'punct', 'appos', 'nummod', 'punct'], ['advmod', 'nsubj', 'ROOT', 'aux', 'xcomp', 'det', 'dobj', 'nsubj', 'relcl', 'aux', 'advcl', 'dobj', 'cc', 'conj', 'poss', 'dobj', 'appos', 'prep', 'det', 'amod', 'pobj', 'prep', 'det', 'pobj', 'punct', 'ROOT'], ['det', 'nsubj', 'ROOT', 'amod', 'dobj', 'prep', 'det', 'pobj', 'prep', 'pobj', 'cc', 'conj', 'dobj', 'aux', 'xcomp', 'det', 'dobj', 'prep', 'amod', 'pobj', 'cc', 'aux', 'conj', 'mark', 'nsubjpass', 'auxpass', 'ccomp', 'dative', 'pobj', 'nsubj', 'relcl', 'aux', 'xcomp', 'punct'], ['npadvmod', 'punct', 'amod', 'nsubjpass', 'acl', 'prep', 'dep', 'dep', 'pobj', 'cc', 'conj', 'compound', 'pobj', 'aux', 'advcl', 'dobj', 'auxpass', 'neg', 'ROOT', 'prep', 'det', 'pobj', 'mark', 'advcl', 'agent', 'compound', 'punct', 'pobj', 'punct'], ['nsubj', 'aux', 'ccomp', 'dobj', 'cc', 'conj', 'prep', 'det', 'pobj', 'punct', 'advmod', 'nsubj', 'ROOT', 'det', 'dobj', 'mark', 'det', 'nsubj', 'aux', 'acl', 'dobj', 'dative', 'pobj', 'prep', 'det', 'pobj', 'punct'], ['quantmod', 'quantmod', 'quantmod', 'nummod', 'nsubj', 'ccomp', 'advmod', 'prep', 'pobj', 'acl', 'agent', 'det', 'pobj', 'punct', 'nsubj', 'aux', 'ROOT', 'det', 'dobj', 'prep', 'pobj', 'punct'], ['nsubj', 'ROOT', 'prt', 'amod', 'dobj', 'aux', 'xcomp', 'prep', 'pcomp', 'prep', 'det', 'amod', 'amod', 'pobj', 'prep', 'pcomp', 'compound', 'dobj', 'prep', 'pobj', 'cc', 'prep', 'pcomp', 'prep', 'det', 'pobj', 'acl', 'agent', 'det', 'compound', 'pobj', 'aux', 'advcl', 'poss', 'dobj', 'punct'], ['nsubj', 'advmod', 'ROOT', 'det', 'dobj', 'prep', 'pobj', 'aux', 'xcomp', 'amod', 'dobj', 'prep', 'det', 'poss', 'punct', 'compound', 'pobj', 'cc', 'aux', 'conj', 'det', 'dobj', 'cc', 'conj', 'nsubj', 'ccomp', 'prep', 'det', 'pobj', 'punct', 'conj', 'prep', 'poss', 'pobj', 'prep', 'det', 'nmod', 'nummod', 'punct', 'nummod', 'pobj', 'prep', 'det', 'compound', 'pobj', 'punct'], ['nsubjpass', 'punct', 'nsubj', 'aux', 'relcl', 'compound', 'compound', 'dobj', 'punct', 'auxpass', 'ccomp', 'prep', 'compound', 'compound', 'compound', 'compound', 'pobj', 'nummod', 'punct', 'nsubjpass', 'auxpass', 'relcl', 'prep', 'compound', 'pobj', 'punct', 'appos', 'punct', 'det', 'nsubj', 'ROOT', 'punct'], ['nsubjpass', 'aux', 'auxpass', 'ROOT', 'prep', 'amod', 'pobj', 'cc', 'conj', 'prep', 'det', 'dep', 'dep', 'amod', 'pobj', 'nsubjpass', 'aux', 'auxpass', 'relcl', 'agent', 'det', 'compound', 'compound', 'compound', 'compound', 'pobj', 'prep', 'pobj', 'prep', 'pobj', 'punct', 'cc', 'conj', 'pobj', 'prep', 'det', 'compound', 'pobj', 'prep', 'pobj', 'cc', 'det', 'conj', 'nsubjpass', 'aux', 'auxpass', 'relcl', 'agent', 'det', 'pobj', 'advmod', 'prep', 'det', 'pobj', 'punct', 'det', 'nsubj', 'ROOT', 'advmod', 'acomp', 'aux', 'xcomp', 'prep', 'det', 'amod', 'pobj', 'prep', 'pobj', 'mark', 'advcl', 'prep', 'det', 'compound', 'compound', 'compound', 'pobj', 'npadvmod', 'cc', 'conj', 'punct'], ['punct', 'meta', 'det', 'compound', 'compound', 'nsubj', 'aux', 'ROOT', 'poss', 'dobj', 'aux', 'xcomp', 'det', 'dobj', 'prep', 'pobj', 'cc', 'amod', 'npadvmod', 'punct', 'amod', 'conj', 'prep', 'pobj', 'punct'], ['punct', 'punct', 'intj', 'punct', 'nsubj', 'parataxis', 'punct', 'punct', 'punct', 'nsubj', 'ROOT', 'punct'], ['ROOT', 'prep', 'compound', 'pobj', 'punct', 'nummod', 'nsubj', 'ROOT', 'det', 'compound', 'dobj', 'punct'], ['poss', 'case', 'compound', 'nsubj', 'aux', 'advmod', 'ROOT', 'prep', 'advmod', 'nummod', 'pobj', 'nummod', 'npadvmod', 'det', 'npadvmod', 'punct'], ['compound', 'punct', 'amod', 'compound', 'compound', 'compound', 'punct', 'compound', 'compound', 'nsubj', 'ROOT', 'amod', 'quantmod', 'quantmod', 'punct', 'nummod', 'amod', 'compound', 'dobj', 'dative', 'det', 'amod', 'compound', 'pobj', 'cc', 'conj', 'prep', 'pobj', 'prep', 'pobj', 'prep', 'det', 'compound', 'pobj', 'punct'], ['mark', 'det', 'nsubj', 'aux', 'advcl', 'acomp', 'punct', 'det', 'amod', 'nsubj', 'aux', 'aux', 'ROOT', 'advmod', 'prep', 'det', 'amod', 'nsubj', 'prep', 'det', 'pobj', 'pcomp', 'advmod', 'prep', 'det', 'pobj', 'prep', 'pobj', 'punct'], ['nsubj', 'aux', 'ROOT', 'dobj', 'prep', 'det', 'pobj', 'nsubj', 'relcl', 'poss', 'punct', 'compound', 'compound', 'dobj', 'prep', 'nmod', 'nummod', 'punct', 'case', 'compound', 'pobj', 'prep', 'nummod', 'pobj', 'prep', 'pobj', 'nummod'], ['det', 'nummod', 'nsubj', 'advmod', 'ROOT', 'prep', 'pobj', 'punct', 'det', 'npadvmod', 'advmod', 'nsubj', 'relcl', 'prep', 'det', 'compound', 'pobj', 'prep', 'compound', 'pobj', 'punct', 'det', 'appos', 'prep', 'amod', 'pobj', 'punct'], ['nsubj', 'ROOT', 'aux', 'xcomp', 'det', 'amod', 'attr', 'punct'], ['det', 'nsubj', 'prep', 'amod', 'pobj', 'prep', 'pobj', 'prep', 'pobj', 'ROOT', 'poss', 'amod', 'dobj', 'prep', 'amod', 'pobj', 'punct', 'cc', 'amod', 'conj', 'cc', 'conj', 'punct'], ['nsubj', 'aux', 'ROOT', 'xcomp', 'dobj', 'punct'], ['det', 'nsubj', 'aux', 'ROOT', 'det', 'dobj', 'prep', 'pcomp', 'dobj', 'cc', 'conj', 'cc', 'conj', 'dobj', 'punct'], ['det', 'nsubj', 'punct', 'mark', 'acl', 'prep', 'det', 'compound', 'pobj', 'punct', 'ROOT', 'nummod', 'cc', 'conj', 'amod', 'dobj', 'nsubj', 'relcl', 'prep', 'advmod', 'det', 'amod', 'amod', 'pobj', 'aux', 'advcl', 'det', 'amod', 'punct', 'advmod', 'amod', 'dobj', 'prep', 'det', 'pobj', 'punct'], ['mark', 'nsubj', 'advcl', 'aux', 'xcomp', 'dobj', 'prep', 'pcomp', 'det', 'compound', 'dobj', 'punct', 'nsubj', 'relcl', 'det', 'amod', 'dobj', 'prep', 'det', 'pobj', 'punct', 'nsubj', 'aux', 'ROOT', 'prep', 'pobj', 'prep', 'poss', 'pobj', 'prep', 'det', 'amod', 'pobj', 'punct'], ['nsubj', 'prep', 'compound', 'compound', 'pobj', 'prep', 'pobj', 'ROOT', 'xcomp', 'dobj', 'acl', 'prep', 'det', 'compound', 'pobj', 'aux', 'advmod', 'conj', 'prep', 'amod', 'cc', 'conj', 'pobj', 'punct'], ['det', 'compound', 'nsubj', 'ROOT', 'dobj', 'mark', 'advmod', 'prep', 'pobj', 'auxpass', 'aux', 'ccomp', 'prt', 'det', 'compound', 'dobj', 'prep', 'det', 'compound', 'compound', 'pobj', 'advmod', 'nummod', 'npadvmod', 'prep', 'pobj'], ['det', 'compound', 'nsubj', 'ROOT', 'nummod', 'compound', 'dobj', 'amod', 'prep', 'pobj', 'cc', 'amod', 'compound', 'conj', 'advmod', 'advmod', 'cc', 'amod', 'conj', 'punct'], ['nsubj', 'advmod', 'ROOT', 'dobj', 'prep', 'det', 'nummod', 'amod', 'pobj', 'acl', 'det', 'dobj', 'appos', 'punct', 'nsubj', 'relcl', 'dobj', 'prep', 'pobj', 'punct'], ['nsubj', 'ROOT', 'det', 'amod', 'dobj', 'prep', 'pcomp', 'amod', 'dobj', 'cc', 'advmod', 'conj', 'dobj', 'cc', 'conj', 'punct'], ['det', 'nsubjpass', 'prep', 'compound', 'pobj', 'punct', 'compound', 'appos', 'prep', 'pobj', 'punct', 'aux', 'auxpass', 'ROOT', 'det', 'amod', 'oprd', 'prep', 'pobj', 'nummod', 'punct', 'ROOT', 'prep', 'det', 'compound', 'pobj', 'punct'], ['ROOT', 'ROOT', 'pobj', 'compound', 'npadvmod', 'punct', 'nummod', 'nsubj', 'ROOT', 'nummod', 'compound', 'compound', 'dobj', 'punct', 'nummod', 'compound', 'compound', 'conj', 'punct', 'nummod', 'compound', 'compound', 'conj', 'punct', 'cc', 'det', 'conj', 'punct'], ['det', 'nsubj', 'ROOT', 'det', 'dobj', 'prep', 'amod', 'amod', 'pobj', 'punct', 'prep', 'advmod', 'aux', 'pcomp', 'det', 'amod', 'dobj', 'prep', 'det', 'amod', 'compound', 'pobj', 'punct', 'punct', 'ROOT', 'punct', 'prep', 'pobj', 'nummod', 'punct', 'npadvmod', 'punct', 'det', 'amod', 'compound', 'compound', 'nsubjpass', 'punct', 'nsubjpass', 'auxpass', 'relcl', 'agent', 'det', 'compound', 'compound', 'pobj', 'prep', 'det', 'pobj', 'prep', 'det', 'punct', 'punct', 'amod', 'pobj', 'prep', 'det', 'amod', 'pobj', 'acl', 'prep', 'det', 'compound', 'pobj', 'prep', 'pobj', 'punct', 'punct', 'punct', 'auxpass', 'ROOT', 'prep', 'det', 'compound', 'nmod', 'compound', 'compound', 'pobj', 'nummod', 'dobj', 'prep', 'amod', 'pobj', 'punct', 'punct', 'ROOT', 'punct', 'punct'], ['prep', 'pobj', 'punct', 'det', 'nsubj', 'prep', 'pobj', 'aux', 'ROOT', 'amod', 'quantmod', 'quantmod', 'compound', 'dobj', 'prep', 'det', 'pobj', 'prep', 'pobj', 'punct'], ['compound', 'nsubj', 'nsubj', 'aux', 'relcl', 'dobj', 'prep', 'pobj', 'ROOT', 'dobj', 'punct', 'conj', 'punct', 'conj', 'punct', 'conj', 'punct', 'conj', 'punct', 'conj', 'punct', 'det', 'conj', 'punct', 'det', 'compound', 'conj', 'punct', 'cc', 'det', 'compound', 'conj', 'punct'], ['nsubj', 'aux', 'advmod', 'ROOT', 'dobj', 'prep', 'det', 'pobj', 'nsubj', 'aux', 'relcl', 'punct'], ['det', 'compound', 'nsubj', 'ROOT', 'acomp', 'prep', 'pcomp', 'prep', 'poss', 'pobj', 'prep', 'pobj', 'punct', 'conj', 'punct', 'cc', 'det', 'amod', 'conj', 'aux', 'advcl', 'det', 'dobj', 'prep', 'pobj', 'punct', 'compound', 'pobj', 'cc', 'advmod', 'conj', 'det', 'amod', 'dobj', 'punct'], ['nsubj', 'punct', 'compound', 'nsubj', 'ROOT', 'det', 'amod', 'dobj', 'det', 'compound', 'nsubj', 'prep', 'pobj', 'aux', 'relcl', 'det', 'dobj', 'prep', 'pobj', 'advcl', 'prep', 'pobj', 'nsubjpass', 'aux', 'auxpass', 'relcl', 'aux', 'xcomp', 'dobj', 'cc', 'conj', 'prep', 'pobj', 'cc', 'conj', 'prep', 'punct', 'cc', 'conj', 'pobj', 'prep', 'punct', 'det', 'amod', 'pobj', 'punct'], ['advmod', 'punct', 'prep', 'pcomp', 'punct', 'det', 'nsubj', 'ROOT', 'advmod', 'quantmod', 'amod', 'dobj', 'aux', 'xcomp', 'punct'], ['det', 'nsubj', 'prep', 'pobj', 'cc', 'conj', 'ROOT', 'punct', 'punct', 'attr', 'punct', 'compound', 'appos', 'punct', 'punct', 'punct'], ['det', 'amod', 'compound', 'nsubj', 'prep', 'det', 'pobj', 'nsubj', 'relcl', 'npadvmod', 'ROOT', 'det', 'attr', 'acl', 'prep', 'pobj', 'punct', 'punct', 'ROOT', 'punct'], ['det', 'nsubj', 'aux', 'det', 'compound', 'nsubj', 'ROOT', 'aux', 'advcl', 'det', 'dobj', 'punct'], ['nsubj', 'punct', 'ROOT', 'det', 'dobj', 'prep', 'pobj', 'case', 'compound', 'amod', 'compound', 'compound', 'ROOT', 'punct', 'det', 'appos', 'punct', 'cc', 'punct', 'nsubj', 'parataxis', 'punct', 'det', 'compound', 'appos', 'punct'], ['det', 'nsubj', 'ROOT', 'cc', 'aux', 'conj', 'aux', 'xcomp', 'det', 'amod', 'amod', 'compound', 'attr', 'prep', 'pobj', 'cc', 'conj', 'det', 'amod', 'pobj', 'prep', 'quantmod', 'compound', 'nummod', 'pobj', 'acl', 'prep', 'det', 'pobj', 'prep', 'det', 'pobj', 'punct', 'cc', 'poss', 'nsubj', 'cc', 'conj', 'ROOT', 'neg', 'advmod', 'acomp', 'punct'], ['nsubj', 'ROOT', 'acomp', 'prep', 'pcomp', 'prep', 'compound', 'compound', 'compound', 'punct', 'pobj', 'punct', 'det', 'compound', 'compound', 'conj', 'punct', 'cc', 'poss', 'conj', 'prep', 'det', 'amod', 'pobj', 'aux', 'acl', 'det', 'dobj', 'prep', 'pobj', 'prep', 'pcomp', 'dobj', 'cc', 'conj', 'det', 'amod', 'dobj', 'oprd', 'prep', 'det', 'pobj', 'nsubj', 'aux', 'relcl', 'punct'], ['punct', 'det', 'nsubjpass', 'auxpass', 'ROOT', 'punct'], ['det', 'compound', 'compound', 'compound', 'nsubj', 'punct', 'compound', 'compound', 'appos', 'punct', 'compound', 'compound', 'compound', 'compound', 'appos', 'punct', 'ROOT', 'det', 'amod', 'dobj', 'prep', 'det', 'compound', 'pobj', 'punct'], ['nsubj', 'prep', 'det', 'compound', 'compound', 'compound', 'pobj', 'ROOT', 'compound', 'dobj', 'prep', 'pobj', 'det', 'npadvmod'], ['punct', 'nsubj', 'ROOT', 'acomp', 'mark', 'det', 'nsubjpass', 'aux', 'advmod', 'neg', 'auxpass', 'ccomp', 'dobj', 'prep', 'compound', 'pobj', 'aux', 'acl', 'dobj', 'nsubj', 'relcl', 'cc', 'conj', 'prt', 'dobj', 'punct'], ['nsubj', 'ROOT', 'dobj', 'advmod', 'punct', 'mark', 'nsubj', 'advcl', 'aux', 'xcomp', 'punct', 'cc', 'conj', 'dobj', 'nsubj', 'aux', 'punct', 'nsubj', 'ccomp', 'dobj', 'advmod', 'advmod', 'advmod', 'punct'], ['ROOT', 'prep', 'pobj', 'punct', 'nummod', 'nsubj', 'ROOT', 'det', 'nmod', 'amod', 'dobj', 'cc', 'conj', 'det', 'npadvmod', 'punct', 'amod', 'dobj', 'punct', 'det', 'conj', 'punct', 'cc', 'det', 'amod', 'punct', 'compound', 'conj', 'punct'], ['det', 'nsubj', 'ROOT', 'acomp', 'cc', 'det', 'nsubj', 'prep', 'pobj', 'prep', 'pobj', 'conj', 'prep', 'det', 'pobj', 'punct'], ['det', 'nsubjpass', 'acl', 'prt', 'aux', 'auxpass', 'ROOT', 'aux', 'xcomp', 'dobj', 'cc', 'compound', 'conj', 'prep', 'det', 'pobj', 'prep', 'auxpass', 'advmod', 'pcomp', 'punct'], ['advmod', 'prep', 'pobj', 'punct', 'nmod', 'amod', 'nsubj', 'ROOT', 'nummod', 'dobj', 'acl', 'prep', 'cc', 'conj', 'pobj', 'prep', 'det', 'pobj', 'prep', 'pobj', 'acl', 'nmod', 'punct', 'conj', 'punct', 'cc', 'advmod', 'conj', 'dobj', 'advmod', 'advmod', 'cc', 'compound', 'dobj', 'prep', 'compound', 'pobj', 'punct'], ['advmod', 'punct', 'nummod', 'nsubjpass', 'auxpass', 'advmod', 'ROOT', 'cc', 'poss', 'nsubj', 'conj', 'prep', 'det', 'pobj', 'prep', 'det', 'pobj', 'aux', 'acl', 'dobj', 'punct'], ['det', 'compound', 'nsubj', 'prep', 'pobj', 'prep', 'pobj', 'aux', 'npadvmod', 'ROOT', 'det', 'dobj', 'prep', 'det', 'amod', 'compound', 'pobj', 'prep', 'pobj', 'punct'], ['compound', 'compound', 'compound', 'nsubj', 'ROOT', 'det', 'amod', 'dobj', 'prep', 'compound', 'compound', 'compound', 'pobj', 'nummod', 'prep', 'det', 'amod', 'pobj', 'prep', 'pcomp', 'det', 'amod', 'dobj', 'prep', 'pobj', 'prep', 'det', 'compound', 'pobj', 'cc', 'conj', 'det', 'pobj', 'advmod', 'prep', 'det', 'compound', 'pobj', 'prep', 'det', 'amod', 'amod', 'pobj', 'punct'], ['amod', 'quantmod', 'nummod', 'nsubj', 'prep', 'det', 'pobj', 'aux', 'ROOT', 'aux', 'xcomp', 'det', 'dobj', 'prep', 'pobj', 'punct', 'cc', 'conj', 'advmod', 'aux', 'advmod', 'xcomp', 'nmod', 'punct', 'compound', 'dobj', 'punct'], ['det', 'nmod', 'amod', 'compound', 'compound', 'ROOT', 'npadvmod', 'punct', 'nummod', 'appos', 'punct', 'mark', 'nsubjpass', 'aux', 'advmod', 'neg', 'auxpass', 'relcl', 'dobj', 'prep', 'compound', 'pobj', 'punct'], ['det', 'nsubj', 'ROOT', 'acomp', 'prep', 'poss', 'pobj', 'prep', 'det', 'pobj', 'prep', 'pobj', 'cc', 'det', 'amod', 'conj', 'prep', 'poss', 'pobj', 'prep', 'pobj', 'punct'], ['nsubjpass', 'auxpass', 'ROOT', 'agent', 'amod', 'compound', 'compound', 'compound', 'compound', 'punct', 'pobj', 'aux', 'xcomp', 'det', 'nummod', 'compound', 'dobj', 'prep', 'pobj', 'nummod', 'punct', 'mark', 'nsubjpass', 'auxpass', 'advcl', 'det', 'advmod', 'amod', 'oprd', 'punct', 'punct', 'nummod', 'punct', 'nsubj', 'ROOT', 'det', 'compound', 'attr', 'mark', 'det', 'compound', 'nsubj', 'advcl', 'poss', 'case', 'case', 'amod', 'dobj', 'punct', 'compound', 'compound', 'punct', 'appos', 'punct', 'punct', 'nummod', 'punct', 'nsubj', 'ROOT', 'det', 'dobj', 'prep', 'det', 'amod', 'compound', 'pobj', 'prep', 'amod', 'amod', 'pobj', 'prep', 'pobj', 'nummod', 'punct', 'punct', 'ROOT', 'punct'], ['compound', 'nsubj', 'aux', 'ROOT', 'dobj', 'prep', 'compound', 'compound', 'pobj', 'nummod', 'punct', 'appos', 'prep', 'compound', 'compound', 'poss', 'punct', 'case', 'compound', 'pobj', 'punct', 'prep', 'det', 'compound', 'pobj', 'prep', 'pobj', 'prep', 'pobj', 'nummod', 'punct', 'nummod', 'punct'], ['det', 'compound', 'ROOT', 'prep', 'pobj', 'punct', 'punct', 'nsubj', 'prep', 'compound', 'pobj', 'aux', 'ROOT', 'dobj', 'prep', 'pobj', 'nsubj', 'aux', 'relcl', 'det', 'dobj', 'prep', 'pobj', 'cc', 'conj', 'prep', 'pobj', 'nsubj', 'relcl', 'det', 'amod', 'dobj', 'compound', 'appos', 'prep', 'pobj', 'cc', 'det', 'conj', 'punct', 'appos', 'punct', 'punct'], ['advmod', 'nsubj', 'aux', 'ROOT', 'amod', 'compound', 'dobj', 'punct'], ['det', 'amod', 'nsubj', 'aux', 'ROOT', 'det', 'compound', 'dobj', 'punct', 'conj', 'punct', 'conj', 'punct', 'conj', 'cc', 'conj', 'punct', 'punct', 'meta', 'punct', 'nsubjpass', 'auxpass', 'ROOT', 'aux', 'xcomp', 'prep', 'det', 'compound', 'pobj', 'prep', 'det', 'poss', 'case', 'case', 'pobj', 'punct', 'advmod', 'advmod', 'cc', 'amod', 'dobj', 'punct', 'punct', 'ROOT', 'punct'], ['advmod', 'nsubj', 'ROOT', 'det', 'dobj', 'prep', 'pobj', 'cc', 'nsubj', 'conj', 'dobj', 'advmod', 'punct'], ['nsubj', 'ROOT', 'prep', 'det', 'amod', 'amod', 'nmod', 'amod', 'pobj', 'det', 'npadvmod', 'prep', 'pobj', 'cc', 'conj', 'punct'], ['punct', 'punct', 'punct', 'advmod', 'prep', 'det', 'pobj', 'prep', 'pobj', 'punct', 'amod', 'nsubj', 'aux', 'ccomp', 'det', 'amod', 'dobj', 'aux', 'xcomp', 'xcomp', 'dobj', 'punct', 'punct', 'punct', 'ROOT', 'compound', 'nsubj', 'punct', 'poss', 'punct', 'intj', 'amod', 'compound', 'compound', 'appos', 'punct'], ['punct', 'nsubjpass', 'auxpass', 'advmod', 'ROOT', 'prep', 'pobj', 'punct'], ['det', 'nsubj', 'punct', 'conj', 'cc', 'conj', 'conj', 'aux', 'ROOT', 'advmod', 'prep', 'pobj', 'prep', 'amod', 'compound', 'nmod', 'cc', 'compound', 'compound', 'compound', 'pobj', 'prep', 'det', 'compound', 'compound', 'compound', 'pobj', 'prep', 'pobj', 'punct'], ['nsubj', 'ROOT', 'det', 'dobj', 'prep', 'det', 'pobj', 'prep', 'pobj', 'aux', 'advcl', 'dobj', 'prep', 'det', 'pobj', 'prep', 'amod', 'pobj', 'punct', 'nsubj', 'ccomp', 'dobj', 'aux', 'xcomp', 'prep', 'pobj', 'punct'], ['mark', 'nsubj', 'advcl', 'punct', 'det', 'nsubj', 'ROOT', 'prep', 'det', 'pobj', 'acl', 'advmod', 'oprd', 'mark', 'nsubj', 'aux', 'advcl', 'punct'], ['nsubjpass', 'auxpass', 'ROOT', 'prep', 'compound', 'pobj', 'punct', 'amod', 'compound', 'compound', 'conj', 'punct', 'compound', 'conj', 'punct', 'appos', 'punct'], ['nsubj', 'ROOT', 'attr', 'prep', 'poss', 'advmod', 'amod', 'pobj', 'cc', 'det', 'nsubj', 'conj', 'det', 'attr', 'aux', 'advmod', 'acl', 'det', 'dep', 'dep', 'dobj', 'prep', 'poss', 'nummod', 'pobj', 'punct'], ['punct', 'punct', 'nsubj', 'punct', 'ROOT', 'det', 'amod', 'dobj', 'nsubj', 'relcl', 'aux', 'xcomp', 'prep', 'poss', 'pobj', 'advmod', 'prep', 'pobj', 'punct', 'punct', 'punct', 'punct'], ['ROOT', 'acomp', 'aux', 'xcomp', 'det', 'compound', 'dobj', 'prep', 'pobj', 'punct', 'prep', 'pobj', 'punct', 'cc', 'conj', 'det', 'compound', 'poss', 'case', 'pobj', 'cc', 'conj', 'prep', 'amod', 'pobj', 'prep', 'poss', 'pobj', 'punct'], ['nsubj', 'ROOT', 'acomp', 'mark', 'det', 'amod', 'nsubj', 'aux', 'ccomp', 'det', 'dobj', 'dobj', 'det', 'nsubj', 'cc', 'poss', 'conj', 'aux', 'relcl', 'punct', 'cc', 'mark', 'advmod', 'nsubj', 'aux', 'conj', 'dobj', 'det', 'amod', 'dobj', 'punct', 'punct'], ['nsubj', 'prep', 'det', 'compound', 'pobj', 'prep', 'det', 'amod', 'pobj', 'aux', 'ROOT', 'dobj', 'punct'], ['nsubjpass', 'auxpass', 'ROOT', 'prep', 'pobj', 'cc', 'auxpass', 'conj', 'agent', 'det', 'pobj', 'prep', 'compound', 'pobj', 'punct'], ['punct', 'nsubj', 'ccomp', 'acomp', 'aux', 'xcomp', 'punct', 'conj', 'punct', 'cc', 'conj', 'amod', 'compound', 'dobj', 'prep', 'det', 'amod', 'compound', 'pobj', 'punct', 'punct', 'ROOT', 'compound', 'compound', 'compound', 'nsubj', 'punct', 'compound', 'compound', 'appos', 'punct'], ['det', 'nsubj', 'ROOT', 'aux', 'auxpass', 'xcomp', 'nummod', 'npadvmod', 'punct', 'nsubj', 'advcl', 'acomp', 'prep', 'amod', 'pobj', 'prep', 'compound', 'compound', 'compound', 'pobj', 'punct'], ['npadvmod', 'punct', 'nsubj', 'ROOT', 'aux', 'xcomp', 'aux', 'advcl', 'dobj', 'prep', 'det', 'pobj', 'punct', 'neg', 'advmod', 'advmod', 'punct', 'cc', 'conj', 'prt', 'poss', 'dobj', 'punct', 'conj', 'det', 'dobj', 'prep', 'pobj', 'punct', 'conj', 'det', 'dobj', 'cc', 'conj', 'amod', 'dobj', 'prep', 'pobj', 'prep', 'pobj', 'punct'], ['poss', 'nummod', 'nsubj', 'ROOT', 'aux', 'xcomp', 'npadvmod', 'prep', 'pobj', 'aux', 'advcl', 'det', 'dobj', 'prep', 'pobj', 'prep', 'det', 'amod', 'amod', 'pobj', 'punct', 'det', 'amod', 'compound', 'appos', 'punct', 'cc', 'det', 'conj', 'acl', 'prep', 'npadvmod', 'punct', 'amod', 'pobj', 'advmod', 'agent', 'amod', 'amod', 'pobj', 'punct'], ['nsubj', 'ROOT', 'mark', 'det', 'advmod', 'amod', 'nsubj', 'prep', 'pobj', 'ccomp', 'advmod', 'dobj', 'prep', 'det', 'pobj', 'prep', 'pcomp', 'det', 'amod', 'dobj', 'punct'], ['nsubj', 'ROOT', 'nsubj', 'ccomp', 'aux', 'xcomp', 'det', 'dobj', 'prep', 'pobj', 'punct', 'prep', 'pobj', 'punct', 'prep', 'det', 'amod', 'pobj', 'advmod', 'det', 'nsubj', 'relcl', 'dobj', 'cc', 'conj', 'punct', 'cc', 'conj', 'dobj', 'punct'], ['nsubj', 'ROOT', 'det', 'amod', 'dobj', 'advmod', 'advmod', 'mark', 'nsubj', 'punct', 'ccomp', 'intj', 'nsubj', 'punct', 'ROOT', 'prep', 'det', 'pobj', 'acl', 'det', 'dobj', 'prep', 'pobj', 'prep', 'pobj', 'punct'], ['det', 'nsubj', 'aux', 'ROOT', 'dobj', 'mark', 'nsubj', 'aux', 'acl', 'nummod', 'dobj', 'prep', 'det', 'compound', 'compound', 'compound', 'pobj', 'prep', 'pobj', 'punct', 'appos', 'punct'], ['ROOT', 'punct', 'nummod', 'npadvmod', 'nummod', 'punct', 'punct', 'prep', 'pobj', 'prep', 'det', 'pobj', 'prep', 'det', 'pobj', 'punct', 'nsubjpass', 'auxpass', 'ROOT', 'prep', 'det', 'amod', 'pobj', 'prep', 'det', 'pobj', 'prep', 'dep', 'dep', 'amod', 'pobj'], ['punct', 'nsubj', 'punct', 'conj', 'cc', 'conj', 'dobj', 'prep', 'poss', 'compound', 'pobj', 'ccomp', 'det', 'amod', 'compound', 'dobj', 'punct', 'ccomp', 'poss', 'amod', 'dobj', 'punct', 'conj', 'dobj', 'punct', 'cc', 'conj', 'det', 'dobj', 'prep', 'amod', 'compound', 'pobj', 'punct', 'punct', 'ROOT', 'nsubj', 'punct'], ['compound', 'compound', 'nsubj', 'aux', 'advmod', 'ROOT', 'det', 'compound', 'compound', 'dobj', 'prep', 'pobj', 'nummod', 'punct', 'advmod', 'nsubj', 'aux', 'relcl', 'prep', 'amod', 'amod', 'compound', 'pobj', 'aux', 'advcl', 'dobj', 'prep', 'poss', 'pobj', 'aux', 'acl', 'cc', 'conj', 'dobj', 'advmod', 'advmod', 'cc', 'poss', 'conj', 'prep', 'det', 'amod', 'amod', 'cc', 'conj', 'pobj', 'prep', 'pobj', 'punct'], ['det', 'compound', 'nsubj', 'prep', 'pobj', 'punct', 'compound', 'compound', 'compound', 'appos', 'prep', 'pobj', 'punct', 'advmod', 'ccomp', 'prep', 'compound', 'compound', 'pobj', 'punct', 'ROOT', 'attr', 'prep', 'nummod', 'pobj', 'prep', 'det', 'compound', 'pobj', 'acl', 'prep', 'det', 'pobj', 'prep', 'det', 'amod', 'pobj', 'prep', 'det', 'compound', 'pobj', 'prep', 'det', 'amod', 'amod', 'pobj', 'punct', 'det', 'nsubj', 'appos', 'det', 'compound', 'compound', 'attr', 'punct', 'compound', 'dep', 'appos', 'prep', 'pobj', 'punct', 'punct', 'punct', 'ROOT', 'punct'], ['prep', 'amod', 'pobj', 'det', 'nsubj', 'prep', 'pobj', 'acl', 'dobj', 'cc', 'conj', 'aux', 'advcl', 'dobj', 'prep', 'det', 'pobj', 'ROOT', 'oprd', 'punct'], ['advmod', 'prep', 'det', 'pobj', 'punct', 'nsubj', 'ROOT', 'aux', 'xcomp', 'compound', 'compound', 'dobj', 'prep', 'compound', 'compound', 'pobj', 'punct', 'advmod', 'dep', 'punct', 'compound', 'punct', 'oprd', 'punct', 'prep', 'amod', 'pobj', 'punct'], ['punct', 'det', 'nsubjpass', 'auxpass', 'ROOT', 'prep', 'pcomp', 'dobj', 'punct', 'punct', 'prep', 'det', 'pobj', 'prep', 'det', 'amod', 'pobj', 'punct', 'punct', 'punct', 'prep', 'prep', 'pobj', 'punct', 'punct'], ['advmod', 'nsubj', 'ROOT', 'advmod', 'prep', 'nummod', 'cc', 'conj', 'pobj', 'punct', 'advcl', 'punct', 'punct', 'ROOT', 'punct'], ['det', 'nsubj', 'ccomp', 'nummod', 'nmod', 'amod', 'dobj', 'punct', 'nummod', 'compound', 'conj', 'punct', 'nummod', 'compound', 'compound', 'conj', 'punct', 'nummod', 'npadvmod', 'punct', 'amod', 'conj', 'punct', 'nummod', 'npadvmod', 'punct', 'amod', 'conj', 'punct', 'nummod', 'npadvmod', 'punct', 'amod', 'compound', 'conj', 'punct', 'nummod', 'amod', 'punct', 'compound', 'conj', 'punct', 'det', 'conj', 'punct', 'det', 'compound', 'conj', 'cc', 'det', 'compound', 'conj', 'punct', 'conj', 'nummod', 'compound', 'dobj', 'punct', 'cc', 'conj', 'nummod', 'nmod', 'amod', 'dobj', 'punct', 'nsubj', 'ROOT', 'punct'], ['ROOT', 'prep', 'pobj', 'punct', 'nummod', 'nsubj', 'ROOT', 'nummod', 'nmod', 'amod', 'dobj', 'punct', 'conj', 'nummod', 'npadvmod', 'punct', 'amod', 'dobj', 'punct', 'nummod', 'conj', 'punct', 'nummod', 'compound', 'conj', 'punct', 'det', 'nsubj', 'relcl', 'compound', 'dobj', 'punct', 'det', 'compound', 'compound', 'conj', 'punct', 'cc', 'det', 'conj', 'punct', 'conj', 'nummod', 'compound', 'dobj', 'punct', 'cc', 'conj', 'det', 'nmod', 'amod', 'dobj', 'cc', 'det', 'compound', 'conj', 'punct'], ['nsubj', 'aux', 'ROOT', 'prep', 'det', 'pobj', 'prep', 'pobj', 'prep', 'poss', 'npadvmod', 'punct', 'amod', 'pobj', 'punct', 'appos', 'cc', 'conj', 'cc', 'expl', 'conj', 'amod', 'amod', 'attr', 'punct'], ['advmod', 'punct', 'compound', 'punct', 'nsubj', 'aux', 'neg', 'ccomp', 'det', 'dobj', 'cc', 'conj', 'prep', 'pobj', 'acl', 'prep', 'det', 'pobj', 'punct', 'det', 'nsubj', 'prep', 'pobj', 'ROOT', 'prep', 'det', 'pobj', 'punct', 'cc', 'det', 'conj', 'prep', 'amod', 'compound', 'compound', 'pobj', 'prep', 'det', 'pobj', 'punct'], ['punct', 'punct', 'punct', 'csubj', 'det', 'amod', 'dobj', 'prep', 'pobj', 'cc', 'conj', 'det', 'dobj', 'aux', 'acl', 'dobj', 'prep', 'nmod', 'punct', 'advmod', 'amod', 'compound', 'pobj', 'punct', 'aux', 'advmod', 'advmod', 'ccomp', 'nsubj', 'aux', 'ccomp', 'det', 'dobj', 'cc', 'conj', 'prep', 'det', 'pobj', 'punct', 'punct', 'punct', 'ROOT', 'amod', 'compound', 'nsubj', 'punct', 'compound', 'appos', 'punct', 'punct'], ['punct', 'punct', 'punct', 'det', 'amod', 'amod', 'cc', 'conj', 'nsubjpass', 'auxpass', 'ccomp', 'agent', 'det', 'pobj', 'punct', 'punct', 'punct', 'compound', 'compound', 'compound', 'nsubj', 'punct', 'ROOT', 'punct'], ['det', 'nsubj', 'ROOT', 'attr', 'prep', 'det', 'amod', 'amod', 'pobj', 'prep', 'det', 'compound', 'pobj', 'cc', 'conj', 'prep', 'pobj', 'prep', 'det', 'compound', 'punct', 'compound', 'compound', 'compound', 'pobj', 'punct'], ['nsubj', 'punct', 'nsubj', 'ROOT', 'aux', 'xcomp', 'det', 'dobj', 'prep', 'det', 'pobj', 'punct', 'punct'], ['advmod', 'prep', 'det', 'pobj', 'prep', 'amod', 'amod', 'pobj', 'prep', 'pobj', 'punct', 'det', 'compound', 'nsubj', 'auxpass', 'ROOT', 'prep', 'pcomp', 'prep', 'pobj', 'mark', 'nsubj', 'advcl', 'advmod', 'punct', 'prep', 'pobj', 'prep', 'pobj', 'prep', 'det', 'compound', 'pobj', 'punct', 'prep', 'pobj', 'prep', 'pobj', 'punct', 'conj', 'punct', 'cc', 'det', 'conj', 'prep', 'pobj', 'punct'], ['ROOT'], ['det', 'nsubj', 'ROOT', 'det', 'attr', 'prep', 'amod', 'pobj', 'punct', 'compound', 'compound', 'nsubj', 'prep', 'pobj', 'cc', 'det', 'nummod', 'conj', 'conj', 'det', 'dobj', 'prep', 'pobj', 'prep', 'amod', 'pobj', 'cc', 'compound', 'dep', 'dep', 'conj', 'punct'], ['compound', 'nsubj', 'ROOT', 'amod', 'dobj', 'prep', 'amod', 'pobj', 'aux', 'acl', 'amod', 'dobj', 'punct'], ['advmod', 'aux', 'det', 'amod', 'nsubj', 'ROOT', 'det', 'amod', 'dobj', 'prep', 'det', 'amod', 'compound', 'pobj', 'ROOT', 'nummod', 'attr', 'punct', 'cc', 'advmod', 'conj', 'amod', 'attr', 'acl', 'dobj', 'prep', 'pobj', 'prep', 'det', 'pobj', 'prep', 'pobj', 'cc', 'conj', 'cc', 'compound', 'conj', 'prep', 'det', 'pobj', 'punct', 'prep', 'pobj', 'punct', 'advcl', 'det', 'amod', 'dobj', 'prep', 'pcomp', 'det', 'nsubj', 'punct', 'cc', 'conj', 'punct', 'ccomp', 'cc', 'conj', 'aux', 'xcomp', 'punct'], ['prep', 'det', 'amod', 'pobj', 'prep', 'compound', 'pobj', 'punct', 'poss', 'amod', 'nsubj', 'aux', 'ROOT', 'poss', 'dobj', 'prep', 'pobj', 'punct', 'advcl', 'dobj', 'advmod', 'cc', 'conj', 'nmod', 'amod', 'dobj', 'punct', 'conj', 'punct', 'conj', 'punct', 'compound', 'conj', 'punct', 'conj', 'punct', 'amod', 'conj', 'punct', 'amod', 'conj', 'punct', 'conj', 'punct', 'conj', 'punct', 'cc', 'conj', 'punct'], ['nsubj', 'ROOT', 'poss', 'amod', 'dobj', 'prep', 'det', 'poss', 'case', 'pobj', 'cc', 'conj', 'punct'], ['ROOT', 'punct', 'expl', 'ROOT', 'attr', 'prep', 'pobj', 'punct', 'conj', 'punct', 'cc', 'amod', 'conj', 'acl', 'amod', 'compound', 'dobj', 'punct'], ['nsubj', 'prep', 'det', 'amod', 'pobj', 'ROOT', 'det', 'amod', 'quantmod', 'compound', 'nummod', 'dobj', 'prep', 'det', 'compound', 'compound', 'compound', 'pobj', 'punct', 'appos', 'punct', 'punct', 'nsubj', 'relcl', 'compound', 'dobj', 'prep', 'det', 'amod', 'cc', 'conj', 'pobj', 'prep', 'compound', 'pobj', 'prep', 'pobj', 'punct'], ['ROOT', 'prep', 'det', 'compound', 'compound', 'compound', 'compound', 'pobj', 'prep', 'det', 'pobj', 'prep', 'det', 'compound', 'pobj', 'cc', 'conj', 'prep', 'compound', 'punct', 'pobj', 'prep', 'pobj'], ['ROOT', 'prep', 'compound', 'pobj', 'punct', 'nummod', 'nsubj', 'ROOT', 'nummod', 'npadvmod', 'amod', 'dobj', 'punct', 'conj', 'det', 'dobj', 'punct', 'nummod', 'compound', 'conj', 'punct', 'cc', 'det', 'conj', 'punct', 'cc', 'conj', 'nummod', 'compound', 'dobj', 'punct'], ['nsubj', 'ROOT', 'amod', 'dobj', 'prep', 'pobj', 'punct'], ['ROOT', 'prep', 'compound', 'pobj', 'punct', 'nummod', 'nsubj', 'ROOT', 'det', 'dobj', 'cc', 'det', 'amod', 'amod', 'conj', 'punct'], ['advmod', 'nsubjpass', 'aux', 'auxpass', 'ROOT', 'amod', 'dobj', 'aux', 'relcl', 'dobj', 'advmod', 'punct'], ['compound', 'compound', 'compound', 'nsubj', 'npadvmod', 'ROOT', 'prep', 'amod', 'compound', 'pobj', 'punct', 'compound', 'compound', 'punct', 'ROOT', 'prep', 'pobj', 'punct', 'advmod', 'det', 'nummod', 'nsubj', 'relcl', 'det', 'dobj', 'aux', 'acl', 'det', 'amod', 'dobj', 'prep', 'pobj', 'prep', 'compound', 'pobj', 'prep', 'pobj', 'cc', 'det', 'amod', 'conj', 'cc', 'amod', 'conj', 'punct', 'prep', 'prep', 'det', 'compound', 'compound', 'compound', 'pobj', 'punct'], ['nsubj', 'prep', 'det', 'pobj', 'ROOT', 'prep', 'det', 'amod', 'compound', 'pobj', 'punct'], ['nsubj', 'prep', 'poss', 'pobj', 'ROOT', 'xcomp', 'prep', 'compound', 'pobj', 'prep', 'pobj', 'cc', 'advmod', 'conj', 'cc', 'conj', 'prep', 'poss', 'amod', 'compound', 'pobj', 'punct'], ['det', 'compound', 'compound', 'nsubj', 'ROOT', 'det', 'attr', 'prep', 'pobj', 'punct'], ['compound', 'nsubj', 'ROOT', 'punct'], ['nsubj', 'ROOT', 'det', 'dobj', 'mark', 'nsubjpass', 'auxpass', 'advmod', 'ccomp', 'punct', 'prep', 'pobj', 'prep', 'pobj', 'nummod', 'punct', 'punct', 'punct', 'ROOT', 'punct'], ['punct', 'nsubj', 'ccomp', 'aux', 'xcomp', 'prep', 'pobj', 'prep', 'det', 'amod', 'nummod', 'pobj', 'prep', 'det', 'pobj', 'punct', 'punct', 'ROOT', 'compound', 'compound', 'nsubj', 'punct', 'det', 'compound', 'appos', 'cc', 'conj', 'prep', 'pobj', 'punct', 'compound', 'appos', 'punct'], ['expl', 'aux', 'ccomp', 'det', 'amod', 'attr', 'prep', 'pobj', 'punct', 'expl', 'aux', 'ROOT', 'det', 'attr', 'punct'], ['amod', 'npadvmod', 'punct', 'compound', 'nsubj', 'ROOT', 'nsubj', 'aux', 'ccomp', 'compound', 'dobj', 'nsubj', 'aux', 'relcl', 'ROOT', 'prep', 'amod', 'pobj', 'punct', 'amod', 'conj', 'cc', 'amod', 'conj', 'prep', 'pcomp', 'dobj', 'cc', 'conj', 'dobj', 'prep', 'pobj', 'punct'], ['det', 'amod', 'nsubj', 'prep', 'nmod', 'amod', 'pobj', 'ROOT', 'dobj', 'prep', 'pobj', 'punct', 'appos', 'punct', 'prep', 'pobj', 'nummod', 'punct', 'nummod', 'punct', 'cc', 'det', 'amod', 'nsubj', 'prep', 'compound', 'pobj', 'conj', 'dobj', 'prep', 'pobj', 'punct', 'appos', 'punct', 'prep', 'pobj', 'nummod', 'punct', 'nummod', 'punct'], ['ROOT', 'prep', 'compound', 'pobj', 'punct', 'nummod', 'nsubj', 'ROOT', 'nummod', 'npadvmod', 'amod', 'dobj', 'punct', 'conj', 'nummod', 'compound', 'compound', 'dobj', 'punct', 'nummod', 'compound', 'conj', 'punct', 'nummod', 'conj', 'punct', 'nummod', 'compound', 'conj', 'punct', 'det', 'conj', 'punct', 'det', 'conj', 'punct', 'det', 'conj', 'punct', 'det', 'conj', 'punct', 'det', 'amod', 'conj', 'punct', 'det', 'compound', 'conj', 'punct', 'det', 'conj', 'punct', 'cc', 'det', 'amod', 'conj', 'punct', 'cc', 'conj', 'det', 'compound', 'dobj', 'punct'], ['advmod', 'prep', 'det', 'pobj', 'aux', 'acl', 'dobj', 'punct', 'det', 'compound', 'compound', 'nsubj', 'aux', 'ROOT', 'det', 'amod', 'dobj', 'prep', 'det', 'pobj', 'aux', 'acl', 'det', 'dobj', 'prep', 'pobj', 'punct', 'det', 'npadvmod', 'punct', 'amod', 'amod', 'appos', 'prep', 'pobj', 'punct'], ['nsubj', 'punct', 'prep', 'det', 'amod', 'compound', 'punct', 'pobj', 'punct', 'prep', 'det', 'amod', 'pobj', 'advmod', 'punct', 'ROOT', 'poss', 'amod', 'dobj', 'prep', 'det', 'pobj', 'punct'], ['nsubj', 'ROOT', 'punct', 'punct', 'mark', 'nsubj', 'advcl', 'punct', 'compound', 'punct', 'nsubj', 'ccomp', 'acomp', 'prep', 'pcomp', 'prt', 'amod', 'dobj', 'prep', 'det', 'compound', 'pobj', 'punct', 'poss', 'conj', 'punct', 'cc', 'poss', 'conj', 'cc', 'conj', 'punct'], ['det', 'nmod', 'punct', 'compound', 'compound', 'nsubj', 'advmod', 'ROOT', 'aux', 'xcomp', 'cc', 'conj', 'amod', 'dobj', 'aux', 'acl', 'dobj', 'punct'], ['ROOT', 'prep', 'compound', 'pobj', 'punct', 'nummod', 'nsubj', 'ROOT', 'nummod', 'nmod', 'amod', 'dobj', 'cc', 'conj', 'det', 'dobj', 'punct', 'nummod', 'compound', 'conj', 'punct', 'det', 'nmod', 'cc', 'conj', 'conj', 'punct', 'det', 'conj', 'punct', 'cc', 'det', 'amod', 'compound', 'conj', 'punct'], ['advmod', 'advmod', 'dep', 'quantmod', 'punct', 'nummod', 'compound', 'nsubjpass', 'aux', 'auxpass', 'ROOT', 'prt', 'prep', 'pobj', 'punct'], ['nsubj', 'ROOT', 'prep', 'advmod', 'pobj', 'conj', 'det', 'attr', 'punct', 'nmod', 'amod', 'amod', 'cc', 'conj', 'ROOT', 'punct'], ['nsubj', 'ROOT', 'acomp', 'mark', 'compound', 'compound', 'nsubj', 'cc', 'amod', 'compound', 'conj', 'advcl', 'amod', 'compound', 'dobj', 'prep', 'amod', 'punct', 'amod', 'compound', 'pobj', 'punct', 'conj', 'prep', 'pcomp', 'dobj', 'cc', 'conj', 'amod', 'dobj', 'punct'], ['punct', 'compound', 'punct', 'poss', 'case', 'nmod', 'amod', 'compound', 'compound', 'nsubj', 'ccomp', 'det', 'dobj', 'prep', 'det', 'compound', 'pobj', 'punct', 'cc', 'poss', 'nsubj', 'conj', 'amod', 'dobj', 'prep', 'prep', 'det', 'pobj', 'punct', 'punct', 'nsubj', 'ROOT', 'punct'], ['ROOT', 'det', 'pobj', 'prep', 'det', 'pobj', 'det', 'nsubj', 'relcl', 'amod', 'quantmod', 'nummod', 'dobj', 'acl', 'amod', 'quantmod', 'nummod', 'dobj', 'prep', 'pobj', 'prep', 'poss', 'pobj', 'prep', 'det', 'pobj', 'aux', 'advcl', 'det', 'dobj', 'prep', 'pobj', 'cc', 'conj', 'prep', 'pobj', 'prep', 'pobj', 'punct'], ['ROOT', 'punct', 'appos', 'punct', 'nummod', 'nmod', 'npadvmod', 'nummod', 'appos', 'nummod', 'nmod', 'dep', 'punct', 'ROOT', 'punct', 'nummod', 'ROOT', 'npadvmod', 'dep', 'punct', 'nummod', 'ROOT', 'npadvmod', 'punct', 'dep', 'punct', 'nummod', 'punct', 'nummod', 'punct', 'ROOT'], ['nsubj', 'ROOT', 'det', 'dobj', 'prep', 'pobj', 'punct'], ['cc', 'nsubj', 'aux', 'neg', 'ROOT', 'dobj', 'cc', 'poss', 'conj', 'xcomp', 'det', 'amod', 'dobj', 'prep', 'amod', 'pobj', 'aux', 'advcl', 'det', 'poss', 'case', 'case', 'dobj', 'punct'], ['advmod', 'nummod', 'dep', 'mark', 'det', 'nsubjpass', 'prep', 'pobj', 'prep', 'compound', 'pobj', 'auxpass', 'advcl', 'agent', 'compound', 'pobj', 'punct', 'nsubj', 'aux', 'ROOT', 'advmod', 'advmod', 'prep', 'det', 'amod', 'pobj', 'prep', 'det', 'pobj', 'prep', 'pobj', 'punct'], ['det', 'nmod', 'punct', 'compound', 'compound', 'nsubj', 'advmod', 'ROOT', 'aux', 'xcomp', 'cc', 'conj', 'amod', 'dobj', 'aux', 'acl', 'nmod', 'punct', 'dobj', 'punct'], ['compound', 'compound', 'compound', 'nsubj', 'ROOT', 'prep', 'det', 'pobj', 'prep', 'compound', 'pobj', 'prep', 'pobj', 'punct', 'compound', 'compound', 'compound', 'compound', 'punct', 'npadvmod', 'punct', 'appos', 'punct', 'prep', 'pobj', 'prep', 'nummod', 'pobj', 'aux', 'advcl', 'amod', 'dobj', 'cc', 'conj', 'poss', 'amod', 'dobj', 'prep', 'pcomp', 'det', 'amod', 'dobj', 'prep', 'pobj', 'punct', 'advmod', 'parataxis', 'prep', 'pobj', 'punct', 'punct'], ['det', 'compound', 'compound', 'compound', 'nsubj', 'ROOT', 'punct'], ['nsubj', 'ROOT', 'dobj', 'prep', 'advmod', 'nummod', 'pobj', 'prep', 'det', 'amod', 'amod', 'pobj', 'punct', 'cc', 'conj', 'det', 'amod', 'amod', 'dobj', 'det', 'compound', 'nsubj', 'cc', 'det', 'dep', 'dep', 'amod', 'conj', 'aux', 'relcl', 'prep', 'pobj', 'case', 'appos', 'appos', 'aux', 'acl', 'det', 'amod', 'dobj', 'punct', 'prep', 'prep', 'det', 'pobj', 'punct'], ['nsubj', 'acl', 'agent', 'det', 'compound', 'pobj', 'ROOT', 'dobj', 'punct', 'conj', 'punct', 'conj', 'punct', 'conj', 'punct', 'cc', 'amod', 'conj', 'punct', 'nsubj', 'ROOT', 'det', 'compound', 'compound', 'dobj', 'punct'], ['det', 'amod', 'nsubj', 'prep', 'det', 'compound', 'pobj', 'ROOT', 'dobj', 'prep', 'pobj', 'punct', 'appos', 'punct', 'ROOT', 'punct', 'ROOT', 'pobj', 'nummod', 'punct', 'nummod', 'punct', 'prep', 'det', 'amod', 'pobj', 'punct'], ['punct', 'punct', 'punct', 'mark', 'nsubj', 'advcl', 'advmod', 'punct', 'nsubj', 'aux', 'ccomp', 'aux', 'xcomp', 'det', 'amod', 'dobj', 'nsubj', 'aux', 'relcl', 'advmod', 'punct', 'punct', 'punct', 'nsubj', 'ROOT', 'punct', 'advcl', 'mark', 'det', 'nummod', 'nsubj', 'aux', 'ccomp', 'punct', 'punct'], ['nummod', 'nsubj', 'ccomp', 'det', 'dobj', 'prep', 'pobj', 'prep', 'det', 'amod', 'pobj', 'prep', 'det', 'pobj', 'prep', 'pobj', 'punct', 'compound', 'compound', 'compound', 'nsubj', 'ROOT', 'punct'], ['det', 'nsubjpass', 'auxpass', 'ROOT', 'aux', 'xcomp', 'amod', 'dobj', 'punct', 'conj', 'amod', 'dobj', 'cc', 'conj', 'dobj', 'prep', 'pcomp', 'det', 'amod', 'dobj', 'prep', 'pobj', 'cc', 'conj', 'prep', 'pobj', 'punct'], ['prep', 'det', 'amod', 'pobj', 'prep', 'pobj', 'cc', 'amod', 'conj', 'prep', 'compound', 'pobj', 'prep', 'pobj', 'punct', 'advmod', 'advmod', 'cc', 'det', 'conj', 'prep', 'pobj', 'prep', 'pobj', 'punct', 'nsubj', 'ROOT', 'det', 'amod', 'attr', 'aux', 'relcl', 'aux', 'xcomp', 'compound', 'dobj', 'prep', 'det', 'pobj', 'punct', 'cc', 'conj', 'punct', 'dobj', 'aux', 'relcl', 'punct'], ['ROOT', 'punct', 'nummod', 'appos', 'nummod', 'nmod', 'nummod', 'appos', 'ROOT', 'nummod', 'appos', 'nummod', 'dep', 'nummod', 'ROOT', 'nmod', 'punct', 'appos', 'punct', 'ROOT', 'punct', 'npadvmod', 'nummod', 'punct', 'ROOT', 'ROOT', 'nmod', 'punct', 'dep', 'punct', 'punct', 'punct', 'nummod', 'punct', 'ROOT'], ['det', 'nsubj', 'prep', 'compound', 'pobj', 'prep', 'pobj', 'cc', 'conj', 'advmod', 'ROOT', 'det', 'poss', 'case', 'case', 'dobj', 'aux', 'acl', 'dobj', 'cc', 'conj', 'dobj', 'punct'], ['det', 'nsubj', 'aux', 'ROOT', 'advmod', 'mark', 'nummod', 'nsubj', 'advcl', 'det', 'dobj', 'punct'], ['nsubj', 'ROOT', 'dobj', 'nsubj', 'ccomp', 'det', 'dobj', 'prep', 'det', 'pobj', 'prep', 'det', 'pobj', 'prep', 'pobj', 'punct'], ['compound', 'nsubj', 'punct', 'compound', 'compound', 'appos', 'prep', 'det', 'compound', 'pobj', 'punct', 'ROOT', 'punct'], ['det', 'nsubj', 'ROOT', 'prep', 'pobj', 'aux', 'advcl', 'dobj', 'cc', 'conj', 'det', 'dobj', 'punct'], ['compound', 'nsubjpass', 'auxpass', 'ROOT', 'prep', 'amod', 'pobj', 'punct'], ['nsubj', 'ROOT', 'amod', 'dobj', 'cc', 'det', 'nsubj', 'aux', 'conj', 'aux', 'xcomp', 'dobj', 'advmod', 'punct', 'conj', 'det', 'dobj', 'cc', 'conj', 'det', 'amod', 'dobj', 'prep', 'det', 'pobj', 'punct'], ['punct', 'nsubj', 'aux', 'neg', 'ROOT', 'nsubj', 'aux', 'ccomp', 'dobj', 'nsubj', 'relcl', 'nmod', 'cc', 'conj', 'dobj', 'punct', 'punct'], ['nsubj', 'ROOT', 'dobj', 'prep', 'amod', 'cc', 'conj', 'compound', 'pobj', 'prep', 'det', 'nmod', 'prep', 'pobj', 'punct', 'compound', 'pobj', 'prep', 'compound', 'compound', 'pobj', 'punct'], ['amod', 'nsubj', 'aux', 'aux', 'ccomp', 'aux', 'xcomp', 'det', 'dobj', 'punct', 'det', 'amod', 'nsubj', 'ROOT', 'acomp', 'prep', 'pobj', 'punct', 'prep', 'pobj', 'punct'], ['nsubj', 'ccomp', 'attr', 'prep', 'det', 'advmod', 'amod', 'amod', 'pobj', 'punct', 'quantmod', 'quantmod', 'nsubjpass', 'prep', 'pobj', 'aux', 'auxpass', 'ROOT', 'prep', 'det', 'pobj', 'prep', 'pobj', 'cc', 'conj', 'punct', 'nsubjpass', 'aux', 'auxpass', 'conj', 'cc', 'amod', 'nsubjpass', 'amod', 'prep', 'pobj', 'aux', 'auxpass', 'conj', 'aux', 'xcomp', 'prep', 'compound', 'pobj', 'punct'], ['ROOT'], ['nsubj', 'ROOT', 'det', 'dobj', 'acl', 'npadvmod', 'prep', 'det', 'pobj', 'prep', 'pobj', 'cc', 'det', 'compound', 'compound', 'conj', 'prep', 'det', 'pobj', 'prep', 'amod', 'compound', 'pobj', 'punct'], ['nsubj', 'ROOT', 'advmod', 'prep', 'pobj', 'acl', 'punct'], ['det', 'nsubjpass', 'prep', 'pobj', 'cc', 'det', 'amod', 'conj', 'prep', 'pobj', 'auxpass', 'ROOT', 'prep', 'punct', 'punct', 'pobj', 'punct', 'compound', 'appos', 'punct', 'punct', 'punct'], ['advmod', 'mark', 'nsubj', 'ROOT', 'det', 'amod', 'attr', 'nsubj', 'ROOT', 'det', 'amod', 'attr', 'prep', 'det', 'amod', 'pobj', 'punct'], ['advmod', 'prep', 'det', 'amod', 'nummod', 'pobj', 'punct', 'nsubj', 'parataxis', 'punct', 'det', 'npadvmod', 'punct', 'ROOT'], ['det', 'nsubj', 'punct', 'prep', 'pobj', 'prep', 'det', 'compound', 'pobj', 'punct', 'auxpass', 'ROOT', 'prep', 'pcomp', 'aux', 'xcomp', 'det', 'dobj', 'prep', 'pobj', 'prep', 'amod', 'punct', 'conj', 'cc', 'conj', 'pobj', 'punct'], ['nsubj', 'ROOT', 'det', 'amod', 'dobj', 'prep', 'det', 'pobj', 'prep', 'det', 'amod', 'pobj', 'prep', 'pobj', 'npadvmod', 'punct', 'prep', 'pcomp', 'det', 'dobj', 'prep', 'pobj', 'prep', 'det', 'amod', 'cc', 'conj', 'pobj', 'cc', 'conj', 'advmod', 'aux', 'pcomp', 'det', 'amod', 'dobj', 'aux', 'advcl', 'det', 'dobj', 'prep', 'pobj', 'punct'], ['nsubj', 'ROOT', 'det', 'nsubj', 'prep', 'pobj', 'ccomp', 'prt', 'agent', 'det', 'compound', 'pobj', 'prep', 'poss', 'amod', 'pobj', 'punct', 'prep', 'amod', 'pobj', 'prep', 'amod', 'pobj', 'amod', 'prep', 'pobj', 'punct', 'conj', 'cc', 'conj', 'punct'], ['predet', 'det', 'nsubj', 'ROOT', 'det', 'dobj', 'prep', 'pobj', 'mark', 'nsubj', 'advcl', 'poss', 'advmod', 'punct', 'amod', 'amod', 'dobj', 'prep', 'pobj', 'punct'], ['advmod', 'advmod', 'nummod', 'nsubjpass', 'aux', 'auxpass', 'ROOT', 'prep', 'det', 'compound', 'compound', 'pobj', 'prep', 'det', 'npadvmod', 'punct', 'amod', 'amod', 'pobj', 'prep', 'pobj', 'punct', 'prep', 'det', 'amod', 'pobj', 'punct'], ['nsubj', 'ROOT', 'dobj', 'prt', 'dobj', 'prep', 'pobj', 'cc', 'dep', 'acl', 'dobj', 'punct'], ['mark', 'nsubj', 'advcl', 'prt', 'aux', 'xcomp', 'poss', 'attr', 'punct', 'nsubj', 'aux', 'ROOT', 'amod', 'dobj', 'aux', 'relcl', 'det', 'dobj', 'punct', 'punct', 'punct', 'punct'], ['nsubj', 'ROOT', 'det', 'dobj', 'prep', 'pobj', 'acl', 'prep', 'pobj', 'prep', 'det', 'pobj'], ['nsubj', 'ROOT', 'acomp', 'aux', 'xcomp', 'dobj', 'amod', 'aux', 'xcomp', 'punct'], ['advcl', 'prep', 'det', 'pobj', 'compound', 'dobj', 'punct', 'det', 'compound', 'compound', 'nsubj', 'prep', 'pobj', 'ROOT', 'punct'], ['poss', 'dep', 'compound', 'nsubj', 'ROOT', 'aux', 'xcomp', 'amod', 'compound', 'dobj', 'punct', 'compound', 'compound', 'compound', 'conj', 'punct', 'cc', 'conj', 'compound', 'poss', 'case', 'case', 'amod', 'dobj', 'prep', 'pobj', 'aux', 'acl', 'dobj', 'cc', 'conj', 'prep', 'det', 'compound', 'compound', 'compound', 'pobj', 'prep', 'pobj', 'punct'], ['det', 'compound', 'nsubj', 'prep', 'pobj', 'ROOT', 'det', 'compound', 'nsubj', 'aux', 'ccomp', 'dobj', 'aux', 'xcomp', 'advmod', 'prep', 'pobj', 'prep', 'pobj', 'cc', 'conj', 'acl', 'prep', 'det', 'pobj', 'punct', 'conj', 'punct', 'conj', 'punct', 'conj', 'punct', 'conj', 'punct', 'conj', 'punct', 'cc', 'conj', 'prep', 'pobj', 'cc', 'conj', 'nsubj', 'aux', 'relcl', 'dobj', 'punct', 'advmod', 'advmod', 'cc', 'det', 'conj', 'prep', 'det', 'compound', 'pobj', 'punct', 'conj', 'punct', 'cc', 'conj', 'acl', 'det', 'dobj', 'punct'], ['ROOT', 'dobj', 'punct'], ['nsubj', 'punct', 'dep', 'amod', 'amod', 'dobj', 'punct', 'det', 'nsubj', 'aux', 'ROOT', 'det', 'poss', 'dep', 'appos', 'amod', 'dobj', 'punct'], ['ROOT', 'prep', 'compound', 'compound', 'pobj', 'punct', 'nummod', 'nsubj', 'ROOT', 'nummod', 'compound', 'compound', 'dobj', 'punct', 'nummod', 'compound', 'compound', 'conj', 'punct', 'nummod', 'conj', 'punct', 'cc', 'nummod', 'conj', 'punct'], ['nsubj', 'aux', 'advmod', 'ROOT', 'aux', 'xcomp', 'dobj', 'acl', 'dobj', 'prep', 'det', 'pobj', 'punct', 'prep', 'compound', 'pobj', 'punct', 'det', 'appos', 'acl', 'dobj', 'prep', 'pobj', 'prep', 'pobj', 'prep', 'det', 'pobj', 'punct'], ['nsubj', 'punct', 'nsubj', 'relcl', 'det', 'npadvmod', 'punct', 'amod', 'dobj', 'prep', 'pobj', 'prep', 'pobj', 'punct', 'aux', 'ROOT', 'dobj', 'prep', 'pobj', 'dative', 'pobj', 'aux', 'advcl', 'compound', 'compound', 'compound', 'punct', 'poss', 'dep', 'case', 'dobj', 'punct'], ['nummod', 'amod', 'nsubj', 'punct', 'appos', 'punct', 'ROOT', 'dobj', 'mark', 'nsubj', 'ccomp', 'advmod', 'nummod', 'poss', 'compound', 'dobj', 'punct', 'advcl', 'dobj', 'aux', 'advcl', 'dobj', 'xcomp', 'det', 'amod', 'dobj', 'prep', 'pobj', 'prep', 'poss', 'pobj', 'cc', 'conj', 'compound', 'dobj', 'nsubjpass', 'auxpass', 'relcl', 'agent', 'pobj', 'punct'], ['nsubj', 'punct', 'prep', 'poss', 'pobj', 'prep', 'amod', 'advmod', 'pobj', 'punct', 'cc', 'conj', 'amod', 'punct', 'amod', 'dobj', 'punct', 'aux', 'ROOT', 'acomp', 'prep', 'pobj', 'punct'], ['det', 'nsubj', 'cc', 'conj', 'ccomp', 'mark', 'expl', 'aux', 'advmod', 'ccomp', 'attr', 'aux', 'advcl', 'dobj', 'prep', 'pobj', 'prep', 'det', 'pobj', 'prep', 'compound', 'pobj', 'punct', 'cc', 'mark', 'det', 'amod', 'compound', 'punct', 'compound', 'nsubj', 'conj', 'acomp', 'aux', 'xcomp', 'dobj', 'cc', 'conj', 'det', 'compound', 'dobj', 'nsubj', 'relcl', 'punct', 'det', 'nsubj', 'ROOT', 'punct'], ['prep', 'prep', 'det', 'compound', 'compound', 'compound', 'pobj', 'punct', 'compound', 'compound', 'compound', 'punct', 'nsubj', 'ROOT', 'compound', 'dobj', 'det', 'amod', 'amod', 'oprd', 'prep', 'pobj', 'case', 'pobj', 'pobj', 'prep', 'pobj', 'punct'], ['det', 'compound', 'compound', 'nsubj', 'prep', 'nmod', 'dep', 'punct', 'pobj', 'prep', 'det', 'compound', 'compound', 'pobj', 'punct', 'appos', 'punct', 'aux', 'ROOT', 'compound', 'dobj', 'prep', 'det', 'pobj', 'prep', 'amod', 'pobj', 'prep', 'det', 'pobj', 'prep', 'det', 'pobj', 'prep', 'amod', 'compound', 'pobj', 'prep', 'pobj', 'punct'], ['det', 'nsubjpass', 'auxpass', 'ROOT', 'prep', 'pobj', 'prep', 'compound', 'compound', 'pobj', 'punct', 'det', 'appos', 'aux', 'relcl', 'det', 'amod', 'amod', 'dobj', 'cc', 'det', 'conj', 'nsubj', 'relcl', 'prep', 'pobj', 'punct', 'conj', 'punct', 'cc', 'det', 'amod', 'amod', 'conj', 'punct'], ['nsubj', 'ROOT', 'det', 'attr', 'prep', 'pobj', 'cc', 'conj', 'punct'], ['cc', 'amod', 'nsubj', 'punct', 'advmod', 'det', 'appos', 'punct', 'ROOT', 'det', 'dobj', 'advmod', 'advmod', 'advmod', 'punct'], ['det', 'nsubj', 'auxpass', 'ROOT', 'prep', 'pcomp', 'det', 'amod', 'dobj', 'prep', 'det', 'pobj', 'prep', 'det', 'compound', 'pobj', 'appos', 'punct'], ['npadvmod', 'punct', 'det', 'nsubj', 'ROOT', 'dobj', 'prep', 'det', 'amod', 'pobj', 'prep', 'pobj', 'prep', 'npadvmod', 'punct', 'amod', 'pobj', 'cc', 'npadvmod', 'punct', 'amod', 'conj', 'punct'], ['punct', 'nsubj', 'ROOT', 'aux', 'xcomp', 'det', 'dobj', 'prep', 'poss', 'pobj', 'prep', 'pobj', 'aux', 'acl', 'det', 'amod', 'dobj', 'punct', 'punct'], ['ROOT', 'punct', 'nsubj', 'ccomp', 'advmod', 'acomp', 'prep', 'poss', 'pobj', 'punct', 'punct', 'punct', 'nsubj', 'intj', 'punct', 'nsubj', 'cc', 'conj', 'advmod', 'conj', 'punct', 'nummod', 'npadvmod', 'prep', 'prep', 'det', 'pobj', 'punct'], ['punct', 'punct', 'nsubj', 'punct', 'aux', 'ROOT', 'det', 'dobj', 'advmod', 'punct', 'punct', 'punct', 'punct'], ['nsubj', 'advmod', 'ROOT', 'det', 'dobj', 'punct', 'compound', 'ROOT', 'mark', 'nsubjpass', 'auxpass', 'acl', 'prep', 'pobj', 'prep', 'det', 'amod', 'pobj', 'prep', 'det', 'amod', 'pobj', 'cc', 'conj', 'prep', 'nummod', 'pobj', 'punct'], ['prep', 'compound', 'compound', 'nsubj', 'ROOT', 'prep', 'det', 'compound', 'compound', 'pobj', 'punct', 'advmod', 'advmod', 'cc', 'amod', 'nmod', 'cc', 'conj', 'nsubj', 'conj', 'prep', 'pcomp', 'dobj', 'punct', 'cc', 'conj', 'amod', 'dobj', 'prep', 'pobj', 'punct'], ['det', 'nsubj', 'ROOT', 'aux', 'xcomp', 'dobj', 'acl', 'prep', 'det', 'compound', 'pobj', 'cc', 'det', 'compound', 'conj', 'prep', 'pobj', 'punct'], ['nsubj', 'aux', 'ROOT', 'det', 'amod', 'dobj', 'prep', 'pobj', 'prep', 'det', 'pobj', 'punct', 'punct', 'amod', 'conj', 'prep', 'pobj', 'punct', 'prep', 'poss', 'amod', 'pobj', 'prep', 'amod', 'punct', 'amod', 'pobj', 'punct', 'acl', 'amod', 'amod', 'dobj', 'punct', 'compound', 'conj', 'punct', 'dep', 'dep', 'conj', 'punct', 'cc', 'conj', 'prep', 'amod', 'pobj', 'punct', 'aux', 'conj', 'det', 'dobj', 'prep', 'det', 'pobj', 'punct'], ['det', 'nsubj', 'prep', 'det', 'amod', 'compound', 'compound', 'punct', 'pobj', 'ROOT', 'det', 'amod', 'attr', 'prep', 'det', 'pobj', 'prep', 'det', 'amod', 'pobj', 'nsubj', 'relcl', 'det', 'dobj', 'prep', 'det', 'amod', 'pobj', 'cc', 'nsubj', 'conj', 'prep', 'pcomp', 'det', 'amod', 'cc', 'conj', 'dobj', 'prep', 'det', 'pobj', 'punct', 'nmod', 'amod', 'dobj', 'punct'], ['punct', 'punct', 'punct', 'advmod', 'nsubj', 'aux', 'ROOT', 'dobj', 'prep', 'pobj', 'advmod', 'advmod', 'cc', 'prep', 'amod', 'pobj', 'cc', 'conj', 'amod', 'dobj', 'punct', 'advcl', 'dobj', 'nsubj', 'aux', 'relcl', 'prep', 'amod', 'pobj', 'punct', 'punct', 'punct', 'punct'], ['nsubj', 'acl', 'prep', 'det', 'pobj', 'ccomp', 'det', 'poss', 'case', 'dobj', 'dobj', 'aux', 'xcomp', 'dobj', 'prep', 'advmod', 'aux', 'pcomp', 'dobj', 'punct', 'amod', 'nsubj', 'ROOT', 'dobj', 'aux', 'xcomp', 'nsubj', 'ccomp', 'dobj', 'punct', 'cc', 'amod', 'nsubj', 'conj', 'det', 'dobj', 'prep', 'pobj', 'prep', 'pcomp', 'dobj', 'cc', 'conj', 'dobj', 'punct'], ['punct', 'nsubj', 'nummod', 'prep', 'det', 'pobj', 'prep', 'pobj', 'ROOT', 'det', 'compound', 'dobj', 'prep', 'det', 'pobj', 'prep', 'pobj', 'punct', 'nsubjpass', 'auxpass', 'relcl', 'aux', 'advcl', 'mark', 'nsubj', 'ccomp', 'det', 'attr', 'prep', 'dobj', 'punct', 'punct', 'nsubj', 'pcomp', 'oprd', 'punct', 'punct', 'punct'], ['amod', 'npadvmod', 'punct', 'nsubj', 'advmod', 'ROOT', 'nummod', 'dobj', 'prep', 'det', 'amod', 'pobj', 'prep', 'det', 'pobj', 'prep', 'poss', 'pobj', 'cc', 'conj', 'dobj', 'advmod', 'punct', 'cc', 'mark', 'nsubjpass', 'auxpass', 'advcl', 'prep', 'det', 'amod', 'pobj', 'nsubj', 'relcl', 'prep', 'amod', 'compound', 'pobj', 'punct'], ['punct', 'det', 'npadvmod', 'punct', 'amod', 'nsubj', 'acl', 'compound', 'dobj', 'prep', 'advmod', 'punct', 'amod', 'compound', 'pobj', 'prep', 'pobj', 'aux', 'ROOT', 'nsubj', 'aux', 'punct', 'punct', 'advmod', 'ccomp', 'punct', 'punct', 'nsubj', 'ccomp', 'neg', 'acomp', 'punct', 'punct'], ['compound', 'nsubj', 'ROOT', 'det', 'dobj', 'prep', 'det', 'pobj', 'prep', 'amod', 'compound', 'pobj', 'acl', 'advmod', 'npadvmod', 'cc', 'conj', 'dobj', 'aux', 'xcomp', 'det', 'dobj', 'aux', 'relcl', 'advmod', 'advmod', 'dobj', 'prep', 'compound', 'pobj', 'cc', 'amod', 'conj', 'prep', 'pobj', 'cc', 'det', 'compound', 'conj', 'punct'], ['ROOT', 'npadvmod', 'compound', 'nsubj', 'ROOT', 'punct'], ['nsubjpass', 'nummod', 'auxpass', 'advmod', 'ROOT', 'agent', 'compound', 'compound', 'pobj', 'punct', 'appos', 'prep', 'det', 'compound', 'compound', 'pobj', 'punct', 'xcomp', 'prep', 'det', 'poss', 'case', 'case', 'amod', 'punct', 'nmod', 'amod', 'compound', 'compound', 'compound', 'pobj', 'punct'], ['nsubjpass', 'auxpass', 'ROOT', 'aux', 'xcomp', 'prep', 'nummod', 'pobj', 'advmod', 'prep', 'det', 'pobj', 'punct'], ['punct', 'punct', 'punct', 'nmod', 'punct', 'nsubj', 'ccomp', 'advmod', 'punct', 'punct', 'punct', 'nsubj', 'ROOT', 'dobj', 'advmod', 'punct'], ['mark', 'nsubj', 'advcl', 'det', 'amod', 'npadvmod', 'punct', 'nsubj', 'ROOT', 'poss', 'advmod', 'amod', 'dobj', 'prep', 'det', 'amod', 'punct', 'amod', 'punct', 'cc', 'conj', 'pobj', 'aux', 'relcl', 'punct'], ['det', 'amod', 'punct', 'compound', 'nsubj', 'ROOT', 'det', 'compound', 'compound', 'dobj', 'punct', 'compound', 'appos', 'mark', 'nsubj', 'advcl', 'nsubj', 'ccomp', 'prep', 'compound', 'pobj', 'punct', 'compound', 'compound', 'compound', 'npadvmod', 'prep', 'det', 'amod', 'punct', 'compound', 'pobj', 'npadvmod', 'nummod', 'punct', 'prep', 'punct', 'nummod', 'punct', 'det', 'appos', 'acl', 'aux', 'xcomp', 'amod', 'dobj', 'prep', 'det', 'pobj', 'punct'], ['prep', 'pobj', 'punct', 'det', 'compound', 'nsubj', 'parataxis', 'punct', 'amod', 'amod', 'nsubj', 'ROOT', 'aux', 'xcomp', 'dobj', 'prep', 'det', 'pobj', 'prep', 'pobj', 'punct'], ['prep', 'compound', 'pobj', 'punct', 'compound', 'compound', 'compound', 'nsubj', 'ROOT', 'poss', 'dobj', 'prep', 'nmod', 'punct', 'compound', 'pobj', 'punct', 'conj', 'cc', 'amod', 'amod', 'conj', 'punct'], ['cc', 'det', 'npadvmod', 'advmod', 'punct', 'nsubj', 'relcl', 'prep', 'det', 'pobj', 'nsubj', 'relcl', 'dative', 'pobj', 'punct', 'punct', 'punct', 'ROOT', 'compound', 'compound', 'nsubj', 'punct', 'det', 'amod', 'compound', 'appos', 'advmod', 'acl', 'aux', 'xcomp', 'poss', 'compound', 'dobj', 'punct', 'punct'], ['det', 'nsubj', 'ROOT', 'advmod', 'advmod', 'det', 'amod', 'nsubj', 'nsubj', 'ccomp', 'prep', 'amod', 'pobj', 'punct', 'prep', 'pobj', 'cc', 'conj', 'punct'], ['det', 'nsubj', 'ROOT', 'mark', 'nsubj', 'aux', 'advcl', 'dep', 'punct', 'nummod', 'dobj', 'punct'], ['punct', 'cc', 'nsubj', 'prep', 'poss', 'pobj', 'advmod', 'ROOT', 'oprd', 'prep', 'det', 'compound', 'pobj', 'prep', 'det', 'compound', 'pobj', 'punct', 'det', 'compound', 'conj', 'punct'], ['det', 'compound', 'compound', 'compound', 'nsubj', 'ROOT', 'nmod', 'nmod', 'prep', 'pobj', 'compound', 'dobj', 'cc', 'amod', 'conj', 'prep', 'pobj', 'prep', 'nummod', 'pobj', 'prep', 'pobj', 'prep', 'det', 'amod', 'pobj', 'prep', 'pobj', 'cc', 'conj', 'pobj', 'punct', 'cc', 'conj', 'aux', 'acl', 'det', 'amod', 'dobj', 'aux', 'advcl', 'det', 'dobj', 'prep', 'det', 'pobj', 'punct'], ['ROOT', 'det', 'nsubj', 'det', 'amod', 'npadvmod', 'nsubj', 'intj', 'prep', 'det', 'pobj', 'prep', 'compound', 'pobj', 'aux', 'ccomp', 'prep', 'pcomp', 'nmod', 'amod', 'dobj', 'cc', 'conj', 'compound', 'dobj', 'prep', 'pobj', 'cc', 'conj', 'det', 'dobj', 'aux', 'acl', 'amod', 'compound', 'dobj', 'punct', 'punct', 'det', 'nsubj', 'aux', 'ROOT', 'compound', 'dobj', 'acl', 'prep', 'pobj', 'prep', 'pobj', 'prep', 'det', 'amod', 'pobj', 'punct'], ['punct', 'nmod', 'punct', 'nsubj', 'ROOT', 'det', 'amod', 'compound', 'dobj', 'cc', 'conj', 'cc', 'nsubj', 'punct', 'conj', 'advmod', 'acomp', 'advmod', 'nsubj', 'advcl', 'aux', 'xcomp', 'xcomp', 'pobj', 'punct', 'nsubj', 'advmod', 'ccomp', 'prt', 'punct'], ['prep', 'poss', 'amod', 'pobj', 'prep', 'pobj', 'prep', 'pobj', 'prep', 'compound', 'pobj', 'punct', 'compound', 'nsubj', 'ROOT', 'det', 'dobj', 'prep', 'pobj', 'cc', 'amod', 'conj', 'cc', 'conj', 'det', 'dobj', 'prep', 'pobj', 'prep', 'pobj', 'cc', 'conj', 'punct', 'amod', 'conj', 'punct', 'conj', 'cc', 'conj', 'punct'], ['nsubj', 'ROOT', 'mark', 'nsubj', 'ccomp', 'aux', 'xcomp', 'dobj', 'prep', 'det', 'pobj', 'prep', 'amod', 'compound', 'pobj', 'punct'], ['cc', 'amod', 'npadvmod', 'advmod', 'nsubjpass', 'prep', 'pobj', 'prep', 'compound', 'compound', 'pobj', 'prep', 'amod', 'pobj', 'auxpass', 'ROOT', 'agent', 'det', 'compound', 'pobj', 'punct'], ['det', 'npadvmod', 'advmod', 'punct', 'det', 'nsubj', 'punct', 'appos', 'amod', 'compound', 'appos', 'cc', 'compound', 'conj', 'ROOT', 'det', 'amod', 'dobj', 'prep', 'pcomp', 'amod', 'dobj', 'prep', 'amod', 'pobj', 'ccomp', 'prep', 'det', 'pobj', 'prep', 'pobj', 'punct'], ['nsubj', 'aux', 'advmod', 'ROOT', 'prep', 'pobj', 'aux', 'advcl', 'det', 'dobj', 'punct'], ['det', 'nsubj', 'ROOT', 'attr', 'prep', 'det', 'amod', 'compound', 'pobj', 'punct', 'appos', 'punct', 'punct', 'acl', 'aux', 'xcomp', 'compound', 'dobj', 'prep', 'pobj', 'prep', 'pcomp', 'prep', 'det', 'compound', 'compound', 'pobj', 'cc', 'conj', 'compound', 'pobj', 'cc', 'aux', 'conj', 'det', 'amod', 'amod', 'compound', 'dobj', 'prep', 'det', 'compound', 'nmod', 'punct', 'compound', 'compound', 'pobj'], ['det', 'nsubj', 'prep', 'compound', 'pobj', 'punct', 'compound', 'appos', 'punct', 'ROOT', 'dobj', 'prep', 'nummod', 'pobj', 'cc', 'conj', 'prep', 'pobj', 'punct', 'nummod', 'npadvmod', 'nummod', 'punct'], ['poss', 'nsubj', 'prep', 'pobj', 'ROOT', 'compound', 'compound', 'attr', 'punct', 'cc', 'poss', 'conj', 'prep', 'pobj', 'ROOT', 'compound', 'compound', 'compound', 'attr', 'punct'], ['nsubj', 'aux', 'ROOT', 'amod', 'punct', 'nmod', 'punct', 'npadvmod', 'punct', 'amod', 'dobj', 'mark', 'nsubj', 'advmod', 'advcl', 'prep', 'poss', 'poss', 'case', 'poss', 'pobj', 'prep', 'pobj', 'punct'], ['nmod', 'nummod', 'ROOT', 'prep', 'det', 'pobj', 'prep', 'pobj', 'punct', 'cc', 'conj', 'prep', 'det', 'pobj', 'dobj', 'nsubj', 'relcl', 'prep', 'det', 'pobj', 'punct'], ['det', 'compound', 'compound', 'nsubj', 'prep', 'det', 'pobj', 'ROOT', 'nummod', 'dobj', 'amod', 'prep', 'pcomp', 'dep', 'punct', 'dobj', 'quantmod', 'punct', 'ROOT', 'punct', 'appos', 'punct', 'nummod', 'compound', 'nmod', 'punct', 'appos', 'punct', 'prep', 'pobj', 'prep', 'det', 'pobj', 'mark', 'det', 'compound', 'nsubj', 'aux', 'advcl', 'quantmod', 'quantmod', 'quantmod', 'punct', 'nummod', 'nmod', 'punct', 'dobj', 'punct', 'appos', 'punct', 'nummod', 'nmod', 'nmod', 'punct', 'appos', 'punct', 'prep', 'det', 'pobj', 'prep', 'nummod', 'pobj', 'punct'], ['compound', 'nsubjpass', 'auxpass', 'ROOT', 'prep', 'amod', 'pobj', 'punct'], ['det', 'compound', 'nsubjpass', 'auxpass', 'ROOT', 'aux', 'xcomp', 'prep', 'compound', 'nmod', 'punct', 'compound', 'pobj', 'prep', 'det', 'compound', 'compound', 'punct', 'compound', 'pobj', 'prep', 'pobj', 'nummod', 'cc', 'conj', 'det', 'amod', 'compound', 'dobj', 'aux', 'acl', 'dobj', 'punct', 'advmod', 'prep', 'det', 'amod', 'pobj', 'prep', 'det', 'pobj', 'prep', 'pobj', 'punct'], ['compound', 'nsubj', 'ROOT', 'punct'], ['nsubj', 'prep', 'amod', 'compound', 'pobj', 'cc', 'acl', 'prep', 'compound', 'pobj', 'ROOT', 'det', 'attr', 'prep', 'pobj', 'punct'], ['det', 'compound', 'compound', 'compound', 'nsubj', 'ROOT', 'punct'], ['nsubj', 'ROOT', 'poss', 'amod', 'dobj', 'prep', 'pobj', 'cc', 'conj', 'prep', 'det', 'pobj', 'punct'], ['nsubj', 'aux', 'ROOT', 'det', 'dobj', 'nsubj', 'aux', 'relcl', 'advmod', 'punct', 'advmod', 'punct', 'advcl', 'det', 'compound', 'poss', 'case', 'dobj', 'prep', 'det', 'pobj', 'prep', 'pobj', 'punct', 'conj', 'amod', 'dobj', 'prep', 'det', 'pobj', 'prep', 'det', 'pobj', 'punct', 'cc', 'conj', 'prep', 'det', 'amod', 'pobj', 'prep', 'amod', 'pobj', 'prep', 'advmod', 'aux', 'pcomp', 'det', 'dobj', 'cc', 'conj', 'det', 'amod', 'amod', 'dobj', 'punct'], ['prep', 'nummod', 'pobj', 'punct', 'nummod', 'nsubjpass', 'cc', 'nummod', 'conj', 'auxpass', 'advmod', 'ROOT', 'oprd', 'prep', 'pcomp', 'advmod', 'mark', 'auxpass', 'advcl', 'prep', 'pobj', 'prep', 'nummod', 'pobj', 'prep', 'pobj', 'punct'], ['csubj', 'det', 'dobj', 'ROOT', 'nummod', 'compound', 'attr', 'punct', 'acl', 'prep', 'det', 'amod', 'compound', 'pobj', 'punct', 'nsubj', 'aux', 'relcl', 'det', 'amod', 'compound', 'compound', 'dobj', 'punct', 'nsubj', 'aux', 'relcl', 'compound', 'dobj', 'prep', 'pobj', 'prep', 'pobj', 'prep', 'det', 'amod', 'compound', 'compound', 'pobj', 'punct'], ['prep', 'prep', 'compound', 'pobj', 'punct', 'amod', 'compound', 'nsubjpass', 'auxpass', 'ROOT', 'nsubj', 'ccomp', 'nsubj', 'aux', 'ccomp', 'nummod', 'dobj', 'prep', 'det', 'pobj', 'prep', 'pobj', 'punct', 'advmod', 'nummod', 'npadvmod', 'punct', 'nummod', 'appos', 'punct', 'appos', 'prep', 'pobj', 'punct', 'cc', 'conj', 'poss', 'dobj', 'prep', 'det', 'pobj'], ['poss', 'punct', 'nsubj', 'ccomp', 'det', 'dobj', 'cc', 'conj', 'punct', 'nsubj', 'punct', 'advmod', 'ccomp', 'dobj', 'punct', 'punct', 'ROOT', 'nsubj', 'punct'], ['nsubj', 'advmod', 'ROOT', 'det', 'amod', 'dobj', 'prep', 'det', 'compound', 'pobj', 'cc', 'conj', 'prep', 'compound', 'punct', 'pobj', 'amod', 'npadvmod', 'punct', 'prep', 'pobj', 'nsubj', 'aux', 'advcl', 'dobj', 'punct'], ['det', 'compound', 'nsubj', 'aux', 'ROOT', 'prep', 'det', 'pobj', 'prep', 'det', 'amod', 'pobj', 'prep', 'advmod', 'nummod', 'pobj', 'punct', 'ROOT', 'punct', 'advmod', 'nsubjpass', 'auxpass', 'ROOT', 'prep', 'compound', 'compound', 'pobj', 'punct'], ['det', 'compound', 'nsubj', 'aux', 'advmod', 'ROOT', 'det', 'nmod', 'nummod', 'nmod', 'npadvmod', 'punct', 'amod', 'dobj'], ['nsubj', 'nummod', 'ROOT', 'det', 'amod', 'attr', 'prep', 'det', 'pobj', 'punct'], ['nsubj', 'advmod', 'ROOT', 'det', 'dobj', 'aux', 'acl', 'poss', 'amod', 'dobj', 'prep', 'amod', 'pobj', 'prep', 'pobj', 'punct', 'compound', 'conj', 'punct', 'cc', 'conj', 'cc', 'conj', 'prep', 'pobj', 'punct', 'mark', 'advcl', 'det', 'dobj', 'prep', 'amod', 'cc', 'conj', 'pobj', 'prep', 'amod', 'pobj', 'prep', 'det', 'pobj', 'punct', 'poss', 'appos', 'prep', 'det', 'pobj', 'punct'], ['det', 'amod', 'nsubj', 'aux', 'advmod', 'ROOT', 'advmod', 'aux', 'advcl', 'aux', 'advcl', 'det', 'amod', 'amod', 'dobj', 'prep', 'pobj', 'cc', 'aux', 'conj', 'det', 'dobj', 'prep', 'pobj', 'prep', 'det', 'amod', 'pobj', 'nsubj', 'aux', 'relcl', 'det', 'dobj', 'advmod', 'prep', 'det', 'amod', 'pobj', 'prep', 'pobj', 'punct'], ['amod', 'amod', 'nsubj', 'ROOT', 'aux', 'xcomp', 'det', 'dobj', 'cc', 'conj', 'aux', 'xcomp', 'poss', 'amod', 'dobj', 'punct'], ['det', 'amod', 'compound', 'nsubj', 'ROOT', 'prt', 'punct', 'mark', 'det', 'nsubj', 'aux', 'advcl', 'det', 'amod', 'npadvmod', 'advmod', 'punct'], ['det', 'nsubj', 'aux', 'ccomp', 'nummod', 'compound', 'dobj', 'punct', 'nummod', 'conj', 'punct', 'nummod', 'conj', 'punct', 'nummod', 'conj', 'punct', 'nummod', 'dep', 'dep', 'amod', 'compound', 'conj', 'cc', 'nummod', 'nmod', 'cc', 'conj', 'conj', 'punct', 'nsubj', 'ROOT', 'punct'], ['compound', 'punct', 'nsubj', 'ROOT', 'nummod', 'compound', 'compound', 'compound', 'dobj', 'punct', 'nsubj', 'relcl', 'acomp', 'prep', 'pcomp', 'amod', 'compound', 'dobj', 'cc', 'nmod', 'dep', 'dep', 'amod', 'conj', 'prep', 'det', 'compound', 'pobj', 'punct'], ['nsubj', 'ROOT', 'det', 'nsubjpass', 'aux', 'auxpass', 'ccomp', 'prep', 'det', 'pobj', 'prep', 'compound', 'pobj', 'prep', 'det', 'amod', 'pobj', 'prep', 'pobj', 'punct', 'det', 'appos', 'prep', 'det', 'pobj', 'case', 'pobj', 'npadvmod', 'punct', 'amod', 'conj', 'punct'], ['nsubj', 'ROOT', 'prep', 'poss', 'case', 'case', 'compound', 'compound', 'compound', 'pobj', 'cc', 'aux', 'auxpass', 'conj', 'aux', 'auxpass', 'advmod', 'xcomp', 'prep', 'det', 'amod', 'pobj', 'punct', 'punct', 'ROOT', 'punct'], ['advmod', 'punct', 'nsubj', 'ROOT', 'nsubj', 'aux', 'neg', 'ccomp', 'dobj', 'prep', 'det', 'pobj', 'punct'], ['compound', 'compound', 'compound', 'punct', 'amod', 'ROOT', 'prep', 'compound', 'pobj'], ['nsubj', 'ROOT', 'prep', 'pobj', 'punct', 'det', 'appos', 'prep', 'compound', 'pobj', 'punct'], ['nsubj', 'aux', 'ROOT', 'det', 'dobj', 'prep', 'det', 'pobj', 'prep', 'pobj', 'cc', 'nmod', 'cc', 'conj', 'conj', 'punct'], ['det', 'compound', 'ROOT', 'punct', 'appos', 'punct', 'punct', 'ROOT', 'ROOT', 'dep', 'compound', 'compound', 'compound', 'compound', 'compound', 'compound', 'compound', 'compound', 'compound', 'ROOT', 'punct', 'npadvmod', 'punct', 'compound', 'compound', 'compound', 'compound', 'compound', 'nsubj', 'cc', 'compound', 'compound', 'compound', 'punct', 'compound', 'compound', 'conj', 'punct', 'ROOT', 'det', 'amod', 'compound', 'attr', 'prep', 'amod', 'pobj', 'punct'], ['mark', 'nsubj', 'advcl', 'prep', 'pobj', 'cc', 'conj', 'det', 'dobj', 'prep', 'det', 'pobj', 'punct', 'nsubj', 'aux', 'ROOT', 'aux', 'xcomp', 'poss', 'dobj', 'prep', 'pobj', 'aux', 'advcl', 'dobj', 'prep', 'det', 'amod', 'pobj', 'punct'], ['punct', 'punct', 'punct', 'nsubj', 'ccomp', 'dobj', 'punct', 'conj', 'cc', 'conj', 'prep', 'det', 'pobj', 'punct', 'punct', 'punct', 'ROOT', 'nsubj', 'punct', 'mark', 'nsubj', 'advcl', 'poss', 'dobj', 'prep', 'pobj', 'prep', 'det', 'pobj', 'acl', 'agent', 'poss', 'amod', 'pobj', 'punct'], ['nsubj', 'ROOT', 'prep', 'quantmod', 'quantmod', 'punct', 'compound', 'nummod', 'nsubj', 'advmod', 'pcomp', 'prep', 'pobj', 'punct', 'conj', 'cc', 'conj', 'aux', 'advmod', 'ccomp', 'advmod', 'prep', 'pobj', 'punct'], ['advmod', 'punct', 'compound', 'punct', 'nsubj', 'aux', 'neg', 'ccomp', 'det', 'dobj', 'cc', 'conj', 'prep', 'pobj', 'acl', 'prep', 'det', 'pobj', 'punct', 'det', 'nsubj', 'prep', 'pobj', 'ROOT', 'prep', 'det', 'pobj', 'punct', 'cc', 'det', 'conj', 'prep', 'amod', 'compound', 'compound', 'pobj', 'prep', 'det', 'pobj', 'punct'], ['det', 'nsubj', 'ROOT', 'amod', 'punct', 'conj', 'cc', 'conj', 'dobj', 'prep', 'pobj', 'punct'], ['nsubj', 'aux', 'ROOT', 'dobj', 'prep', 'pcomp', 'det', 'compound', 'dobj', 'prep', 'pobj', 'punct', 'prep', 'pobj', 'prep', 'det', 'amod', 'pobj', 'auxpass', 'acl', 'punct'], ['advmod', 'aux', 'det', 'amod', 'nsubj', 'ROOT', 'det', 'amod', 'dobj', 'prep', 'det', 'amod', 'compound', 'pobj', 'ROOT', 'nummod', 'attr', 'punct', 'cc', 'advmod', 'conj', 'amod', 'attr', 'acl', 'dobj', 'prep', 'pobj', 'prep', 'det', 'pobj', 'prep', 'pobj', 'cc', 'conj', 'cc', 'compound', 'conj', 'prep', 'det', 'pobj', 'punct', 'prep', 'pobj', 'punct', 'advcl', 'det', 'amod', 'dobj', 'prep', 'pcomp', 'det', 'nsubj', 'punct', 'cc', 'conj', 'punct', 'ccomp', 'cc', 'conj', 'aux', 'xcomp', 'punct'], ['nsubjpass', 'auxpass', 'ROOT', 'agent', 'det', 'amod', 'pobj', 'appos', 'cc', 'conj', 'punct'], ['compound', 'nsubj', 'ROOT', 'punct'], ['advmod', 'nsubj', 'aux', 'ROOT', 'amod', 'compound', 'dobj', 'punct', 'punct', 'ROOT', 'punct'], ['punct', 'nsubj', 'advmod', 'ROOT', 'aux', 'xcomp', 'amod', 'dobj', 'prep', 'poss', 'pobj', 'punct', 'punct'], ['nsubj', 'ROOT', 'amod', 'cc', 'conj', 'dobj', 'prep', 'poss', 'amod', 'cc', 'conj', 'pobj', 'aux', 'acl', 'det', 'dobj', 'punct'], ['compound', 'compound', 'nsubj', 'aux', 'ROOT', 'prep', 'det', 'pobj', 'prep', 'det', 'pobj', 'prep', 'det', 'pobj', 'prep', 'amod', 'pobj', 'prep', 'pobj', 'nsubj', 'relcl', 'advmod', 'advmod', 'nummod', 'dobj', 'cc', 'conj', 'punct'], ['det', 'compound', 'nsubj', 'ROOT', 'prep', 'det', 'amod', 'pobj', 'det', 'det', 'amod', 'dobj', 'det', 'npadvmod', 'prep', 'det', 'amod', 'compound', 'pobj', 'prep', 'pobj', 'punct', 'cc', 'det', 'compound', 'compound', 'conj', 'prep', 'compound', 'pobj', 'prep', 'pobj', 'punct', 'advmod', 'advmod', 'cc', 'amod', 'amod', 'amod', 'conj', 'prep', 'det', 'amod', 'pobj', 'punct'], ['det', 'nsubj', 'advmod', 'ROOT', 'dobj', 'prep', 'amod', 'pobj', 'acl', 'prep', 'pobj', 'punct', 'compound', 'npadvmod', 'prep', 'amod', 'pobj', 'cc', 'conj', 'prep', 'compound', 'compound', 'pobj', 'prep', 'pobj', 'punct'], ['ROOT'], ['amod', 'npadvmod', 'nsubjpass', 'auxpass', 'ROOT', 'aux', 'xcomp', 'det', 'nmod', 'nummod', 'compound', 'dobj', 'aux', 'relcl', 'dobj', 'punct', 'conj', 'det', 'compound', 'dobj', 'cc', 'conj', 'dobj'], ['expl', 'ROOT', 'attr', 'prep', 'det', 'pobj', 'prep', 'pobj', 'dobj', 'nsubj', 'aux', 'relcl', 'punct'], ['det', 'nsubj', 'ccomp', 'prep', 'det', 'amod', 'pobj', 'aux', 'xcomp', 'dative', 'det', 'amod', 'dobj', 'punct', 'cc', 'nsubj', 'conj', 'det', 'amod', 'dobj', 'prep', 'det', 'pobj', 'prep', 'amod', 'compound', 'pobj', 'prep', 'det', 'amod', 'pobj', 'prep', 'pobj', 'punct', 'det', 'nsubj', 'ROOT', 'punct'], ['advmod', 'punct', 'nsubj', 'prep', 'compound', 'pobj', 'cc', 'conj', 'ROOT', 'aux', 'advcl', 'dobj', 'cc', 'amod', 'conj', 'punct', 'conj', 'amod', 'prep', 'pobj', 'punct', 'punct', 'ROOT', 'punct'], ['nsubj', 'ROOT', 'det', 'dobj', 'advmod', 'acl', 'prep', 'det', 'pobj', 'cc', 'conj', 'prep', 'poss', 'compound', 'punct', 'compound', 'pobj', 'punct', 'conj', 'punct', 'conj', 'cc', 'conj', 'punct'], ['nsubj', 'advmod', 'ROOT', 'mark', 'det', 'nsubj', 'prep', 'pobj', 'cc', 'det', 'compound', 'conj', 'punct', 'nsubjpass', 'auxpass', 'relcl', 'prep', 'amod', 'pobj', 'prep', 'pobj', 'cc', 'conj', 'punct', 'advmod', 'punct', 'ccomp', 'punct', 'attr', 'punct', 'prep', 'det', 'pobj', 'nsubjpass', 'auxpass', 'advcl', 'agent', 'dep', 'dep', 'pobj', 'prep', 'pobj', 'prep', 'amod', 'poss', 'case', 'cc', 'conj', 'case', 'pobj', 'prep', 'det', 'compound', 'pobj', 'punct'], ['nsubj', 'ROOT', 'prt', 'mark', 'advmod', 'det', 'advmod', 'advmod', 'punct', 'amod', 'compound', 'compound', 'compound', 'nsubj', 'punct', 'nsubj', 'relcl', 'det', 'amod', 'dobj', 'prep', 'pcomp', 'det', 'dobj', 'punct', 'ccomp', 'amod', 'attr', 'punct'], ['advmod', 'aux', 'det', 'amod', 'nsubj', 'ROOT', 'det', 'amod', 'dobj', 'prep', 'det', 'amod', 'compound', 'pobj', 'ROOT', 'nummod', 'attr', 'punct', 'cc', 'advmod', 'conj', 'amod', 'attr', 'acl', 'dobj', 'prep', 'pobj', 'prep', 'det', 'pobj', 'prep', 'pobj', 'cc', 'conj', 'cc', 'compound', 'conj', 'prep', 'det', 'pobj', 'punct', 'prep', 'pobj', 'punct', 'advcl', 'det', 'amod', 'dobj', 'prep', 'pcomp', 'det', 'nsubj', 'punct', 'cc', 'conj', 'punct', 'ccomp', 'cc', 'conj', 'aux', 'xcomp', 'punct'], ['nsubj', 'ROOT', 'poss', 'nsubj', 'prep', 'det', 'pobj', 'ccomp', 'prep', 'det', 'advmod', 'amod', 'pobj', 'aux', 'relcl', 'det', 'dobj', 'dobj', 'det', 'compound', 'nsubj', 'relcl', 'prep', 'det', 'pobj', 'prep', 'pobj', 'punct'], ['nsubj', 'ROOT', 'det', 'dobj', 'prep', 'pobj', 'cc', 'det', 'compound', 'compound', 'conj', 'aux', 'advmod', 'xcomp', 'advmod', 'aux', 'advcl', 'det', 'amod', 'punct', 'nmod', 'punct', 'conj', 'cc', 'conj', 'dobj', 'prep', 'det', 'pobj', 'punct'], ['punct', 'punct', 'punct', 'nsubj', 'ROOT', 'dobj', 'aux', 'xcomp', 'prt', 'xcomp', 'punct'], ['npadvmod', 'punct', 'amod', 'nsubjpass', 'acl', 'prep', 'dep', 'dep', 'pobj', 'cc', 'conj', 'compound', 'pobj', 'aux', 'advcl', 'dobj', 'auxpass', 'neg', 'ROOT', 'prep', 'det', 'pobj', 'mark', 'advcl', 'agent', 'compound', 'punct', 'pobj', 'punct'], ['punct', 'punct', 'punct', 'nsubj', 'ROOT', 'det', 'nsubj', 'ccomp', 'prep', 'det', 'pobj', 'punct'], ['npadvmod', 'advmod', 'punct', 'det', 'advmod', 'punct', 'amod', 'compound', 'nsubj', 'aux', 'ROOT', 'dobj', 'prep', 'det', 'pobj', 'punct', 'cc', 'conj', 'prt', 'poss', 'amod', 'dobj', 'punct', 'advmod', 'punct'], ['cc', 'nsubj', 'ROOT', 'advmod', 'poss', 'dobj', 'prep', 'det', 'pobj', 'cc', 'conj', 'dobj', 'prep', 'pobj', 'nsubjpass', 'auxpass', 'relcl', 'cc', 'nsubj', 'conj', 'prep', 'det', 'compound', 'pobj', 'amod', 'npadvmod', 'punct'], ['nsubj', 'amod', 'aux', 'xcomp', 'aux', 'ROOT', 'nummod', 'punct', 'nummod', 'punct', 'dobj', 'punct'], ['prep', 'pobj', 'nummod', 'punct', 'nmod', 'amod', 'nsubj', 'ROOT', 'nummod', 'dobj', 'prep', 'compound', 'pobj', 'prep', 'pobj', 'cc', 'conj', 'punct'], ['nsubj', 'nummod', 'aux', 'ROOT', 'det', 'amod', 'dobj', 'advmod', 'amod', 'npadvmod', 'punct', 'compound', 'npadvmod', 'punct', 'advcl', 'amod', 'compound', 'dobj', 'advmod', 'advmod', 'cc', 'amod', 'cc', 'compound', 'conj', 'conj', 'punct'], ['prep', 'nsubj', 'prep', 'compound', 'pobj', 'pcomp', 'punct', 'nsubj', 'prep', 'det', 'compound', 'compound', 'pobj', 'ROOT', 'acomp', 'prep', 'prep', 'compound', 'pobj', 'punct'], ['prep', 'pobj', 'nummod', 'punct', 'nmod', 'amod', 'nsubj', 'ROOT', 'nummod', 'dobj', 'prep', 'compound', 'pobj', 'prep', 'pobj', 'cc', 'conj', 'punct'], ['compound', 'compound', 'compound', 'nsubj', 'punct', 'compound', 'compound', 'compound', 'appos', 'punct', 'ROOT', 'det', 'amod', 'dobj', 'npadvmod', 'punct'], ['npadvmod', 'punct', 'det', 'compound', 'nsubj', 'nsubj', 'amod', 'compound', 'dobj', 'aux', 'acl', 'nsubj', 'prep', 'det', 'pobj', 'prep', 'pobj', 'ccomp', 'det', 'dobj', 'nsubj', 'relcl', 'amod', 'cc', 'conj', 'amod', 'dobj', 'punct', 'ROOT', 'dobj', 'cc', 'conj', 'dobj', 'punct', 'cc', 'conj', 'xcomp', 'amod', 'dobj', 'prep', 'det', 'compound', 'pobj', 'cc', 'det', 'conj', 'punct'], ['prep', 'pobj', 'prep', 'pobj', 'nummod', 'punct', 'compound', 'compound', 'nsubj', 'aux', 'ROOT', 'prep', 'amod', 'cc', 'conj', 'amod', 'pobj', 'aux', 'advcl', 'det', 'dobj', 'prep', 'amod', 'cc', 'conj', 'pobj', 'punct'], ['ROOT', 'prep', 'compound', 'pobj', 'punct', 'nummod', 'nsubj', 'ROOT', 'det', 'compound', 'dobj', 'punct'], ['prep', 'pobj', 'prep', 'compound', 'pobj', 'cc', 'det', 'amod', 'conj', 'punct', 'nsubj', 'ROOT', 'det', 'dobj', 'prep', 'pobj', 'mark', 'nsubj', 'advcl', 'det', 'amod', 'dobj', 'prep', 'det', 'pobj', 'prep', 'poss', 'pobj', 'prep', 'pobj', 'nummod', 'punct'], ['det', 'npadvmod', 'punct', 'nsubj', 'ROOT', 'advmod', 'punct', 'advmod', 'punct', 'prep', 'det', 'amod', 'pobj', 'punct', 'advmod', 'prep', 'poss', 'pobj', 'advmod', 'punct'], ['det', 'nsubjpass', 'acl', 'aux', 'xcomp', 'det', 'amod', 'compound', 'dobj', 'auxpass', 'ROOT', 'prep', 'punct', 'nmod', 'punct', 'cc', 'conj', 'compound', 'pobj', 'punct'], ['prep', 'pobj', 'nsubj', 'aux', 'ROOT', 'advmod', 'compound', 'dobj', 'prep', 'pobj', 'aux', 'advcl', 'amod', 'punct', 'compound', 'dobj', 'aux', 'advcl', 'xcomp', 'det', 'dobj', 'prep', 'pobj', 'acl', 'agent', 'det', 'pobj', 'punct'], ['amod', 'nsubj', 'ROOT', 'aux', 'advcl', 'dative', 'nummod', 'amod', 'dobj', 'nsubj', 'relcl', 'advmod', 'punct', 'det', 'amod', 'appos', 'prep', 'det', 'amod', 'pobj', 'prep', 'det', 'advmod', 'amod', 'pobj', 'punct'], ['npadvmod', 'punct', 'det', 'compound', 'nsubj', 'cc', 'conj', 'ROOT', 'det', 'compound', 'compound', 'dobj', 'nsubj', 'punct', 'advmod', 'relcl', 'prep', 'pobj', 'punct', 'aux', 'conj', 'dobj', 'aux', 'xcomp', 'quantmod', 'quantmod', 'quantmod', 'compound', 'dobj', 'prep', 'amod', 'punct', 'compound', 'pobj', 'prep', 'amod', 'compound', 'pobj', 'punct'], ['det', 'nmod', 'punct', 'conj', 'cc', 'conj', 'nsubj', 'advmod', 'ROOT', 'punct', 'advcl', 'poss', 'amod', 'dobj', 'aux', 'advcl', 'prep', 'pobj', 'prep', 'dep', 'dep', 'pobj', 'punct', 'det', 'compound', 'dobj', 'punct', 'conj', 'cc', 'conj', 'punct'], ['npadvmod', 'advmod', 'punct', 'prep', 'nummod', 'pobj', 'punct', 'amod', 'nsubjpass', 'auxpass', 'ROOT', 'aux', 'aux', 'xcomp', 'dobj', 'prep', 'amod', 'pobj', 'prep', 'pobj', 'punct', 'advcl', 'dobj', 'punct', 'det', 'appos', 'prep', 'pobj', 'punct'], ['det', 'compound', 'nsubj', 'advmod', 'ROOT', 'dobj', 'punct', 'nsubj', 'ccomp', 'prep', 'amod', 'pobj', 'punct', 'prep', 'det', 'compound', 'compound', 'pobj', 'punct', 'aux', 'advcl', 'poss', 'amod', 'compound', 'dobj', 'punct'], ['prep', 'pobj', 'punct', 'nsubj', 'ROOT', 'det', 'npadvmod', 'punct', 'amod', 'dobj', 'nsubj', 'relcl', 'dobj', 'neg', 'aux', 'xcomp', 'poss', 'dobj', 'punct'], ['ROOT', 'prep', 'pobj', 'punct', 'nummod', 'nsubj', 'ROOT', 'nummod', 'compound', 'dobj', 'cc', 'nummod', 'npadvmod', 'advcl', 'dobj', 'punct'], ['punct', 'punct', 'nsubj', 'punct', 'ccomp', 'acomp', 'punct', 'punct', 'punct', 'nsubj', 'ROOT', 'dobj', 'prep', 'det', 'pobj', 'cc', 'det', 'amod', 'conj', 'punct'], ['det', 'nsubj', 'punct', 'prep', 'amod', 'punct', 'ccomp', 'amod', 'nsubj', 'aux', 'ccomp', 'punct', 'nsubj', 'ROOT', 'mark', 'prep', 'pcomp', 'poss', 'compound', 'dobj', 'punct', 'nsubj', 'aux', 'ccomp', 'advmod', 'acomp', 'aux', 'xcomp', 'prep', 'amod', 'pobj', 'punct'], ['mark', 'det', 'amod', 'nsubj', 'advcl', 'prt', 'prep', 'pobj', 'punct', 'conj', 'cc', 'compound', 'conj', 'aux', 'ROOT', 'advmod', 'nummod', 'npadvmod', 'punct'], ['det', 'nsubj', 'cc', 'poss', 'conj', 'aux', 'ROOT', 'prep', 'poss', 'pobj', 'punct', 'prep', 'det', 'advmod', 'amod', 'compound', 'compound', 'compound', 'pobj', 'nummod', 'punct', 'aux', 'advcl', 'det', 'nmod', 'amod', 'punct', 'conj', 'cc', 'conj', 'dobj', 'prep', 'pobj', 'punct'], ['prep', 'nummod', 'amod', 'pobj', 'prep', 'pobj', 'prep', 'pobj', 'punct', 'det', 'compound', 'nsubj', 'ROOT', 'det', 'dobj', 'prep', 'det', 'pobj', 'prep', 'det', 'pobj', 'prep', 'pobj', 'punct', 'det', 'amod', 'appos', 'cc', 'conj', 'prep', 'det', 'amod', 'compound', 'pobj', 'punct'], ['compound', 'compound', 'compound', 'punct', 'nummod', 'compound', 'nsubj', 'prep', 'det', 'compound', 'compound', 'compound', 'pobj', 'ROOT', 'advmod', 'npadvmod', 'nummod', 'punct', 'nummod', 'punct', 'aux', 'advcl', 'det', 'dobj', 'prep', 'det', 'compound', 'pobj', 'prep', 'pobj', 'cc', 'det', 'conj', 'prep', 'pobj', 'prep', 'compound', 'compound', 'pobj', 'punct'], ['nummod', 'nsubj', 'ROOT', 'advmod', 'punct'], ['nmod', 'nmod', 'prep', 'pobj', 'nsubj', 'cc', 'nmod', 'nmod', 'prep', 'pobj', 'compound', 'conj', 'aux', 'ROOT', 'amod', 'cc', 'conj', 'dobj', 'prep', 'det', 'compound', 'pobj', 'prep', 'compound', 'pobj', 'prep', 'compound', 'pobj', 'punct', 'dep', 'ROOT', 'punct', 'prep', 'pobj', 'nummod', 'punct', 'nummod', 'punct', 'prep', 'det', 'amod', 'amod', 'pobj', 'prep', 'det', 'compound', 'compound', 'pobj', 'punct'], ['det', 'nsubj', 'ROOT', 'prep', 'pobj', 'advmod', 'punct'], ['nsubjpass', 'auxpass', 'ROOT', 'agent', 'pobj', 'prep', 'compound', 'pobj', 'cc', 'conj', 'prep', 'det', 'pobj', 'aux', 'advcl', 'det', 'dobj', 'punct', 'advmod', 'prep', 'det', 'compound', 'compound', 'pobj', 'prep', 'pobj', 'punct', 'advmod', 'nsubj', 'aux', 'relcl', 'amod', 'dobj', 'cc', 'conj', 'prep', 'det', 'compound', 'pobj', 'cc', 'conj', 'prep', 'pobj', 'punct'], ['det', 'nsubj', 'ROOT', 'prep', 'pobj', 'advmod', 'punct'], ['nsubj', 'csubj', 'advmod', 'cc', 'conj', 'ROOT', 'mark', 'nsubjpass', 'aux', 'auxpass', 'ccomp', 'advmod', 'cc', 'agent', 'predet', 'det', 'pobj', 'prep', 'det', 'pobj', 'punct'], ['det', 'nsubj', 'prep', 'amod', 'pobj', 'prep', 'det', 'compound', 'pobj', 'prep', 'pobj', 'cc', 'det', 'conj', 'ROOT', 'advmod', 'det', 'amod', 'nsubj', 'aux', 'ccomp', 'det', 'amod', 'dobj', 'aux', 'xcomp', 'cc', 'advmod', 'conj', 'dobj', 'punct', 'nsubj', 'relcl', 'aux', 'xcomp', 'advmod', 'cc', 'conj', 'advmod', 'acomp', 'prep', 'det', 'amod', 'cc', 'conj', 'pobj', 'punct'], ['det', 'nsubjpass', 'auxpass', 'ROOT', 'prep', 'pobj', 'prep', 'compound', 'compound', 'pobj', 'punct', 'det', 'appos', 'aux', 'relcl', 'det', 'amod', 'amod', 'dobj', 'cc', 'det', 'conj', 'nsubj', 'relcl', 'prep', 'pobj', 'punct', 'conj', 'punct', 'cc', 'det', 'amod', 'amod', 'conj', 'punct'], ['nsubjpass', 'auxpass', 'ROOT', 'prep', 'pobj', 'punct', 'cc', 'advmod', 'prep', 'amod', 'compound', 'compound', 'compound', 'compound', 'compound', 'compound', 'punct', 'pobj', 'punct', 'auxpass', 'conj', 'prep', 'nummod', 'pobj', 'nummod', 'punct', 'advcl', 'prep', 'pobj', 'prep', 'det', 'pobj', 'prep', 'compound', 'compound', 'compound', 'compound', 'compound', 'compound', 'compound', 'punct', 'pobj', 'prep', 'det', 'compound', 'pobj', 'prep', 'pobj', 'cc', 'det', 'conj', 'punct', 'punct', 'ROOT', 'punct'], ['nsubj', 'aux', 'ROOT', 'aux', 'xcomp', 'amod', 'amod', 'dobj', 'prep', 'pobj', 'prep', 'poss', 'pobj', 'prep', 'pobj', 'aux', 'acl', 'dobj', 'prep', 'pobj', 'punct'], ['ROOT', 'prep', 'pobj', 'punct', 'nummod', 'nsubj', 'ROOT', 'nummod', 'amod', 'compound', 'dobj', 'punct'], ['punct', 'punct', 'punct', 'prep', 'det', 'pobj', 'prep', 'det', 'amod', 'pobj', 'punct', 'nsubj', 'ROOT', 'dobj', 'nsubj', 'punct', 'compound', 'ccomp', 'det', 'amod', 'oprd', 'punct'], ['nsubj', 'aux', 'ROOT', 'compound', 'dobj', 'compound', 'appos', 'punct', 'appos', 'nummod', 'punct', 'punct', 'compound', 'npadvmod', 'punct', 'appos', 'nummod', 'punct', 'punct', 'cc', 'compound', 'conj', 'compound', 'appos', 'punct', 'appos', 'nummod', 'punct', 'cc', 'compound', 'conj', 'punct', 'appos', 'nummod', 'punct', 'punct'], ['det', 'nsubjpass', 'prep', 'amod', 'pobj', 'auxpass', 'ROOT', 'prep', 'det', 'pobj', 'prep', 'pobj', 'prep', 'amod', 'pobj', 'prep', 'pobj', 'prep', 'pobj', 'punct'], ['advmod', 'punct', 'advcl', 'prep', 'pobj', 'punct', 'nsubj', 'ROOT', 'advmod', 'poss', 'case', 'compound', 'poss', 'punct', 'case', 'nsubj', 'ccomp', 'advmod', 'advmod', 'acomp', 'punct', 'advmod', 'ROOT', 'punct', 'prep', 'pobj', 'punct'], ['det', 'nsubj', 'prep', 'amod', 'pobj', 'aux', 'ROOT', 'dobj', 'prep', 'amod', 'pobj', 'prep', 'det', 'pobj', 'cc', 'conj', 'prep', 'det', 'pobj', 'prep', 'compound', 'pobj', 'prep', 'pobj', 'punct', 'compound', 'conj', 'punct', 'det', 'compound', 'compound', 'conj', 'punct', 'conj', 'punct', 'conj', 'cc', 'conj', 'punct', 'cc', 'conj', 'det', 'amod', 'pobj', 'prep', 'pobj', 'cc', 'conj', 'punct'], ['nsubj', 'ROOT', 'det', 'nummod', 'nsubj', 'ccomp', 'intj', 'punct', 'cc', 'poss', 'conj', 'prep', 'pobj', 'punct'], ['det', 'nsubj', 'prep', 'det', 'pobj', 'case', 'punct', 'dep', 'dep', 'compound', 'nsubj', 'ROOT', 'csubj', 'det', 'nsubj', 'ccomp', 'det', 'amod', 'attr', 'punct'], ['ROOT', 'prep', 'pobj', 'punct', 'nummod', 'nsubj', 'ROOT', 'det', 'nmod', 'amod', 'dobj', 'cc', 'conj', 'det', 'dobj', 'punct', 'det', 'compound', 'conj', 'punct', 'cc', 'det', 'compound', 'compound', 'conj', 'punct'], ['det', 'nsubj', 'punct', 'acl', 'prt', 'prep', 'pobj', 'agent', 'amod', 'pobj', 'cc', 'poss', 'conj', 'ROOT', 'cc', 'conj', 'amod', 'dobj', 'punct', 'det', 'amod', 'compound', 'npadvmod', 'punct', 'cc', 'conj', 'agent', 'compound', 'pobj', 'cc', 'compound', 'conj', 'conj', 'det', 'dobj', 'aux', 'xcomp', 'dobj', 'prep', 'pobj', 'nummod', 'punct'], ['det', 'nsubj', 'cc', 'conj', 'nsubj', 'relcl', 'dobj', 'aux', 'advmod', 'ROOT', 'prep', 'poss', 'pobj', 'cc', 'conj', 'prep', 'compound', 'compound', 'pobj', 'nummod', 'aux', 'advcl', 'mark', 'nsubjpass', 'auxpass', 'ccomp', 'punct'], ['amod', 'nsubj', 'aux', 'ROOT', 'dobj', 'cc', 'conj', 'cc', 'nsubj', 'ROOT', 'det', 'attr', 'nsubj', 'aux', 'relcl', 'punct']]\n"
          ],
          "name": "stdout"
        }
      ]
    },
    {
      "cell_type": "code",
      "metadata": {
        "id": "qcP-VqTnjiOT"
      },
      "source": [
        "# Generate one hot encoding for dependency tag\n",
        "\n",
        "# id map\n",
        "dependency_id_map = {}\n",
        "\n",
        "# Set unique id for each tag\n",
        "dependency_id = 1\n",
        "for tag_list in parsed_sentences:\n",
        "  for dependency_tag in tag_list:\n",
        "    if dependency_tag not in dependency_id_map:\n",
        "      # if not in the map, add the tag and id\n",
        "      dependency_id_map[dependency_tag] = dependency_id\n",
        "      # Id + 1\n",
        "      dependency_id = dependency_id + 1\n",
        "\n",
        "# one hot encoding\n",
        "one_hot_coding = np.zeros(dependency_id - 1)\n",
        "\n",
        "# Set the id position as 1\n",
        "for key in dependency_id_map.keys():\n",
        "  one_hot_coding = np.zeros(dependency_id - 1)\n",
        "  one_hot_coding[dependency_id_map[key] - 1] = 1\n",
        "  dependency_id_map[key] = one_hot_coding\n",
        "\n",
        "# Generate the dependency map\n",
        "dependency_map = {}\n",
        "for index in range(0,len(all_data)):\n",
        "    for index2 in range(0,len(all_data[index])):\n",
        "        dependency_map[all_data[index][index2]] = dependency_id_map[parsed_sentences[index][index2]]"
      ],
      "execution_count": 18,
      "outputs": []
    },
    {
      "cell_type": "markdown",
      "metadata": {
        "id": "Wi5V3KHaPhwG"
      },
      "source": [
        "### Word Embedding"
      ]
    },
    {
      "cell_type": "code",
      "metadata": {
        "id": "FYgzd_XxPkMO",
        "colab": {
          "base_uri": "https://localhost:8080/"
        },
        "outputId": "79dc2143-96ea-4728-9d22-53d7af04aaab"
      },
      "source": [
        "import gensim.downloader as api\n",
        "import numpy as np\n",
        "word_emb_model = api.load(\"glove-twitter-100\") "
      ],
      "execution_count": 19,
      "outputs": [
        {
          "output_type": "stream",
          "text": [
            "[==================================================] 100.0% 387.1/387.1MB downloaded\n"
          ],
          "name": "stdout"
        }
      ]
    },
    {
      "cell_type": "code",
      "metadata": {
        "id": "ftatQIDhSTFo",
        "colab": {
          "base_uri": "https://localhost:8080/"
        },
        "outputId": "18d4b252-1e67-462a-d1c6-820cd731be12"
      },
      "source": [
        "# We found that the one hot encoding of pos tagging and dependency tagging have negative impacts for the prediction, so comment out.\n",
        "#EMBEDDING_DIM = 100 + (pos_tag_id - 1) + (dependency_id - 1)\n",
        "EMBEDDING_DIM = 100\n",
        "embedding_matrix = []\n",
        "for word in word_list:\n",
        "    try:\n",
        "      temp = word_emb_model.wv[word]\n",
        "      # temp.extend(pos_map[word])\n",
        "      # temp.extend(dependency_map[word])\n",
        "      embedding_matrix.append(temp)\n",
        "    except:\n",
        "      embedding_matrix.append([0]*EMBEDDING_DIM)\n",
        "embedding_matrix = np.array(embedding_matrix)\n",
        "embedding_matrix.shape"
      ],
      "execution_count": 20,
      "outputs": [
        {
          "output_type": "stream",
          "text": [
            "/usr/local/lib/python3.7/dist-packages/ipykernel_launcher.py:6: DeprecationWarning: Call to deprecated `wv` (Attribute will be removed in 4.0.0, use self instead).\n",
            "  \n"
          ],
          "name": "stderr"
        },
        {
          "output_type": "execute_result",
          "data": {
            "text/plain": [
              "(4280, 100)"
            ]
          },
          "metadata": {
            "tags": []
          },
          "execution_count": 20
        }
      ]
    },
    {
      "cell_type": "code",
      "metadata": {
        "id": "z2cy4NGqJ7ut",
        "colab": {
          "base_uri": "https://localhost:8080/",
          "height": 1000
        },
        "outputId": "96ffd25d-b0a7-408e-f7bb-0f252a3de989"
      },
      "source": [
        "# Install flair to prepare the Bert Embedding\n",
        "!pip install flair"
      ],
      "execution_count": 21,
      "outputs": [
        {
          "output_type": "stream",
          "text": [
            "Collecting flair\n",
            "\u001b[?25l  Downloading https://files.pythonhosted.org/packages/f0/3a/1b46a0220d6176b22bcb9336619d1731301bc2c75fa926a9ef953e6e4d58/flair-0.8.0.post1-py3-none-any.whl (284kB)\n",
            "\r\u001b[K     |█▏                              | 10kB 12.5MB/s eta 0:00:01\r\u001b[K     |██▎                             | 20kB 17.4MB/s eta 0:00:01\r\u001b[K     |███▌                            | 30kB 11.7MB/s eta 0:00:01\r\u001b[K     |████▋                           | 40kB 8.9MB/s eta 0:00:01\r\u001b[K     |█████▊                          | 51kB 4.9MB/s eta 0:00:01\r\u001b[K     |███████                         | 61kB 5.1MB/s eta 0:00:01\r\u001b[K     |████████                        | 71kB 5.8MB/s eta 0:00:01\r\u001b[K     |█████████▏                      | 81kB 6.5MB/s eta 0:00:01\r\u001b[K     |██████████▍                     | 92kB 6.6MB/s eta 0:00:01\r\u001b[K     |███████████▌                    | 102kB 5.1MB/s eta 0:00:01\r\u001b[K     |████████████▋                   | 112kB 5.1MB/s eta 0:00:01\r\u001b[K     |█████████████▉                  | 122kB 5.1MB/s eta 0:00:01\r\u001b[K     |███████████████                 | 133kB 5.1MB/s eta 0:00:01\r\u001b[K     |████████████████                | 143kB 5.1MB/s eta 0:00:01\r\u001b[K     |█████████████████▎              | 153kB 5.1MB/s eta 0:00:01\r\u001b[K     |██████████████████▍             | 163kB 5.1MB/s eta 0:00:01\r\u001b[K     |███████████████████▋            | 174kB 5.1MB/s eta 0:00:01\r\u001b[K     |████████████████████▊           | 184kB 5.1MB/s eta 0:00:01\r\u001b[K     |█████████████████████▉          | 194kB 5.1MB/s eta 0:00:01\r\u001b[K     |███████████████████████         | 204kB 5.1MB/s eta 0:00:01\r\u001b[K     |████████████████████████▏       | 215kB 5.1MB/s eta 0:00:01\r\u001b[K     |█████████████████████████▎      | 225kB 5.1MB/s eta 0:00:01\r\u001b[K     |██████████████████████████▌     | 235kB 5.1MB/s eta 0:00:01\r\u001b[K     |███████████████████████████▋    | 245kB 5.1MB/s eta 0:00:01\r\u001b[K     |████████████████████████████▊   | 256kB 5.1MB/s eta 0:00:01\r\u001b[K     |██████████████████████████████  | 266kB 5.1MB/s eta 0:00:01\r\u001b[K     |███████████████████████████████ | 276kB 5.1MB/s eta 0:00:01\r\u001b[K     |████████████████████████████████| 286kB 5.1MB/s \n",
            "\u001b[?25hCollecting konoha<5.0.0,>=4.0.0\n",
            "  Downloading https://files.pythonhosted.org/packages/71/70/48a0bd55f79c328504fe6fe7ae8ff651f77a2aadbb1911701385d9bb5ca3/konoha-4.6.5-py3-none-any.whl\n",
            "Collecting langdetect\n",
            "\u001b[?25l  Downloading https://files.pythonhosted.org/packages/0e/72/a3add0e4eec4eb9e2569554f7c70f4a3c27712f40e3284d483e88094cc0e/langdetect-1.0.9.tar.gz (981kB)\n",
            "\u001b[K     |████████████████████████████████| 983kB 9.7MB/s \n",
            "\u001b[?25hCollecting sqlitedict>=1.6.0\n",
            "  Downloading https://files.pythonhosted.org/packages/5c/2d/b1d99e9ad157dd7de9cd0d36a8a5876b13b55e4b75f7498bc96035fb4e96/sqlitedict-1.7.0.tar.gz\n",
            "Requirement already satisfied: lxml in /usr/local/lib/python3.7/dist-packages (from flair) (4.2.6)\n",
            "Collecting ftfy\n",
            "\u001b[?25l  Downloading https://files.pythonhosted.org/packages/af/da/d215a091986e5f01b80f5145cff6f22e2dc57c6b048aab2e882a07018473/ftfy-6.0.3.tar.gz (64kB)\n",
            "\u001b[K     |████████████████████████████████| 71kB 7.7MB/s \n",
            "\u001b[?25hCollecting sentencepiece==0.1.95\n",
            "\u001b[?25l  Downloading https://files.pythonhosted.org/packages/f5/99/e0808cb947ba10f575839c43e8fafc9cc44e4a7a2c8f79c60db48220a577/sentencepiece-0.1.95-cp37-cp37m-manylinux2014_x86_64.whl (1.2MB)\n",
            "\u001b[K     |████████████████████████████████| 1.2MB 20.7MB/s \n",
            "\u001b[?25hRequirement already satisfied: tabulate in /usr/local/lib/python3.7/dist-packages (from flair) (0.8.9)\n",
            "Collecting mpld3==0.3\n",
            "\u001b[?25l  Downloading https://files.pythonhosted.org/packages/91/95/a52d3a83d0a29ba0d6898f6727e9858fe7a43f6c2ce81a5fe7e05f0f4912/mpld3-0.3.tar.gz (788kB)\n",
            "\u001b[K     |████████████████████████████████| 798kB 33.6MB/s \n",
            "\u001b[?25hCollecting torch<=1.7.1,>=1.5.0\n",
            "\u001b[?25l  Downloading https://files.pythonhosted.org/packages/90/5d/095ddddc91c8a769a68c791c019c5793f9c4456a688ddd235d6670924ecb/torch-1.7.1-cp37-cp37m-manylinux1_x86_64.whl (776.8MB)\n",
            "\u001b[K     |████████████████████████████████| 776.8MB 20kB/s \n",
            "\u001b[?25hCollecting gdown==3.12.2\n",
            "  Downloading https://files.pythonhosted.org/packages/50/21/92c3cfe56f5c0647145c4b0083d0733dd4890a057eb100a8eeddf949ffe9/gdown-3.12.2.tar.gz\n",
            "  Installing build dependencies ... \u001b[?25l\u001b[?25hdone\n",
            "  Getting requirements to build wheel ... \u001b[?25l\u001b[?25hdone\n",
            "    Preparing wheel metadata ... \u001b[?25l\u001b[?25hdone\n",
            "Requirement already satisfied: gensim<=3.8.3,>=3.4.0 in /usr/local/lib/python3.7/dist-packages (from flair) (3.6.0)\n",
            "Collecting segtok>=1.5.7\n",
            "  Downloading https://files.pythonhosted.org/packages/41/08/582dab5f4b1d5ca23bc6927b4bb977c8ff7f3a87a3b98844ef833e2f5623/segtok-1.5.10.tar.gz\n",
            "Collecting bpemb>=0.3.2\n",
            "  Downloading https://files.pythonhosted.org/packages/f2/6f/9191b85109772636a8f8accb122900c34db26c091d2793218aa94954524c/bpemb-0.3.3-py3-none-any.whl\n",
            "Requirement already satisfied: numpy<1.20.0 in /usr/local/lib/python3.7/dist-packages (from flair) (1.19.5)\n",
            "Requirement already satisfied: matplotlib>=2.2.3 in /usr/local/lib/python3.7/dist-packages (from flair) (3.2.2)\n",
            "Collecting huggingface-hub\n",
            "  Downloading https://files.pythonhosted.org/packages/3c/e3/fb7b6aefaf0fc7b792cebbbd590b1895c022ab0ff27f389e1019c6f2e68a/huggingface_hub-0.0.10-py3-none-any.whl\n",
            "Requirement already satisfied: regex in /usr/local/lib/python3.7/dist-packages (from flair) (2019.12.20)\n",
            "Collecting deprecated>=1.2.4\n",
            "  Downloading https://files.pythonhosted.org/packages/fb/73/994edfcba74443146c84b91921fcc269374354118d4f452fb0c54c1cbb12/Deprecated-1.2.12-py2.py3-none-any.whl\n",
            "Requirement already satisfied: scikit-learn>=0.21.3 in /usr/local/lib/python3.7/dist-packages (from flair) (0.22.2.post1)\n",
            "Requirement already satisfied: hyperopt>=0.1.1 in /usr/local/lib/python3.7/dist-packages (from flair) (0.1.2)\n",
            "Requirement already satisfied: tqdm>=4.26.0 in /usr/local/lib/python3.7/dist-packages (from flair) (4.41.1)\n",
            "Collecting transformers>=4.0.0\n",
            "\u001b[?25l  Downloading https://files.pythonhosted.org/packages/d5/43/cfe4ee779bbd6a678ac6a97c5a5cdeb03c35f9eaebbb9720b036680f9a2d/transformers-4.6.1-py3-none-any.whl (2.2MB)\n",
            "\u001b[K     |████████████████████████████████| 2.3MB 22.6MB/s \n",
            "\u001b[?25hCollecting janome\n",
            "\u001b[?25l  Downloading https://files.pythonhosted.org/packages/a8/63/98858cbead27df7536c7e300c169da0999e9704d02220dc6700b804eeff0/Janome-0.4.1-py2.py3-none-any.whl (19.7MB)\n",
            "\u001b[K     |████████████████████████████████| 19.7MB 53.8MB/s \n",
            "\u001b[?25hRequirement already satisfied: python-dateutil>=2.6.1 in /usr/local/lib/python3.7/dist-packages (from flair) (2.8.1)\n",
            "Collecting overrides<4.0.0,>=3.0.0\n",
            "  Downloading https://files.pythonhosted.org/packages/ff/b1/10f69c00947518e6676bbd43e739733048de64b8dd998e9c2d5a71f44c5d/overrides-3.1.0.tar.gz\n",
            "Collecting importlib-metadata<4.0.0,>=3.7.0\n",
            "  Downloading https://files.pythonhosted.org/packages/52/d0/bdb31463f2d9ca111e39b268518e9baa3542ef73ca449b711a7b4da69764/importlib_metadata-3.10.1-py3-none-any.whl\n",
            "Collecting requests<3.0.0,>=2.25.1\n",
            "\u001b[?25l  Downloading https://files.pythonhosted.org/packages/29/c1/24814557f1d22c56d50280771a17307e6bf87b70727d975fd6b2ce6b014a/requests-2.25.1-py2.py3-none-any.whl (61kB)\n",
            "\u001b[K     |████████████████████████████████| 61kB 6.5MB/s \n",
            "\u001b[?25hRequirement already satisfied: six in /usr/local/lib/python3.7/dist-packages (from langdetect->flair) (1.15.0)\n",
            "Requirement already satisfied: wcwidth in /usr/local/lib/python3.7/dist-packages (from ftfy->flair) (0.2.5)\n",
            "Requirement already satisfied: typing-extensions in /usr/local/lib/python3.7/dist-packages (from torch<=1.7.1,>=1.5.0->flair) (3.7.4.3)\n",
            "Requirement already satisfied: filelock in /usr/local/lib/python3.7/dist-packages (from gdown==3.12.2->flair) (3.0.12)\n",
            "Requirement already satisfied: scipy>=0.18.1 in /usr/local/lib/python3.7/dist-packages (from gensim<=3.8.3,>=3.4.0->flair) (1.4.1)\n",
            "Requirement already satisfied: smart-open>=1.2.1 in /usr/local/lib/python3.7/dist-packages (from gensim<=3.8.3,>=3.4.0->flair) (5.0.0)\n",
            "Requirement already satisfied: pyparsing!=2.0.4,!=2.1.2,!=2.1.6,>=2.0.1 in /usr/local/lib/python3.7/dist-packages (from matplotlib>=2.2.3->flair) (2.4.7)\n",
            "Requirement already satisfied: cycler>=0.10 in /usr/local/lib/python3.7/dist-packages (from matplotlib>=2.2.3->flair) (0.10.0)\n",
            "Requirement already satisfied: kiwisolver>=1.0.1 in /usr/local/lib/python3.7/dist-packages (from matplotlib>=2.2.3->flair) (1.3.1)\n",
            "Requirement already satisfied: wrapt<2,>=1.10 in /usr/local/lib/python3.7/dist-packages (from deprecated>=1.2.4->flair) (1.12.1)\n",
            "Requirement already satisfied: joblib>=0.11 in /usr/local/lib/python3.7/dist-packages (from scikit-learn>=0.21.3->flair) (1.0.1)\n",
            "Requirement already satisfied: pymongo in /usr/local/lib/python3.7/dist-packages (from hyperopt>=0.1.1->flair) (3.11.4)\n",
            "Requirement already satisfied: networkx in /usr/local/lib/python3.7/dist-packages (from hyperopt>=0.1.1->flair) (2.5.1)\n",
            "Requirement already satisfied: future in /usr/local/lib/python3.7/dist-packages (from hyperopt>=0.1.1->flair) (0.16.0)\n",
            "Collecting sacremoses\n",
            "\u001b[?25l  Downloading https://files.pythonhosted.org/packages/75/ee/67241dc87f266093c533a2d4d3d69438e57d7a90abb216fa076e7d475d4a/sacremoses-0.0.45-py3-none-any.whl (895kB)\n",
            "\u001b[K     |████████████████████████████████| 901kB 36.4MB/s \n",
            "\u001b[?25hCollecting tokenizers<0.11,>=0.10.1\n",
            "\u001b[?25l  Downloading https://files.pythonhosted.org/packages/d4/e2/df3543e8ffdab68f5acc73f613de9c2b155ac47f162e725dcac87c521c11/tokenizers-0.10.3-cp37-cp37m-manylinux_2_5_x86_64.manylinux1_x86_64.manylinux_2_12_x86_64.manylinux2010_x86_64.whl (3.3MB)\n",
            "\u001b[K     |████████████████████████████████| 3.3MB 29.4MB/s \n",
            "\u001b[?25hRequirement already satisfied: packaging in /usr/local/lib/python3.7/dist-packages (from transformers>=4.0.0->flair) (20.9)\n",
            "Requirement already satisfied: zipp>=0.5 in /usr/local/lib/python3.7/dist-packages (from importlib-metadata<4.0.0,>=3.7.0->konoha<5.0.0,>=4.0.0->flair) (3.4.1)\n",
            "Requirement already satisfied: certifi>=2017.4.17 in /usr/local/lib/python3.7/dist-packages (from requests<3.0.0,>=2.25.1->konoha<5.0.0,>=4.0.0->flair) (2020.12.5)\n",
            "Requirement already satisfied: chardet<5,>=3.0.2 in /usr/local/lib/python3.7/dist-packages (from requests<3.0.0,>=2.25.1->konoha<5.0.0,>=4.0.0->flair) (3.0.4)\n",
            "Requirement already satisfied: urllib3<1.27,>=1.21.1 in /usr/local/lib/python3.7/dist-packages (from requests<3.0.0,>=2.25.1->konoha<5.0.0,>=4.0.0->flair) (1.24.3)\n",
            "Requirement already satisfied: idna<3,>=2.5 in /usr/local/lib/python3.7/dist-packages (from requests<3.0.0,>=2.25.1->konoha<5.0.0,>=4.0.0->flair) (2.10)\n",
            "Requirement already satisfied: decorator<5,>=4.3 in /usr/local/lib/python3.7/dist-packages (from networkx->hyperopt>=0.1.1->flair) (4.4.2)\n",
            "Requirement already satisfied: click in /usr/local/lib/python3.7/dist-packages (from sacremoses->transformers>=4.0.0->flair) (7.1.2)\n",
            "Building wheels for collected packages: gdown\n",
            "  Building wheel for gdown (PEP 517) ... \u001b[?25l\u001b[?25hdone\n",
            "  Created wheel for gdown: filename=gdown-3.12.2-cp37-none-any.whl size=9705 sha256=a7ed84d2ed84317425f474a63c60db8c801f949b300432282c0e4c7ec2b5862d\n",
            "  Stored in directory: /root/.cache/pip/wheels/81/d0/d7/d9983facc6f2775411803e0e2d30ebf98efbf2fc6e57701e09\n",
            "Successfully built gdown\n",
            "Building wheels for collected packages: langdetect, sqlitedict, ftfy, mpld3, segtok, overrides\n",
            "  Building wheel for langdetect (setup.py) ... \u001b[?25l\u001b[?25hdone\n",
            "  Created wheel for langdetect: filename=langdetect-1.0.9-cp37-none-any.whl size=993242 sha256=a80b993f9b2ff012cc0ebabdf539b40f623b5ff5c34cc99579c072c2a098114e\n",
            "  Stored in directory: /root/.cache/pip/wheels/7e/18/13/038c34057808931c7ddc6c92d3aa015cf1a498df5a70268996\n",
            "  Building wheel for sqlitedict (setup.py) ... \u001b[?25l\u001b[?25hdone\n",
            "  Created wheel for sqlitedict: filename=sqlitedict-1.7.0-cp37-none-any.whl size=14393 sha256=bc4679c36ee356369826a5dc1d7685fd2783131d1392e3bd152b9df63c08e57d\n",
            "  Stored in directory: /root/.cache/pip/wheels/cf/c6/4f/2c64a43f041415eb8b8740bd80e15e92f0d46c5e464d8e4b9b\n",
            "  Building wheel for ftfy (setup.py) ... \u001b[?25l\u001b[?25hdone\n",
            "  Created wheel for ftfy: filename=ftfy-6.0.3-cp37-none-any.whl size=41935 sha256=967d4fd9fa3ff37970490b5cc974912b80d15fa25bae030552c966cca6feb0a6\n",
            "  Stored in directory: /root/.cache/pip/wheels/99/2c/e6/109c8a28fef7a443f67ba58df21fe1d0067ac3322e75e6b0b7\n",
            "  Building wheel for mpld3 (setup.py) ... \u001b[?25l\u001b[?25hdone\n",
            "  Created wheel for mpld3: filename=mpld3-0.3-cp37-none-any.whl size=116704 sha256=b5f1acd38325f4ee2492cba9b0e3e991608c6f15f305be51fe3e6cf8290e75da\n",
            "  Stored in directory: /root/.cache/pip/wheels/c0/47/fb/8a64f89aecfe0059830479308ad42d62e898a3e3cefdf6ba28\n",
            "  Building wheel for segtok (setup.py) ... \u001b[?25l\u001b[?25hdone\n",
            "  Created wheel for segtok: filename=segtok-1.5.10-cp37-none-any.whl size=25031 sha256=e7fb8a140273b7de78744e32cd0741fd7630e12b1436552f3845f234a3350a1d\n",
            "  Stored in directory: /root/.cache/pip/wheels/b4/39/f6/9ca1c5cabde964d728023b5751c3a206a5c8cc40252321fb6b\n",
            "  Building wheel for overrides (setup.py) ... \u001b[?25l\u001b[?25hdone\n",
            "  Created wheel for overrides: filename=overrides-3.1.0-cp37-none-any.whl size=10187 sha256=6699467bf7b57dc595dec7c61d23b6cc41ec30461697936a267dcf4781818714\n",
            "  Stored in directory: /root/.cache/pip/wheels/5c/24/13/6ef8600e6f147c95e595f1289a86a3cc82ed65df57582c65a9\n",
            "Successfully built langdetect sqlitedict ftfy mpld3 segtok overrides\n",
            "\u001b[31mERROR: torchvision 0.9.1+cu101 has requirement torch==1.8.1, but you'll have torch 1.7.1 which is incompatible.\u001b[0m\n",
            "\u001b[31mERROR: torchtext 0.9.1 has requirement torch==1.8.1, but you'll have torch 1.7.1 which is incompatible.\u001b[0m\n",
            "\u001b[31mERROR: google-colab 1.0.0 has requirement requests~=2.23.0, but you'll have requests 2.25.1 which is incompatible.\u001b[0m\n",
            "\u001b[31mERROR: datascience 0.10.6 has requirement folium==0.2.1, but you'll have folium 0.8.3 which is incompatible.\u001b[0m\n",
            "\u001b[31mERROR: transformers 4.6.1 has requirement huggingface-hub==0.0.8, but you'll have huggingface-hub 0.0.10 which is incompatible.\u001b[0m\n",
            "Installing collected packages: overrides, importlib-metadata, requests, konoha, langdetect, sqlitedict, ftfy, sentencepiece, mpld3, torch, gdown, segtok, bpemb, huggingface-hub, deprecated, sacremoses, tokenizers, transformers, janome, flair\n",
            "  Found existing installation: importlib-metadata 4.0.1\n",
            "    Uninstalling importlib-metadata-4.0.1:\n",
            "      Successfully uninstalled importlib-metadata-4.0.1\n",
            "  Found existing installation: requests 2.23.0\n",
            "    Uninstalling requests-2.23.0:\n",
            "      Successfully uninstalled requests-2.23.0\n",
            "  Found existing installation: torch 1.8.1+cu101\n",
            "    Uninstalling torch-1.8.1+cu101:\n",
            "      Successfully uninstalled torch-1.8.1+cu101\n",
            "  Found existing installation: gdown 3.6.4\n",
            "    Uninstalling gdown-3.6.4:\n",
            "      Successfully uninstalled gdown-3.6.4\n",
            "Successfully installed bpemb-0.3.3 deprecated-1.2.12 flair-0.8.0.post1 ftfy-6.0.3 gdown-3.12.2 huggingface-hub-0.0.10 importlib-metadata-3.10.1 janome-0.4.1 konoha-4.6.5 langdetect-1.0.9 mpld3-0.3 overrides-3.1.0 requests-2.25.1 sacremoses-0.0.45 segtok-1.5.10 sentencepiece-0.1.95 sqlitedict-1.7.0 tokenizers-0.10.3 torch-1.7.1 transformers-4.6.1\n"
          ],
          "name": "stdout"
        },
        {
          "output_type": "display_data",
          "data": {
            "application/vnd.colab-display-data+json": {
              "pip_warning": {
                "packages": [
                  "importlib_metadata",
                  "requests"
                ]
              }
            }
          },
          "metadata": {
            "tags": []
          }
        }
      ]
    },
    {
      "cell_type": "code",
      "metadata": {
        "id": "u6lw-4TjJ9hs",
        "colab": {
          "base_uri": "https://localhost:8080/",
          "height": 341,
          "referenced_widgets": [
            "8242dac965694200b07fbc55238b2616",
            "585c66f6fd3a4f51bde068b86585b0be",
            "e004bc8008014174b2ab357444459916",
            "436ec07a600149fc9d85dc0a480932c3",
            "8acddda2a4434587bee2e016b7dc2fd0",
            "812f6919c2e34d04a8aa5930572fb683",
            "1abe66ebb859477eb0fcc3dfd9c6cc14",
            "56e5b4b84414449e9e1e015dfaccc51c",
            "dc4c85ca1c7d48acbe6c227d28772473",
            "bf41479ab3c64815b172b008b422698e",
            "31315900747a4929be60618b8294e18c",
            "2d46720c2e104795ae548fad3c2fb060",
            "7980116bb02a48e08aed21f73119b2e6",
            "5e3ab333ba4e4d4795cb63ae95618cf5",
            "702dd64f9d4945da95aeea8f3ab6c27d",
            "512ad770ee5c46bd9c327c037f21fc3d",
            "80aa5de5f66f4e98bfdc3e5a4cc4c6d7",
            "c5248f102c0c4638bb7e628b30beaf9c",
            "00268d395a9c4c0093c19b4548bab0fa",
            "90fe0295f240435c8962be26c386bfed",
            "d9761109ca1e4c4d859d2e007f4da2cf",
            "76ac6b4a75174a03940d8d9e69fe0a2c",
            "aa75c2a260c24c849aa2658ef7442e41",
            "51ff0f244e7e4b0d8900cf9fa83adc34",
            "7f4396d6195a45e0a754830215eb5f31",
            "2bb8b63e914f4aeface8eb800b20561f",
            "99f90d2f542645b09007eef25acf7c1f",
            "a071b9e549604c54aecc5dd8a5607d4e",
            "dcbd70fee5544b6a8adc9123bc485c1f",
            "81f3fa5916404f8dadf2ea102d370b02",
            "316df86ace684a9cb74e73c7deabc541",
            "994eb4f514ff47d3895e33b87bc10665",
            "9032fb37546049d2a53ed27a9ef671af",
            "521a749bb18c468788dfe68890971874",
            "5be04d1a35ab40cbb8b68a3965a55932",
            "337101aa55fd4d4495cef6df396ec886",
            "43b5dd9e83424e86a6438918cc67642b",
            "0171e6e190f546edbd421ab16f233720",
            "066a388bc92e4f0bbe8b03bc7981505f",
            "458c5a2f634343d5b4ca3808630a7bb9"
          ]
        },
        "outputId": "8207fc72-b84e-49f7-8106-1523a58ff4bc"
      },
      "source": [
        "# Use the bert-large-cased\n",
        "from flair.embeddings import TransformerWordEmbeddings\n",
        "bert_embedding = TransformerWordEmbeddings('bert-large-cased')"
      ],
      "execution_count": 22,
      "outputs": [
        {
          "output_type": "display_data",
          "data": {
            "application/vnd.jupyter.widget-view+json": {
              "model_id": "8242dac965694200b07fbc55238b2616",
              "version_minor": 0,
              "version_major": 2
            },
            "text/plain": [
              "HBox(children=(FloatProgress(value=0.0, description='Downloading', max=762.0, style=ProgressStyle(description_…"
            ]
          },
          "metadata": {
            "tags": []
          }
        },
        {
          "output_type": "stream",
          "text": [
            "\n"
          ],
          "name": "stdout"
        },
        {
          "output_type": "display_data",
          "data": {
            "application/vnd.jupyter.widget-view+json": {
              "model_id": "dc4c85ca1c7d48acbe6c227d28772473",
              "version_minor": 0,
              "version_major": 2
            },
            "text/plain": [
              "HBox(children=(FloatProgress(value=0.0, description='Downloading', max=213450.0, style=ProgressStyle(descripti…"
            ]
          },
          "metadata": {
            "tags": []
          }
        },
        {
          "output_type": "stream",
          "text": [
            "\n"
          ],
          "name": "stdout"
        },
        {
          "output_type": "display_data",
          "data": {
            "application/vnd.jupyter.widget-view+json": {
              "model_id": "80aa5de5f66f4e98bfdc3e5a4cc4c6d7",
              "version_minor": 0,
              "version_major": 2
            },
            "text/plain": [
              "HBox(children=(FloatProgress(value=0.0, description='Downloading', max=435797.0, style=ProgressStyle(descripti…"
            ]
          },
          "metadata": {
            "tags": []
          }
        },
        {
          "output_type": "stream",
          "text": [
            "\n"
          ],
          "name": "stdout"
        },
        {
          "output_type": "display_data",
          "data": {
            "application/vnd.jupyter.widget-view+json": {
              "model_id": "7f4396d6195a45e0a754830215eb5f31",
              "version_minor": 0,
              "version_major": 2
            },
            "text/plain": [
              "HBox(children=(FloatProgress(value=0.0, description='Downloading', max=29.0, style=ProgressStyle(description_w…"
            ]
          },
          "metadata": {
            "tags": []
          }
        },
        {
          "output_type": "stream",
          "text": [
            "\n"
          ],
          "name": "stdout"
        },
        {
          "output_type": "display_data",
          "data": {
            "application/vnd.jupyter.widget-view+json": {
              "model_id": "9032fb37546049d2a53ed27a9ef671af",
              "version_minor": 0,
              "version_major": 2
            },
            "text/plain": [
              "HBox(children=(FloatProgress(value=0.0, description='Downloading', max=1338740706.0, style=ProgressStyle(descr…"
            ]
          },
          "metadata": {
            "tags": []
          }
        },
        {
          "output_type": "stream",
          "text": [
            "\n"
          ],
          "name": "stdout"
        },
        {
          "output_type": "stream",
          "text": [
            "Some weights of the model checkpoint at bert-large-cased were not used when initializing BertModel: ['cls.predictions.transform.dense.weight', 'cls.predictions.transform.LayerNorm.bias', 'cls.seq_relationship.bias', 'cls.predictions.transform.dense.bias', 'cls.seq_relationship.weight', 'cls.predictions.bias', 'cls.predictions.decoder.weight', 'cls.predictions.transform.LayerNorm.weight']\n",
            "- This IS expected if you are initializing BertModel from the checkpoint of a model trained on another task or with another architecture (e.g. initializing a BertForSequenceClassification model from a BertForPreTraining model).\n",
            "- This IS NOT expected if you are initializing BertModel from the checkpoint of a model that you expect to be exactly identical (initializing a BertForSequenceClassification model from a BertForSequenceClassification model).\n"
          ],
          "name": "stderr"
        }
      ]
    },
    {
      "cell_type": "code",
      "metadata": {
        "id": "Mkrr7cUoKAxo"
      },
      "source": [
        "# Generate Bert embedding for words in the list\n",
        "from flair.data import Sentence\n",
        "bert_matrix = []\n",
        "\n",
        "for word in word_list:\n",
        "  bert_embedding.embed(Sentence(word))\n",
        "  for token in Sentence(word):\n",
        "    bert_matrix.append(token.embedding.detach().cpu().numpy())\n",
        "\n",
        "bert_matrix = np.array(bert_matrix)\n"
      ],
      "execution_count": null,
      "outputs": []
    },
    {
      "cell_type": "code",
      "metadata": {
        "id": "ljzCp9bqKCjW",
        "colab": {
          "base_uri": "https://localhost:8080/"
        },
        "outputId": "22f31df1-193e-447d-95e6-f6bb1a4d9fc8"
      },
      "source": [
        "print(np.shape(embedding_matrix))\n",
        "print(np.shape(bert_matrix))\n",
        "print(np.shape(word_list))"
      ],
      "execution_count": 25,
      "outputs": [
        {
          "output_type": "stream",
          "text": [
            "(4280, 100)\n",
            "(4280, 1024)\n",
            "(4280,)\n"
          ],
          "name": "stdout"
        }
      ]
    },
    {
      "cell_type": "code",
      "metadata": {
        "id": "IoPvtzQmKElu"
      },
      "source": [
        "# concatenate the bert embedding with the embedding matrix\n",
        "# if use the pos tag and dependency, the embedding_matrix = word_embedding + pos_tag + dependency\n",
        "# if not, the embedding_matrix = word_embedding\n",
        "embedding_matrix = np.concatenate((bert_matrix, embedding_matrix), axis = 1)\n",
        "EMBEDDING_DIM = embedding_matrix.shape[1]"
      ],
      "execution_count": 26,
      "outputs": []
    },
    {
      "cell_type": "code",
      "metadata": {
        "id": "gJKs-ukTKGBe"
      },
      "source": [
        "EMBEDDING_DIM = embedding_matrix.shape[1]"
      ],
      "execution_count": 27,
      "outputs": []
    },
    {
      "cell_type": "code",
      "metadata": {
        "id": "m_FePdmrcBzm"
      },
      "source": [
        "def to_index(data, to_ix):\n",
        "    input_index_list = []\n",
        "    for sent in data:\n",
        "        input_index_list.append([to_ix[w] for w in sent])\n",
        "    return input_index_list\n",
        "\n",
        "# Convert training data to idx\n",
        "train_input_index =  to_index(training_data,word_to_ix)\n",
        "# Convert training labels to idx\n",
        "train_output_index = to_index(training_labels,tag_to_ix)\n",
        "# Convert validating data to idx\n",
        "val_input_index = to_index(validating_data,word_to_ix)\n",
        "# Convert validating labels to idx\n",
        "val_output_index = to_index(validating_labels,tag_to_ix)\n",
        "# Convert testing labels to idx\n",
        "test_input_index = to_index(testing_data,word_to_ix)"
      ],
      "execution_count": 28,
      "outputs": []
    },
    {
      "cell_type": "code",
      "metadata": {
        "id": "duoN1GTGTAEY",
        "colab": {
          "base_uri": "https://localhost:8080/"
        },
        "outputId": "30b2d408-5a08-4e6a-b7d2-6367188c82ef"
      },
      "source": [
        "print(train_input_index[15])\n",
        "print(train_output_index[15])\n",
        "print(val_input_index[15])\n",
        "print(val_output_index[15])\n",
        "print(test_input_index[15])"
      ],
      "execution_count": 29,
      "outputs": [
        {
          "output_type": "stream",
          "text": [
            "[45, 183, 160, 33, 184, 185, 186, 33, 187, 188, 27, 33, 189, 22, 53, 190, 33, 191, 31, 192, 33, 193, 194, 77, 33, 42, 134, 40, 33, 195, 196, 134, 44]\n",
            "[2, 2, 2, 3, 4, 4, 2, 2, 2, 2, 2, 2, 8, 2, 2, 2, 2, 2, 2, 2, 2, 2, 2, 2, 3, 4, 4, 2, 3, 4, 4, 4, 2]\n",
            "[340, 154, 155, 3227, 1811, 3228, 20, 2545, 1345, 1564, 44]\n",
            "[3, 2, 2, 2, 2, 2, 2, 2, 2, 2, 2]\n",
            "[152, 119, 391, 177, 2191, 340, 31, 3786, 3765, 59, 3787, 329, 215, 3788, 26, 44, 159]\n"
          ],
          "name": "stdout"
        }
      ]
    },
    {
      "cell_type": "markdown",
      "metadata": {
        "id": "wPSyka_D7Mdr"
      },
      "source": [
        "## Model"
      ]
    },
    {
      "cell_type": "markdown",
      "metadata": {
        "id": "DCoODNQ7D872"
      },
      "source": [
        "### Create Model"
      ]
    },
    {
      "cell_type": "code",
      "metadata": {
        "id": "1Uuuy9hs7L_Q"
      },
      "source": [
        "import torch\n",
        "import torch.autograd as autograd\n",
        "import torch.nn as nn\n",
        "import torch.optim as optim\n",
        "device = torch.device(\"cuda\" if torch.cuda.is_available() else \"cpu\")\n",
        "\n",
        "def argmax(vec):\n",
        "    # return the argmax as a python int\n",
        "    _, idx = torch.max(vec, 1)\n",
        "    return idx.item()\n",
        "\n",
        "\n",
        "# Compute log sum exp in a numerically stable way for the forward algorithm\n",
        "def log_sum_exp(vec):\n",
        "    max_score = vec[0, argmax(vec)]\n",
        "    max_score_broadcast = max_score.view(1, -1).expand(1, vec.size()[1])\n",
        "    return max_score + \\\n",
        "        torch.log(torch.sum(torch.exp(vec - max_score_broadcast)))\n",
        " \n",
        "class BiLSTM_CRF(nn.Module):\n",
        "\n",
        "  def __init__(self, vocab_size, tag_to_ix, embedding_dim, hidden_dim, layers_number, is_use_crf, attention_type = None):\n",
        "      super(BiLSTM_CRF, self).__init__()\n",
        "      self.embedding_dim = embedding_dim\n",
        "      self.hidden_dim = hidden_dim\n",
        "      self.vocab_size = vocab_size\n",
        "      self.layers_number = layers_number\n",
        "      # use crf or not\n",
        "      self.is_use_crf = is_use_crf\n",
        "      # attention type(scale, dot, general)\n",
        "      self.attention_type = attention_type\n",
        "      self.tag_to_ix = tag_to_ix\n",
        "      self.tagset_size = len(tag_to_ix)\n",
        "\n",
        "      self.word_embeds = nn.Embedding(vocab_size, embedding_dim)\n",
        "      self.word_embeds.weight.data.copy_(torch.from_numpy(embedding_matrix))\n",
        "      # Get stacked lstm by setting the layer number\n",
        "      self.lstm = nn.LSTM(embedding_dim, hidden_dim // 2, num_layers=self.layers_number, bidirectional=True)\n",
        "\n",
        "      # Dropout layer before the last layout\n",
        "      self.dropout = nn.Dropout(0.2)\n",
        "      \n",
        "      # The attention_weight which will be used for general attention\n",
        "      self.attention_weight = nn.parameter.Parameter(torch.Tensor(1, self.hidden_dim, self.hidden_dim), requires_grad = True)\n",
        "\n",
        "      # Maps the output of the LSTM into tag space.\n",
        "\n",
        "      if not attention_type:\n",
        "        self.hidden2tag = nn.Linear(hidden_dim, self.tagset_size)\n",
        "      else:\n",
        "        self.hidden2tag = nn.Linear(hidden_dim * 2, self.tagset_size)\n",
        "\n",
        "      # Matrix of transition parameters.  Entry i,j is the score of\n",
        "      # transitioning *to* i *from* j.\n",
        "      self.transitions = nn.Parameter(\n",
        "          torch.randn(self.tagset_size, self.tagset_size))\n",
        "\n",
        "      # These two statements enforce the constraint that we never transfer\n",
        "      # to the start tag and we never transfer from the stop tag\n",
        "      self.transitions.data[tag_to_ix[START_TAG], :] = -10000\n",
        "      self.transitions.data[:, tag_to_ix[STOP_TAG]] = -10000\n",
        "\n",
        "      self.hidden = self.init_hidden()\n",
        "\n",
        "  def init_hidden(self):\n",
        "      return (torch.randn(2 * self.layers_number, 1, self.hidden_dim // 2).to(device),\n",
        "              torch.randn(2 * self.layers_number, 1, self.hidden_dim // 2).to(device))\n",
        "\n",
        "  def _forward_alg(self, feats):\n",
        "      # Do the forward algorithm to compute the partition function\n",
        "      init_alphas = torch.full((1, self.tagset_size), -10000.).to(device)\n",
        "      # START_TAG has all of the score.\n",
        "      init_alphas[0][self.tag_to_ix[START_TAG]] = 0.\n",
        "\n",
        "      # Wrap in a variable so that we will get automatic backprop\n",
        "      forward_var = init_alphas\n",
        "\n",
        "      # Iterate through the sentence\n",
        "      for feat in feats:\n",
        "          alphas_t = []  # The forward tensors at this timestep\n",
        "          for next_tag in range(self.tagset_size):\n",
        "              # broadcast the emission score: it is the same regardless of\n",
        "              # the previous tag\n",
        "              emit_score = feat[next_tag].view(\n",
        "                  1, -1).expand(1, self.tagset_size)\n",
        "              # the ith entry of trans_score is the score of transitioning to\n",
        "              # next_tag from i\n",
        "              trans_score = self.transitions[next_tag].view(1, -1)\n",
        "              # The ith entry of next_tag_var is the value for the\n",
        "              # edge (i -> next_tag) before we do log-sum-exp\n",
        "              next_tag_var = forward_var + trans_score + emit_score\n",
        "              # The forward variable for this tag is log-sum-exp of all the\n",
        "              # scores.\n",
        "              alphas_t.append(log_sum_exp(next_tag_var).view(1))\n",
        "          forward_var = torch.cat(alphas_t).view(1, -1)\n",
        "      terminal_var = forward_var + self.transitions[self.tag_to_ix[STOP_TAG]]\n",
        "      alpha = log_sum_exp(terminal_var)\n",
        "      return alpha\n",
        "\n",
        "  def _get_lstm_features(self, sentence):\n",
        "      self.hidden = self.init_hidden()\n",
        "      embeds = self.word_embeds(sentence).view(len(sentence), 1, -1)\n",
        "      lstm_out, self.hidden = self.lstm(embeds, self.hidden)\n",
        "      if not self.attention_type:\n",
        "        # If don't use the attention, get the result directly\n",
        "        lstm_out = lstm_out.view(len(sentence), self.hidden_dim)\n",
        "      else:\n",
        "        # If use the attention, get the result after applying attention\n",
        "        lstm_out = self._get_attention_output(lstm_out, sentence)\n",
        "      \n",
        "      # Dropout 0.2\n",
        "      lstm_out = self.dropout(lstm_out)\n",
        "      lstm_feats = self.hidden2tag(lstm_out)\n",
        "      return lstm_feats\n",
        "  \n",
        "  def _get_attention_output(self, lstm_out, sentence):\n",
        "      lstm_out = torch.squeeze(lstm_out, 1)\n",
        "      # get the s from the lstm out\n",
        "      s = lstm_out.view(1, lstm_out.size(0), lstm_out.size(1))\n",
        "      # get the h by reshape s\n",
        "      h = s.view(s.size(0), s.size(2), s.size(1))\n",
        "\n",
        "      # Dot-product attention\n",
        "      if self.attention_type.lower() == \"dot\":\n",
        "        weight_att = nn.functional.softmax(torch.bmm(s, h),dim=-1)\n",
        "      elif self.attention_type.lower() == \"scale\":\n",
        "        # Scaled dot-product attention\n",
        "        weight_att = nn.functional.softmax(torch.bmm(s, h) / np.sqrt(self.hidden_dim),dim=-1)\n",
        "      else:\n",
        "        # general attention\n",
        "        temp = torch.bmm(torch.bmm(s, self.attention_weight), h)\n",
        "        weight_att = nn.functional.softmax(temp, dim=-1)\n",
        "\n",
        "      output = torch.bmm(weight_att, s)\n",
        "      concat_output = torch.cat((output, s), dim = -1)\n",
        "      lstm_out = concat_output.view(len(sentence), self.hidden_dim * 2)\n",
        "      return lstm_out\n",
        "\n",
        "  def _score_sentence(self, feats, tags):\n",
        "      # Gives the score of a provided tag sequence\n",
        "      score = torch.zeros(1).to(device)\n",
        "      tags = torch.cat([torch.tensor([self.tag_to_ix[START_TAG]], dtype=torch.long).to(device), tags])\n",
        "      for i, feat in enumerate(feats):\n",
        "          score = score + \\\n",
        "              self.transitions[tags[i + 1], tags[i]] + feat[tags[i + 1]]\n",
        "      score = score + self.transitions[self.tag_to_ix[STOP_TAG], tags[-1]]\n",
        "      return score\n",
        "\n",
        "  def _viterbi_decode(self, feats):\n",
        "      backpointers = []\n",
        "\n",
        "      # Initialize the viterbi variables in log space\n",
        "      init_vvars = torch.full((1, self.tagset_size), -10000.).to(device)\n",
        "      init_vvars[0][self.tag_to_ix[START_TAG]] = 0\n",
        "\n",
        "      # forward_var at step i holds the viterbi variables for step i-1\n",
        "      forward_var = init_vvars\n",
        "      for feat in feats:\n",
        "          bptrs_t = []  # holds the backpointers for this step\n",
        "          viterbivars_t = []  # holds the viterbi variables for this step\n",
        "\n",
        "          for next_tag in range(self.tagset_size):\n",
        "              # next_tag_var[i] holds the viterbi variable for tag i at the\n",
        "              # previous step, plus the score of transitioning\n",
        "              # from tag i to next_tag.\n",
        "              # We don't include the emission scores here because the max\n",
        "              # does not depend on them (we add them in below)\n",
        "              next_tag_var = forward_var + self.transitions[next_tag]\n",
        "              best_tag_id = argmax(next_tag_var)\n",
        "              bptrs_t.append(best_tag_id)\n",
        "              viterbivars_t.append(next_tag_var[0][best_tag_id].view(1))\n",
        "          # Now add in the emission scores, and assign forward_var to the set\n",
        "          # of viterbi variables we just computed\n",
        "          forward_var = (torch.cat(viterbivars_t) + feat).view(1, -1)\n",
        "          backpointers.append(bptrs_t)\n",
        "\n",
        "      # Transition to STOP_TAG\n",
        "      terminal_var = forward_var + self.transitions[self.tag_to_ix[STOP_TAG]]\n",
        "      best_tag_id = argmax(terminal_var)\n",
        "      path_score = terminal_var[0][best_tag_id]\n",
        "\n",
        "      # Follow the back pointers to decode the best path.\n",
        "      best_path = [best_tag_id]\n",
        "      for bptrs_t in reversed(backpointers):\n",
        "          best_tag_id = bptrs_t[best_tag_id]\n",
        "          best_path.append(best_tag_id)\n",
        "      # Pop off the start tag (we dont want to return that to the caller)\n",
        "      start = best_path.pop()\n",
        "      assert start == self.tag_to_ix[START_TAG]  # Sanity check\n",
        "      best_path.reverse()\n",
        "      return path_score, best_path\n",
        "\n",
        "  def neg_log_likelihood(self, sentence, tags):\n",
        "      feats = self._get_lstm_features(sentence)\n",
        "      forward_score = self._forward_alg(feats)\n",
        "      gold_score = self._score_sentence(feats, tags)\n",
        "      return forward_score - gold_score\n",
        "\n",
        "  def forward(self, sentence):  # dont confuse this with _forward_alg above.\n",
        "      # Get the emission scores from the BiLSTM\n",
        "      if self.is_use_crf:\n",
        "        lstm_feats = self._get_lstm_features(sentence)\n",
        "\n",
        "        # Find the best path, given the features.\n",
        "        score, tag_seq = self._viterbi_decode(lstm_feats)\n",
        "        return score, tag_seq\n",
        "      else:\n",
        "        lstm_feats = self._get_lstm_features(sentence)\n",
        "        return lstm_feats, torch.argmax(lstm_feats, -1)"
      ],
      "execution_count": 30,
      "outputs": []
    },
    {
      "cell_type": "markdown",
      "metadata": {
        "id": "kMiDON6tD_RV"
      },
      "source": [
        "## Init model"
      ]
    },
    {
      "cell_type": "code",
      "metadata": {
        "id": "S7SdzUI2ECDu"
      },
      "source": [
        "HIDDEN_DIM = 200\n",
        "is_use_crf = True\n",
        "loss_func = nn.CrossEntropyLoss()\n",
        "\n",
        "model = BiLSTM_CRF(len(word_to_ix), tag_to_ix, EMBEDDING_DIM, HIDDEN_DIM, layers_number = 3, is_use_crf = is_use_crf, attention_type = \"scale\").to(device)\n",
        "optimizer = optim.SGD(model.parameters(), lr=0.01, weight_decay=1e-4)"
      ],
      "execution_count": 31,
      "outputs": []
    },
    {
      "cell_type": "markdown",
      "metadata": {
        "id": "zxQFrEVeFOAe"
      },
      "source": [
        "### Train the model"
      ]
    },
    {
      "cell_type": "code",
      "metadata": {
        "id": "bQg6_8jiYtod"
      },
      "source": [
        "import numpy as np\n",
        "from sklearn.metrics import accuracy_score\n",
        "from sklearn.metrics import f1_score\n",
        "\n",
        "def cal_acc(model, input_index, output_index, is_use_crf):\n",
        "  predicted=[]\n",
        "  ground_truth=[]\n",
        "  for i, idxs in enumerate(input_index):\n",
        "        tags_index = output_index[i]\n",
        "        sentence_in = torch.tensor(idxs, dtype=torch.long).to(device)\n",
        "        pred=model(sentence_in)\n",
        "        #pre_decode=[ix_to_tag[x] for x in pred[1]]\n",
        "        #tags_decode=[ix_to_tag[x] for x in tags_index]\n",
        "        if is_use_crf:\n",
        "          predicted.extend(pred[1])\n",
        "        else:\n",
        "          predicted.extend(list(pred[1].cpu().numpy()))\n",
        "        ground_truth.extend(tags_index)\n",
        "  accuracy=accuracy_score(predicted,ground_truth)\n",
        "\n",
        "  return predicted, ground_truth, accuracy"
      ],
      "execution_count": 32,
      "outputs": []
    },
    {
      "cell_type": "code",
      "metadata": {
        "id": "-I72e1rEFQmc"
      },
      "source": [
        "\"\"\"Each epoch will take about 1-2 minutes\"\"\"\n",
        "\n",
        "import datetime\n",
        "\n",
        "for epoch in range(30):  \n",
        "    time1 = datetime.datetime.now()\n",
        "    train_loss = 0\n",
        "\n",
        "    model.train()\n",
        "    for i, idxs in enumerate(train_input_index):\n",
        "        tags_index = train_output_index[i]\n",
        "\n",
        "        # Step 1. Remember that Pytorch accumulates gradients.\n",
        "        # We need to clear them out before each instance\n",
        "        model.zero_grad()\n",
        "\n",
        "        # Step 2. Get our inputs ready for the network, that is,\n",
        "        # turn them into Tensors of word indices.\n",
        "        sentence_in = torch.tensor(idxs, dtype=torch.long).to(device)\n",
        "        targets = torch.tensor(tags_index, dtype=torch.long).to(device)\n",
        "\n",
        "        # Step 3. Run our forward pass.\n",
        "        if is_use_crf:\n",
        "          loss = model.neg_log_likelihood(sentence_in, targets)\n",
        "        else:\n",
        "          lstm_feats, tags = model(sentence_in)\n",
        "          loss = loss_func(lstm_feats, targets)\n",
        "\n",
        "        # Step 4. Compute the loss, gradients, and update the parameters by\n",
        "        # calling optimizer.step()\n",
        "        loss.backward()\n",
        "        optimizer.step()\n",
        "\n",
        "        train_loss+=loss.item()\n",
        "\n",
        "    model.eval()\n",
        "    # Call the cal_acc functions you implemented as required\n",
        "    _, _, train_acc = cal_acc(model,train_input_index,train_output_index, is_use_crf = is_use_crf)\n",
        "    _, _, val_acc = cal_acc(model,val_input_index,val_output_index, is_use_crf = is_use_crf)\n",
        "\n",
        "    val_loss = 0\n",
        "    for i, idxs in enumerate(val_input_index):\n",
        "        tags_index = val_output_index[i]\n",
        "        sentence_in = torch.tensor(idxs, dtype=torch.long).to(device)\n",
        "        targets = torch.tensor(tags_index, dtype=torch.long).to(device)\n",
        "        loss = model.neg_log_likelihood(sentence_in, targets)\n",
        "        val_loss+=loss.item()\n",
        "    time2 = datetime.datetime.now()\n",
        "\n",
        "    print(\"Epoch:%d, Training loss: %.2f, train acc: %.4f, val loss: %.2f, val acc: %.4f, time: %.2fs\" %(epoch+1, train_loss,train_acc, val_loss, val_acc, (time2-time1).total_seconds()))"
      ],
      "execution_count": null,
      "outputs": []
    },
    {
      "cell_type": "markdown",
      "metadata": {
        "id": "qj71hgoiHWaz"
      },
      "source": [
        "# Evaluation"
      ]
    },
    {
      "cell_type": "code",
      "metadata": {
        "id": "qwSYNMM2c9hx"
      },
      "source": [
        "import numpy as np\n",
        "from sklearn.metrics import accuracy_score\n",
        "#ix_to_tag={v: k for k, v in tag_to_ix.items()}\n",
        "def cal_acc(model, input_index, output_index, is_use_crf):\n",
        "  predicted=[]\n",
        "  ground_truth=[]\n",
        "  for i, idxs in enumerate(input_index):\n",
        "        tags_index = output_index[i]\n",
        "        sentence_in = torch.tensor(idxs, dtype=torch.long).to(device)\n",
        "        pred=model(sentence_in)\n",
        "        #pre_decode=[ix_to_tag[x] for x in pred[1]]\n",
        "        #tags_decode=[ix_to_tag[x] for x in tags_index]\n",
        "        if is_use_crf:\n",
        "          predicted.extend(pred[1])\n",
        "        else:\n",
        "          predicted.extend(list(pred[1].cpu().numpy()))\n",
        "        ground_truth.extend(tags_index)\n",
        "  accuracy=accuracy_score(predicted,ground_truth)\n",
        "\n",
        "  return predicted, ground_truth, accuracy"
      ],
      "execution_count": null,
      "outputs": []
    },
    {
      "cell_type": "code",
      "metadata": {
        "id": "_iEQF3cwhyZY"
      },
      "source": [
        "len(traning_data)"
      ],
      "execution_count": null,
      "outputs": []
    },
    {
      "cell_type": "code",
      "metadata": {
        "id": "wZIGRQLCkSrG",
        "colab": {
          "base_uri": "https://localhost:8080/"
        },
        "outputId": "9a247ca9-4fb2-4d20-acfa-31ac3527348e"
      },
      "source": [
        "tags=[]\n",
        "for labels in training_labels:\n",
        "  tags.extend(labels)\n",
        "\n",
        "import numpy as np\n",
        "labels=np.unique(tags)\n",
        "print(labels)"
      ],
      "execution_count": null,
      "outputs": [
        {
          "output_type": "stream",
          "text": [
            "['B-DocumentReference' 'B-Location' 'B-MilitaryPlatform' 'B-Money'\n",
            " 'B-Nationality' 'B-Organisation' 'B-Person' 'B-Quantity' 'B-Temporal'\n",
            " 'B-Weapon' 'I-DocumentReference' 'I-Location' 'I-MilitaryPlatform'\n",
            " 'I-Money' 'I-Nationality' 'I-Organisation' 'I-Person' 'I-Quantity'\n",
            " 'I-Temporal' 'I-Weapon' 'O']\n"
          ],
          "name": "stdout"
        }
      ]
    },
    {
      "cell_type": "markdown",
      "metadata": {
        "id": "dUZ6-jDa-NOj"
      },
      "source": [
        "## Ablation Study - different input embedding model"
      ]
    },
    {
      "cell_type": "code",
      "metadata": {
        "id": "LRkHWarW-Tp9"
      },
      "source": [
        "\n",
        "\n",
        "def build_embedding(emtype):\n",
        "  embedding_matrix = []\n",
        "  if emtype ==1:\n",
        "    EMBEDDING_DIM = 100\n",
        "  elif emtype ==2:\n",
        "    EMBEDDING_DIM = 100 + (pos_tag_id - 1)\n",
        "  elif emtype ==3:\n",
        "    EMBEDDING_DIM = 100 +  (pos_tag_id - 1) + (dependency_id - 1)\n",
        "  for word in word_list:\n",
        "      try:\n",
        "        if emtype ==1:\n",
        "          temp = word_emb_model.wv[word]\n",
        "        elif emtype ==2:\n",
        "          temp = word_emb_model.wv[word]\n",
        "          temp.extend(pos_map[word])\n",
        "        elif emtype ==3:\n",
        "          temp = word_emb_model.wv[word]\n",
        "          temp.extend(pos_map[word])\n",
        "          temp.extend(dependency_map[word])\n",
        "        embedding_matrix.append(temp)\n",
        "      except:\n",
        "        embedding_matrix.append([0]*EMBEDDING_DIM)\n",
        "  embedding_matrix = np.array(embedding_matrix)\n",
        "  \n",
        "  embedding_matrix = np.concatenate((bert_matrix, embedding_matrix), axis = 1)\n",
        "  EMBEDDING_DIM = embedding_matrix.shape[1]\n",
        "  return embedding_matrix\n"
      ],
      "execution_count": null,
      "outputs": []
    },
    {
      "cell_type": "code",
      "metadata": {
        "id": "WzZMB-T-V_DG"
      },
      "source": [
        ""
      ],
      "execution_count": null,
      "outputs": []
    },
    {
      "cell_type": "code",
      "metadata": {
        "colab": {
          "base_uri": "https://localhost:8080/"
        },
        "id": "X8SattSZasAB",
        "outputId": "cbfbdcff-1ad0-4b93-b705-02b090408451"
      },
      "source": [
        "embedding_matrix=build_embedding(2)\n",
        "EMBEDDING_DIM=embedding_matrix.shape[1]"
      ],
      "execution_count": null,
      "outputs": [
        {
          "output_type": "stream",
          "text": [
            "/usr/local/lib/python3.7/dist-packages/ipykernel_launcher.py:16: DeprecationWarning: Call to deprecated `wv` (Attribute will be removed in 4.0.0, use self instead).\n",
            "  app.launch_new_instance()\n"
          ],
          "name": "stderr"
        }
      ]
    },
    {
      "cell_type": "code",
      "metadata": {
        "id": "p_i8FjjiBk6y"
      },
      "source": [
        "embedding_matrix=build_embedding(4)\n",
        "EMBEDDING_DIM=embedding_matrix.shape[1]"
      ],
      "execution_count": null,
      "outputs": []
    },
    {
      "cell_type": "code",
      "metadata": {
        "id": "o-RgoHzro9Wn",
        "colab": {
          "base_uri": "https://localhost:8080/"
        },
        "outputId": "a8f6b8e3-d74e-411b-c4a4-19c58bf83cc8"
      },
      "source": [
        "embedding_matrix.shape\n"
      ],
      "execution_count": null,
      "outputs": [
        {
          "output_type": "execute_result",
          "data": {
            "text/plain": [
              "(4280, 1165)"
            ]
          },
          "metadata": {
            "tags": []
          },
          "execution_count": 29
        }
      ]
    },
    {
      "cell_type": "code",
      "metadata": {
        "id": "3JBTbZSrQpCd"
      },
      "source": [
        "import torch\n",
        "import torch.autograd as autograd\n",
        "import torch.nn as nn\n",
        "import torch.optim as optim\n",
        "device = torch.device(\"cuda\" if torch.cuda.is_available() else \"cpu\")\n",
        "\n",
        "def argmax(vec):\n",
        "    # return the argmax as a python int\n",
        "    _, idx = torch.max(vec, 1)\n",
        "    return idx.item()\n",
        "\n",
        "\n",
        "# Compute log sum exp in a numerically stable way for the forward algorithm\n",
        "def log_sum_exp(vec):\n",
        "    max_score = vec[0, argmax(vec)]\n",
        "    max_score_broadcast = max_score.view(1, -1).expand(1, vec.size()[1])\n",
        "    return max_score + \\\n",
        "        torch.log(torch.sum(torch.exp(vec - max_score_broadcast)))\n",
        " \n",
        "class BiLSTM_CRF(nn.Module):\n",
        "\n",
        "  def __init__(self, vocab_size, tag_to_ix, embedding_dim, hidden_dim, layers_number, is_use_crf, attention_type):\n",
        "      super(BiLSTM_CRF, self).__init__()\n",
        "      self.embedding_dim = embedding_dim\n",
        "      self.hidden_dim = hidden_dim\n",
        "      self.vocab_size = vocab_size\n",
        "      self.layers_number = layers_number\n",
        "      self.is_use_crf = is_use_crf\n",
        "      self.attention_type = attention_type\n",
        "      self.tag_to_ix = tag_to_ix\n",
        "      self.tagset_size = len(tag_to_ix)\n",
        "\n",
        "      self.word_embeds = nn.Embedding(vocab_size, embedding_dim)\n",
        "      self.word_embeds.weight.data.copy_(torch.from_numpy(embedding_matrix))\n",
        "      self.lstm = nn.LSTM(embedding_dim, hidden_dim // 2,\n",
        "                          num_layers=self.layers_number, bidirectional=True)\n",
        "      self.dropout = nn.Dropout(0.2)\n",
        "      \n",
        "      self.attention_weight = nn.parameter.Parameter(torch.Tensor(1, self.hidden_dim, self.hidden_dim), requires_grad = True)\n",
        "\n",
        "      # Maps the output of the LSTM into tag space.\n",
        "\n",
        "      if not attention_type:\n",
        "        self.hidden2tag = nn.Linear(hidden_dim, self.tagset_size)\n",
        "      else:\n",
        "        self.hidden2tag = nn.Linear(hidden_dim * 2, self.tagset_size)\n",
        "\n",
        "      # Matrix of transition parameters.  Entry i,j is the score of\n",
        "      # transitioning *to* i *from* j.\n",
        "      self.transitions = nn.Parameter(\n",
        "          torch.randn(self.tagset_size, self.tagset_size))\n",
        "\n",
        "      # These two statements enforce the constraint that we never transfer\n",
        "      # to the start tag and we never transfer from the stop tag\n",
        "      self.transitions.data[tag_to_ix[START_TAG], :] = -10000\n",
        "      self.transitions.data[:, tag_to_ix[STOP_TAG]] = -10000\n",
        "\n",
        "      self.hidden = self.init_hidden()\n",
        "\n",
        "  def init_hidden(self):\n",
        "      return (torch.randn(2 * self.layers_number, 1, self.hidden_dim // 2).to(device),\n",
        "              torch.randn(2 * self.layers_number, 1, self.hidden_dim // 2).to(device))\n",
        "\n",
        "  def _forward_alg(self, feats):\n",
        "      # Do the forward algorithm to compute the partition function\n",
        "      init_alphas = torch.full((1, self.tagset_size), -10000.).to(device)\n",
        "      # START_TAG has all of the score.\n",
        "      init_alphas[0][self.tag_to_ix[START_TAG]] = 0.\n",
        "\n",
        "      # Wrap in a variable so that we will get automatic backprop\n",
        "      forward_var = init_alphas\n",
        "\n",
        "      # Iterate through the sentence\n",
        "      for feat in feats:\n",
        "          alphas_t = []  # The forward tensors at this timestep\n",
        "          for next_tag in range(self.tagset_size):\n",
        "              # broadcast the emission score: it is the same regardless of\n",
        "              # the previous tag\n",
        "              emit_score = feat[next_tag].view(\n",
        "                  1, -1).expand(1, self.tagset_size)\n",
        "              # the ith entry of trans_score is the score of transitioning to\n",
        "              # next_tag from i\n",
        "              trans_score = self.transitions[next_tag].view(1, -1)\n",
        "              # The ith entry of next_tag_var is the value for the\n",
        "              # edge (i -> next_tag) before we do log-sum-exp\n",
        "              next_tag_var = forward_var + trans_score + emit_score\n",
        "              # The forward variable for this tag is log-sum-exp of all the\n",
        "              # scores.\n",
        "              alphas_t.append(log_sum_exp(next_tag_var).view(1))\n",
        "          forward_var = torch.cat(alphas_t).view(1, -1)\n",
        "      terminal_var = forward_var + self.transitions[self.tag_to_ix[STOP_TAG]]\n",
        "      alpha = log_sum_exp(terminal_var)\n",
        "      return alpha\n",
        "\n",
        "  def _get_lstm_features(self, sentence):\n",
        "      self.hidden = self.init_hidden()\n",
        "      embeds = self.word_embeds(sentence).view(len(sentence), 1, -1)\n",
        "      lstm_out, self.hidden = self.lstm(embeds, self.hidden)\n",
        "      if not self.attention_type:\n",
        "        lstm_out = lstm_out.view(len(sentence), self.hidden_dim)\n",
        "      else:\n",
        "        lstm_out = self._get_attention_output(lstm_out, sentence)\n",
        "      \n",
        "      lstm_out = self.dropout(lstm_out)\n",
        "      lstm_feats = self.hidden2tag(lstm_out)\n",
        "      return lstm_feats\n",
        "  \n",
        "  def _get_attention_output(self, lstm_out, sentence):\n",
        "      lstm_out = torch.squeeze(lstm_out, 1)\n",
        "\n",
        "      s = lstm_out.view(1, lstm_out.size(0), lstm_out.size(1))\n",
        "      h = s.view(s.size(0), s.size(2), s.size(1))\n",
        "\n",
        "      if self.attention_type.lower() == \"dot\":\n",
        "        weight_att = nn.functional.softmax(torch.bmm(s, h),dim=-1)\n",
        "      elif self.attention_type.lower() == \"scale\":\n",
        "        weight_att = nn.functional.softmax(torch.bmm(s, h) / np.sqrt(self.hidden_dim),dim=-1)\n",
        "      else:\n",
        "        temp = torch.bmm(torch.bmm(s, self.attention_weight), h)\n",
        "        weight_att = nn.functional.softmax(temp, dim=-1)\n",
        "\n",
        "      output = torch.bmm(weight_att, s)\n",
        "      concat_output = torch.cat((output, s), dim = -1)\n",
        "      lstm_out = concat_output.view(len(sentence), self.hidden_dim * 2)\n",
        "      return lstm_out\n",
        "\n",
        "  def _score_sentence(self, feats, tags):\n",
        "      # Gives the score of a provided tag sequence\n",
        "      score = torch.zeros(1).to(device)\n",
        "      tags = torch.cat([torch.tensor([self.tag_to_ix[START_TAG]], dtype=torch.long).to(device), tags])\n",
        "      for i, feat in enumerate(feats):\n",
        "          score = score + \\\n",
        "              self.transitions[tags[i + 1], tags[i]] + feat[tags[i + 1]]\n",
        "      score = score + self.transitions[self.tag_to_ix[STOP_TAG], tags[-1]]\n",
        "      return score\n",
        "\n",
        "  def _viterbi_decode(self, feats):\n",
        "      backpointers = []\n",
        "\n",
        "      # Initialize the viterbi variables in log space\n",
        "      init_vvars = torch.full((1, self.tagset_size), -10000.).to(device)\n",
        "      init_vvars[0][self.tag_to_ix[START_TAG]] = 0\n",
        "\n",
        "      # forward_var at step i holds the viterbi variables for step i-1\n",
        "      forward_var = init_vvars\n",
        "      for feat in feats:\n",
        "          bptrs_t = []  # holds the backpointers for this step\n",
        "          viterbivars_t = []  # holds the viterbi variables for this step\n",
        "\n",
        "          for next_tag in range(self.tagset_size):\n",
        "              # next_tag_var[i] holds the viterbi variable for tag i at the\n",
        "              # previous step, plus the score of transitioning\n",
        "              # from tag i to next_tag.\n",
        "              # We don't include the emission scores here because the max\n",
        "              # does not depend on them (we add them in below)\n",
        "              next_tag_var = forward_var + self.transitions[next_tag]\n",
        "              best_tag_id = argmax(next_tag_var)\n",
        "              bptrs_t.append(best_tag_id)\n",
        "              viterbivars_t.append(next_tag_var[0][best_tag_id].view(1))\n",
        "          # Now add in the emission scores, and assign forward_var to the set\n",
        "          # of viterbi variables we just computed\n",
        "          forward_var = (torch.cat(viterbivars_t) + feat).view(1, -1)\n",
        "          backpointers.append(bptrs_t)\n",
        "\n",
        "      # Transition to STOP_TAG\n",
        "      terminal_var = forward_var + self.transitions[self.tag_to_ix[STOP_TAG]]\n",
        "      best_tag_id = argmax(terminal_var)\n",
        "      path_score = terminal_var[0][best_tag_id]\n",
        "\n",
        "      # Follow the back pointers to decode the best path.\n",
        "      best_path = [best_tag_id]\n",
        "      for bptrs_t in reversed(backpointers):\n",
        "          best_tag_id = bptrs_t[best_tag_id]\n",
        "          best_path.append(best_tag_id)\n",
        "      # Pop off the start tag (we dont want to return that to the caller)\n",
        "      start = best_path.pop()\n",
        "      assert start == self.tag_to_ix[START_TAG]  # Sanity check\n",
        "      best_path.reverse()\n",
        "      return path_score, best_path\n",
        "\n",
        "  def neg_log_likelihood(self, sentence, tags):\n",
        "      feats = self._get_lstm_features(sentence)\n",
        "      forward_score = self._forward_alg(feats)\n",
        "      gold_score = self._score_sentence(feats, tags)\n",
        "      return forward_score - gold_score\n",
        "\n",
        "  def forward(self, sentence):  # dont confuse this with _forward_alg above.\n",
        "      # Get the emission scores from the BiLSTM\n",
        "      if self.is_use_crf:\n",
        "        lstm_feats = self._get_lstm_features(sentence)\n",
        "\n",
        "        # Find the best path, given the features.\n",
        "        score, tag_seq = self._viterbi_decode(lstm_feats)\n",
        "        return score, tag_seq\n",
        "      else:\n",
        "        lstm_feats = self._get_lstm_features(sentence)\n",
        "        return lstm_feats, torch.argmax(lstm_feats, -1)"
      ],
      "execution_count": null,
      "outputs": []
    },
    {
      "cell_type": "code",
      "metadata": {
        "id": "CHrxSB0LQ2Yx"
      },
      "source": [
        "HIDDEN_DIM = 200\n",
        "is_use_crf = True\n",
        "loss_func = nn.CrossEntropyLoss()\n",
        "\n",
        "model = BiLSTM_CRF(len(word_to_ix), tag_to_ix, EMBEDDING_DIM, HIDDEN_DIM, layers_number = 3, is_use_crf = is_use_crf, attention_type = \"scale\").to(device)\n",
        "optimizer = optim.SGD(model.parameters(), lr=0.01, weight_decay=1e-4)"
      ],
      "execution_count": null,
      "outputs": []
    },
    {
      "cell_type": "code",
      "metadata": {
        "id": "3D3sxYtlO7Xy",
        "colab": {
          "base_uri": "https://localhost:8080/"
        },
        "outputId": "0d92dc14-1b1c-4b03-a2c1-c7a9291c963f"
      },
      "source": [
        "\"\"\"Each epoch will take about 1-2 minutes\"\"\"\n",
        "\n",
        "import datetime\n",
        "best_val_loss = float(\"inf\")\n",
        "\n",
        "best_model = None\n",
        "\n",
        "for epoch in range(20):  \n",
        "    time1 = datetime.datetime.now()\n",
        "    train_loss = 0\n",
        "\n",
        "    model.train()\n",
        "    for i, idxs in enumerate(train_input_index):\n",
        "        tags_index = train_output_index[i]\n",
        "\n",
        "        # Step 1. Remember that Pytorch accumulates gradients.\n",
        "        # We need to clear them out before each instance\n",
        "        model.zero_grad()\n",
        "\n",
        "        # Step 2. Get our inputs ready for the network, that is,\n",
        "        # turn them into Tensors of word indices.\n",
        "        sentence_in = torch.tensor(idxs, dtype=torch.long).to(device)\n",
        "        targets = torch.tensor(tags_index, dtype=torch.long).to(device)\n",
        "\n",
        "        # Step 3. Run our forward pass.\n",
        "        if is_use_crf:\n",
        "          loss = model.neg_log_likelihood(sentence_in, targets)\n",
        "        else:\n",
        "          lstm_feats, tags = model(sentence_in)\n",
        "          loss = loss_func(lstm_feats, targets)\n",
        "\n",
        "        # Step 4. Compute the loss, gradients, and update the parameters by\n",
        "        # calling optimizer.step()\n",
        "        loss.backward()\n",
        "        optimizer.step()\n",
        "\n",
        "        train_loss+=loss.item()\n",
        "\n",
        "    model.eval()\n",
        "    \n",
        "    # Call the cal_acc functions you implemented as required\n",
        "    _, _, train_acc = cal_acc(model,train_input_index,train_output_index,is_use_crf)\n",
        "    _, _, val_acc = cal_acc(model,val_input_index,val_output_index,is_use_crf)\n",
        "\n",
        "    \n",
        "\n",
        "    val_loss = 0\n",
        "    for i, idxs in enumerate(val_input_index):\n",
        "        tags_index = val_output_index[i]\n",
        "        sentence_in = torch.tensor(idxs, dtype=torch.long).to(device)\n",
        "        targets = torch.tensor(tags_index, dtype=torch.long).to(device)\n",
        "        loss = model.neg_log_likelihood(sentence_in, targets)\n",
        "        val_loss+=loss.item()\n",
        "    time2 = datetime.datetime.now()\n",
        "    \n",
        "    if val_loss < best_val_loss:\n",
        "        best_val_loss = val_loss\n",
        "        best_model = model\n",
        "\n",
        "    print(\"Epoch:%d, Training loss: %.2f, train acc: %.4f, val loss: %.2f, val acc: %.4f, time: %.2fs\" %(epoch+1, train_loss,train_acc, val_loss, val_acc, (time2-time1).total_seconds()))"
      ],
      "execution_count": null,
      "outputs": [
        {
          "output_type": "stream",
          "text": [
            "Epoch:1, Training loss: 10340.88, train acc: 0.7734, val loss: 3717.30, val acc: 0.7268, time: 240.85s\n",
            "Epoch:2, Training loss: 7600.83, train acc: 0.8199, val loss: 3088.37, val acc: 0.7673, time: 246.47s\n",
            "Epoch:3, Training loss: 5943.85, train acc: 0.8571, val loss: 2682.07, val acc: 0.8013, time: 246.53s\n",
            "Epoch:4, Training loss: 4812.65, train acc: 0.8673, val loss: 2507.86, val acc: 0.8055, time: 247.28s\n",
            "Epoch:5, Training loss: 4031.78, train acc: 0.8947, val loss: 2307.54, val acc: 0.8201, time: 250.08s\n",
            "Epoch:6, Training loss: 3466.28, train acc: 0.8779, val loss: 2461.33, val acc: 0.8055, time: 254.08s\n",
            "Epoch:7, Training loss: 2987.85, train acc: 0.9085, val loss: 2210.05, val acc: 0.8178, time: 252.32s\n",
            "Epoch:8, Training loss: 2471.55, train acc: 0.9152, val loss: 2278.44, val acc: 0.8227, time: 251.46s\n",
            "Epoch:9, Training loss: 2402.56, train acc: 0.9205, val loss: 2249.65, val acc: 0.8195, time: 252.16s\n",
            "Epoch:10, Training loss: 2008.76, train acc: 0.9211, val loss: 2359.68, val acc: 0.8157, time: 251.06s\n",
            "Epoch:11, Training loss: 1749.10, train acc: 0.9357, val loss: 2339.27, val acc: 0.8244, time: 255.29s\n",
            "Epoch:12, Training loss: 1379.10, train acc: 0.9454, val loss: 2403.49, val acc: 0.8330, time: 255.19s\n",
            "Epoch:13, Training loss: 1425.06, train acc: 0.9422, val loss: 2599.61, val acc: 0.8206, time: 251.69s\n",
            "Epoch:14, Training loss: 1203.53, train acc: 0.9535, val loss: 2677.00, val acc: 0.8240, time: 249.43s\n",
            "Epoch:15, Training loss: 1048.59, train acc: 0.9549, val loss: 2514.68, val acc: 0.8314, time: 248.18s\n",
            "Epoch:16, Training loss: 963.46, train acc: 0.9547, val loss: 2708.20, val acc: 0.8280, time: 255.79s\n",
            "Epoch:17, Training loss: 948.07, train acc: 0.9597, val loss: 2836.15, val acc: 0.8271, time: 256.58s\n",
            "Epoch:18, Training loss: 886.41, train acc: 0.9579, val loss: 3033.40, val acc: 0.8227, time: 253.96s\n",
            "Epoch:19, Training loss: 903.65, train acc: 0.9551, val loss: 3212.03, val acc: 0.8276, time: 252.69s\n",
            "Epoch:20, Training loss: 780.10, train acc: 0.9589, val loss: 3172.31, val acc: 0.8199, time: 250.74s\n"
          ],
          "name": "stdout"
        }
      ]
    },
    {
      "cell_type": "code",
      "metadata": {
        "id": "kyrku04TSVy-"
      },
      "source": [
        "torch.save(best_model, \"BiLSTM+CRF+wordEembedding+bert+post.pth\")"
      ],
      "execution_count": null,
      "outputs": []
    },
    {
      "cell_type": "markdown",
      "metadata": {
        "id": "043H1ZvvoVtJ"
      },
      "source": [
        "## Attention"
      ]
    },
    {
      "cell_type": "markdown",
      "metadata": {
        "id": "AhDUSz3iL4vK"
      },
      "source": [
        "gege"
      ]
    },
    {
      "cell_type": "code",
      "metadata": {
        "id": "7jEe-hwrsvbZ"
      },
      "source": [
        "HIDDEN_DIM = 200\n",
        "is_use_crf = True\n",
        "loss_func = nn.CrossEntropyLoss()\n",
        "\n",
        "model = BiLSTM_CRF(len(word_to_ix), tag_to_ix, EMBEDDING_DIM, HIDDEN_DIM, layers_number = 3, is_use_crf = is_use_crf, attention_type = \"\").to(device)\n",
        "optimizer = optim.SGD(model.parameters(), lr=0.01, weight_decay=1e-4)"
      ],
      "execution_count": null,
      "outputs": []
    },
    {
      "cell_type": "markdown",
      "metadata": {
        "id": "txzoLXUrLvhu"
      },
      "source": [
        "dot"
      ]
    },
    {
      "cell_type": "code",
      "metadata": {
        "id": "aFW8m519oUol"
      },
      "source": [
        "HIDDEN_DIM = 200\n",
        "is_use_crf = True\n",
        "loss_func = nn.CrossEntropyLoss()\n",
        "\n",
        "model = BiLSTM_CRF(len(word_to_ix), tag_to_ix, EMBEDDING_DIM, HIDDEN_DIM, layers_number = 3, is_use_crf = is_use_crf, attention_type = \"dot\").to(device)\n",
        "optimizer = optim.SGD(model.parameters(), lr=0.01, weight_decay=1e-4)"
      ],
      "execution_count": null,
      "outputs": []
    },
    {
      "cell_type": "code",
      "metadata": {
        "colab": {
          "base_uri": "https://localhost:8080/"
        },
        "id": "rESjhzK5uTEO",
        "outputId": "3d1480fe-c3be-4ebf-8cb6-b2f40e0c078c"
      },
      "source": [
        "\"\"\"Each epoch will take about 1-2 minutes\"\"\"\n",
        "\n",
        "import datetime\n",
        "best_val_loss = float(\"inf\")\n",
        "\n",
        "best_model = None\n",
        "\n",
        "for epoch in range(20):  \n",
        "    time1 = datetime.datetime.now()\n",
        "    train_loss = 0\n",
        "\n",
        "    model.train()\n",
        "    for i, idxs in enumerate(train_input_index):\n",
        "        tags_index = train_output_index[i]\n",
        "\n",
        "        # Step 1. Remember that Pytorch accumulates gradients.\n",
        "        # We need to clear them out before each instance\n",
        "        model.zero_grad()\n",
        "\n",
        "        # Step 2. Get our inputs ready for the network, that is,\n",
        "        # turn them into Tensors of word indices.\n",
        "        sentence_in = torch.tensor(idxs, dtype=torch.long).to(device)\n",
        "        targets = torch.tensor(tags_index, dtype=torch.long).to(device)\n",
        "\n",
        "        # Step 3. Run our forward pass.\n",
        "        if is_use_crf:\n",
        "          loss = model.neg_log_likelihood(sentence_in, targets)\n",
        "        else:\n",
        "          lstm_feats, tags = model(sentence_in)\n",
        "          loss = loss_func(lstm_feats, targets)\n",
        "\n",
        "        # Step 4. Compute the loss, gradients, and update the parameters by\n",
        "        # calling optimizer.step()\n",
        "        loss.backward()\n",
        "        optimizer.step()\n",
        "\n",
        "        train_loss+=loss.item()\n",
        "\n",
        "    model.eval()\n",
        "    \n",
        "    # Call the cal_acc functions you implemented as required\n",
        "    _, _, train_acc = cal_acc(model,train_input_index,train_output_index, is_use_crf)\n",
        "    _, _, val_acc = cal_acc(model,val_input_index,val_output_index, is_use_crf)\n",
        "\n",
        "    \n",
        "\n",
        "    if is_use_crf:\n",
        "      val_loss = 0\n",
        "      for i, idxs in enumerate(val_input_index):\n",
        "          tags_index = val_output_index[i]\n",
        "          sentence_in = torch.tensor(idxs, dtype=torch.long).to(device)\n",
        "          targets = torch.tensor(tags_index, dtype=torch.long).to(device)\n",
        "          loss = model.neg_log_likelihood(sentence_in, targets)\n",
        "          val_loss+=loss.item()\n",
        "      time2 = datetime.datetime.now()\n",
        "      print(\"Epoch:%d, Training loss: %.2f, train acc: %.4f, val loss: %.2f, val acc: %.4f, time: %.2fs\" %(epoch+1, train_loss, train_acc, val_loss, val_acc, (time2-time1).total_seconds()))\n",
        "    \n",
        "    else:\n",
        "      time2 = datetime.datetime.now()\n",
        "      print(\"Epoch:%d, Training loss: %.2f, train acc: %.4f, val acc: %.4f, time: %.2fs\" %(epoch+1, train_loss, train_acc, val_acc, (time2-time1).total_seconds()))"
      ],
      "execution_count": null,
      "outputs": [
        {
          "output_type": "stream",
          "text": [
            "Epoch:1, Training loss: 16286.89, train acc: 0.7024, val loss: 5395.16, val acc: 0.6534, time: 215.53s\n",
            "Epoch:2, Training loss: 10607.97, train acc: 0.7725, val loss: 3934.90, val acc: 0.7152, time: 215.50s\n",
            "Epoch:3, Training loss: 7651.03, train acc: 0.8262, val loss: 3119.85, val acc: 0.7656, time: 215.48s\n",
            "Epoch:4, Training loss: 5880.11, train acc: 0.8536, val loss: 2717.64, val acc: 0.7920, time: 214.94s\n",
            "Epoch:5, Training loss: 4675.50, train acc: 0.8738, val loss: 2442.97, val acc: 0.8077, time: 213.91s\n",
            "Epoch:6, Training loss: 3855.90, train acc: 0.8819, val loss: 2344.83, val acc: 0.8125, time: 213.91s\n",
            "Epoch:7, Training loss: 3239.00, train acc: 0.9023, val loss: 2272.07, val acc: 0.8172, time: 214.79s\n",
            "Epoch:8, Training loss: 2972.50, train acc: 0.9062, val loss: 2310.29, val acc: 0.8157, time: 212.36s\n",
            "Epoch:9, Training loss: 2439.61, train acc: 0.9257, val loss: 2271.11, val acc: 0.8307, time: 212.13s\n",
            "Epoch:10, Training loss: 2170.67, train acc: 0.9249, val loss: 2410.79, val acc: 0.8288, time: 211.52s\n",
            "Epoch:11, Training loss: 1988.22, train acc: 0.9248, val loss: 2457.37, val acc: 0.8246, time: 211.64s\n",
            "Epoch:12, Training loss: 1685.76, train acc: 0.9348, val loss: 2428.44, val acc: 0.8299, time: 211.89s\n",
            "Epoch:13, Training loss: 1624.99, train acc: 0.9396, val loss: 2389.34, val acc: 0.8343, time: 212.09s\n",
            "Epoch:14, Training loss: 1408.92, train acc: 0.9468, val loss: 2541.54, val acc: 0.8288, time: 211.91s\n",
            "Epoch:15, Training loss: 1139.13, train acc: 0.9409, val loss: 2653.51, val acc: 0.8280, time: 212.06s\n",
            "Epoch:16, Training loss: 1034.57, train acc: 0.9577, val loss: 2521.31, val acc: 0.8278, time: 213.75s\n",
            "Epoch:17, Training loss: 1033.58, train acc: 0.9539, val loss: 2660.43, val acc: 0.8216, time: 212.83s\n",
            "Epoch:18, Training loss: 1026.63, train acc: 0.9581, val loss: 2755.96, val acc: 0.8257, time: 212.30s\n",
            "Epoch:19, Training loss: 1116.85, train acc: 0.9551, val loss: 2803.29, val acc: 0.8257, time: 212.83s\n",
            "Epoch:20, Training loss: 811.67, train acc: 0.9524, val loss: 2902.60, val acc: 0.8259, time: 213.26s\n"
          ],
          "name": "stdout"
        }
      ]
    },
    {
      "cell_type": "code",
      "metadata": {
        "id": "txkEASItU0uf"
      },
      "source": [
        "torch.save(best_model, \"BiLSTM+CRF+genaral.pth\")"
      ],
      "execution_count": null,
      "outputs": []
    },
    {
      "cell_type": "code",
      "metadata": {
        "id": "L_ZjYvS7dPTT"
      },
      "source": [
        ""
      ],
      "execution_count": null,
      "outputs": []
    },
    {
      "cell_type": "code",
      "metadata": {
        "colab": {
          "base_uri": "https://localhost:8080/"
        },
        "id": "geE7b2DPdRg8",
        "outputId": "18498b9d-2bb9-4ebe-c7b2-196c73bf6c80"
      },
      "source": [
        "\"\"\"Each epoch will take about 1-2 minutes\"\"\"\n",
        "\n",
        "import datetime\n",
        "best_val_loss = float(\"inf\")\n",
        "\n",
        "best_model = None\n",
        "\n",
        "for epoch in range(20):  \n",
        "    time1 = datetime.datetime.now()\n",
        "    train_loss = 0\n",
        "\n",
        "    model.train()\n",
        "    for i, idxs in enumerate(train_input_index):\n",
        "        tags_index = train_output_index[i]\n",
        "\n",
        "        # Step 1. Remember that Pytorch accumulates gradients.\n",
        "        # We need to clear them out before each instance\n",
        "        model.zero_grad()\n",
        "\n",
        "        # Step 2. Get our inputs ready for the network, that is,\n",
        "        # turn them into Tensors of word indices.\n",
        "        sentence_in = torch.tensor(idxs, dtype=torch.long).to(device)\n",
        "        targets = torch.tensor(tags_index, dtype=torch.long).to(device)\n",
        "\n",
        "        # Step 3. Run our forward pass.\n",
        "        if is_use_crf:\n",
        "          loss = model.neg_log_likelihood(sentence_in, targets)\n",
        "        else:\n",
        "          lstm_feats, tags = model(sentence_in)\n",
        "          loss = loss_func(lstm_feats, targets)\n",
        "\n",
        "        # Step 4. Compute the loss, gradients, and update the parameters by\n",
        "        # calling optimizer.step()\n",
        "        loss.backward()\n",
        "        optimizer.step()\n",
        "\n",
        "        train_loss+=loss.item()\n",
        "\n",
        "    model.eval()\n",
        "    \n",
        "    # Call the cal_acc functions you implemented as required\n",
        "    _, _, train_acc = cal_acc(model,train_input_index,train_output_index, is_use_crf)\n",
        "    _, _, val_acc = cal_acc(model,val_input_index,val_output_index, is_use_crf)\n",
        "\n",
        "    \n",
        "\n",
        "    if is_use_crf:\n",
        "      val_loss = 0\n",
        "      for i, idxs in enumerate(val_input_index):\n",
        "          tags_index = val_output_index[i]\n",
        "          sentence_in = torch.tensor(idxs, dtype=torch.long).to(device)\n",
        "          targets = torch.tensor(tags_index, dtype=torch.long).to(device)\n",
        "          loss = model.neg_log_likelihood(sentence_in, targets)\n",
        "          val_loss+=loss.item()\n",
        "      time2 = datetime.datetime.now()\n",
        "      print(\"Epoch:%d, Training loss: %.2f, train acc: %.4f, val loss: %.2f, val acc: %.4f, time: %.2fs\" %(epoch+1, train_loss, train_acc, val_loss, val_acc, (time2-time1).total_seconds()))\n",
        "    \n",
        "    else:\n",
        "      time2 = datetime.datetime.now()\n",
        "      print(\"Epoch:%d, Training loss: %.2f, train acc: %.4f, val acc: %.4f, time: %.2fs\" %(epoch+1, train_loss, train_acc, val_acc, (time2-time1).total_seconds()))"
      ],
      "execution_count": null,
      "outputs": [
        {
          "output_type": "stream",
          "text": [
            "Epoch:1, Training loss: 16797.88, train acc: 0.7151, val loss: 5258.45, val acc: 0.6576, time: 215.76s\n",
            "Epoch:2, Training loss: 10244.09, train acc: 0.7708, val loss: 3869.60, val acc: 0.7148, time: 213.87s\n",
            "Epoch:3, Training loss: 7791.70, train acc: 0.8188, val loss: 3194.46, val acc: 0.7626, time: 213.95s\n",
            "Epoch:4, Training loss: 6075.83, train acc: 0.8520, val loss: 2770.62, val acc: 0.7914, time: 214.25s\n",
            "Epoch:5, Training loss: 4728.46, train acc: 0.8699, val loss: 2592.57, val acc: 0.8064, time: 214.25s\n",
            "Epoch:6, Training loss: 3916.73, train acc: 0.8861, val loss: 2472.08, val acc: 0.8159, time: 213.29s\n",
            "Epoch:7, Training loss: 3228.12, train acc: 0.9001, val loss: 2444.03, val acc: 0.8170, time: 212.90s\n",
            "Epoch:8, Training loss: 2732.94, train acc: 0.9119, val loss: 2471.33, val acc: 0.8140, time: 213.60s\n",
            "Epoch:9, Training loss: 2545.33, train acc: 0.9070, val loss: 2649.56, val acc: 0.8074, time: 212.22s\n",
            "Epoch:10, Training loss: 2430.77, train acc: 0.9083, val loss: 2796.28, val acc: 0.8068, time: 211.56s\n",
            "Epoch:11, Training loss: 2595.62, train acc: 0.9207, val loss: 2456.91, val acc: 0.8229, time: 211.59s\n",
            "Epoch:12, Training loss: 2209.38, train acc: 0.8781, val loss: 3262.02, val acc: 0.7837, time: 213.81s\n",
            "Epoch:13, Training loss: 1758.66, train acc: 0.9346, val loss: 2543.06, val acc: 0.8221, time: 213.77s\n",
            "Epoch:14, Training loss: 1580.27, train acc: 0.9349, val loss: 2628.01, val acc: 0.8129, time: 213.80s\n",
            "Epoch:15, Training loss: 1487.33, train acc: 0.9440, val loss: 2629.23, val acc: 0.8257, time: 213.22s\n",
            "Epoch:16, Training loss: 1217.37, train acc: 0.9635, val loss: 2623.54, val acc: 0.8301, time: 213.27s\n",
            "Epoch:17, Training loss: 1219.81, train acc: 0.9478, val loss: 2598.66, val acc: 0.8220, time: 213.10s\n",
            "Epoch:18, Training loss: 1098.44, train acc: 0.9644, val loss: 2679.81, val acc: 0.8267, time: 212.97s\n",
            "Epoch:19, Training loss: 917.11, train acc: 0.9634, val loss: 2851.29, val acc: 0.8174, time: 212.86s\n",
            "Epoch:20, Training loss: 826.89, train acc: 0.9722, val loss: 3058.99, val acc: 0.8229, time: 213.08s\n"
          ],
          "name": "stdout"
        }
      ]
    },
    {
      "cell_type": "code",
      "metadata": {
        "id": "2mlEGHtMdYJ8"
      },
      "source": [
        "torch.save(best_model, \"BiLSTM+CRF+dot.pth\")"
      ],
      "execution_count": null,
      "outputs": []
    },
    {
      "cell_type": "markdown",
      "metadata": {
        "id": "rGhhqtnT5xr-"
      },
      "source": [
        "## Not use crf"
      ]
    },
    {
      "cell_type": "code",
      "metadata": {
        "id": "oxDahxYB5eZE"
      },
      "source": [
        "HIDDEN_DIM = 200\n",
        "is_use_crf = False\n",
        "loss_func = nn.CrossEntropyLoss()\n",
        "\n",
        "model = BiLSTM_CRF(len(word_to_ix), tag_to_ix, EMBEDDING_DIM, HIDDEN_DIM, layers_number = 3, is_use_crf = is_use_crf, attention_type = \"scale\").to(device)\n",
        "optimizer = optim.SGD(model.parameters(), lr=0.01, weight_decay=1e-4)"
      ],
      "execution_count": null,
      "outputs": []
    },
    {
      "cell_type": "code",
      "metadata": {
        "id": "hN_ps6V16Pq_"
      },
      "source": [
        "\"\"\"Each epoch will take about 1-2 minutes\"\"\"\n",
        "\n",
        "import datetime\n",
        "best_val_loss = float(\"inf\")\n",
        "\n",
        "best_model = None\n",
        "\n",
        "for epoch in range(20):  \n",
        "    time1 = datetime.datetime.now()\n",
        "    train_loss = 0\n",
        "\n",
        "    model.train()\n",
        "    for i, idxs in enumerate(train_input_index):\n",
        "        tags_index = train_output_index[i]\n",
        "\n",
        "        # Step 1. Remember that Pytorch accumulates gradients.\n",
        "        # We need to clear them out before each instance\n",
        "        model.zero_grad()\n",
        "\n",
        "        # Step 2. Get our inputs ready for the network, that is,\n",
        "        # turn them into Tensors of word indices.\n",
        "        sentence_in = torch.tensor(idxs, dtype=torch.long).to(device)\n",
        "        targets = torch.tensor(tags_index, dtype=torch.long).to(device)\n",
        "\n",
        "        # Step 3. Run our forward pass.\n",
        "        if is_use_crf:\n",
        "          loss = model.neg_log_likelihood(sentence_in, targets)\n",
        "        else:\n",
        "          lstm_feats, tags = model(sentence_in)\n",
        "          loss = loss_func(lstm_feats, targets)\n",
        "\n",
        "        # Step 4. Compute the loss, gradients, and update the parameters by\n",
        "        # calling optimizer.step()\n",
        "        loss.backward()\n",
        "        optimizer.step()\n",
        "\n",
        "        train_loss+=loss.item()\n",
        "\n",
        "    model.eval()\n",
        "    \n",
        "    # Call the cal_acc functions you implemented as required\n",
        "    _, _, train_acc = cal_acc(model,train_input_index,train_output_index, is_use_crf)\n",
        "    _, _, val_acc = cal_acc(model,val_input_index,val_output_index, is_use_crf)\n",
        "\n",
        "    \n",
        "\n",
        "    if is_use_crf:\n",
        "      val_loss = 0\n",
        "      for i, idxs in enumerate(val_input_index):\n",
        "          tags_index = val_output_index[i]\n",
        "          sentence_in = torch.tensor(idxs, dtype=torch.long).to(device)\n",
        "          targets = torch.tensor(tags_index, dtype=torch.long).to(device)\n",
        "          loss = model.neg_log_likelihood(sentence_in, targets)\n",
        "          val_loss+=loss.item()\n",
        "      time2 = datetime.datetime.now()\n",
        "      print(\"Epoch:%d, Training loss: %.2f, train acc: %.4f, val loss: %.2f, val acc: %.4f, time: %.2fs\" %(epoch+1, train_loss, train_acc, val_loss, val_acc, (time2-time1).total_seconds()))\n",
        "    \n",
        "    else:\n",
        "      time2 = datetime.datetime.now()\n",
        "      print(\"Epoch:%d, Training loss: %.2f, train acc: %.4f, val acc: %.4f, time: %.2fs\" %(epoch+1, train_loss, train_acc, val_acc, (time2-time1).total_seconds()))"
      ],
      "execution_count": null,
      "outputs": []
    },
    {
      "cell_type": "code",
      "metadata": {
        "id": "LPftZG0MuF5E"
      },
      "source": [
        "torch.save(model, 'not_use_crf.pth')"
      ],
      "execution_count": null,
      "outputs": []
    },
    {
      "cell_type": "markdown",
      "metadata": {
        "id": "oxIqYACag4sc"
      },
      "source": [
        "### Different stacked layers"
      ]
    },
    {
      "cell_type": "code",
      "metadata": {
        "id": "pPqhL-w7g6SB"
      },
      "source": [
        "HIDDEN_DIM = 200\n",
        "is_use_crf = True\n",
        "loss_func = nn.CrossEntropyLoss()\n",
        "\n",
        "model = BiLSTM_CRF(len(word_to_ix), tag_to_ix, EMBEDDING_DIM, HIDDEN_DIM, layers_number = 1, is_use_crf = is_use_crf, attention_type = \"scale\").to(device)\n",
        "optimizer = optim.SGD(model.parameters(), lr=0.01, weight_decay=1e-4)"
      ],
      "execution_count": 33,
      "outputs": []
    },
    {
      "cell_type": "code",
      "metadata": {
        "colab": {
          "base_uri": "https://localhost:8080/"
        },
        "id": "AixGBHMpg_FS",
        "outputId": "66654da5-e9e1-4b71-884a-6e786e69593b"
      },
      "source": [
        "\"\"\"Each epoch will take about 1-2 minutes\"\"\"\n",
        "\n",
        "import datetime\n",
        "best_val_loss = float(\"inf\")\n",
        "\n",
        "best_model = None\n",
        "\n",
        "for epoch in range(20):  \n",
        "    time1 = datetime.datetime.now()\n",
        "    train_loss = 0\n",
        "\n",
        "    model.train()\n",
        "    for i, idxs in enumerate(train_input_index):\n",
        "        tags_index = train_output_index[i]\n",
        "\n",
        "        # Step 1. Remember that Pytorch accumulates gradients.\n",
        "        # We need to clear them out before each instance\n",
        "        model.zero_grad()\n",
        "\n",
        "        # Step 2. Get our inputs ready for the network, that is,\n",
        "        # turn them into Tensors of word indices.\n",
        "        sentence_in = torch.tensor(idxs, dtype=torch.long).to(device)\n",
        "        targets = torch.tensor(tags_index, dtype=torch.long).to(device)\n",
        "\n",
        "        # Step 3. Run our forward pass.\n",
        "        if is_use_crf:\n",
        "          loss = model.neg_log_likelihood(sentence_in, targets)\n",
        "        else:\n",
        "          lstm_feats, tags = model(sentence_in)\n",
        "          loss = loss_func(lstm_feats, targets)\n",
        "\n",
        "        # Step 4. Compute the loss, gradients, and update the parameters by\n",
        "        # calling optimizer.step()\n",
        "        loss.backward()\n",
        "        optimizer.step()\n",
        "\n",
        "        train_loss+=loss.item()\n",
        "\n",
        "    model.eval()\n",
        "    \n",
        "    # Call the cal_acc functions you implemented as required\n",
        "    _, _, train_acc = cal_acc(model,train_input_index,train_output_index, is_use_crf)\n",
        "    _, _, val_acc = cal_acc(model,val_input_index,val_output_index, is_use_crf)\n",
        "\n",
        "    \n",
        "\n",
        "    if is_use_crf:\n",
        "      val_loss = 0\n",
        "      for i, idxs in enumerate(val_input_index):\n",
        "          tags_index = val_output_index[i]\n",
        "          sentence_in = torch.tensor(idxs, dtype=torch.long).to(device)\n",
        "          targets = torch.tensor(tags_index, dtype=torch.long).to(device)\n",
        "          loss = model.neg_log_likelihood(sentence_in, targets)\n",
        "          val_loss+=loss.item()\n",
        "      time2 = datetime.datetime.now()\n",
        "      print(\"Epoch:%d, Training loss: %.2f, train acc: %.4f, val loss: %.2f, val acc: %.4f, time: %.2fs\" %(epoch+1, train_loss, train_acc, val_loss, val_acc, (time2-time1).total_seconds()))\n",
        "    \n",
        "    else:\n",
        "      time2 = datetime.datetime.now()\n",
        "      print(\"Epoch:%d, Training loss: %.2f, train acc: %.4f, val acc: %.4f, time: %.2fs\" %(epoch+1, train_loss, train_acc, val_acc, (time2-time1).total_seconds()))"
      ],
      "execution_count": 34,
      "outputs": [
        {
          "output_type": "stream",
          "text": [
            "Epoch:1, Training loss: 13746.34, train acc: 0.8231, val loss: 3601.84, val acc: 0.7677, time: 201.23s\n",
            "Epoch:2, Training loss: 6654.32, train acc: 0.8636, val loss: 2720.14, val acc: 0.7956, time: 204.25s\n",
            "Epoch:3, Training loss: 4807.17, train acc: 0.8863, val loss: 2399.18, val acc: 0.8174, time: 202.87s\n",
            "Epoch:4, Training loss: 3817.70, train acc: 0.8986, val loss: 2241.91, val acc: 0.8242, time: 205.38s\n",
            "Epoch:5, Training loss: 3243.32, train acc: 0.9119, val loss: 2195.98, val acc: 0.8203, time: 207.68s\n",
            "Epoch:6, Training loss: 2744.11, train acc: 0.9128, val loss: 2283.44, val acc: 0.8227, time: 207.20s\n",
            "Epoch:7, Training loss: 2467.45, train acc: 0.9209, val loss: 2264.81, val acc: 0.8221, time: 245.16s\n",
            "Epoch:8, Training loss: 1974.80, train acc: 0.9350, val loss: 2227.30, val acc: 0.8237, time: 199.03s\n",
            "Epoch:9, Training loss: 1811.53, train acc: 0.9416, val loss: 2309.67, val acc: 0.8119, time: 190.73s\n",
            "Epoch:10, Training loss: 1639.85, train acc: 0.9488, val loss: 2381.54, val acc: 0.8178, time: 203.37s\n",
            "Epoch:11, Training loss: 1424.21, train acc: 0.9448, val loss: 2302.66, val acc: 0.8248, time: 193.35s\n",
            "Epoch:12, Training loss: 1296.83, train acc: 0.9573, val loss: 2340.98, val acc: 0.8203, time: 191.98s\n",
            "Epoch:13, Training loss: 1312.69, train acc: 0.9413, val loss: 2520.99, val acc: 0.8273, time: 191.96s\n",
            "Epoch:14, Training loss: 1172.10, train acc: 0.9654, val loss: 2368.07, val acc: 0.8314, time: 193.21s\n",
            "Epoch:15, Training loss: 987.55, train acc: 0.9710, val loss: 2430.74, val acc: 0.8271, time: 194.78s\n",
            "Epoch:16, Training loss: 926.91, train acc: 0.9647, val loss: 2619.43, val acc: 0.8163, time: 205.77s\n",
            "Epoch:17, Training loss: 906.65, train acc: 0.9703, val loss: 2469.00, val acc: 0.8261, time: 247.22s\n",
            "Epoch:18, Training loss: 824.62, train acc: 0.9771, val loss: 2647.34, val acc: 0.8199, time: 248.32s\n",
            "Epoch:19, Training loss: 698.88, train acc: 0.9727, val loss: 2664.04, val acc: 0.8203, time: 247.13s\n",
            "Epoch:20, Training loss: 760.79, train acc: 0.9731, val loss: 2845.63, val acc: 0.8157, time: 206.90s\n"
          ],
          "name": "stdout"
        }
      ]
    },
    {
      "cell_type": "code",
      "metadata": {
        "id": "tdJa-NUJhGxv"
      },
      "source": [
        "torch.save(model, 'one_layer.pth')"
      ],
      "execution_count": 35,
      "outputs": []
    },
    {
      "cell_type": "code",
      "metadata": {
        "id": "XO0O8vfxhIlR"
      },
      "source": [
        "HIDDEN_DIM = 200\n",
        "is_use_crf = True\n",
        "loss_func = nn.CrossEntropyLoss()\n",
        "\n",
        "model = BiLSTM_CRF(len(word_to_ix), tag_to_ix, EMBEDDING_DIM, HIDDEN_DIM, layers_number = 2, is_use_crf = is_use_crf, attention_type = \"scale\").to(device)\n",
        "optimizer = optim.SGD(model.parameters(), lr=0.01, weight_decay=1e-4)"
      ],
      "execution_count": 36,
      "outputs": []
    },
    {
      "cell_type": "code",
      "metadata": {
        "id": "RASOr-jOhJvl",
        "colab": {
          "base_uri": "https://localhost:8080/"
        },
        "outputId": "2f3df75e-5396-4aa3-f12c-6c4ff8141b8a"
      },
      "source": [
        "\"\"\"Each epoch will take about 1-2 minutes\"\"\"\n",
        "\n",
        "import datetime\n",
        "best_val_loss = float(\"inf\")\n",
        "\n",
        "best_model = None\n",
        "\n",
        "for epoch in range(20):  \n",
        "    time1 = datetime.datetime.now()\n",
        "    train_loss = 0\n",
        "\n",
        "    model.train()\n",
        "    for i, idxs in enumerate(train_input_index):\n",
        "        tags_index = train_output_index[i]\n",
        "\n",
        "        # Step 1. Remember that Pytorch accumulates gradients.\n",
        "        # We need to clear them out before each instance\n",
        "        model.zero_grad()\n",
        "\n",
        "        # Step 2. Get our inputs ready for the network, that is,\n",
        "        # turn them into Tensors of word indices.\n",
        "        sentence_in = torch.tensor(idxs, dtype=torch.long).to(device)\n",
        "        targets = torch.tensor(tags_index, dtype=torch.long).to(device)\n",
        "\n",
        "        # Step 3. Run our forward pass.\n",
        "        if is_use_crf:\n",
        "          loss = model.neg_log_likelihood(sentence_in, targets)\n",
        "        else:\n",
        "          lstm_feats, tags = model(sentence_in)\n",
        "          loss = loss_func(lstm_feats, targets)\n",
        "\n",
        "        # Step 4. Compute the loss, gradients, and update the parameters by\n",
        "        # calling optimizer.step()\n",
        "        loss.backward()\n",
        "        optimizer.step()\n",
        "\n",
        "        train_loss+=loss.item()\n",
        "\n",
        "    model.eval()\n",
        "    \n",
        "    # Call the cal_acc functions you implemented as required\n",
        "    _, _, train_acc = cal_acc(model,train_input_index,train_output_index, is_use_crf)\n",
        "    _, _, val_acc = cal_acc(model,val_input_index,val_output_index, is_use_crf)\n",
        "\n",
        "    \n",
        "\n",
        "    if is_use_crf:\n",
        "      val_loss = 0\n",
        "      for i, idxs in enumerate(val_input_index):\n",
        "          tags_index = val_output_index[i]\n",
        "          sentence_in = torch.tensor(idxs, dtype=torch.long).to(device)\n",
        "          targets = torch.tensor(tags_index, dtype=torch.long).to(device)\n",
        "          loss = model.neg_log_likelihood(sentence_in, targets)\n",
        "          val_loss+=loss.item()\n",
        "      time2 = datetime.datetime.now()\n",
        "      print(\"Epoch:%d, Training loss: %.2f, train acc: %.4f, val loss: %.2f, val acc: %.4f, time: %.2fs\" %(epoch+1, train_loss, train_acc, val_loss, val_acc, (time2-time1).total_seconds()))\n",
        "    \n",
        "    else:\n",
        "      time2 = datetime.datetime.now()\n",
        "      print(\"Epoch:%d, Training loss: %.2f, train acc: %.4f, val acc: %.4f, time: %.2fs\" %(epoch+1, train_loss, train_acc, val_acc, (time2-time1).total_seconds()))"
      ],
      "execution_count": 37,
      "outputs": [
        {
          "output_type": "stream",
          "text": [
            "Epoch:1, Training loss: 14731.08, train acc: 0.7789, val loss: 4256.91, val acc: 0.7272, time: 211.32s\n",
            "Epoch:2, Training loss: 8079.21, train acc: 0.8398, val loss: 3121.25, val acc: 0.7838, time: 224.75s\n",
            "Epoch:3, Training loss: 5609.54, train acc: 0.8665, val loss: 2642.58, val acc: 0.8003, time: 225.12s\n",
            "Epoch:4, Training loss: 4337.71, train acc: 0.8881, val loss: 2446.86, val acc: 0.8144, time: 225.44s\n",
            "Epoch:5, Training loss: 3613.59, train acc: 0.8928, val loss: 2354.02, val acc: 0.8163, time: 225.24s\n",
            "Epoch:6, Training loss: 2869.54, train acc: 0.8903, val loss: 2525.26, val acc: 0.8140, time: 222.38s\n",
            "Epoch:7, Training loss: 2405.86, train acc: 0.9121, val loss: 2468.06, val acc: 0.8161, time: 222.97s\n",
            "Epoch:8, Training loss: 2063.20, train acc: 0.9330, val loss: 2260.57, val acc: 0.8286, time: 223.49s\n",
            "Epoch:9, Training loss: 1782.69, train acc: 0.9364, val loss: 2412.17, val acc: 0.8176, time: 221.80s\n",
            "Epoch:10, Training loss: 1565.86, train acc: 0.9432, val loss: 2359.27, val acc: 0.8233, time: 223.97s\n",
            "Epoch:11, Training loss: 1274.54, train acc: 0.9437, val loss: 2478.99, val acc: 0.8237, time: 223.86s\n",
            "Epoch:12, Training loss: 1113.52, train acc: 0.9509, val loss: 2546.27, val acc: 0.8248, time: 220.85s\n",
            "Epoch:13, Training loss: 1057.80, train acc: 0.9522, val loss: 2635.84, val acc: 0.8182, time: 223.21s\n",
            "Epoch:14, Training loss: 1018.37, train acc: 0.9589, val loss: 2669.48, val acc: 0.8244, time: 223.13s\n",
            "Epoch:15, Training loss: 897.50, train acc: 0.9579, val loss: 2824.62, val acc: 0.8257, time: 223.20s\n",
            "Epoch:16, Training loss: 1035.04, train acc: 0.9499, val loss: 2722.77, val acc: 0.8189, time: 223.88s\n",
            "Epoch:17, Training loss: 975.69, train acc: 0.9486, val loss: 2986.87, val acc: 0.8091, time: 223.99s\n",
            "Epoch:18, Training loss: 814.90, train acc: 0.9710, val loss: 2659.44, val acc: 0.8195, time: 223.64s\n",
            "Epoch:19, Training loss: 769.99, train acc: 0.9611, val loss: 2936.32, val acc: 0.8237, time: 222.51s\n",
            "Epoch:20, Training loss: 724.19, train acc: 0.9653, val loss: 3076.65, val acc: 0.8142, time: 222.72s\n"
          ],
          "name": "stdout"
        }
      ]
    },
    {
      "cell_type": "code",
      "metadata": {
        "id": "VQ2nTLedioV4"
      },
      "source": [
        "torch.save(model, 'two_layer.pth')"
      ],
      "execution_count": 38,
      "outputs": []
    },
    {
      "cell_type": "code",
      "metadata": {
        "id": "-neVwK-U3x6v"
      },
      "source": [
        "HIDDEN_DIM = 200\n",
        "is_use_crf = True\n",
        "loss_func = nn.CrossEntropyLoss()\n",
        "\n",
        "model = BiLSTM_CRF(len(word_to_ix), tag_to_ix, EMBEDDING_DIM, HIDDEN_DIM, layers_number = 3, is_use_crf = is_use_crf, attention_type = \"scale\").to(device)\n",
        "optimizer = optim.SGD(model.parameters(), lr=0.01, weight_decay=1e-4)"
      ],
      "execution_count": 39,
      "outputs": []
    },
    {
      "cell_type": "code",
      "metadata": {
        "colab": {
          "base_uri": "https://localhost:8080/"
        },
        "id": "2DM6MWPR3ztu",
        "outputId": "6cac6821-9e8a-4c2f-b693-58cdb9ffb85c"
      },
      "source": [
        "\"\"\"Each epoch will take about 1-2 minutes\"\"\"\n",
        "\n",
        "import datetime\n",
        "best_val_loss = float(\"inf\")\n",
        "\n",
        "best_model = None\n",
        "\n",
        "for epoch in range(20):  \n",
        "    time1 = datetime.datetime.now()\n",
        "    train_loss = 0\n",
        "\n",
        "    model.train()\n",
        "    for i, idxs in enumerate(train_input_index):\n",
        "        tags_index = train_output_index[i]\n",
        "\n",
        "        # Step 1. Remember that Pytorch accumulates gradients.\n",
        "        # We need to clear them out before each instance\n",
        "        model.zero_grad()\n",
        "\n",
        "        # Step 2. Get our inputs ready for the network, that is,\n",
        "        # turn them into Tensors of word indices.\n",
        "        sentence_in = torch.tensor(idxs, dtype=torch.long).to(device)\n",
        "        targets = torch.tensor(tags_index, dtype=torch.long).to(device)\n",
        "\n",
        "        # Step 3. Run our forward pass.\n",
        "        if is_use_crf:\n",
        "          loss = model.neg_log_likelihood(sentence_in, targets)\n",
        "        else:\n",
        "          lstm_feats, tags = model(sentence_in)\n",
        "          loss = loss_func(lstm_feats, targets)\n",
        "\n",
        "        # Step 4. Compute the loss, gradients, and update the parameters by\n",
        "        # calling optimizer.step()\n",
        "        loss.backward()\n",
        "        optimizer.step()\n",
        "\n",
        "        train_loss+=loss.item()\n",
        "\n",
        "    model.eval()\n",
        "    \n",
        "    # Call the cal_acc functions you implemented as required\n",
        "    _, _, train_acc = cal_acc(model,train_input_index,train_output_index, is_use_crf)\n",
        "    _, _, val_acc = cal_acc(model,val_input_index,val_output_index, is_use_crf)\n",
        "\n",
        "    \n",
        "\n",
        "    if is_use_crf:\n",
        "      val_loss = 0\n",
        "      for i, idxs in enumerate(val_input_index):\n",
        "          tags_index = val_output_index[i]\n",
        "          sentence_in = torch.tensor(idxs, dtype=torch.long).to(device)\n",
        "          targets = torch.tensor(tags_index, dtype=torch.long).to(device)\n",
        "          loss = model.neg_log_likelihood(sentence_in, targets)\n",
        "          val_loss+=loss.item()\n",
        "      time2 = datetime.datetime.now()\n",
        "      print(\"Epoch:%d, Training loss: %.2f, train acc: %.4f, val loss: %.2f, val acc: %.4f, time: %.2fs\" %(epoch+1, train_loss, train_acc, val_loss, val_acc, (time2-time1).total_seconds()))\n",
        "    \n",
        "    else:\n",
        "      time2 = datetime.datetime.now()\n",
        "      print(\"Epoch:%d, Training loss: %.2f, train acc: %.4f, val acc: %.4f, time: %.2fs\" %(epoch+1, train_loss, train_acc, val_acc, (time2-time1).total_seconds()))"
      ],
      "execution_count": 40,
      "outputs": [
        {
          "output_type": "stream",
          "text": [
            "Epoch:1, Training loss: 16439.10, train acc: 0.7284, val loss: 4933.59, val acc: 0.6797, time: 221.49s\n",
            "Epoch:2, Training loss: 9843.40, train acc: 0.7748, val loss: 3838.67, val acc: 0.7215, time: 221.06s\n",
            "Epoch:3, Training loss: 7504.44, train acc: 0.8224, val loss: 3183.86, val acc: 0.7636, time: 223.28s\n",
            "Epoch:4, Training loss: 5798.15, train acc: 0.8503, val loss: 2812.92, val acc: 0.7907, time: 222.18s\n",
            "Epoch:5, Training loss: 4612.48, train acc: 0.8768, val loss: 2452.93, val acc: 0.8087, time: 223.84s\n",
            "Epoch:6, Training loss: 3764.78, train acc: 0.8829, val loss: 2468.14, val acc: 0.8185, time: 223.06s\n",
            "Epoch:7, Training loss: 3218.77, train acc: 0.9025, val loss: 2252.24, val acc: 0.8231, time: 222.67s\n",
            "Epoch:8, Training loss: 2618.98, train acc: 0.9093, val loss: 2266.91, val acc: 0.8235, time: 222.11s\n",
            "Epoch:9, Training loss: 2315.80, train acc: 0.9097, val loss: 2431.76, val acc: 0.8231, time: 225.38s\n",
            "Epoch:10, Training loss: 2015.45, train acc: 0.9294, val loss: 2317.64, val acc: 0.8214, time: 224.88s\n",
            "Epoch:11, Training loss: 1717.70, train acc: 0.9336, val loss: 2363.30, val acc: 0.8257, time: 219.73s\n",
            "Epoch:12, Training loss: 1519.76, train acc: 0.9388, val loss: 2574.08, val acc: 0.8267, time: 224.30s\n",
            "Epoch:13, Training loss: 1415.31, train acc: 0.9371, val loss: 2689.77, val acc: 0.8235, time: 219.32s\n",
            "Epoch:14, Training loss: 1485.65, train acc: 0.9457, val loss: 2474.51, val acc: 0.8257, time: 225.76s\n",
            "Epoch:15, Training loss: 1335.39, train acc: 0.9407, val loss: 2635.16, val acc: 0.8113, time: 222.68s\n",
            "Epoch:16, Training loss: 1171.51, train acc: 0.9606, val loss: 2666.34, val acc: 0.8316, time: 221.89s\n",
            "Epoch:17, Training loss: 985.24, train acc: 0.9528, val loss: 2773.51, val acc: 0.8305, time: 217.65s\n",
            "Epoch:18, Training loss: 957.54, train acc: 0.9594, val loss: 2824.32, val acc: 0.8216, time: 213.83s\n",
            "Epoch:19, Training loss: 983.85, train acc: 0.9612, val loss: 2654.07, val acc: 0.8280, time: 213.14s\n",
            "Epoch:20, Training loss: 779.09, train acc: 0.9665, val loss: 2982.85, val acc: 0.8231, time: 217.97s\n"
          ],
          "name": "stdout"
        }
      ]
    },
    {
      "cell_type": "code",
      "metadata": {
        "id": "VzYVQNmsz98M"
      },
      "source": [
        "torch.save(model, 'three_layer.pth')"
      ],
      "execution_count": 41,
      "outputs": []
    }
  ]
}